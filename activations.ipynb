{
 "cells": [
  {
   "cell_type": "code",
   "execution_count": null,
   "metadata": {},
   "outputs": [],
   "source": [
    "import torch\n",
    "from diffusers import FluxPipeline  # Replace with the correct pipeline if different\n",
    "pipe = FluxPipeline.from_pretrained(\"black-forest-labs/FLUX.1-dev\", torch_dtype=torch.bfloat16)\n",
    "available_layers_to_optimize = [\n",
    "    \"transformer.transformer_blocks.0.norm1.linear\",\n",
    "    \"transformer.transformer_blocks.0.norm1_context.linear\",\n",
    "    \"transformer.transformer_blocks.0.attn.to_q\",\n",
    "    \"transformer.transformer_blocks.0.attn.to_k\",\n",
    "    \"transformer.transformer_blocks.0.attn.to_v\",\n",
    "    \"transformer.transformer_blocks.0.attn.add_k_proj\",\n",
    "    \"transformer.transformer_blocks.0.attn.add_v_proj\",\n",
    "    \"transformer.transformer_blocks.0.attn.add_q_proj\",\n",
    "    \"transformer.transformer_blocks.0.attn.to_out.0\",\n",
    "    \"transformer.transformer_blocks.0.attn.to_add_out\",\n",
    "    \"transformer.transformer_blocks.0.ff.net.0.proj\",\n",
    "    \"transformer.transformer_blocks.0.ff.net.2\",\n",
    "    \"transformer.transformer_blocks.0.ff_context.net.0.proj\",\n",
    "    \"transformer.transformer_blocks.0.ff_context.net.2\",\n",
    "    \"transformer.transformer_blocks.1.norm1.linear\",\n",
    "    \"transformer.transformer_blocks.1.norm1_context.linear\",\n",
    "    \"transformer.transformer_blocks.1.attn.to_q\",\n",
    "    \"transformer.transformer_blocks.1.attn.to_k\",\n",
    "    \"transformer.transformer_blocks.1.attn.to_v\",\n",
    "    \"transformer.transformer_blocks.1.attn.add_k_proj\",\n",
    "    \"transformer.transformer_blocks.1.attn.add_v_proj\",\n",
    "    \"transformer.transformer_blocks.1.attn.add_q_proj\",\n",
    "    \"transformer.transformer_blocks.1.attn.to_out.0\",\n",
    "    \"transformer.transformer_blocks.1.attn.to_add_out\",\n",
    "    \"transformer.transformer_blocks.1.ff.net.0.proj\",\n",
    "    \"transformer.transformer_blocks.1.ff.net.2\",\n",
    "    \"transformer.transformer_blocks.1.ff_context.net.0.proj\",\n",
    "    \"transformer.transformer_blocks.1.ff_context.net.2\",\n",
    "    \"transformer.transformer_blocks.2.norm1.linear\",\n",
    "    \"transformer.transformer_blocks.2.norm1_context.linear\",\n",
    "    \"transformer.transformer_blocks.2.attn.to_q\",\n",
    "    \"transformer.transformer_blocks.2.attn.to_k\",\n",
    "    \"transformer.transformer_blocks.2.attn.to_v\",\n",
    "    \"transformer.transformer_blocks.2.attn.add_k_proj\",\n",
    "    \"transformer.transformer_blocks.2.attn.add_v_proj\",\n",
    "    \"transformer.transformer_blocks.2.attn.add_q_proj\",\n",
    "    \"transformer.transformer_blocks.2.attn.to_out.0\",\n",
    "    \"transformer.transformer_blocks.2.attn.to_add_out\",\n",
    "    \"transformer.transformer_blocks.2.ff.net.0.proj\",\n",
    "    \"transformer.transformer_blocks.2.ff.net.2\",\n",
    "    \"transformer.transformer_blocks.2.ff_context.net.0.proj\",\n",
    "    \"transformer.transformer_blocks.2.ff_context.net.2\",\n",
    "    \"transformer.transformer_blocks.3.norm1.linear\",\n",
    "    \"transformer.transformer_blocks.3.norm1_context.linear\",\n",
    "    \"transformer.transformer_blocks.3.attn.to_q\",\n",
    "    \"transformer.transformer_blocks.3.attn.to_k\",\n",
    "    \"transformer.transformer_blocks.3.attn.to_v\",\n",
    "    \"transformer.transformer_blocks.3.attn.add_k_proj\",\n",
    "    \"transformer.transformer_blocks.3.attn.add_v_proj\",\n",
    "    \"transformer.transformer_blocks.3.attn.add_q_proj\",\n",
    "    \"transformer.transformer_blocks.3.attn.to_out.0\",\n",
    "    \"transformer.transformer_blocks.3.attn.to_add_out\",\n",
    "    \"transformer.transformer_blocks.3.ff.net.0.proj\",\n",
    "    \"transformer.transformer_blocks.3.ff.net.2\",\n",
    "    \"transformer.transformer_blocks.3.ff_context.net.0.proj\",\n",
    "    \"transformer.transformer_blocks.3.ff_context.net.2\",\n",
    "    \"transformer.transformer_blocks.4.norm1.linear\",\n",
    "    \"transformer.transformer_blocks.4.norm1_context.linear\",\n",
    "    \"transformer.transformer_blocks.4.attn.to_q\",\n",
    "    \"transformer.transformer_blocks.4.attn.to_k\",\n",
    "    \"transformer.transformer_blocks.4.attn.to_v\",\n",
    "    \"transformer.transformer_blocks.4.attn.add_k_proj\",\n",
    "    \"transformer.transformer_blocks.4.attn.add_v_proj\",\n",
    "    \"transformer.transformer_blocks.4.attn.add_q_proj\",\n",
    "    \"transformer.transformer_blocks.4.attn.to_out.0\",\n",
    "    \"transformer.transformer_blocks.4.attn.to_add_out\",\n",
    "    \"transformer.transformer_blocks.4.ff.net.0.proj\",\n",
    "    \"transformer.transformer_blocks.4.ff.net.2\",\n",
    "    \"transformer.transformer_blocks.4.ff_context.net.0.proj\",\n",
    "    \"transformer.transformer_blocks.4.ff_context.net.2\",\n",
    "    \"transformer.transformer_blocks.5.norm1.linear\",\n",
    "    \"transformer.transformer_blocks.5.norm1_context.linear\",\n",
    "    \"transformer.transformer_blocks.5.attn.to_q\",\n",
    "    \"transformer.transformer_blocks.5.attn.to_k\",\n",
    "    \"transformer.transformer_blocks.5.attn.to_v\",\n",
    "    \"transformer.transformer_blocks.5.attn.add_k_proj\",\n",
    "    \"transformer.transformer_blocks.5.attn.add_v_proj\",\n",
    "    \"transformer.transformer_blocks.5.attn.add_q_proj\",\n",
    "    \"transformer.transformer_blocks.5.attn.to_out.0\",\n",
    "    \"transformer.transformer_blocks.5.attn.to_add_out\",\n",
    "    \"transformer.transformer_blocks.5.ff.net.0.proj\",\n",
    "    \"transformer.transformer_blocks.5.ff.net.2\",\n",
    "    \"transformer.transformer_blocks.5.ff_context.net.0.proj\",\n",
    "    \"transformer.transformer_blocks.5.ff_context.net.2\",\n",
    "    \"transformer.transformer_blocks.6.norm1.linear\",\n",
    "    \"transformer.transformer_blocks.6.norm1_context.linear\",\n",
    "    \"transformer.transformer_blocks.6.attn.to_q\",\n",
    "    \"transformer.transformer_blocks.6.attn.to_k\",\n",
    "    \"transformer.transformer_blocks.6.attn.to_v\",\n",
    "    \"transformer.transformer_blocks.6.attn.add_k_proj\",\n",
    "    \"transformer.transformer_blocks.6.attn.add_v_proj\",\n",
    "    \"transformer.transformer_blocks.6.attn.add_q_proj\",\n",
    "    \"transformer.transformer_blocks.6.attn.to_out.0\",\n",
    "    \"transformer.transformer_blocks.6.attn.to_add_out\",\n",
    "    \"transformer.transformer_blocks.6.ff.net.0.proj\",\n",
    "    \"transformer.transformer_blocks.6.ff.net.2\",\n",
    "    \"transformer.transformer_blocks.6.ff_context.net.0.proj\",\n",
    "    \"transformer.transformer_blocks.6.ff_context.net.2\",\n",
    "    \"transformer.transformer_blocks.7.norm1.linear\",\n",
    "    \"transformer.transformer_blocks.7.norm1_context.linear\",\n",
    "    \"transformer.transformer_blocks.7.attn.to_q\",\n",
    "    \"transformer.transformer_blocks.7.attn.to_k\",\n",
    "    \"transformer.transformer_blocks.7.attn.to_v\",\n",
    "    \"transformer.transformer_blocks.7.attn.add_k_proj\",\n",
    "    \"transformer.transformer_blocks.7.attn.add_v_proj\",\n",
    "    \"transformer.transformer_blocks.7.attn.add_q_proj\",\n",
    "    \"transformer.transformer_blocks.7.attn.to_out.0\",\n",
    "    \"transformer.transformer_blocks.7.attn.to_add_out\",\n",
    "    \"transformer.transformer_blocks.7.ff.net.0.proj\",\n",
    "    \"transformer.transformer_blocks.7.ff.net.2\",\n",
    "    \"transformer.transformer_blocks.7.ff_context.net.0.proj\",\n",
    "    \"transformer.transformer_blocks.7.ff_context.net.2\",\n",
    "    \"transformer.transformer_blocks.8.norm1.linear\",\n",
    "    \"transformer.transformer_blocks.8.norm1_context.linear\",\n",
    "    \"transformer.transformer_blocks.8.attn.to_q\",\n",
    "    \"transformer.transformer_blocks.8.attn.to_k\",\n",
    "    \"transformer.transformer_blocks.8.attn.to_v\",\n",
    "    \"transformer.transformer_blocks.8.attn.add_k_proj\",\n",
    "    \"transformer.transformer_blocks.8.attn.add_v_proj\",\n",
    "    \"transformer.transformer_blocks.8.attn.add_q_proj\",\n",
    "    \"transformer.transformer_blocks.8.attn.to_out.0\",\n",
    "    \"transformer.transformer_blocks.8.attn.to_add_out\",\n",
    "    \"transformer.transformer_blocks.8.ff.net.0.proj\",\n",
    "    \"transformer.transformer_blocks.8.ff.net.2\",\n",
    "    \"transformer.transformer_blocks.8.ff_context.net.0.proj\",\n",
    "    \"transformer.transformer_blocks.8.ff_context.net.2\",\n",
    "    \"transformer.transformer_blocks.9.norm1.linear\",\n",
    "    \"transformer.transformer_blocks.9.norm1_context.linear\",\n",
    "    \"transformer.transformer_blocks.9.attn.to_q\",\n",
    "    \"transformer.transformer_blocks.9.attn.to_k\",\n",
    "    \"transformer.transformer_blocks.9.attn.to_v\",\n",
    "    \"transformer.transformer_blocks.9.attn.add_k_proj\",\n",
    "    \"transformer.transformer_blocks.9.attn.add_v_proj\",\n",
    "    \"transformer.transformer_blocks.9.attn.add_q_proj\",\n",
    "    \"transformer.transformer_blocks.9.attn.to_out.0\",\n",
    "    \"transformer.transformer_blocks.9.attn.to_add_out\",\n",
    "    \"transformer.transformer_blocks.9.ff.net.0.proj\",\n",
    "    \"transformer.transformer_blocks.9.ff.net.2\",\n",
    "    \"transformer.transformer_blocks.9.ff_context.net.0.proj\",\n",
    "    \"transformer.transformer_blocks.9.ff_context.net.2\",\n",
    "    \"transformer.transformer_blocks.10.norm1.linear\",\n",
    "    \"transformer.transformer_blocks.10.norm1_context.linear\",\n",
    "    \"transformer.transformer_blocks.10.attn.to_q\",\n",
    "    \"transformer.transformer_blocks.10.attn.to_k\",\n",
    "    \"transformer.transformer_blocks.10.attn.to_v\",\n",
    "    \"transformer.transformer_blocks.10.attn.add_k_proj\",\n",
    "    \"transformer.transformer_blocks.10.attn.add_v_proj\",\n",
    "    \"transformer.transformer_blocks.10.attn.add_q_proj\",\n",
    "    \"transformer.transformer_blocks.10.attn.to_out.0\",\n",
    "    \"transformer.transformer_blocks.10.attn.to_add_out\",\n",
    "    \"transformer.transformer_blocks.10.ff.net.0.proj\",\n",
    "    \"transformer.transformer_blocks.10.ff.net.2\",\n",
    "    \"transformer.transformer_blocks.10.ff_context.net.0.proj\",\n",
    "    \"transformer.transformer_blocks.10.ff_context.net.2\",\n",
    "    \"transformer.transformer_blocks.11.norm1.linear\",\n",
    "    \"transformer.transformer_blocks.11.norm1_context.linear\",\n",
    "    \"transformer.transformer_blocks.11.attn.to_q\",\n",
    "    \"transformer.transformer_blocks.11.attn.to_k\",\n",
    "    \"transformer.transformer_blocks.11.attn.to_v\",\n",
    "    \"transformer.transformer_blocks.11.attn.add_k_proj\",\n",
    "    \"transformer.transformer_blocks.11.attn.add_v_proj\",\n",
    "    \"transformer.transformer_blocks.11.attn.add_q_proj\",\n",
    "    \"transformer.transformer_blocks.11.attn.to_out.0\",\n",
    "    \"transformer.transformer_blocks.11.attn.to_add_out\",\n",
    "    \"transformer.transformer_blocks.11.ff.net.0.proj\",\n",
    "    \"transformer.transformer_blocks.11.ff.net.2\",\n",
    "    \"transformer.transformer_blocks.11.ff_context.net.0.proj\",\n",
    "    \"transformer.transformer_blocks.11.ff_context.net.2\",\n",
    "    \"transformer.transformer_blocks.12.norm1.linear\",\n",
    "    \"transformer.transformer_blocks.12.norm1_context.linear\",\n",
    "    \"transformer.transformer_blocks.12.attn.to_q\",\n",
    "    \"transformer.transformer_blocks.12.attn.to_k\",\n",
    "    \"transformer.transformer_blocks.12.attn.to_v\",\n",
    "    \"transformer.transformer_blocks.12.attn.add_k_proj\",\n",
    "    \"transformer.transformer_blocks.12.attn.add_v_proj\",\n",
    "    \"transformer.transformer_blocks.12.attn.add_q_proj\",\n",
    "    \"transformer.transformer_blocks.12.attn.to_out.0\",\n",
    "    \"transformer.transformer_blocks.12.attn.to_add_out\",\n",
    "    \"transformer.transformer_blocks.12.ff.net.0.proj\",\n",
    "    \"transformer.transformer_blocks.12.ff.net.2\",\n",
    "    \"transformer.transformer_blocks.12.ff_context.net.0.proj\",\n",
    "    \"transformer.transformer_blocks.12.ff_context.net.2\",\n",
    "    \"transformer.transformer_blocks.13.norm1.linear\",\n",
    "    \"transformer.transformer_blocks.13.norm1_context.linear\",\n",
    "    \"transformer.transformer_blocks.13.attn.to_q\",\n",
    "    \"transformer.transformer_blocks.13.attn.to_k\",\n",
    "    \"transformer.transformer_blocks.13.attn.to_v\",\n",
    "    \"transformer.transformer_blocks.13.attn.add_k_proj\",\n",
    "    \"transformer.transformer_blocks.13.attn.add_v_proj\",\n",
    "    \"transformer.transformer_blocks.13.attn.add_q_proj\",\n",
    "    \"transformer.transformer_blocks.13.attn.to_out.0\",\n",
    "    \"transformer.transformer_blocks.13.attn.to_add_out\",\n",
    "    \"transformer.transformer_blocks.13.ff.net.0.proj\",\n",
    "    \"transformer.transformer_blocks.13.ff.net.2\",\n",
    "    \"transformer.transformer_blocks.13.ff_context.net.0.proj\",\n",
    "    \"transformer.transformer_blocks.13.ff_context.net.2\",\n",
    "    \"transformer.transformer_blocks.14.norm1.linear\",\n",
    "    \"transformer.transformer_blocks.14.norm1_context.linear\",\n",
    "    \"transformer.transformer_blocks.14.attn.to_q\",\n",
    "    \"transformer.transformer_blocks.14.attn.to_k\",\n",
    "    \"transformer.transformer_blocks.14.attn.to_v\",\n",
    "    \"transformer.transformer_blocks.14.attn.add_k_proj\",\n",
    "    \"transformer.transformer_blocks.14.attn.add_v_proj\",\n",
    "    \"transformer.transformer_blocks.14.attn.add_q_proj\",\n",
    "    \"transformer.transformer_blocks.14.attn.to_out.0\",\n",
    "    \"transformer.transformer_blocks.14.attn.to_add_out\",\n",
    "    \"transformer.transformer_blocks.14.ff.net.0.proj\",\n",
    "    \"transformer.transformer_blocks.14.ff.net.2\",\n",
    "    \"transformer.transformer_blocks.14.ff_context.net.0.proj\",\n",
    "    \"transformer.transformer_blocks.14.ff_context.net.2\",\n",
    "    \"transformer.transformer_blocks.15.norm1.linear\",\n",
    "    \"transformer.transformer_blocks.15.norm1_context.linear\",\n",
    "    \"transformer.transformer_blocks.15.attn.to_q\",\n",
    "    \"transformer.transformer_blocks.15.attn.to_k\",\n",
    "    \"transformer.transformer_blocks.15.attn.to_v\",\n",
    "    \"transformer.transformer_blocks.15.attn.add_k_proj\",\n",
    "    \"transformer.transformer_blocks.15.attn.add_v_proj\",\n",
    "    \"transformer.transformer_blocks.15.attn.add_q_proj\",\n",
    "    \"transformer.transformer_blocks.15.attn.to_out.0\",\n",
    "    \"transformer.transformer_blocks.15.attn.to_add_out\",\n",
    "    \"transformer.transformer_blocks.15.ff.net.0.proj\",\n",
    "    \"transformer.transformer_blocks.15.ff.net.2\",\n",
    "    \"transformer.transformer_blocks.15.ff_context.net.0.proj\",\n",
    "    \"transformer.transformer_blocks.15.ff_context.net.2\",\n",
    "    \"transformer.transformer_blocks.16.norm1.linear\",\n",
    "    \"transformer.transformer_blocks.16.norm1_context.linear\",\n",
    "    \"transformer.transformer_blocks.16.attn.to_q\",\n",
    "    \"transformer.transformer_blocks.16.attn.to_k\",\n",
    "    \"transformer.transformer_blocks.16.attn.to_v\",\n",
    "    \"transformer.transformer_blocks.16.attn.add_k_proj\",\n",
    "    \"transformer.transformer_blocks.16.attn.add_v_proj\",\n",
    "    \"transformer.transformer_blocks.16.attn.add_q_proj\",\n",
    "    \"transformer.transformer_blocks.16.attn.to_out.0\",\n",
    "    \"transformer.transformer_blocks.16.attn.to_add_out\",\n",
    "    \"transformer.transformer_blocks.16.ff.net.0.proj\",\n",
    "    \"transformer.transformer_blocks.16.ff.net.2\",\n",
    "    \"transformer.transformer_blocks.16.ff_context.net.0.proj\",\n",
    "    \"transformer.transformer_blocks.16.ff_context.net.2\",\n",
    "    \"transformer.transformer_blocks.17.norm1.linear\",\n",
    "    \"transformer.transformer_blocks.17.norm1_context.linear\",\n",
    "    \"transformer.transformer_blocks.17.attn.to_q\",\n",
    "    \"transformer.transformer_blocks.17.attn.to_k\",\n",
    "    \"transformer.transformer_blocks.17.attn.to_v\",\n",
    "    \"transformer.transformer_blocks.17.attn.add_k_proj\",\n",
    "    \"transformer.transformer_blocks.17.attn.add_v_proj\",\n",
    "    \"transformer.transformer_blocks.17.attn.add_q_proj\",\n",
    "    \"transformer.transformer_blocks.17.attn.to_out.0\",\n",
    "    \"transformer.transformer_blocks.17.attn.to_add_out\",\n",
    "    \"transformer.transformer_blocks.17.ff.net.0.proj\",\n",
    "    \"transformer.transformer_blocks.17.ff.net.2\",\n",
    "    \"transformer.transformer_blocks.17.ff_context.net.0.proj\",\n",
    "    \"transformer.transformer_blocks.17.ff_context.net.2\",\n",
    "    \"transformer.transformer_blocks.18.norm1.linear\",\n",
    "    \"transformer.transformer_blocks.18.norm1_context.linear\",\n",
    "    \"transformer.transformer_blocks.18.attn.to_q\",\n",
    "    \"transformer.transformer_blocks.18.attn.to_k\",\n",
    "    \"transformer.transformer_blocks.18.attn.to_v\",\n",
    "    \"transformer.transformer_blocks.18.attn.add_k_proj\",\n",
    "    \"transformer.transformer_blocks.18.attn.add_v_proj\",\n",
    "    \"transformer.transformer_blocks.18.attn.add_q_proj\",\n",
    "    \"transformer.transformer_blocks.18.attn.to_out.0\",\n",
    "    \"transformer.transformer_blocks.18.attn.to_add_out\",\n",
    "    \"transformer.transformer_blocks.18.ff.net.0.proj\",\n",
    "    \"transformer.transformer_blocks.18.ff.net.2\",\n",
    "    \"transformer.transformer_blocks.18.ff_context.net.0.proj\",\n",
    "    \"transformer.transformer_blocks.18.ff_context.net.2\",\n",
    "    \"transformer.single_transformer_blocks.0.norm.linear\",\n",
    "    \"transformer.single_transformer_blocks.0.proj_mlp\",\n",
    "    \"transformer.single_transformer_blocks.0.proj_out\",\n",
    "    \"transformer.single_transformer_blocks.0.attn.to_q\",\n",
    "    \"transformer.single_transformer_blocks.0.attn.to_k\",\n",
    "    \"transformer.single_transformer_blocks.0.attn.to_v\",\n",
    "    \"transformer.single_transformer_blocks.1.norm.linear\",\n",
    "    \"transformer.single_transformer_blocks.1.proj_mlp\",\n",
    "    \"transformer.single_transformer_blocks.1.proj_out\",\n",
    "    \"transformer.single_transformer_blocks.1.attn.to_q\",\n",
    "    \"transformer.single_transformer_blocks.1.attn.to_k\",\n",
    "    \"transformer.single_transformer_blocks.1.attn.to_v\",\n",
    "    \"transformer.single_transformer_blocks.2.norm.linear\",\n",
    "    \"transformer.single_transformer_blocks.2.proj_mlp\",\n",
    "    \"transformer.single_transformer_blocks.2.proj_out\",\n",
    "    \"transformer.single_transformer_blocks.2.attn.to_q\",\n",
    "    \"transformer.single_transformer_blocks.2.attn.to_k\",\n",
    "    \"transformer.single_transformer_blocks.2.attn.to_v\",\n",
    "    \"transformer.single_transformer_blocks.3.norm.linear\",\n",
    "    \"transformer.single_transformer_blocks.3.proj_mlp\",\n",
    "    \"transformer.single_transformer_blocks.3.proj_out\",\n",
    "    \"transformer.single_transformer_blocks.3.attn.to_q\",\n",
    "    \"transformer.single_transformer_blocks.3.attn.to_k\",\n",
    "    \"transformer.single_transformer_blocks.3.attn.to_v\",\n",
    "    \"transformer.single_transformer_blocks.4.norm.linear\",\n",
    "    \"transformer.single_transformer_blocks.4.proj_mlp\",\n",
    "    \"transformer.single_transformer_blocks.4.proj_out\",\n",
    "    \"transformer.single_transformer_blocks.4.attn.to_q\",\n",
    "    \"transformer.single_transformer_blocks.4.attn.to_k\",\n",
    "    \"transformer.single_transformer_blocks.4.attn.to_v\",\n",
    "    \"transformer.single_transformer_blocks.5.norm.linear\",\n",
    "    \"transformer.single_transformer_blocks.5.proj_mlp\",\n",
    "    \"transformer.single_transformer_blocks.5.proj_out\",\n",
    "    \"transformer.single_transformer_blocks.5.attn.to_q\",\n",
    "    \"transformer.single_transformer_blocks.5.attn.to_k\",\n",
    "    \"transformer.single_transformer_blocks.5.attn.to_v\",\n",
    "    \"transformer.single_transformer_blocks.6.norm.linear\",\n",
    "    \"transformer.single_transformer_blocks.6.proj_mlp\",\n",
    "    \"transformer.single_transformer_blocks.6.proj_out\",\n",
    "    \"transformer.single_transformer_blocks.6.attn.to_q\",\n",
    "    \"transformer.single_transformer_blocks.6.attn.to_k\",\n",
    "    \"transformer.single_transformer_blocks.6.attn.to_v\",\n",
    "    \"transformer.single_transformer_blocks.7.norm.linear\",\n",
    "    \"transformer.single_transformer_blocks.7.proj_mlp\",\n",
    "    \"transformer.single_transformer_blocks.7.proj_out\",\n",
    "    \"transformer.single_transformer_blocks.7.attn.to_q\",\n",
    "    \"transformer.single_transformer_blocks.7.attn.to_k\",\n",
    "    \"transformer.single_transformer_blocks.7.attn.to_v\",\n",
    "    \"transformer.single_transformer_blocks.8.norm.linear\",\n",
    "    \"transformer.single_transformer_blocks.8.proj_mlp\",\n",
    "    \"transformer.single_transformer_blocks.8.proj_out\",\n",
    "    \"transformer.single_transformer_blocks.8.attn.to_q\",\n",
    "    \"transformer.single_transformer_blocks.8.attn.to_k\",\n",
    "    \"transformer.single_transformer_blocks.8.attn.to_v\",\n",
    "    \"transformer.single_transformer_blocks.9.norm.linear\",\n",
    "    \"transformer.single_transformer_blocks.9.proj_mlp\",\n",
    "    \"transformer.single_transformer_blocks.9.proj_out\",\n",
    "    \"transformer.single_transformer_blocks.9.attn.to_q\",\n",
    "    \"transformer.single_transformer_blocks.9.attn.to_k\",\n",
    "    \"transformer.single_transformer_blocks.9.attn.to_v\",\n",
    "    \"transformer.single_transformer_blocks.10.norm.linear\",\n",
    "    \"transformer.single_transformer_blocks.10.proj_mlp\",\n",
    "    \"transformer.single_transformer_blocks.10.proj_out\",\n",
    "    \"transformer.single_transformer_blocks.10.attn.to_q\",\n",
    "    \"transformer.single_transformer_blocks.10.attn.to_k\",\n",
    "    \"transformer.single_transformer_blocks.10.attn.to_v\",\n",
    "    \"transformer.single_transformer_blocks.11.norm.linear\",\n",
    "    \"transformer.single_transformer_blocks.11.proj_mlp\",\n",
    "    \"transformer.single_transformer_blocks.11.proj_out\",\n",
    "    \"transformer.single_transformer_blocks.11.attn.to_q\",\n",
    "    \"transformer.single_transformer_blocks.11.attn.to_k\",\n",
    "    \"transformer.single_transformer_blocks.11.attn.to_v\",\n",
    "    \"transformer.single_transformer_blocks.12.norm.linear\",\n",
    "    \"transformer.single_transformer_blocks.12.proj_mlp\",\n",
    "    \"transformer.single_transformer_blocks.12.proj_out\",\n",
    "    \"transformer.single_transformer_blocks.12.attn.to_q\",\n",
    "    \"transformer.single_transformer_blocks.12.attn.to_k\",\n",
    "    \"transformer.single_transformer_blocks.12.attn.to_v\",\n",
    "    \"transformer.single_transformer_blocks.13.norm.linear\",\n",
    "    \"transformer.single_transformer_blocks.13.proj_mlp\",\n",
    "    \"transformer.single_transformer_blocks.13.proj_out\",\n",
    "    \"transformer.single_transformer_blocks.13.attn.to_q\",\n",
    "    \"transformer.single_transformer_blocks.13.attn.to_k\",\n",
    "    \"transformer.single_transformer_blocks.13.attn.to_v\",\n",
    "    \"transformer.single_transformer_blocks.14.norm.linear\",\n",
    "    \"transformer.single_transformer_blocks.14.proj_mlp\",\n",
    "    \"transformer.single_transformer_blocks.14.proj_out\",\n",
    "    \"transformer.single_transformer_blocks.14.attn.to_q\",\n",
    "    \"transformer.single_transformer_blocks.14.attn.to_k\",\n",
    "    \"transformer.single_transformer_blocks.14.attn.to_v\",\n",
    "    \"transformer.single_transformer_blocks.15.norm.linear\",\n",
    "    \"transformer.single_transformer_blocks.15.proj_mlp\",\n",
    "    \"transformer.single_transformer_blocks.15.proj_out\",\n",
    "    \"transformer.single_transformer_blocks.15.attn.to_q\",\n",
    "    \"transformer.single_transformer_blocks.15.attn.to_k\",\n",
    "    \"transformer.single_transformer_blocks.15.attn.to_v\",\n",
    "    \"transformer.single_transformer_blocks.16.norm.linear\",\n",
    "    \"transformer.single_transformer_blocks.16.proj_mlp\",\n",
    "    \"transformer.single_transformer_blocks.16.proj_out\",\n",
    "    \"transformer.single_transformer_blocks.16.attn.to_q\",\n",
    "    \"transformer.single_transformer_blocks.16.attn.to_k\",\n",
    "    \"transformer.single_transformer_blocks.16.attn.to_v\",\n",
    "    \"transformer.single_transformer_blocks.17.norm.linear\",\n",
    "    \"transformer.single_transformer_blocks.17.proj_mlp\",\n",
    "    \"transformer.single_transformer_blocks.17.proj_out\",\n",
    "    \"transformer.single_transformer_blocks.17.attn.to_q\",\n",
    "    \"transformer.single_transformer_blocks.17.attn.to_k\",\n",
    "    \"transformer.single_transformer_blocks.17.attn.to_v\",\n",
    "    \"transformer.single_transformer_blocks.18.norm.linear\",\n",
    "    \"transformer.single_transformer_blocks.18.proj_mlp\",\n",
    "    \"transformer.single_transformer_blocks.18.proj_out\",\n",
    "    \"transformer.single_transformer_blocks.18.attn.to_q\",\n",
    "    \"transformer.single_transformer_blocks.18.attn.to_k\",\n",
    "    \"transformer.single_transformer_blocks.18.attn.to_v\",\n",
    "    \"transformer.single_transformer_blocks.19.norm.linear\",\n",
    "    \"transformer.single_transformer_blocks.19.proj_mlp\",\n",
    "    \"transformer.single_transformer_blocks.19.proj_out\",\n",
    "    \"transformer.single_transformer_blocks.19.attn.to_q\",\n",
    "    \"transformer.single_transformer_blocks.19.attn.to_k\",\n",
    "    \"transformer.single_transformer_blocks.19.attn.to_v\",\n",
    "    \"transformer.single_transformer_blocks.20.norm.linear\",\n",
    "    \"transformer.single_transformer_blocks.20.proj_mlp\",\n",
    "    \"transformer.single_transformer_blocks.20.proj_out\",\n",
    "    \"transformer.single_transformer_blocks.20.attn.to_q\",\n",
    "    \"transformer.single_transformer_blocks.20.attn.to_k\",\n",
    "    \"transformer.single_transformer_blocks.20.attn.to_v\",\n",
    "    \"transformer.single_transformer_blocks.21.norm.linear\",\n",
    "    \"transformer.single_transformer_blocks.21.proj_mlp\",\n",
    "    \"transformer.single_transformer_blocks.21.proj_out\",\n",
    "    \"transformer.single_transformer_blocks.21.attn.to_q\",\n",
    "    \"transformer.single_transformer_blocks.21.attn.to_k\",\n",
    "    \"transformer.single_transformer_blocks.21.attn.to_v\",\n",
    "    \"transformer.single_transformer_blocks.22.norm.linear\",\n",
    "    \"transformer.single_transformer_blocks.22.proj_mlp\",\n",
    "    \"transformer.single_transformer_blocks.22.proj_out\",\n",
    "    \"transformer.single_transformer_blocks.22.attn.to_q\",\n",
    "    \"transformer.single_transformer_blocks.22.attn.to_k\",\n",
    "    \"transformer.single_transformer_blocks.22.attn.to_v\",\n",
    "    \"transformer.single_transformer_blocks.23.norm.linear\",\n",
    "    \"transformer.single_transformer_blocks.23.proj_mlp\",\n",
    "    \"transformer.single_transformer_blocks.23.proj_out\",\n",
    "    \"transformer.single_transformer_blocks.23.attn.to_q\",\n",
    "    \"transformer.single_transformer_blocks.23.attn.to_k\",\n",
    "    \"transformer.single_transformer_blocks.23.attn.to_v\",\n",
    "    \"transformer.single_transformer_blocks.24.norm.linear\",\n",
    "    \"transformer.single_transformer_blocks.24.proj_mlp\",\n",
    "    \"transformer.single_transformer_blocks.24.proj_out\",\n",
    "    \"transformer.single_transformer_blocks.24.attn.to_q\",\n",
    "    \"transformer.single_transformer_blocks.24.attn.to_k\",\n",
    "    \"transformer.single_transformer_blocks.24.attn.to_v\",\n",
    "    \"transformer.single_transformer_blocks.25.norm.linear\",\n",
    "    \"transformer.single_transformer_blocks.25.proj_mlp\",\n",
    "    \"transformer.single_transformer_blocks.25.proj_out\",\n",
    "    \"transformer.single_transformer_blocks.25.attn.to_q\",\n",
    "    \"transformer.single_transformer_blocks.25.attn.to_k\",\n",
    "    \"transformer.single_transformer_blocks.25.attn.to_v\",\n",
    "    \"transformer.single_transformer_blocks.26.norm.linear\",\n",
    "    \"transformer.single_transformer_blocks.26.proj_mlp\",\n",
    "    \"transformer.single_transformer_blocks.26.proj_out\",\n",
    "    \"transformer.single_transformer_blocks.26.attn.to_q\",\n",
    "    \"transformer.single_transformer_blocks.26.attn.to_k\",\n",
    "    \"transformer.single_transformer_blocks.26.attn.to_v\",\n",
    "    \"transformer.single_transformer_blocks.27.norm.linear\",\n",
    "    \"transformer.single_transformer_blocks.27.proj_mlp\",\n",
    "    \"transformer.single_transformer_blocks.27.proj_out\",\n",
    "    \"transformer.single_transformer_blocks.27.attn.to_q\",\n",
    "    \"transformer.single_transformer_blocks.27.attn.to_k\",\n",
    "    \"transformer.single_transformer_blocks.27.attn.to_v\",\n",
    "    \"transformer.single_transformer_blocks.28.norm.linear\",\n",
    "    \"transformer.single_transformer_blocks.28.proj_mlp\",\n",
    "    \"transformer.single_transformer_blocks.28.proj_out\",\n",
    "    \"transformer.single_transformer_blocks.28.attn.to_q\",\n",
    "    \"transformer.single_transformer_blocks.28.attn.to_k\",\n",
    "    \"transformer.single_transformer_blocks.28.attn.to_v\",\n",
    "    \"transformer.single_transformer_blocks.29.norm.linear\",\n",
    "    \"transformer.single_transformer_blocks.29.proj_mlp\",\n",
    "    \"transformer.single_transformer_blocks.29.proj_out\",\n",
    "    \"transformer.single_transformer_blocks.29.attn.to_q\",\n",
    "    \"transformer.single_transformer_blocks.29.attn.to_k\",\n",
    "    \"transformer.single_transformer_blocks.29.attn.to_v\",\n",
    "    \"transformer.single_transformer_blocks.30.norm.linear\",\n",
    "    \"transformer.single_transformer_blocks.30.proj_mlp\",\n",
    "    \"transformer.single_transformer_blocks.30.proj_out\",\n",
    "    \"transformer.single_transformer_blocks.30.attn.to_q\",\n",
    "    \"transformer.single_transformer_blocks.30.attn.to_k\",\n",
    "    \"transformer.single_transformer_blocks.30.attn.to_v\",\n",
    "    \"transformer.single_transformer_blocks.31.norm.linear\",\n",
    "    \"transformer.single_transformer_blocks.31.proj_mlp\",\n",
    "    \"transformer.single_transformer_blocks.31.proj_out\",\n",
    "    \"transformer.single_transformer_blocks.31.attn.to_q\",\n",
    "    \"transformer.single_transformer_blocks.31.attn.to_k\",\n",
    "    \"transformer.single_transformer_blocks.31.attn.to_v\",\n",
    "    \"transformer.single_transformer_blocks.32.norm.linear\",\n",
    "    \"transformer.single_transformer_blocks.32.proj_mlp\",\n",
    "    \"transformer.single_transformer_blocks.32.proj_out\",\n",
    "    \"transformer.single_transformer_blocks.32.attn.to_q\",\n",
    "    \"transformer.single_transformer_blocks.32.attn.to_k\",\n",
    "    \"transformer.single_transformer_blocks.32.attn.to_v\",\n",
    "    \"transformer.single_transformer_blocks.33.norm.linear\",\n",
    "    \"transformer.single_transformer_blocks.33.proj_mlp\",\n",
    "    \"transformer.single_transformer_blocks.33.proj_out\",\n",
    "    \"transformer.single_transformer_blocks.33.attn.to_q\",\n",
    "    \"transformer.single_transformer_blocks.33.attn.to_k\",\n",
    "    \"transformer.single_transformer_blocks.33.attn.to_v\",\n",
    "    \"transformer.single_transformer_blocks.34.norm.linear\",\n",
    "    \"transformer.single_transformer_blocks.34.proj_mlp\",\n",
    "    \"transformer.single_transformer_blocks.34.proj_out\",\n",
    "    \"transformer.single_transformer_blocks.34.attn.to_q\",\n",
    "    \"transformer.single_transformer_blocks.34.attn.to_k\",\n",
    "    \"transformer.single_transformer_blocks.34.attn.to_v\",\n",
    "    \"transformer.single_transformer_blocks.35.norm.linear\",\n",
    "    \"transformer.single_transformer_blocks.35.proj_mlp\",\n",
    "    \"transformer.single_transformer_blocks.35.proj_out\",\n",
    "    \"transformer.single_transformer_blocks.35.attn.to_q\",\n",
    "    \"transformer.single_transformer_blocks.35.attn.to_k\",\n",
    "    \"transformer.single_transformer_blocks.35.attn.to_v\",\n",
    "    \"transformer.single_transformer_blocks.36.norm.linear\",\n",
    "    \"transformer.single_transformer_blocks.36.proj_mlp\",\n",
    "    \"transformer.single_transformer_blocks.36.proj_out\",\n",
    "    \"transformer.single_transformer_blocks.36.attn.to_q\",\n",
    "    \"transformer.single_transformer_blocks.36.attn.to_k\",\n",
    "    \"transformer.single_transformer_blocks.36.attn.to_v\",\n",
    "    \"transformer.single_transformer_blocks.37.norm.linear\",\n",
    "    \"transformer.single_transformer_blocks.37.proj_mlp\",\n",
    "    \"transformer.single_transformer_blocks.37.proj_out\",\n",
    "    \"transformer.single_transformer_blocks.37.attn.to_q\",\n",
    "    \"transformer.single_transformer_blocks.37.attn.to_k\",\n",
    "    \"transformer.single_transformer_blocks.37.attn.to_v\",\n",
    "]\n",
    "\n",
    "# Filter to keep only proj_out layers\n",
    "# available_layers_to_optimize = [layer for layer in available_layers_to_optimize if \"proj_mlp\" in layer]\n",
    "# available_layers_to_optimize = [layer for layer in available_layers_to_optimize if \"single_transformer_blocks\" in layer]"
   ]
  },
  {
   "cell_type": "code",
   "execution_count": null,
   "metadata": {},
   "outputs": [],
   "source": [
    "len(available_layers_to_optimize)\n"
   ]
  },
  {
   "cell_type": "code",
   "execution_count": null,
   "metadata": {},
   "outputs": [],
   "source": [
    "import torch\n",
    "import numpy as np\n",
    "import pandas as pd\n",
    "from diffusers import FluxPipeline  # Replace with the correct pipeline if different\n",
    "import umap.umap_ as umap\n",
    "from sklearn.preprocessing import StandardScaler\n",
    "import plotly.express as px\n",
    "import gc\n",
    "\n",
    "# Define the MultiPromptActivityTracker class to capture layer activations\n",
    "class MultiPromptActivityTracker:\n",
    "    def __init__(self, layers_to_track):\n",
    "        self.layers_to_track = layers_to_track\n",
    "        self.outputs = {}\n",
    "        self.handles = []\n",
    "\n",
    "    def hook_fn(self, name):\n",
    "        def hook(module, input, output):\n",
    "            # Move output to CPU and avoid retaining GPU tensors\n",
    "            if isinstance(output, torch.Tensor):\n",
    "                self.outputs[name] = output.detach().cpu()\n",
    "            elif isinstance(output, tuple):\n",
    "                tensors = [t.detach().cpu() for t in output if isinstance(t, torch.Tensor)]\n",
    "                self.outputs[name] = torch.cat(tensors)\n",
    "        return hook\n",
    "\n",
    "    def register_hooks(self, pipe):\n",
    "        self.handles = []\n",
    "        for layer_name in self.layers_to_track:\n",
    "            parts = layer_name.split('.')\n",
    "            module = pipe\n",
    "            for part in parts:\n",
    "                if hasattr(module, part):\n",
    "                    module = getattr(module, part)\n",
    "                else:\n",
    "                    print(f\"Module '{module}' has no attribute '{part}'\")\n",
    "                    break\n",
    "            else:\n",
    "                handle = module.register_forward_hook(self.hook_fn(layer_name))\n",
    "                self.handles.append(handle)\n",
    "\n",
    "    def unregister_hooks(self):\n",
    "        for handle in self.handles:\n",
    "            handle.remove()\n",
    "        self.handles = []\n",
    "\n",
    "    def run_prompt(self, pipe, prompt, height=512, width=512, generator=None):\n",
    "        self.outputs.clear()\n",
    "        self.register_hooks(pipe)\n",
    "        with torch.no_grad():\n",
    "            _ = pipe(\n",
    "                prompt,\n",
    "                height=height,\n",
    "                width=width,\n",
    "                num_inference_steps=1,\n",
    "                generator=generator\n",
    "            )\n",
    "        self.unregister_hooks()\n",
    "        torch.cuda.empty_cache()\n",
    "        return self.outputs.copy()\n",
    "\n",
    "# Assuming 'pipe' and 'available_layers_to_optimize' are already defined\n",
    "pipe = pipe.to(\"cuda\")\n",
    "\n",
    "# Initialize the tracker\n",
    "tracker = MultiPromptActivityTracker(available_layers_to_optimize)\n",
    "\n",
    "# Create the generator once\n",
    "generator = torch.Generator(\"cuda\").manual_seed(0)\n",
    "\n",
    "# Define prompt categories\n",
    "prompt_categories = {\n",
    "    'facial_features': [\n",
    "        \"smiling portrait\", \"frowning expression\", \"surprised look\", \"angry glare\", \"neutral expression\",\n",
    "        \"bearded individual\", \"freckled complexion\", \"face\",\n",
    "    ],\n",
    "    'nature': [\"landscape\", \"seascape\", \"mountain range\", \"forest\", \"sunset\", \"sunrise\", \"beach\", \"desert\",],\n",
    "    'animals': [\"dog\", \"cat\", \"bird\", \"fish\"],\n",
    "    'food': [\"apple\", \"banana\", \"pizza\"],\n",
    "    'music': [\"guitar\", \"piano\", \"violin\"],\n",
    "}\n",
    "\n",
    "# Add more prompts to each category\n",
    "prompt_categories['facial_features'].extend([\n",
    "    \"laughing face\", \"crying expression\", \"confused look\", \"excited smile\", \"thoughtful gaze\",\n",
    "    \"wrinkled face\", \"dimpled cheeks\", \"strong jawline\", \"high cheekbones\", \"bushy eyebrows\",\n",
    "])\n",
    "\n",
    "prompt_categories['nature'].extend([\n",
    "    \"waterfall\", \"canyon\", \"meadow\", \"tropical island\", \"arctic tundra\", \"savanna\", \"volcano\",\n",
    "    \"coral reef\", \"rainforest\", \"autumn leaves\", \"spring blossoms\", \"misty morning\",\n",
    "])\n",
    "\n",
    "prompt_categories['animals'].extend([\n",
    "    \"elephant\", \"lion\", \"giraffe\", \"penguin\", \"dolphin\", \"butterfly\", \"owl\", \"tiger\",\n",
    "    \"panda\", \"koala\", \"kangaroo\", \"zebra\", \"rhinoceros\", \"cheetah\", \"polar bear\",\n",
    "])\n",
    "\n",
    "prompt_categories['food'].extend([\n",
    "    \"sushi\", \"pasta\", \"steak\", \"salad\", \"ice cream\", \"chocolate\", \"burger\", \"taco\",\n",
    "    \"soup\", \"cake\", \"fruit platter\", \"sandwich\", \"roast chicken\", \"seafood platter\",\n",
    "])\n",
    "\n",
    "prompt_categories['music'].extend([\n",
    "    \"drums\", \"saxophone\", \"trumpet\", \"flute\", \"cello\", \"harp\", \"clarinet\", \"accordion\",\n",
    "    \"electric guitar\", \"synthesizer\", \"DJ turntables\", \"orchestra\", \"rock band\", \"jazz ensemble\",\n",
    "])\n",
    "\n",
    "# Add new categories\n",
    "prompt_categories['architecture'] = [\n",
    "    \"skyscraper\", \"castle\", \"bridge\", \"ancient ruins\", \"modern house\", \"cathedral\",\n",
    "    \"pagoda\", \"lighthouse\", \"pyramid\", \"log cabin\", \"treehouse\", \"futuristic city\",\n",
    "]\n",
    "\n",
    "prompt_categories['vehicles'] = [\n",
    "    \"car\", \"airplane\", \"bicycle\", \"motorcycle\", \"boat\", \"train\", \"helicopter\",\n",
    "    \"rocket\", \"submarine\", \"hot air balloon\", \"sailboat\", \"vintage car\",\n",
    "]\n",
    "\n",
    "prompt_categories['abstract_concepts'] = [\n",
    "    \"love\", \"time\", \"freedom\", \"peace\", \"chaos\", \"infinity\", \"balance\",\n",
    "    \"evolution\", \"imagination\", \"dreams\", \"consciousness\", \"harmony\",\n",
    "]\n",
    "\n",
    "# Create a flat list of all prompts\n",
    "prompts = [prompt for prompts_list in prompt_categories.values() for prompt in prompts_list]\n",
    "\n",
    "# Assign a category label to each prompt for visualization\n",
    "prompt_labels = {prompt: category for category, prompts_list in prompt_categories.items() for prompt in prompts_list}\n",
    "\n",
    "# Collect feature vectors for all prompts\n",
    "feature_vectors = {}\n",
    "for prompt in prompts:\n",
    "    print(f\"Processing prompt: {prompt}\")\n",
    "    outputs = tracker.run_prompt(pipe, prompt, generator=generator, height=512, width=512)\n",
    "\n",
    "    # Compute feature vector for the prompt\n",
    "    features = []\n",
    "    for layer_name in available_layers_to_optimize:\n",
    "        output = outputs.get(layer_name)\n",
    "        if output is not None:\n",
    "            activity = output.mean().item()\n",
    "            features.append(activity)\n",
    "        else:\n",
    "            features.append(0.0)\n",
    "    feature_vectors[prompt] = features\n",
    "\n",
    "    # Clear variables and GPU memory\n",
    "    del outputs\n",
    "    torch.cuda.empty_cache()\n",
    "    gc.collect()\n",
    "\n",
    "# Convert feature vectors to a DataFrame\n",
    "df_features = pd.DataFrame.from_dict(feature_vectors, orient='index', columns=available_layers_to_optimize)\n",
    "\n",
    "# Standardize the features\n",
    "scaler = StandardScaler()\n",
    "X_scaled = scaler.fit_transform(df_features)\n"
   ]
  },
  {
   "cell_type": "code",
   "execution_count": null,
   "metadata": {},
   "outputs": [],
   "source": [
    "\n",
    "# Apply UMAP for dimensionality reduction to 3D\n",
    "reducer = umap.UMAP(\n",
    "    n_components=3,  # Reduce to 3 dimensions for 3D visualization\n",
    "    n_neighbors=5,   # Use 5 nearest neighbors (suitable for small datasets)\n",
    "    random_state=42, # For reproducibility\n",
    "    n_jobs=1,         # Use single thread to avoid warnings\n",
    "    # metric='cosine'\n",
    ")\n",
    "embeddings = reducer.fit_transform(X_scaled)\n",
    "\n",
    "# Create a DataFrame for visualization\n",
    "embedding_df = pd.DataFrame(embeddings, columns=['Dim1', 'Dim2', 'Dim3'])\n",
    "embedding_df['prompt'] = prompts\n",
    "embedding_df['category'] = embedding_df['prompt'].map(prompt_labels)\n",
    "\n",
    "# Visualize the 3D embeddings using Plotly\n",
    "fig = px.scatter_3d(\n",
    "    embedding_df, x='Dim1', y='Dim2', z='Dim3',\n",
    "    color='category', hover_data=['prompt']\n",
    ")\n",
    "fig.update_layout(title='UMAP Projection of Layer Activities')\n",
    "fig.show()\n",
    "\n",
    "# Identify layers contributing most to the clustering\n",
    "components = reducer.embedding_\n",
    "\n",
    "# Compute correlation between each layer's activities and the first UMAP dimension\n",
    "layer_contributions = {}\n",
    "for idx, layer_name in enumerate(available_layers_to_optimize):\n",
    "    layer_activities = X_scaled[:, idx]\n",
    "    correlation = np.corrcoef(layer_activities, components[:, 0])[0, 1]\n",
    "    layer_contributions[layer_name] = abs(correlation)\n",
    "\n",
    "# Sort layers by their absolute correlation\n",
    "sorted_layers = sorted(layer_contributions.items(), key=lambda x: x[1], reverse=True)\n",
    "\n",
    "# Print top contributing layers\n",
    "top_n = 10  # Number of top layers to display\n",
    "print(f\"Top {top_n} layers contributing to the clustering:\")\n",
    "for i in range(top_n):\n",
    "    layer_name, contribution = sorted_layers[i]\n",
    "    print(f\"{i+1}. {layer_name}: Correlation with Dim1 = {contribution:.4f}\")\n",
    "\n",
    "# Visualize top layer contributions\n",
    "layers, contributions = zip(*sorted_layers[:top_n])\n",
    "fig = px.bar(\n",
    "    x=contributions,\n",
    "    y=layers,\n",
    "    orientation='h',\n",
    "    labels={'x': 'Absolute Correlation with Dim1', 'y': 'Layer'},\n",
    "    title='Top Layers Contributing to Clustering'\n",
    ")\n",
    "fig.update_layout(yaxis={'categoryorder':'total ascending'})\n",
    "fig.show()"
   ]
  },
  {
   "cell_type": "code",
   "execution_count": null,
   "metadata": {},
   "outputs": [],
   "source": [
    "import numpy as np\n",
    "import pandas as pd\n",
    "import plotly.express as px\n",
    "import umap.umap_ as umap\n",
    "from sklearn.preprocessing import StandardScaler\n",
    "\n",
    "# Assuming X_scaled, prompts, and prompt_labels are already defined\n",
    "\n",
    "# Apply UMAP for dimensionality reduction to 3D\n",
    "reducer = umap.UMAP(\n",
    "    n_components=3,\n",
    "    n_neighbors=5,\n",
    "    random_state=42,\n",
    "    n_jobs=1,\n",
    ")\n",
    "embeddings = reducer.fit_transform(X_scaled)\n",
    "\n",
    "# Create a DataFrame for visualization\n",
    "embedding_df = pd.DataFrame(embeddings, columns=['Dim1', 'Dim2', 'Dim3'])\n",
    "embedding_df['prompt'] = prompts\n",
    "embedding_df['category'] = embedding_df['prompt'].map(prompt_labels)\n",
    "\n",
    "# Visualize the 3D embeddings using Plotly\n",
    "fig = px.scatter_3d(\n",
    "    embedding_df, x='Dim1', y='Dim2', z='Dim3',\n",
    "    color='category', hover_data=['prompt']\n",
    ")\n",
    "fig.update_layout(title='UMAP Projection of Layer Activities')\n",
    "fig.show()\n",
    "\n",
    "# Calculate correlations between original features and UMAP dimensions\n",
    "correlations = np.zeros((X_scaled.shape[1], 3))\n",
    "for i in range(3):\n",
    "    for j in range(X_scaled.shape[1]):\n",
    "        correlations[j, i] = np.corrcoef(X_scaled[:, j], embeddings[:, i])[0, 1]\n",
    "\n",
    "# Create a DataFrame of correlations\n",
    "correlations_df = pd.DataFrame(correlations, columns=['Dim1', 'Dim2', 'Dim3'], index=available_layers_to_optimize)\n",
    "\n",
    "# Function to get top contributing features for each dimension\n",
    "def get_top_features(correlations_df, dim, top_n=10):\n",
    "    sorted_features = correlations_df[dim].abs().sort_values(ascending=False)\n",
    "    return sorted_features.head(top_n)\n",
    "\n",
    "# Print top contributing features for each dimension\n",
    "for dim in ['Dim1', 'Dim2', 'Dim3']:\n",
    "    print(f\"\\nTop 10 features contributing to {dim}:\")\n",
    "    top_features = get_top_features(correlations_df, dim)\n",
    "    for feature, correlation in top_features.items():\n",
    "        print(f\"{feature}: {correlation:.4f}\")\n",
    "\n",
    "# Visualize correlations\n",
    "fig = px.imshow(correlations_df,\n",
    "                labels=dict(x=\"UMAP Dimensions\", y=\"Features\", color=\"Correlation\"),\n",
    "                x=correlations_df.columns,\n",
    "                y=correlations_df.index,\n",
    "                aspect=\"auto\",\n",
    "                color_continuous_scale=\"RdBu_r\")\n",
    "\n",
    "fig.update_layout(\n",
    "    title=\"Feature Correlations with UMAP Dimensions\",\n",
    "    xaxis_title=\"UMAP Dimensions\",\n",
    "    yaxis_title=\"Features\",\n",
    "    xaxis={'side': 'bottom'},\n",
    "    yaxis={'tickangle': 0}\n",
    ")\n",
    "\n",
    "fig.show()\n",
    "\n",
    "# Calculate and print the mean absolute correlation for each dimension\n",
    "mean_abs_correlations = correlations_df.abs().mean()\n",
    "print(\"\\nMean absolute correlations:\")\n",
    "for dim, mean_corr in mean_abs_correlations.items():\n",
    "    print(f\"{dim}: {mean_corr:.4f}\")"
   ]
  },
  {
   "cell_type": "code",
   "execution_count": null,
   "metadata": {},
   "outputs": [],
   "source": [
    "import numpy as np\n",
    "import pandas as pd\n",
    "from sklearn.model_selection import StratifiedKFold\n",
    "import xgboost as xgb\n",
    "import shap\n",
    "import plotly.graph_objs as go\n",
    "from plotly.subplots import make_subplots\n",
    "\n",
    "# Ensure SHAP plots display correctly in Jupyter notebooks\n",
    "shap.initjs()\n",
    "\n",
    "# For storing the top layers per category\n",
    "top_layers_per_category = {}\n",
    "\n",
    "# For each category\n",
    "for category in prompt_categories.keys():\n",
    "    print(f\"\\nAnalyzing category: {category}\")\n",
    "    # Create binary labels: 1 if prompt is in the category, 0 otherwise\n",
    "    y_binary = np.array([1 if prompt_labels[prompt] == category else 0 for prompt in prompts])\n",
    "    \n",
    "    # Initialize arrays to hold SHAP values\n",
    "    shap_values_list = []\n",
    "    X_test_list = []\n",
    "    \n",
    "    # Stratified K-Fold Cross-Validation\n",
    "    skf = StratifiedKFold(n_splits=5, shuffle=True, random_state=42)\n",
    "    \n",
    "    for train_index, test_index in skf.split(X_scaled, y_binary):\n",
    "        X_train, X_test = X_scaled[train_index], X_scaled[test_index]\n",
    "        y_train, y_test = y_binary[train_index], y_binary[test_index]\n",
    "        \n",
    "        # Train XGBoost classifier\n",
    "        model = xgb.XGBClassifier(use_label_encoder=False, eval_metric='logloss', random_state=42)\n",
    "        model.fit(X_train, y_train)\n",
    "        \n",
    "        # Compute SHAP values\n",
    "        explainer = shap.TreeExplainer(model)\n",
    "        shap_values = explainer.shap_values(X_test)\n",
    "        shap_values_list.append(shap_values)\n",
    "        X_test_list.append(X_test)\n",
    "    \n",
    "    # Aggregate SHAP values\n",
    "    # For binary classification, shap_values is a list with two arrays: one for each class\n",
    "    # We'll use the shap_values for the positive class (index 1)\n",
    "    shap_values_concat = np.vstack([sv[1] for sv in shap_values_list])\n",
    "    X_test_concat = np.vstack(X_test_list)\n",
    "    \n",
    "    # Compute mean absolute SHAP values across all samples\n",
    "    mean_shap_values = np.mean(np.abs(shap_values_concat), axis=0)\n",
    "    \n",
    "    # Create DataFrame of mean SHAP values\n",
    "    shap_df = pd.DataFrame({\n",
    "        'layer': available_layers_to_optimize,\n",
    "        'mean_abs_shap_value': mean_shap_values\n",
    "    })\n",
    "    shap_df.sort_values(by='mean_abs_shap_value', ascending=False, inplace=True)\n",
    "    \n",
    "    # Get top N layers\n",
    "    top_N = 10\n",
    "    top_layers = shap_df.head(top_N)['layer'].tolist()\n",
    "    top_layers_per_category[category] = top_layers\n",
    "    \n",
    "    # Print top layers\n",
    "    print(f\"Top {top_N} layers for category '{category}':\")\n",
    "    for idx, row in shap_df.head(top_N).iterrows():\n",
    "        print(f\"{row['layer']}: Mean |SHAP value| = {row['mean_abs_shap_value']:.4f}\")\n",
    "    \n",
    "    # Plot feature importance using Plotly\n",
    "    fig = go.Figure()\n",
    "    fig.add_trace(go.Bar(\n",
    "        y=shap_df.head(top_N)['layer'],\n",
    "        x=shap_df.head(top_N)['mean_abs_shap_value'],\n",
    "        orientation='h'\n",
    "    ))\n",
    "    fig.update_layout(\n",
    "        title=f\"Top {top_N} Layers for Category '{category}'\",\n",
    "        xaxis_title=\"Mean |SHAP value|\",\n",
    "        yaxis_title=\"Layer\",\n",
    "        height=500,\n",
    "        width=800\n",
    "    )\n",
    "    fig.show()\n"
   ]
  },
  {
   "cell_type": "code",
   "execution_count": null,
   "metadata": {},
   "outputs": [],
   "source": [
    "from sklearn.linear_model import LogisticRegression\n",
    "\n",
    "# Initialize a dictionary to hold feature importances per category\n",
    "category_feature_importances = {}\n",
    "\n",
    "# For storing the top layers per category\n",
    "top_layers_per_category = {}\n",
    "\n",
    "for category in prompt_categories.keys():\n",
    "    print(f\"\\nAnalyzing category: {category}\")\n",
    "    # Create binary labels: 1 if prompt is in the category, 0 otherwise\n",
    "    y_binary = np.array([1 if prompt_labels[prompt] == category else 0 for prompt in prompts])\n",
    "    \n",
    "    # Train logistic regression classifier with L1 regularization\n",
    "    clf = LogisticRegression(penalty='l1', solver='liblinear', random_state=42)\n",
    "    clf.fit(X_scaled, y_binary)\n",
    "    \n",
    "    # Get absolute coefficients\n",
    "    coef = np.abs(clf.coef_[0])\n",
    "    \n",
    "    # Store in dictionary\n",
    "    category_feature_importances[category] = coef\n",
    "    \n",
    "    # Create DataFrame for the category\n",
    "    category_features_df = pd.DataFrame({\n",
    "        'feature': available_layers_to_optimize,\n",
    "        'importance': coef\n",
    "    })\n",
    "    category_features_df.sort_values(by='importance', ascending=False, inplace=True)\n",
    "    \n",
    "    # Store top layers for the category\n",
    "    top_layers = category_features_df.head(10)['feature'].tolist()\n",
    "    top_layers_per_category[category] = top_layers\n",
    "    \n",
    "    # Print top features for the category\n",
    "    print(f\"Top 10 layers for category '{category}':\")\n",
    "    for index, row in category_features_df.head(10).iterrows():\n",
    "        print(f\"{row['feature']}: Importance = {row['importance']:.4f}\")"
   ]
  },
  {
   "cell_type": "code",
   "execution_count": null,
   "metadata": {},
   "outputs": [],
   "source": [
    "for category in prompt_categories.keys():\n",
    "    # Get the feature importances for the category\n",
    "    coef = category_feature_importances[category]\n",
    "    category_features_df = pd.DataFrame({\n",
    "        'feature': available_layers_to_optimize,\n",
    "        'importance': coef\n",
    "    })\n",
    "    category_features_df.sort_values(by='importance', ascending=False, inplace=True)\n",
    "    \n",
    "    # Plot top features\n",
    "    fig = px.bar(\n",
    "        category_features_df.head(10),\n",
    "        x='importance',\n",
    "        y='feature',\n",
    "        orientation='h',\n",
    "        title=f\"Top 10 Layers for Category '{category}'\",\n",
    "        labels={'importance': 'Importance', 'feature': 'Layer'}\n",
    "    )\n",
    "    fig.update_layout(yaxis={'categoryorder': 'total ascending'})\n",
    "    fig.show()\n",
    "\n",
    "# Display the top layers per category\n",
    "for category, layers in top_layers_per_category.items():\n",
    "    print(f\"\\nRecommended layers to focus on for category '{category}':\")\n",
    "    for layer in layers:\n",
    "        print(f\"- {layer}\")"
   ]
  },
  {
   "cell_type": "code",
   "execution_count": null,
   "metadata": {},
   "outputs": [],
   "source": [
    "import plotly.express as px\n",
    "\n",
    "# Assuming df_features is a pandas DataFrame\n",
    "# No need to transpose the DataFrame as we want prompts on the y-axis\n",
    "\n",
    "# Create a heatmap using Plotly Express\n",
    "fig = px.imshow(df_features,\n",
    "                labels=dict(x=\"Features\", y=\"Prompts\", color=\"Activation\"),\n",
    "                x=df_features.columns,\n",
    "                y=df_features.index,\n",
    "                aspect=\"auto\",\n",
    "                color_continuous_scale=\"Viridis\")\n",
    "\n",
    "# Update layout for better readability\n",
    "fig.update_layout(\n",
    "    title=\"Feature Activations Heatmap\",\n",
    "    xaxis_title=\"Features\",\n",
    "    yaxis_title=\"Prompts\",\n",
    "    xaxis={'side': 'bottom'},  # Keep x-axis labels at the bottom\n",
    "    yaxis={'tickangle': 0}  # Ensure y-axis labels are horizontal\n",
    ")\n",
    "\n",
    "# Show the plot\n",
    "fig.show()"
   ]
  },
  {
   "cell_type": "code",
   "execution_count": null,
   "metadata": {},
   "outputs": [],
   "source": [
    "import numpy as np\n",
    "import pandas as pd\n",
    "import plotly.express as px\n",
    "from sklearn.decomposition import PCA\n",
    "from sklearn.preprocessing import StandardScaler\n",
    "\n",
    "# Assuming X_scaled, prompts, and prompt_labels are already defined\n",
    "\n",
    "# Apply PCA for dimensionality reduction to 3D\n",
    "pca = PCA(n_components=3)\n",
    "pca_result = pca.fit_transform(X_scaled)\n",
    "\n",
    "# Create a DataFrame for visualization\n",
    "pca_df = pd.DataFrame(pca_result, columns=['PC1', 'PC2', 'PC3'])\n",
    "pca_df['prompt'] = prompts\n",
    "pca_df['category'] = pca_df['prompt'].map(prompt_labels)\n",
    "\n",
    "# Visualize the 3D PCA results using Plotly\n",
    "fig = px.scatter_3d(\n",
    "    pca_df, x='PC1', y='PC2', z='PC3',\n",
    "    color='category', hover_data=['prompt']\n",
    ")\n",
    "fig.update_layout(title='PCA Projection of Layer Activities')\n",
    "fig.show()\n",
    "\n",
    "# Calculate the explained variance ratio\n",
    "explained_variance_ratio = pca.explained_variance_ratio_\n",
    "\n",
    "# Print the explained variance ratio for each PC\n",
    "print(\"Explained Variance Ratio:\")\n",
    "for i, ratio in enumerate(explained_variance_ratio):\n",
    "    print(f\"PC{i+1}: {ratio:.4f}\")\n",
    "\n",
    "# Calculate cumulative explained variance\n",
    "cumulative_variance_ratio = np.cumsum(explained_variance_ratio)\n",
    "print(f\"\\nCumulative Explained Variance Ratio: {cumulative_variance_ratio[-1]:.4f}\")\n",
    "\n",
    "# Get the component loadings\n",
    "loadings = pca.components_\n",
    "\n",
    "# Create a DataFrame of loadings\n",
    "loadings_df = pd.DataFrame(loadings.T, columns=['PC1', 'PC2', 'PC3'], index=available_layers_to_optimize)\n",
    "\n",
    "# Function to get top contributing features for each PC\n",
    "def get_top_features(loadings_df, pc, top_n=10):\n",
    "    sorted_features = loadings_df[pc].abs().sort_values(ascending=False)\n",
    "    return sorted_features.head(top_n)\n",
    "\n",
    "# Print top contributing features for each PC\n",
    "for pc in ['PC1', 'PC2', 'PC3']:\n",
    "    print(f\"\\nTop 10 features contributing to {pc}:\")\n",
    "    top_features = get_top_features(loadings_df, pc)\n",
    "    for feature, loading in top_features.items():\n",
    "        print(f\"{feature}: {loading:.4f}\")\n",
    "\n",
    "# Visualize loadings\n",
    "fig = px.imshow(loadings_df,\n",
    "                labels=dict(x=\"Principal Components\", y=\"Features\", color=\"Loading\"),\n",
    "                x=loadings_df.columns,\n",
    "                y=loadings_df.index,\n",
    "                aspect=\"auto\",\n",
    "                color_continuous_scale=\"RdBu_r\")\n",
    "\n",
    "fig.update_layout(\n",
    "    title=\"PCA Loadings Heatmap\",\n",
    "    xaxis_title=\"Principal Components\",\n",
    "    yaxis_title=\"Features\",\n",
    "    xaxis={'side': 'bottom'},\n",
    "    yaxis={'tickangle': 0}\n",
    ")\n",
    "\n",
    "fig.show()"
   ]
  },
  {
   "cell_type": "code",
   "execution_count": null,
   "metadata": {},
   "outputs": [],
   "source": [
    "# Import necessary libraries\n",
    "import torch\n",
    "import numpy as np\n",
    "import pandas as pd\n",
    "from diffusers import FluxPipeline  # Replace with the correct pipeline if different\n",
    "import umap.umap_ as umap\n",
    "from sklearn.preprocessing import StandardScaler, MinMaxScaler\n",
    "from sklearn.model_selection import StratifiedKFold\n",
    "from sklearn.linear_model import LogisticRegression\n",
    "import xgboost as xgb\n",
    "import shap\n",
    "import plotly.express as px\n",
    "import plotly.graph_objs as go\n",
    "import gc\n",
    "\n",
    "# Open a file to write the output\n",
    "with open('output_log.txt', 'w') as f:\n",
    "    # Initialize dictionaries to store importance scores\n",
    "    category_feature_importances_shap = {}\n",
    "    category_feature_importances_logreg = {}\n",
    "    final_recommendations = {}\n",
    "\n",
    "    # For each category\n",
    "    for category in prompt_categories.keys():\n",
    "        print(f\"\\nAnalyzing category: {category}\")\n",
    "        f.write(f\"\\nAnalyzing category: {category}\\n\")\n",
    "        # Create binary labels: 1 if prompt is in the category, 0 otherwise\n",
    "        y_binary = np.array([1 if prompt_labels[prompt] == category else 0 for prompt in prompts])\n",
    "\n",
    "        # --- SHAP Analysis with XGBoost ---\n",
    "        # Initialize arrays to hold SHAP values\n",
    "        shap_values_list = []\n",
    "        X_test_list = []\n",
    "\n",
    "        # Stratified K-Fold Cross-Validation\n",
    "        skf = StratifiedKFold(n_splits=5, shuffle=True, random_state=42)\n",
    "\n",
    "        for train_index, test_index in skf.split(X_scaled, y_binary):\n",
    "            X_train, X_test = X_scaled[train_index], X_scaled[test_index]\n",
    "            y_train, y_test = y_binary[train_index], y_binary[test_index]\n",
    "\n",
    "            # Train XGBoost classifier\n",
    "            model = xgb.XGBClassifier(use_label_encoder=False, eval_metric='logloss', random_state=42)\n",
    "            model.fit(X_train, y_train)\n",
    "\n",
    "            # Compute SHAP values\n",
    "            explainer = shap.TreeExplainer(model)\n",
    "            shap_values = explainer.shap_values(X_test)\n",
    "            shap_values_list.append(shap_values)\n",
    "            X_test_list.append(X_test)\n",
    "\n",
    "        # Aggregate SHAP values\n",
    "        shap_values_concat = np.vstack([sv[1] for sv in shap_values_list])\n",
    "        X_test_concat = np.vstack(X_test_list)\n",
    "\n",
    "        # Compute mean absolute SHAP values across all samples\n",
    "        mean_shap_values = np.mean(np.abs(shap_values_concat), axis=0)\n",
    "        category_feature_importances_shap[category] = mean_shap_values\n",
    "\n",
    "        # --- Logistic Regression Analysis ---\n",
    "        # Train logistic regression classifier with L1 regularization\n",
    "        clf = LogisticRegression(penalty='l1', solver='liblinear', random_state=42)\n",
    "        clf.fit(X_scaled, y_binary)\n",
    "\n",
    "        # Get absolute coefficients\n",
    "        coef = np.abs(clf.coef_[0])\n",
    "        category_feature_importances_logreg[category] = coef\n",
    "\n",
    "        # --- Combine Importances ---\n",
    "        # Normalize importances using min-max scaling\n",
    "        shap_scaler = MinMaxScaler()\n",
    "        shap_importances_norm = shap_scaler.fit_transform(mean_shap_values.reshape(-1, 1)).flatten()\n",
    "\n",
    "        logreg_scaler = MinMaxScaler()\n",
    "        logreg_importances_norm = logreg_scaler.fit_transform(coef.reshape(-1, 1)).flatten()\n",
    "\n",
    "        # Weighted sum of normalized importances\n",
    "        w_shap = 0.6\n",
    "        w_logreg = 0.4\n",
    "        combined_importance = w_shap * shap_importances_norm + w_logreg * logreg_importances_norm\n",
    "\n",
    "        # Create DataFrame of combined importances\n",
    "        combined_df = pd.DataFrame({\n",
    "            'layer': available_layers_to_optimize,\n",
    "            'combined_importance': combined_importance\n",
    "        })\n",
    "        combined_df.sort_values(by='combined_importance', ascending=False, inplace=True)\n",
    "\n",
    "        # Get top N layers\n",
    "        top_N = 10\n",
    "        top_layers = combined_df.head(top_N)['layer'].tolist()\n",
    "        final_recommendations[category] = top_layers\n",
    "\n",
    "        # Print and write top layers\n",
    "        print(f\"Top {top_N} layers for category '{category}':\")\n",
    "        f.write(f\"Top {top_N} layers for category '{category}':\\n\")\n",
    "        for idx, row in combined_df.head(top_N).iterrows():\n",
    "            print(f\"{row['layer']}: Combined Importance = {row['combined_importance']:.4f}\")\n",
    "            f.write(f\"{row['layer']}: Combined Importance = {row['combined_importance']:.4f}\\n\")\n",
    "\n",
    "        # Optionally, plot the combined importances\n",
    "        fig = px.bar(\n",
    "            combined_df.head(top_N),\n",
    "            x='combined_importance',\n",
    "            y='layer',\n",
    "            orientation='h',\n",
    "            title=f\"Top {top_N} Layers for Category '{category}'\",\n",
    "            labels={'combined_importance': 'Combined Importance', 'layer': 'Layer'}\n",
    "        )\n",
    "        fig.update_layout(yaxis={'categoryorder': 'total ascending'})\n",
    "        fig.show()\n",
    "\n",
    "    # --- Final Recommendations ---\n",
    "    print(\"\\n=== Final Recommendations for Layers to Fine-Tune per Category ===\")\n",
    "    f.write(\"\\n=== Final Recommendations for Layers to Fine-Tune per Category ===\\n\")\n",
    "    for category, layers in final_recommendations.items():\n",
    "        print(f\"\\nRecommended layers to focus on for category '{category}':\")\n",
    "        f.write(f\"\\nRecommended layers to focus on for category '{category}':\\n\")\n",
    "        for layer in layers:\n",
    "            print(f\"- {layer}\")\n",
    "            f.write(f\"- {layer}\\n\")"
   ]
  },
  {
   "cell_type": "markdown",
   "metadata": {},
   "source": [
    "___"
   ]
  },
  {
   "cell_type": "code",
   "execution_count": 5,
   "metadata": {},
   "outputs": [],
   "source": [
    "available_layers_to_optimize = [\n",
    "    \"transformer.transformer_blocks.0.norm1.linear\",\n",
    "    \"transformer.transformer_blocks.0.norm1_context.linear\",\n",
    "    \"transformer.transformer_blocks.0.attn.to_q\",\n",
    "    \"transformer.transformer_blocks.0.attn.to_k\",\n",
    "    \"transformer.transformer_blocks.0.attn.to_v\",\n",
    "    \"transformer.transformer_blocks.0.attn.add_k_proj\",\n",
    "    \"transformer.transformer_blocks.0.attn.add_v_proj\",\n",
    "    \"transformer.transformer_blocks.0.attn.add_q_proj\",\n",
    "    \"transformer.transformer_blocks.0.attn.to_out.0\",\n",
    "    \"transformer.transformer_blocks.0.attn.to_add_out\",\n",
    "    \"transformer.transformer_blocks.0.ff.net.0.proj\",\n",
    "    \"transformer.transformer_blocks.0.ff.net.2\",\n",
    "    \"transformer.transformer_blocks.0.ff_context.net.0.proj\",\n",
    "    \"transformer.transformer_blocks.0.ff_context.net.2\",\n",
    "    \"transformer.transformer_blocks.1.norm1.linear\",\n",
    "    \"transformer.transformer_blocks.1.norm1_context.linear\",\n",
    "    \"transformer.transformer_blocks.1.attn.to_q\",\n",
    "    \"transformer.transformer_blocks.1.attn.to_k\",\n",
    "    \"transformer.transformer_blocks.1.attn.to_v\",\n",
    "    \"transformer.transformer_blocks.1.attn.add_k_proj\",\n",
    "    \"transformer.transformer_blocks.1.attn.add_v_proj\",\n",
    "    \"transformer.transformer_blocks.1.attn.add_q_proj\",\n",
    "    \"transformer.transformer_blocks.1.attn.to_out.0\",\n",
    "    \"transformer.transformer_blocks.1.attn.to_add_out\",\n",
    "    \"transformer.transformer_blocks.1.ff.net.0.proj\",\n",
    "    \"transformer.transformer_blocks.1.ff.net.2\",\n",
    "    \"transformer.transformer_blocks.1.ff_context.net.0.proj\",\n",
    "    \"transformer.transformer_blocks.1.ff_context.net.2\",\n",
    "    \"transformer.transformer_blocks.2.norm1.linear\",\n",
    "    \"transformer.transformer_blocks.2.norm1_context.linear\",\n",
    "    \"transformer.transformer_blocks.2.attn.to_q\",\n",
    "    \"transformer.transformer_blocks.2.attn.to_k\",\n",
    "    \"transformer.transformer_blocks.2.attn.to_v\",\n",
    "    \"transformer.transformer_blocks.2.attn.add_k_proj\",\n",
    "    \"transformer.transformer_blocks.2.attn.add_v_proj\",\n",
    "    \"transformer.transformer_blocks.2.attn.add_q_proj\",\n",
    "    \"transformer.transformer_blocks.2.attn.to_out.0\",\n",
    "    \"transformer.transformer_blocks.2.attn.to_add_out\",\n",
    "    \"transformer.transformer_blocks.2.ff.net.0.proj\",\n",
    "    \"transformer.transformer_blocks.2.ff.net.2\",\n",
    "    \"transformer.transformer_blocks.2.ff_context.net.0.proj\",\n",
    "    \"transformer.transformer_blocks.2.ff_context.net.2\",\n",
    "    \"transformer.transformer_blocks.3.norm1.linear\",\n",
    "    \"transformer.transformer_blocks.3.norm1_context.linear\",\n",
    "    \"transformer.transformer_blocks.3.attn.to_q\",\n",
    "    \"transformer.transformer_blocks.3.attn.to_k\",\n",
    "    \"transformer.transformer_blocks.3.attn.to_v\",\n",
    "    \"transformer.transformer_blocks.3.attn.add_k_proj\",\n",
    "    \"transformer.transformer_blocks.3.attn.add_v_proj\",\n",
    "    \"transformer.transformer_blocks.3.attn.add_q_proj\",\n",
    "    \"transformer.transformer_blocks.3.attn.to_out.0\",\n",
    "    \"transformer.transformer_blocks.3.attn.to_add_out\",\n",
    "    \"transformer.transformer_blocks.3.ff.net.0.proj\",\n",
    "    \"transformer.transformer_blocks.3.ff.net.2\",\n",
    "    \"transformer.transformer_blocks.3.ff_context.net.0.proj\",\n",
    "    \"transformer.transformer_blocks.3.ff_context.net.2\",\n",
    "    \"transformer.transformer_blocks.4.norm1.linear\",\n",
    "    \"transformer.transformer_blocks.4.norm1_context.linear\",\n",
    "    \"transformer.transformer_blocks.4.attn.to_q\",\n",
    "    \"transformer.transformer_blocks.4.attn.to_k\",\n",
    "    \"transformer.transformer_blocks.4.attn.to_v\",\n",
    "    \"transformer.transformer_blocks.4.attn.add_k_proj\",\n",
    "    \"transformer.transformer_blocks.4.attn.add_v_proj\",\n",
    "    \"transformer.transformer_blocks.4.attn.add_q_proj\",\n",
    "    \"transformer.transformer_blocks.4.attn.to_out.0\",\n",
    "    \"transformer.transformer_blocks.4.attn.to_add_out\",\n",
    "    \"transformer.transformer_blocks.4.ff.net.0.proj\",\n",
    "    \"transformer.transformer_blocks.4.ff.net.2\",\n",
    "    \"transformer.transformer_blocks.4.ff_context.net.0.proj\",\n",
    "    \"transformer.transformer_blocks.4.ff_context.net.2\",\n",
    "    \"transformer.transformer_blocks.5.norm1.linear\",\n",
    "    \"transformer.transformer_blocks.5.norm1_context.linear\",\n",
    "    \"transformer.transformer_blocks.5.attn.to_q\",\n",
    "    \"transformer.transformer_blocks.5.attn.to_k\",\n",
    "    \"transformer.transformer_blocks.5.attn.to_v\",\n",
    "    \"transformer.transformer_blocks.5.attn.add_k_proj\",\n",
    "    \"transformer.transformer_blocks.5.attn.add_v_proj\",\n",
    "    \"transformer.transformer_blocks.5.attn.add_q_proj\",\n",
    "    \"transformer.transformer_blocks.5.attn.to_out.0\",\n",
    "    \"transformer.transformer_blocks.5.attn.to_add_out\",\n",
    "    \"transformer.transformer_blocks.5.ff.net.0.proj\",\n",
    "    \"transformer.transformer_blocks.5.ff.net.2\",\n",
    "    \"transformer.transformer_blocks.5.ff_context.net.0.proj\",\n",
    "    \"transformer.transformer_blocks.5.ff_context.net.2\",\n",
    "    \"transformer.transformer_blocks.6.norm1.linear\",\n",
    "    \"transformer.transformer_blocks.6.norm1_context.linear\",\n",
    "    \"transformer.transformer_blocks.6.attn.to_q\",\n",
    "    \"transformer.transformer_blocks.6.attn.to_k\",\n",
    "    \"transformer.transformer_blocks.6.attn.to_v\",\n",
    "    \"transformer.transformer_blocks.6.attn.add_k_proj\",\n",
    "    \"transformer.transformer_blocks.6.attn.add_v_proj\",\n",
    "    \"transformer.transformer_blocks.6.attn.add_q_proj\",\n",
    "    \"transformer.transformer_blocks.6.attn.to_out.0\",\n",
    "    \"transformer.transformer_blocks.6.attn.to_add_out\",\n",
    "    \"transformer.transformer_blocks.6.ff.net.0.proj\",\n",
    "    \"transformer.transformer_blocks.6.ff.net.2\",\n",
    "    \"transformer.transformer_blocks.6.ff_context.net.0.proj\",\n",
    "    \"transformer.transformer_blocks.6.ff_context.net.2\",\n",
    "    \"transformer.transformer_blocks.7.norm1.linear\",\n",
    "    \"transformer.transformer_blocks.7.norm1_context.linear\",\n",
    "    \"transformer.transformer_blocks.7.attn.to_q\",\n",
    "    \"transformer.transformer_blocks.7.attn.to_k\",\n",
    "    \"transformer.transformer_blocks.7.attn.to_v\",\n",
    "    \"transformer.transformer_blocks.7.attn.add_k_proj\",\n",
    "    \"transformer.transformer_blocks.7.attn.add_v_proj\",\n",
    "    \"transformer.transformer_blocks.7.attn.add_q_proj\",\n",
    "    \"transformer.transformer_blocks.7.attn.to_out.0\",\n",
    "    \"transformer.transformer_blocks.7.attn.to_add_out\",\n",
    "    \"transformer.transformer_blocks.7.ff.net.0.proj\",\n",
    "    \"transformer.transformer_blocks.7.ff.net.2\",\n",
    "    \"transformer.transformer_blocks.7.ff_context.net.0.proj\",\n",
    "    \"transformer.transformer_blocks.7.ff_context.net.2\",\n",
    "    \"transformer.transformer_blocks.8.norm1.linear\",\n",
    "    \"transformer.transformer_blocks.8.norm1_context.linear\",\n",
    "    \"transformer.transformer_blocks.8.attn.to_q\",\n",
    "    \"transformer.transformer_blocks.8.attn.to_k\",\n",
    "    \"transformer.transformer_blocks.8.attn.to_v\",\n",
    "    \"transformer.transformer_blocks.8.attn.add_k_proj\",\n",
    "    \"transformer.transformer_blocks.8.attn.add_v_proj\",\n",
    "    \"transformer.transformer_blocks.8.attn.add_q_proj\",\n",
    "    \"transformer.transformer_blocks.8.attn.to_out.0\",\n",
    "    \"transformer.transformer_blocks.8.attn.to_add_out\",\n",
    "    \"transformer.transformer_blocks.8.ff.net.0.proj\",\n",
    "    \"transformer.transformer_blocks.8.ff.net.2\",\n",
    "    \"transformer.transformer_blocks.8.ff_context.net.0.proj\",\n",
    "    \"transformer.transformer_blocks.8.ff_context.net.2\",\n",
    "    \"transformer.transformer_blocks.9.norm1.linear\",\n",
    "    \"transformer.transformer_blocks.9.norm1_context.linear\",\n",
    "    \"transformer.transformer_blocks.9.attn.to_q\",\n",
    "    \"transformer.transformer_blocks.9.attn.to_k\",\n",
    "    \"transformer.transformer_blocks.9.attn.to_v\",\n",
    "    \"transformer.transformer_blocks.9.attn.add_k_proj\",\n",
    "    \"transformer.transformer_blocks.9.attn.add_v_proj\",\n",
    "    \"transformer.transformer_blocks.9.attn.add_q_proj\",\n",
    "    \"transformer.transformer_blocks.9.attn.to_out.0\",\n",
    "    \"transformer.transformer_blocks.9.attn.to_add_out\",\n",
    "    \"transformer.transformer_blocks.9.ff.net.0.proj\",\n",
    "    \"transformer.transformer_blocks.9.ff.net.2\",\n",
    "    \"transformer.transformer_blocks.9.ff_context.net.0.proj\",\n",
    "    \"transformer.transformer_blocks.9.ff_context.net.2\",\n",
    "    \"transformer.transformer_blocks.10.norm1.linear\",\n",
    "    \"transformer.transformer_blocks.10.norm1_context.linear\",\n",
    "    \"transformer.transformer_blocks.10.attn.to_q\",\n",
    "    \"transformer.transformer_blocks.10.attn.to_k\",\n",
    "    \"transformer.transformer_blocks.10.attn.to_v\",\n",
    "    \"transformer.transformer_blocks.10.attn.add_k_proj\",\n",
    "    \"transformer.transformer_blocks.10.attn.add_v_proj\",\n",
    "    \"transformer.transformer_blocks.10.attn.add_q_proj\",\n",
    "    \"transformer.transformer_blocks.10.attn.to_out.0\",\n",
    "    \"transformer.transformer_blocks.10.attn.to_add_out\",\n",
    "    \"transformer.transformer_blocks.10.ff.net.0.proj\",\n",
    "    \"transformer.transformer_blocks.10.ff.net.2\",\n",
    "    \"transformer.transformer_blocks.10.ff_context.net.0.proj\",\n",
    "    \"transformer.transformer_blocks.10.ff_context.net.2\",\n",
    "    \"transformer.transformer_blocks.11.norm1.linear\",\n",
    "    \"transformer.transformer_blocks.11.norm1_context.linear\",\n",
    "    \"transformer.transformer_blocks.11.attn.to_q\",\n",
    "    \"transformer.transformer_blocks.11.attn.to_k\",\n",
    "    \"transformer.transformer_blocks.11.attn.to_v\",\n",
    "    \"transformer.transformer_blocks.11.attn.add_k_proj\",\n",
    "    \"transformer.transformer_blocks.11.attn.add_v_proj\",\n",
    "    \"transformer.transformer_blocks.11.attn.add_q_proj\",\n",
    "    \"transformer.transformer_blocks.11.attn.to_out.0\",\n",
    "    \"transformer.transformer_blocks.11.attn.to_add_out\",\n",
    "    \"transformer.transformer_blocks.11.ff.net.0.proj\",\n",
    "    \"transformer.transformer_blocks.11.ff.net.2\",\n",
    "    \"transformer.transformer_blocks.11.ff_context.net.0.proj\",\n",
    "    \"transformer.transformer_blocks.11.ff_context.net.2\",\n",
    "    \"transformer.transformer_blocks.12.norm1.linear\",\n",
    "    \"transformer.transformer_blocks.12.norm1_context.linear\",\n",
    "    \"transformer.transformer_blocks.12.attn.to_q\",\n",
    "    \"transformer.transformer_blocks.12.attn.to_k\",\n",
    "    \"transformer.transformer_blocks.12.attn.to_v\",\n",
    "    \"transformer.transformer_blocks.12.attn.add_k_proj\",\n",
    "    \"transformer.transformer_blocks.12.attn.add_v_proj\",\n",
    "    \"transformer.transformer_blocks.12.attn.add_q_proj\",\n",
    "    \"transformer.transformer_blocks.12.attn.to_out.0\",\n",
    "    \"transformer.transformer_blocks.12.attn.to_add_out\",\n",
    "    \"transformer.transformer_blocks.12.ff.net.0.proj\",\n",
    "    \"transformer.transformer_blocks.12.ff.net.2\",\n",
    "    \"transformer.transformer_blocks.12.ff_context.net.0.proj\",\n",
    "    \"transformer.transformer_blocks.12.ff_context.net.2\",\n",
    "    \"transformer.transformer_blocks.13.norm1.linear\",\n",
    "    \"transformer.transformer_blocks.13.norm1_context.linear\",\n",
    "    \"transformer.transformer_blocks.13.attn.to_q\",\n",
    "    \"transformer.transformer_blocks.13.attn.to_k\",\n",
    "    \"transformer.transformer_blocks.13.attn.to_v\",\n",
    "    \"transformer.transformer_blocks.13.attn.add_k_proj\",\n",
    "    \"transformer.transformer_blocks.13.attn.add_v_proj\",\n",
    "    \"transformer.transformer_blocks.13.attn.add_q_proj\",\n",
    "    \"transformer.transformer_blocks.13.attn.to_out.0\",\n",
    "    \"transformer.transformer_blocks.13.attn.to_add_out\",\n",
    "    \"transformer.transformer_blocks.13.ff.net.0.proj\",\n",
    "    \"transformer.transformer_blocks.13.ff.net.2\",\n",
    "    \"transformer.transformer_blocks.13.ff_context.net.0.proj\",\n",
    "    \"transformer.transformer_blocks.13.ff_context.net.2\",\n",
    "    \"transformer.transformer_blocks.14.norm1.linear\",\n",
    "    \"transformer.transformer_blocks.14.norm1_context.linear\",\n",
    "    \"transformer.transformer_blocks.14.attn.to_q\",\n",
    "    \"transformer.transformer_blocks.14.attn.to_k\",\n",
    "    \"transformer.transformer_blocks.14.attn.to_v\",\n",
    "    \"transformer.transformer_blocks.14.attn.add_k_proj\",\n",
    "    \"transformer.transformer_blocks.14.attn.add_v_proj\",\n",
    "    \"transformer.transformer_blocks.14.attn.add_q_proj\",\n",
    "    \"transformer.transformer_blocks.14.attn.to_out.0\",\n",
    "    \"transformer.transformer_blocks.14.attn.to_add_out\",\n",
    "    \"transformer.transformer_blocks.14.ff.net.0.proj\",\n",
    "    \"transformer.transformer_blocks.14.ff.net.2\",\n",
    "    \"transformer.transformer_blocks.14.ff_context.net.0.proj\",\n",
    "    \"transformer.transformer_blocks.14.ff_context.net.2\",\n",
    "    \"transformer.transformer_blocks.15.norm1.linear\",\n",
    "    \"transformer.transformer_blocks.15.norm1_context.linear\",\n",
    "    \"transformer.transformer_blocks.15.attn.to_q\",\n",
    "    \"transformer.transformer_blocks.15.attn.to_k\",\n",
    "    \"transformer.transformer_blocks.15.attn.to_v\",\n",
    "    \"transformer.transformer_blocks.15.attn.add_k_proj\",\n",
    "    \"transformer.transformer_blocks.15.attn.add_v_proj\",\n",
    "    \"transformer.transformer_blocks.15.attn.add_q_proj\",\n",
    "    \"transformer.transformer_blocks.15.attn.to_out.0\",\n",
    "    \"transformer.transformer_blocks.15.attn.to_add_out\",\n",
    "    \"transformer.transformer_blocks.15.ff.net.0.proj\",\n",
    "    \"transformer.transformer_blocks.15.ff.net.2\",\n",
    "    \"transformer.transformer_blocks.15.ff_context.net.0.proj\",\n",
    "    \"transformer.transformer_blocks.15.ff_context.net.2\",\n",
    "    \"transformer.transformer_blocks.16.norm1.linear\",\n",
    "    \"transformer.transformer_blocks.16.norm1_context.linear\",\n",
    "    \"transformer.transformer_blocks.16.attn.to_q\",\n",
    "    \"transformer.transformer_blocks.16.attn.to_k\",\n",
    "    \"transformer.transformer_blocks.16.attn.to_v\",\n",
    "    \"transformer.transformer_blocks.16.attn.add_k_proj\",\n",
    "    \"transformer.transformer_blocks.16.attn.add_v_proj\",\n",
    "    \"transformer.transformer_blocks.16.attn.add_q_proj\",\n",
    "    \"transformer.transformer_blocks.16.attn.to_out.0\",\n",
    "    \"transformer.transformer_blocks.16.attn.to_add_out\",\n",
    "    \"transformer.transformer_blocks.16.ff.net.0.proj\",\n",
    "    \"transformer.transformer_blocks.16.ff.net.2\",\n",
    "    \"transformer.transformer_blocks.16.ff_context.net.0.proj\",\n",
    "    \"transformer.transformer_blocks.16.ff_context.net.2\",\n",
    "    \"transformer.transformer_blocks.17.norm1.linear\",\n",
    "    \"transformer.transformer_blocks.17.norm1_context.linear\",\n",
    "    \"transformer.transformer_blocks.17.attn.to_q\",\n",
    "    \"transformer.transformer_blocks.17.attn.to_k\",\n",
    "    \"transformer.transformer_blocks.17.attn.to_v\",\n",
    "    \"transformer.transformer_blocks.17.attn.add_k_proj\",\n",
    "    \"transformer.transformer_blocks.17.attn.add_v_proj\",\n",
    "    \"transformer.transformer_blocks.17.attn.add_q_proj\",\n",
    "    \"transformer.transformer_blocks.17.attn.to_out.0\",\n",
    "    \"transformer.transformer_blocks.17.attn.to_add_out\",\n",
    "    \"transformer.transformer_blocks.17.ff.net.0.proj\",\n",
    "    \"transformer.transformer_blocks.17.ff.net.2\",\n",
    "    \"transformer.transformer_blocks.17.ff_context.net.0.proj\",\n",
    "    \"transformer.transformer_blocks.17.ff_context.net.2\",\n",
    "    \"transformer.transformer_blocks.18.norm1.linear\",\n",
    "    \"transformer.transformer_blocks.18.norm1_context.linear\",\n",
    "    \"transformer.transformer_blocks.18.attn.to_q\",\n",
    "    \"transformer.transformer_blocks.18.attn.to_k\",\n",
    "    \"transformer.transformer_blocks.18.attn.to_v\",\n",
    "    \"transformer.transformer_blocks.18.attn.add_k_proj\",\n",
    "    \"transformer.transformer_blocks.18.attn.add_v_proj\",\n",
    "    \"transformer.transformer_blocks.18.attn.add_q_proj\",\n",
    "    \"transformer.transformer_blocks.18.attn.to_out.0\",\n",
    "    \"transformer.transformer_blocks.18.attn.to_add_out\",\n",
    "    \"transformer.transformer_blocks.18.ff.net.0.proj\",\n",
    "    \"transformer.transformer_blocks.18.ff.net.2\",\n",
    "    \"transformer.transformer_blocks.18.ff_context.net.0.proj\",\n",
    "    \"transformer.transformer_blocks.18.ff_context.net.2\",\n",
    "    \"transformer.single_transformer_blocks.0.norm.linear\",\n",
    "    \"transformer.single_transformer_blocks.0.proj_mlp\",\n",
    "    \"transformer.single_transformer_blocks.0.proj_out\",\n",
    "    \"transformer.single_transformer_blocks.0.attn.to_q\",\n",
    "    \"transformer.single_transformer_blocks.0.attn.to_k\",\n",
    "    \"transformer.single_transformer_blocks.0.attn.to_v\",\n",
    "    \"transformer.single_transformer_blocks.1.norm.linear\",\n",
    "    \"transformer.single_transformer_blocks.1.proj_mlp\",\n",
    "    \"transformer.single_transformer_blocks.1.proj_out\",\n",
    "    \"transformer.single_transformer_blocks.1.attn.to_q\",\n",
    "    \"transformer.single_transformer_blocks.1.attn.to_k\",\n",
    "    \"transformer.single_transformer_blocks.1.attn.to_v\",\n",
    "    \"transformer.single_transformer_blocks.2.norm.linear\",\n",
    "    \"transformer.single_transformer_blocks.2.proj_mlp\",\n",
    "    \"transformer.single_transformer_blocks.2.proj_out\",\n",
    "    \"transformer.single_transformer_blocks.2.attn.to_q\",\n",
    "    \"transformer.single_transformer_blocks.2.attn.to_k\",\n",
    "    \"transformer.single_transformer_blocks.2.attn.to_v\",\n",
    "    \"transformer.single_transformer_blocks.3.norm.linear\",\n",
    "    \"transformer.single_transformer_blocks.3.proj_mlp\",\n",
    "    \"transformer.single_transformer_blocks.3.proj_out\",\n",
    "    \"transformer.single_transformer_blocks.3.attn.to_q\",\n",
    "    \"transformer.single_transformer_blocks.3.attn.to_k\",\n",
    "    \"transformer.single_transformer_blocks.3.attn.to_v\",\n",
    "    \"transformer.single_transformer_blocks.4.norm.linear\",\n",
    "    \"transformer.single_transformer_blocks.4.proj_mlp\",\n",
    "    \"transformer.single_transformer_blocks.4.proj_out\",\n",
    "    \"transformer.single_transformer_blocks.4.attn.to_q\",\n",
    "    \"transformer.single_transformer_blocks.4.attn.to_k\",\n",
    "    \"transformer.single_transformer_blocks.4.attn.to_v\",\n",
    "    \"transformer.single_transformer_blocks.5.norm.linear\",\n",
    "    \"transformer.single_transformer_blocks.5.proj_mlp\",\n",
    "    \"transformer.single_transformer_blocks.5.proj_out\",\n",
    "    \"transformer.single_transformer_blocks.5.attn.to_q\",\n",
    "    \"transformer.single_transformer_blocks.5.attn.to_k\",\n",
    "    \"transformer.single_transformer_blocks.5.attn.to_v\",\n",
    "    \"transformer.single_transformer_blocks.6.norm.linear\",\n",
    "    \"transformer.single_transformer_blocks.6.proj_mlp\",\n",
    "    \"transformer.single_transformer_blocks.6.proj_out\",\n",
    "    \"transformer.single_transformer_blocks.6.attn.to_q\",\n",
    "    \"transformer.single_transformer_blocks.6.attn.to_k\",\n",
    "    \"transformer.single_transformer_blocks.6.attn.to_v\",\n",
    "    \"transformer.single_transformer_blocks.7.norm.linear\",\n",
    "    \"transformer.single_transformer_blocks.7.proj_mlp\",\n",
    "    \"transformer.single_transformer_blocks.7.proj_out\",\n",
    "    \"transformer.single_transformer_blocks.7.attn.to_q\",\n",
    "    \"transformer.single_transformer_blocks.7.attn.to_k\",\n",
    "    \"transformer.single_transformer_blocks.7.attn.to_v\",\n",
    "    \"transformer.single_transformer_blocks.8.norm.linear\",\n",
    "    \"transformer.single_transformer_blocks.8.proj_mlp\",\n",
    "    \"transformer.single_transformer_blocks.8.proj_out\",\n",
    "    \"transformer.single_transformer_blocks.8.attn.to_q\",\n",
    "    \"transformer.single_transformer_blocks.8.attn.to_k\",\n",
    "    \"transformer.single_transformer_blocks.8.attn.to_v\",\n",
    "    \"transformer.single_transformer_blocks.9.norm.linear\",\n",
    "    \"transformer.single_transformer_blocks.9.proj_mlp\",\n",
    "    \"transformer.single_transformer_blocks.9.proj_out\",\n",
    "    \"transformer.single_transformer_blocks.9.attn.to_q\",\n",
    "    \"transformer.single_transformer_blocks.9.attn.to_k\",\n",
    "    \"transformer.single_transformer_blocks.9.attn.to_v\",\n",
    "    \"transformer.single_transformer_blocks.10.norm.linear\",\n",
    "    \"transformer.single_transformer_blocks.10.proj_mlp\",\n",
    "    \"transformer.single_transformer_blocks.10.proj_out\",\n",
    "    \"transformer.single_transformer_blocks.10.attn.to_q\",\n",
    "    \"transformer.single_transformer_blocks.10.attn.to_k\",\n",
    "    \"transformer.single_transformer_blocks.10.attn.to_v\",\n",
    "    \"transformer.single_transformer_blocks.11.norm.linear\",\n",
    "    \"transformer.single_transformer_blocks.11.proj_mlp\",\n",
    "    \"transformer.single_transformer_blocks.11.proj_out\",\n",
    "    \"transformer.single_transformer_blocks.11.attn.to_q\",\n",
    "    \"transformer.single_transformer_blocks.11.attn.to_k\",\n",
    "    \"transformer.single_transformer_blocks.11.attn.to_v\",\n",
    "    \"transformer.single_transformer_blocks.12.norm.linear\",\n",
    "    \"transformer.single_transformer_blocks.12.proj_mlp\",\n",
    "    \"transformer.single_transformer_blocks.12.proj_out\",\n",
    "    \"transformer.single_transformer_blocks.12.attn.to_q\",\n",
    "    \"transformer.single_transformer_blocks.12.attn.to_k\",\n",
    "    \"transformer.single_transformer_blocks.12.attn.to_v\",\n",
    "    \"transformer.single_transformer_blocks.13.norm.linear\",\n",
    "    \"transformer.single_transformer_blocks.13.proj_mlp\",\n",
    "    \"transformer.single_transformer_blocks.13.proj_out\",\n",
    "    \"transformer.single_transformer_blocks.13.attn.to_q\",\n",
    "    \"transformer.single_transformer_blocks.13.attn.to_k\",\n",
    "    \"transformer.single_transformer_blocks.13.attn.to_v\",\n",
    "    \"transformer.single_transformer_blocks.14.norm.linear\",\n",
    "    \"transformer.single_transformer_blocks.14.proj_mlp\",\n",
    "    \"transformer.single_transformer_blocks.14.proj_out\",\n",
    "    \"transformer.single_transformer_blocks.14.attn.to_q\",\n",
    "    \"transformer.single_transformer_blocks.14.attn.to_k\",\n",
    "    \"transformer.single_transformer_blocks.14.attn.to_v\",\n",
    "    \"transformer.single_transformer_blocks.15.norm.linear\",\n",
    "    \"transformer.single_transformer_blocks.15.proj_mlp\",\n",
    "    \"transformer.single_transformer_blocks.15.proj_out\",\n",
    "    \"transformer.single_transformer_blocks.15.attn.to_q\",\n",
    "    \"transformer.single_transformer_blocks.15.attn.to_k\",\n",
    "    \"transformer.single_transformer_blocks.15.attn.to_v\",\n",
    "    \"transformer.single_transformer_blocks.16.norm.linear\",\n",
    "    \"transformer.single_transformer_blocks.16.proj_mlp\",\n",
    "    \"transformer.single_transformer_blocks.16.proj_out\",\n",
    "    \"transformer.single_transformer_blocks.16.attn.to_q\",\n",
    "    \"transformer.single_transformer_blocks.16.attn.to_k\",\n",
    "    \"transformer.single_transformer_blocks.16.attn.to_v\",\n",
    "    \"transformer.single_transformer_blocks.17.norm.linear\",\n",
    "    \"transformer.single_transformer_blocks.17.proj_mlp\",\n",
    "    \"transformer.single_transformer_blocks.17.proj_out\",\n",
    "    \"transformer.single_transformer_blocks.17.attn.to_q\",\n",
    "    \"transformer.single_transformer_blocks.17.attn.to_k\",\n",
    "    \"transformer.single_transformer_blocks.17.attn.to_v\",\n",
    "    \"transformer.single_transformer_blocks.18.norm.linear\",\n",
    "    \"transformer.single_transformer_blocks.18.proj_mlp\",\n",
    "    \"transformer.single_transformer_blocks.18.proj_out\",\n",
    "    \"transformer.single_transformer_blocks.18.attn.to_q\",\n",
    "    \"transformer.single_transformer_blocks.18.attn.to_k\",\n",
    "    \"transformer.single_transformer_blocks.18.attn.to_v\",\n",
    "    \"transformer.single_transformer_blocks.19.norm.linear\",\n",
    "    \"transformer.single_transformer_blocks.19.proj_mlp\",\n",
    "    \"transformer.single_transformer_blocks.19.proj_out\",\n",
    "    \"transformer.single_transformer_blocks.19.attn.to_q\",\n",
    "    \"transformer.single_transformer_blocks.19.attn.to_k\",\n",
    "    \"transformer.single_transformer_blocks.19.attn.to_v\",\n",
    "    \"transformer.single_transformer_blocks.20.norm.linear\",\n",
    "    \"transformer.single_transformer_blocks.20.proj_mlp\",\n",
    "    \"transformer.single_transformer_blocks.20.proj_out\",\n",
    "    \"transformer.single_transformer_blocks.20.attn.to_q\",\n",
    "    \"transformer.single_transformer_blocks.20.attn.to_k\",\n",
    "    \"transformer.single_transformer_blocks.20.attn.to_v\",\n",
    "    \"transformer.single_transformer_blocks.21.norm.linear\",\n",
    "    \"transformer.single_transformer_blocks.21.proj_mlp\",\n",
    "    \"transformer.single_transformer_blocks.21.proj_out\",\n",
    "    \"transformer.single_transformer_blocks.21.attn.to_q\",\n",
    "    \"transformer.single_transformer_blocks.21.attn.to_k\",\n",
    "    \"transformer.single_transformer_blocks.21.attn.to_v\",\n",
    "    \"transformer.single_transformer_blocks.22.norm.linear\",\n",
    "    \"transformer.single_transformer_blocks.22.proj_mlp\",\n",
    "    \"transformer.single_transformer_blocks.22.proj_out\",\n",
    "    \"transformer.single_transformer_blocks.22.attn.to_q\",\n",
    "    \"transformer.single_transformer_blocks.22.attn.to_k\",\n",
    "    \"transformer.single_transformer_blocks.22.attn.to_v\",\n",
    "    \"transformer.single_transformer_blocks.23.norm.linear\",\n",
    "    \"transformer.single_transformer_blocks.23.proj_mlp\",\n",
    "    \"transformer.single_transformer_blocks.23.proj_out\",\n",
    "    \"transformer.single_transformer_blocks.23.attn.to_q\",\n",
    "    \"transformer.single_transformer_blocks.23.attn.to_k\",\n",
    "    \"transformer.single_transformer_blocks.23.attn.to_v\",\n",
    "    \"transformer.single_transformer_blocks.24.norm.linear\",\n",
    "    \"transformer.single_transformer_blocks.24.proj_mlp\",\n",
    "    \"transformer.single_transformer_blocks.24.proj_out\",\n",
    "    \"transformer.single_transformer_blocks.24.attn.to_q\",\n",
    "    \"transformer.single_transformer_blocks.24.attn.to_k\",\n",
    "    \"transformer.single_transformer_blocks.24.attn.to_v\",\n",
    "    \"transformer.single_transformer_blocks.25.norm.linear\",\n",
    "    \"transformer.single_transformer_blocks.25.proj_mlp\",\n",
    "    \"transformer.single_transformer_blocks.25.proj_out\",\n",
    "    \"transformer.single_transformer_blocks.25.attn.to_q\",\n",
    "    \"transformer.single_transformer_blocks.25.attn.to_k\",\n",
    "    \"transformer.single_transformer_blocks.25.attn.to_v\",\n",
    "    \"transformer.single_transformer_blocks.26.norm.linear\",\n",
    "    \"transformer.single_transformer_blocks.26.proj_mlp\",\n",
    "    \"transformer.single_transformer_blocks.26.proj_out\",\n",
    "    \"transformer.single_transformer_blocks.26.attn.to_q\",\n",
    "    \"transformer.single_transformer_blocks.26.attn.to_k\",\n",
    "    \"transformer.single_transformer_blocks.26.attn.to_v\",\n",
    "    \"transformer.single_transformer_blocks.27.norm.linear\",\n",
    "    \"transformer.single_transformer_blocks.27.proj_mlp\",\n",
    "    \"transformer.single_transformer_blocks.27.proj_out\",\n",
    "    \"transformer.single_transformer_blocks.27.attn.to_q\",\n",
    "    \"transformer.single_transformer_blocks.27.attn.to_k\",\n",
    "    \"transformer.single_transformer_blocks.27.attn.to_v\",\n",
    "    \"transformer.single_transformer_blocks.28.norm.linear\",\n",
    "    \"transformer.single_transformer_blocks.28.proj_mlp\",\n",
    "    \"transformer.single_transformer_blocks.28.proj_out\",\n",
    "    \"transformer.single_transformer_blocks.28.attn.to_q\",\n",
    "    \"transformer.single_transformer_blocks.28.attn.to_k\",\n",
    "    \"transformer.single_transformer_blocks.28.attn.to_v\",\n",
    "    \"transformer.single_transformer_blocks.29.norm.linear\",\n",
    "    \"transformer.single_transformer_blocks.29.proj_mlp\",\n",
    "    \"transformer.single_transformer_blocks.29.proj_out\",\n",
    "    \"transformer.single_transformer_blocks.29.attn.to_q\",\n",
    "    \"transformer.single_transformer_blocks.29.attn.to_k\",\n",
    "    \"transformer.single_transformer_blocks.29.attn.to_v\",\n",
    "    \"transformer.single_transformer_blocks.30.norm.linear\",\n",
    "    \"transformer.single_transformer_blocks.30.proj_mlp\",\n",
    "    \"transformer.single_transformer_blocks.30.proj_out\",\n",
    "    \"transformer.single_transformer_blocks.30.attn.to_q\",\n",
    "    \"transformer.single_transformer_blocks.30.attn.to_k\",\n",
    "    \"transformer.single_transformer_blocks.30.attn.to_v\",\n",
    "    \"transformer.single_transformer_blocks.31.norm.linear\",\n",
    "    \"transformer.single_transformer_blocks.31.proj_mlp\",\n",
    "    \"transformer.single_transformer_blocks.31.proj_out\",\n",
    "    \"transformer.single_transformer_blocks.31.attn.to_q\",\n",
    "    \"transformer.single_transformer_blocks.31.attn.to_k\",\n",
    "    \"transformer.single_transformer_blocks.31.attn.to_v\",\n",
    "    \"transformer.single_transformer_blocks.32.norm.linear\",\n",
    "    \"transformer.single_transformer_blocks.32.proj_mlp\",\n",
    "    \"transformer.single_transformer_blocks.32.proj_out\",\n",
    "    \"transformer.single_transformer_blocks.32.attn.to_q\",\n",
    "    \"transformer.single_transformer_blocks.32.attn.to_k\",\n",
    "    \"transformer.single_transformer_blocks.32.attn.to_v\",\n",
    "    \"transformer.single_transformer_blocks.33.norm.linear\",\n",
    "    \"transformer.single_transformer_blocks.33.proj_mlp\",\n",
    "    \"transformer.single_transformer_blocks.33.proj_out\",\n",
    "    \"transformer.single_transformer_blocks.33.attn.to_q\",\n",
    "    \"transformer.single_transformer_blocks.33.attn.to_k\",\n",
    "    \"transformer.single_transformer_blocks.33.attn.to_v\",\n",
    "    \"transformer.single_transformer_blocks.34.norm.linear\",\n",
    "    \"transformer.single_transformer_blocks.34.proj_mlp\",\n",
    "    \"transformer.single_transformer_blocks.34.proj_out\",\n",
    "    \"transformer.single_transformer_blocks.34.attn.to_q\",\n",
    "    \"transformer.single_transformer_blocks.34.attn.to_k\",\n",
    "    \"transformer.single_transformer_blocks.34.attn.to_v\",\n",
    "    \"transformer.single_transformer_blocks.35.norm.linear\",\n",
    "    \"transformer.single_transformer_blocks.35.proj_mlp\",\n",
    "    \"transformer.single_transformer_blocks.35.proj_out\",\n",
    "    \"transformer.single_transformer_blocks.35.attn.to_q\",\n",
    "    \"transformer.single_transformer_blocks.35.attn.to_k\",\n",
    "    \"transformer.single_transformer_blocks.35.attn.to_v\",\n",
    "    \"transformer.single_transformer_blocks.36.norm.linear\",\n",
    "    \"transformer.single_transformer_blocks.36.proj_mlp\",\n",
    "    \"transformer.single_transformer_blocks.36.proj_out\",\n",
    "    \"transformer.single_transformer_blocks.36.attn.to_q\",\n",
    "    \"transformer.single_transformer_blocks.36.attn.to_k\",\n",
    "    \"transformer.single_transformer_blocks.36.attn.to_v\",\n",
    "    \"transformer.single_transformer_blocks.37.norm.linear\",\n",
    "    \"transformer.single_transformer_blocks.37.proj_mlp\",\n",
    "    \"transformer.single_transformer_blocks.37.proj_out\",\n",
    "    \"transformer.single_transformer_blocks.37.attn.to_q\",\n",
    "    \"transformer.single_transformer_blocks.37.attn.to_k\",\n",
    "    \"transformer.single_transformer_blocks.37.attn.to_v\",\n",
    "]\n"
   ]
  },
  {
   "cell_type": "code",
   "execution_count": 6,
   "metadata": {},
   "outputs": [],
   "source": [
    "\n",
    "prompt_categories = {\n",
    "    'facial_features': [\n",
    "        \"smiling portrait\", \"frowning expression\", \"surprised look\", \"angry glare\", \"neutral expression\",\n",
    "        \"bearded individual\", \"freckled complexion\", \"face\", \"laughing face\", \"crying expression\",\n",
    "        \"confused look\", \"excited smile\", \"thoughtful gaze\", \"wrinkled face\", \"dimpled cheeks\",\n",
    "        \"strong jawline\", \"high cheekbones\", \"bushy eyebrows\",\n",
    "    ],\n",
    "    'nature': [\n",
    "        \"landscape\", \"seascape\", \"mountain range\", \"forest\", \"sunset\", \"sunrise\", \"beach\", \"desert\",\n",
    "        \"waterfall\", \"canyon\", \"meadow\", \"tropical island\", \"arctic tundra\", \"savanna\", \"volcano\",\n",
    "        \"coral reef\", \"rainforest\", \"autumn leaves\", \"spring blossoms\", \"misty morning\",\n",
    "    ],\n",
    "    'animals': [\n",
    "        \"dog\", \"cat\", \"bird\", \"fish\", \"elephant\", \"lion\", \"giraffe\", \"penguin\", \"dolphin\", \"butterfly\",\n",
    "        \"owl\", \"tiger\", \"panda\", \"koala\", \"kangaroo\", \"zebra\", \"rhinoceros\", \"cheetah\", \"polar bear\",\n",
    "    ],\n",
    "    'food': [\n",
    "        \"apple\", \"banana\", \"pizza\", \"sushi\", \"pasta\", \"steak\", \"salad\", \"ice cream\", \"chocolate\",\n",
    "        \"burger\", \"taco\", \"soup\", \"cake\", \"fruit platter\", \"sandwich\", \"roast chicken\", \"seafood platter\",\n",
    "    ],\n",
    "    'music': [\n",
    "        \"guitar\", \"piano\", \"violin\", \"drums\", \"saxophone\", \"trumpet\", \"flute\", \"cello\", \"harp\",\n",
    "        \"clarinet\", \"accordion\", \"electric guitar\", \"synthesizer\", \"DJ turntables\", \"orchestra\",\n",
    "        \"rock band\", \"jazz ensemble\",\n",
    "    ],\n",
    "    'architecture': [\n",
    "        \"skyscraper\", \"castle\", \"bridge\", \"ancient ruins\", \"modern house\", \"cathedral\",\n",
    "        \"pagoda\", \"lighthouse\", \"pyramid\", \"log cabin\", \"treehouse\", \"futuristic city\",\n",
    "    ],\n",
    "    'vehicles': [\n",
    "        \"car\", \"airplane\", \"bicycle\", \"motorcycle\", \"boat\", \"train\", \"helicopter\",\n",
    "        \"rocket\", \"submarine\", \"hot air balloon\", \"sailboat\", \"vintage car\",\n",
    "    ],\n",
    "    'abstract_concepts': [\n",
    "        \"love\", \"time\", \"freedom\", \"peace\", \"chaos\", \"infinity\", \"balance\",\n",
    "        \"evolution\", \"imagination\", \"dreams\", \"consciousness\", \"harmony\",\n",
    "    ],\n",
    "}"
   ]
  },
  {
   "cell_type": "code",
   "execution_count": 16,
   "metadata": {},
   "outputs": [],
   "source": [
    "import torch\n",
    "import numpy as np\n",
    "import pandas as pd\n",
    "from diffusers import FluxPipeline\n",
    "import umap.umap_ as umap\n",
    "from sklearn.preprocessing import StandardScaler\n",
    "import plotly.express as px\n",
    "import gc\n",
    "import random\n",
    "from tqdm import tqdm\n",
    "import numpy as np\n",
    "import pandas as pd\n",
    "import umap.umap_ as umap\n",
    "from sklearn.decomposition import PCA\n",
    "from sklearn.preprocessing import StandardScaler\n",
    "from sklearn.linear_model import LogisticRegression\n",
    "import shap\n",
    "import plotly.express as px\n",
    "\n",
    "\n",
    "# Set a fixed seed for reproducibility\n",
    "SEED = 42\n",
    "torch.manual_seed(SEED)\n",
    "np.random.seed(SEED)\n",
    "random.seed(SEED)\n",
    "\n"
   ]
  },
  {
   "cell_type": "code",
   "execution_count": 8,
   "metadata": {},
   "outputs": [],
   "source": [
    "\n",
    "# Define the MultiPromptActivityTracker class to capture layer activations\n",
    "class MultiPromptActivityTracker:\n",
    "    def __init__(self, layers_to_track):\n",
    "        self.layers_to_track = layers_to_track\n",
    "        self.outputs = {}\n",
    "        self.handles = []\n",
    "\n",
    "    def hook_fn(self, name):\n",
    "        def hook(module, input, output):\n",
    "            # Move output to CPU and avoid retaining GPU tensors\n",
    "            if isinstance(output, torch.Tensor):\n",
    "                self.outputs[name] = output.detach().cpu()\n",
    "            elif isinstance(output, tuple):\n",
    "                tensors = [t.detach().cpu() for t in output if isinstance(t, torch.Tensor)]\n",
    "                self.outputs[name] = torch.cat(tensors)\n",
    "        return hook\n",
    "\n",
    "    def register_hooks(self, pipe):\n",
    "        self.handles = []\n",
    "        for layer_name in self.layers_to_track:\n",
    "            parts = layer_name.split('.')\n",
    "            module = pipe\n",
    "            for part in parts:\n",
    "                if hasattr(module, part):\n",
    "                    module = getattr(module, part)\n",
    "                else:\n",
    "                    print(f\"Module '{module}' has no attribute '{part}'\")\n",
    "                    break\n",
    "            else:\n",
    "                handle = module.register_forward_hook(self.hook_fn(layer_name))\n",
    "                self.handles.append(handle)\n",
    "\n",
    "    def unregister_hooks(self):\n",
    "        for handle in self.handles:\n",
    "            handle.remove()\n",
    "        self.handles = []\n",
    "\n",
    "    def run_prompt(self, pipe, prompt, height=512, width=512, generator=None):\n",
    "        self.outputs.clear()\n",
    "        self.register_hooks(pipe)\n",
    "        with torch.no_grad():\n",
    "            _ = pipe(\n",
    "                prompt,\n",
    "                height=height,\n",
    "                width=width,\n",
    "                num_inference_steps=1,\n",
    "                generator=generator\n",
    "            )\n",
    "        self.unregister_hooks()\n",
    "        torch.cuda.empty_cache()\n",
    "        return self.outputs.copy()\n"
   ]
  },
  {
   "cell_type": "code",
   "execution_count": 9,
   "metadata": {},
   "outputs": [
    {
     "data": {
      "application/vnd.jupyter.widget-view+json": {
       "model_id": "a770bce2a5e24031aa1924cc7264c8e5",
       "version_major": 2,
       "version_minor": 0
      },
      "text/plain": [
       "Loading pipeline components...:   0%|          | 0/7 [00:00<?, ?it/s]"
      ]
     },
     "metadata": {},
     "output_type": "display_data"
    },
    {
     "data": {
      "application/vnd.jupyter.widget-view+json": {
       "model_id": "8d11a92d90c040319d08d25180c94957",
       "version_major": 2,
       "version_minor": 0
      },
      "text/plain": [
       "Loading checkpoint shards:   0%|          | 0/2 [00:00<?, ?it/s]"
      ]
     },
     "metadata": {},
     "output_type": "display_data"
    }
   ],
   "source": [
    "\n",
    "pipe = FluxPipeline.from_pretrained(\"black-forest-labs/FLUX.1-dev\", torch_dtype=torch.bfloat16)\n",
    "pipe = pipe.to(\"cuda\")\n"
   ]
  },
  {
   "cell_type": "code",
   "execution_count": 10,
   "metadata": {},
   "outputs": [
    {
     "data": {
      "application/vnd.jupyter.widget-view+json": {
       "model_id": "97bd5e46e2ef40e2bc3c9f7c177612ec",
       "version_major": 2,
       "version_minor": 0
      },
      "text/plain": [
       "Processing prompts:   0%|          | 0/127 [00:00<?, ?it/s]"
      ]
     },
     "metadata": {},
     "output_type": "display_data"
    },
    {
     "data": {
      "application/vnd.jupyter.widget-view+json": {
       "model_id": "61085661a9db43f0a2ee05ebfcdbd6b6",
       "version_major": 2,
       "version_minor": 0
      },
      "text/plain": [
       "  0%|          | 0/1 [00:00<?, ?it/s]"
      ]
     },
     "metadata": {},
     "output_type": "display_data"
    },
    {
     "data": {
      "application/vnd.jupyter.widget-view+json": {
       "model_id": "f26760385e29481ba904e73ee2d5ff73",
       "version_major": 2,
       "version_minor": 0
      },
      "text/plain": [
       "  0%|          | 0/1 [00:00<?, ?it/s]"
      ]
     },
     "metadata": {},
     "output_type": "display_data"
    },
    {
     "data": {
      "application/vnd.jupyter.widget-view+json": {
       "model_id": "b6b1fb693ab2444284e119123390a4b6",
       "version_major": 2,
       "version_minor": 0
      },
      "text/plain": [
       "  0%|          | 0/1 [00:00<?, ?it/s]"
      ]
     },
     "metadata": {},
     "output_type": "display_data"
    },
    {
     "data": {
      "application/vnd.jupyter.widget-view+json": {
       "model_id": "78bf9a0f5e834501b3942dcf9fe75210",
       "version_major": 2,
       "version_minor": 0
      },
      "text/plain": [
       "  0%|          | 0/1 [00:00<?, ?it/s]"
      ]
     },
     "metadata": {},
     "output_type": "display_data"
    },
    {
     "data": {
      "application/vnd.jupyter.widget-view+json": {
       "model_id": "11514a4f68974db9b007a0c99719a4a6",
       "version_major": 2,
       "version_minor": 0
      },
      "text/plain": [
       "  0%|          | 0/1 [00:00<?, ?it/s]"
      ]
     },
     "metadata": {},
     "output_type": "display_data"
    },
    {
     "data": {
      "application/vnd.jupyter.widget-view+json": {
       "model_id": "2b072177c0b64ee68f5a9b7aa127798a",
       "version_major": 2,
       "version_minor": 0
      },
      "text/plain": [
       "  0%|          | 0/1 [00:00<?, ?it/s]"
      ]
     },
     "metadata": {},
     "output_type": "display_data"
    },
    {
     "data": {
      "application/vnd.jupyter.widget-view+json": {
       "model_id": "11c3dbe0ef034108955ff0a33a58edc8",
       "version_major": 2,
       "version_minor": 0
      },
      "text/plain": [
       "  0%|          | 0/1 [00:00<?, ?it/s]"
      ]
     },
     "metadata": {},
     "output_type": "display_data"
    },
    {
     "data": {
      "application/vnd.jupyter.widget-view+json": {
       "model_id": "8a4a556c62894162be4390359e023df1",
       "version_major": 2,
       "version_minor": 0
      },
      "text/plain": [
       "  0%|          | 0/1 [00:00<?, ?it/s]"
      ]
     },
     "metadata": {},
     "output_type": "display_data"
    },
    {
     "data": {
      "application/vnd.jupyter.widget-view+json": {
       "model_id": "e503093d3c524e1bba76785d5239b69b",
       "version_major": 2,
       "version_minor": 0
      },
      "text/plain": [
       "  0%|          | 0/1 [00:00<?, ?it/s]"
      ]
     },
     "metadata": {},
     "output_type": "display_data"
    },
    {
     "data": {
      "application/vnd.jupyter.widget-view+json": {
       "model_id": "421c2404843c47378cd76a2b3bdd9877",
       "version_major": 2,
       "version_minor": 0
      },
      "text/plain": [
       "  0%|          | 0/1 [00:00<?, ?it/s]"
      ]
     },
     "metadata": {},
     "output_type": "display_data"
    },
    {
     "data": {
      "application/vnd.jupyter.widget-view+json": {
       "model_id": "a93f65d65ef54567a5ffc42cfa7ee275",
       "version_major": 2,
       "version_minor": 0
      },
      "text/plain": [
       "  0%|          | 0/1 [00:00<?, ?it/s]"
      ]
     },
     "metadata": {},
     "output_type": "display_data"
    },
    {
     "data": {
      "application/vnd.jupyter.widget-view+json": {
       "model_id": "a3d42b9445d7438f9b6b676169b19ede",
       "version_major": 2,
       "version_minor": 0
      },
      "text/plain": [
       "  0%|          | 0/1 [00:00<?, ?it/s]"
      ]
     },
     "metadata": {},
     "output_type": "display_data"
    },
    {
     "data": {
      "application/vnd.jupyter.widget-view+json": {
       "model_id": "72bc0c1f74d74f31a0f61641c82dd20e",
       "version_major": 2,
       "version_minor": 0
      },
      "text/plain": [
       "  0%|          | 0/1 [00:00<?, ?it/s]"
      ]
     },
     "metadata": {},
     "output_type": "display_data"
    },
    {
     "data": {
      "application/vnd.jupyter.widget-view+json": {
       "model_id": "5c48c0db2db74c229867e32a23dd3802",
       "version_major": 2,
       "version_minor": 0
      },
      "text/plain": [
       "  0%|          | 0/1 [00:00<?, ?it/s]"
      ]
     },
     "metadata": {},
     "output_type": "display_data"
    },
    {
     "data": {
      "application/vnd.jupyter.widget-view+json": {
       "model_id": "054eb9e790c94fa48bad57db599d9880",
       "version_major": 2,
       "version_minor": 0
      },
      "text/plain": [
       "  0%|          | 0/1 [00:00<?, ?it/s]"
      ]
     },
     "metadata": {},
     "output_type": "display_data"
    },
    {
     "data": {
      "application/vnd.jupyter.widget-view+json": {
       "model_id": "508c8ef296074e61996cc166d71c85ce",
       "version_major": 2,
       "version_minor": 0
      },
      "text/plain": [
       "  0%|          | 0/1 [00:00<?, ?it/s]"
      ]
     },
     "metadata": {},
     "output_type": "display_data"
    },
    {
     "data": {
      "application/vnd.jupyter.widget-view+json": {
       "model_id": "b1245c86013546e2b3a9048062da2c03",
       "version_major": 2,
       "version_minor": 0
      },
      "text/plain": [
       "  0%|          | 0/1 [00:00<?, ?it/s]"
      ]
     },
     "metadata": {},
     "output_type": "display_data"
    },
    {
     "data": {
      "application/vnd.jupyter.widget-view+json": {
       "model_id": "a9e524789b174d2e8d43d0141c65e25c",
       "version_major": 2,
       "version_minor": 0
      },
      "text/plain": [
       "  0%|          | 0/1 [00:00<?, ?it/s]"
      ]
     },
     "metadata": {},
     "output_type": "display_data"
    },
    {
     "data": {
      "application/vnd.jupyter.widget-view+json": {
       "model_id": "e87b54b06dbe4e67af2274c95840a01f",
       "version_major": 2,
       "version_minor": 0
      },
      "text/plain": [
       "  0%|          | 0/1 [00:00<?, ?it/s]"
      ]
     },
     "metadata": {},
     "output_type": "display_data"
    },
    {
     "data": {
      "application/vnd.jupyter.widget-view+json": {
       "model_id": "c143f01e5923451790f592c2a82527b0",
       "version_major": 2,
       "version_minor": 0
      },
      "text/plain": [
       "  0%|          | 0/1 [00:00<?, ?it/s]"
      ]
     },
     "metadata": {},
     "output_type": "display_data"
    },
    {
     "data": {
      "application/vnd.jupyter.widget-view+json": {
       "model_id": "b80e3e2be4704c06853f7cfe1609a185",
       "version_major": 2,
       "version_minor": 0
      },
      "text/plain": [
       "  0%|          | 0/1 [00:00<?, ?it/s]"
      ]
     },
     "metadata": {},
     "output_type": "display_data"
    },
    {
     "data": {
      "application/vnd.jupyter.widget-view+json": {
       "model_id": "b82bc38dbb5d4e539f6a46967792db16",
       "version_major": 2,
       "version_minor": 0
      },
      "text/plain": [
       "  0%|          | 0/1 [00:00<?, ?it/s]"
      ]
     },
     "metadata": {},
     "output_type": "display_data"
    },
    {
     "data": {
      "application/vnd.jupyter.widget-view+json": {
       "model_id": "f5d59c44cbfc4f5d9b1b086aa6dab301",
       "version_major": 2,
       "version_minor": 0
      },
      "text/plain": [
       "  0%|          | 0/1 [00:00<?, ?it/s]"
      ]
     },
     "metadata": {},
     "output_type": "display_data"
    },
    {
     "data": {
      "application/vnd.jupyter.widget-view+json": {
       "model_id": "90a7ca08ca404c87888275857666d20a",
       "version_major": 2,
       "version_minor": 0
      },
      "text/plain": [
       "  0%|          | 0/1 [00:00<?, ?it/s]"
      ]
     },
     "metadata": {},
     "output_type": "display_data"
    },
    {
     "data": {
      "application/vnd.jupyter.widget-view+json": {
       "model_id": "922ee7268aed41598c50fa8a834ab4c1",
       "version_major": 2,
       "version_minor": 0
      },
      "text/plain": [
       "  0%|          | 0/1 [00:00<?, ?it/s]"
      ]
     },
     "metadata": {},
     "output_type": "display_data"
    },
    {
     "data": {
      "application/vnd.jupyter.widget-view+json": {
       "model_id": "ef6dcbb00d2a4fc098aa440a6b6e3c80",
       "version_major": 2,
       "version_minor": 0
      },
      "text/plain": [
       "  0%|          | 0/1 [00:00<?, ?it/s]"
      ]
     },
     "metadata": {},
     "output_type": "display_data"
    },
    {
     "data": {
      "application/vnd.jupyter.widget-view+json": {
       "model_id": "04fc36b10c734d3ea9619250f17db696",
       "version_major": 2,
       "version_minor": 0
      },
      "text/plain": [
       "  0%|          | 0/1 [00:00<?, ?it/s]"
      ]
     },
     "metadata": {},
     "output_type": "display_data"
    },
    {
     "data": {
      "application/vnd.jupyter.widget-view+json": {
       "model_id": "af57e1a833ea4fc6b4ad37ea4bb6586c",
       "version_major": 2,
       "version_minor": 0
      },
      "text/plain": [
       "  0%|          | 0/1 [00:00<?, ?it/s]"
      ]
     },
     "metadata": {},
     "output_type": "display_data"
    },
    {
     "data": {
      "application/vnd.jupyter.widget-view+json": {
       "model_id": "2ebdeb1ef1de4244aee58bbc9c5632fa",
       "version_major": 2,
       "version_minor": 0
      },
      "text/plain": [
       "  0%|          | 0/1 [00:00<?, ?it/s]"
      ]
     },
     "metadata": {},
     "output_type": "display_data"
    },
    {
     "data": {
      "application/vnd.jupyter.widget-view+json": {
       "model_id": "77cf95a671ad471c8d589a4d84d0eb64",
       "version_major": 2,
       "version_minor": 0
      },
      "text/plain": [
       "  0%|          | 0/1 [00:00<?, ?it/s]"
      ]
     },
     "metadata": {},
     "output_type": "display_data"
    },
    {
     "data": {
      "application/vnd.jupyter.widget-view+json": {
       "model_id": "c8112bad6025400e89920cdcf2481676",
       "version_major": 2,
       "version_minor": 0
      },
      "text/plain": [
       "  0%|          | 0/1 [00:00<?, ?it/s]"
      ]
     },
     "metadata": {},
     "output_type": "display_data"
    },
    {
     "data": {
      "application/vnd.jupyter.widget-view+json": {
       "model_id": "c496c4a74cfa46ed858dd3eb4bd54793",
       "version_major": 2,
       "version_minor": 0
      },
      "text/plain": [
       "  0%|          | 0/1 [00:00<?, ?it/s]"
      ]
     },
     "metadata": {},
     "output_type": "display_data"
    },
    {
     "data": {
      "application/vnd.jupyter.widget-view+json": {
       "model_id": "8dd8e27c7b3045f19c2e27b88ee0e915",
       "version_major": 2,
       "version_minor": 0
      },
      "text/plain": [
       "  0%|          | 0/1 [00:00<?, ?it/s]"
      ]
     },
     "metadata": {},
     "output_type": "display_data"
    },
    {
     "data": {
      "application/vnd.jupyter.widget-view+json": {
       "model_id": "53cc5585d7ae4e42872afe77fd867cee",
       "version_major": 2,
       "version_minor": 0
      },
      "text/plain": [
       "  0%|          | 0/1 [00:00<?, ?it/s]"
      ]
     },
     "metadata": {},
     "output_type": "display_data"
    },
    {
     "data": {
      "application/vnd.jupyter.widget-view+json": {
       "model_id": "40eb46636a6a4f68ac6e4a3330b2cfe9",
       "version_major": 2,
       "version_minor": 0
      },
      "text/plain": [
       "  0%|          | 0/1 [00:00<?, ?it/s]"
      ]
     },
     "metadata": {},
     "output_type": "display_data"
    },
    {
     "data": {
      "application/vnd.jupyter.widget-view+json": {
       "model_id": "336660e857084a56a054b3debaf1280e",
       "version_major": 2,
       "version_minor": 0
      },
      "text/plain": [
       "  0%|          | 0/1 [00:00<?, ?it/s]"
      ]
     },
     "metadata": {},
     "output_type": "display_data"
    },
    {
     "data": {
      "application/vnd.jupyter.widget-view+json": {
       "model_id": "cc10090fc75048358761f04bb87eed33",
       "version_major": 2,
       "version_minor": 0
      },
      "text/plain": [
       "  0%|          | 0/1 [00:00<?, ?it/s]"
      ]
     },
     "metadata": {},
     "output_type": "display_data"
    },
    {
     "data": {
      "application/vnd.jupyter.widget-view+json": {
       "model_id": "b54ec33a68464a4f9533de2118d319fc",
       "version_major": 2,
       "version_minor": 0
      },
      "text/plain": [
       "  0%|          | 0/1 [00:00<?, ?it/s]"
      ]
     },
     "metadata": {},
     "output_type": "display_data"
    },
    {
     "data": {
      "application/vnd.jupyter.widget-view+json": {
       "model_id": "b9381a164e0f45eebd7646ef193546f1",
       "version_major": 2,
       "version_minor": 0
      },
      "text/plain": [
       "  0%|          | 0/1 [00:00<?, ?it/s]"
      ]
     },
     "metadata": {},
     "output_type": "display_data"
    },
    {
     "data": {
      "application/vnd.jupyter.widget-view+json": {
       "model_id": "187a24d231f74fe4a5cb5abaf83960e3",
       "version_major": 2,
       "version_minor": 0
      },
      "text/plain": [
       "  0%|          | 0/1 [00:00<?, ?it/s]"
      ]
     },
     "metadata": {},
     "output_type": "display_data"
    },
    {
     "data": {
      "application/vnd.jupyter.widget-view+json": {
       "model_id": "d22f3b4f54de44f3a8bbc19afd7187d3",
       "version_major": 2,
       "version_minor": 0
      },
      "text/plain": [
       "  0%|          | 0/1 [00:00<?, ?it/s]"
      ]
     },
     "metadata": {},
     "output_type": "display_data"
    },
    {
     "data": {
      "application/vnd.jupyter.widget-view+json": {
       "model_id": "1164febab9654eb8b1e1a24316682c1b",
       "version_major": 2,
       "version_minor": 0
      },
      "text/plain": [
       "  0%|          | 0/1 [00:00<?, ?it/s]"
      ]
     },
     "metadata": {},
     "output_type": "display_data"
    },
    {
     "data": {
      "application/vnd.jupyter.widget-view+json": {
       "model_id": "46b94ee6ff654aceac4120aadbca96b2",
       "version_major": 2,
       "version_minor": 0
      },
      "text/plain": [
       "  0%|          | 0/1 [00:00<?, ?it/s]"
      ]
     },
     "metadata": {},
     "output_type": "display_data"
    },
    {
     "data": {
      "application/vnd.jupyter.widget-view+json": {
       "model_id": "ee5ba1f964244271b11f9bd3215e1a93",
       "version_major": 2,
       "version_minor": 0
      },
      "text/plain": [
       "  0%|          | 0/1 [00:00<?, ?it/s]"
      ]
     },
     "metadata": {},
     "output_type": "display_data"
    },
    {
     "data": {
      "application/vnd.jupyter.widget-view+json": {
       "model_id": "2220a46b8aa74520b4762d35edaebe12",
       "version_major": 2,
       "version_minor": 0
      },
      "text/plain": [
       "  0%|          | 0/1 [00:00<?, ?it/s]"
      ]
     },
     "metadata": {},
     "output_type": "display_data"
    },
    {
     "data": {
      "application/vnd.jupyter.widget-view+json": {
       "model_id": "29e35321bc6b489aab583d0e5e03d510",
       "version_major": 2,
       "version_minor": 0
      },
      "text/plain": [
       "  0%|          | 0/1 [00:00<?, ?it/s]"
      ]
     },
     "metadata": {},
     "output_type": "display_data"
    },
    {
     "data": {
      "application/vnd.jupyter.widget-view+json": {
       "model_id": "a370fc36659740b1bf05d2b4f5accc06",
       "version_major": 2,
       "version_minor": 0
      },
      "text/plain": [
       "  0%|          | 0/1 [00:00<?, ?it/s]"
      ]
     },
     "metadata": {},
     "output_type": "display_data"
    },
    {
     "data": {
      "application/vnd.jupyter.widget-view+json": {
       "model_id": "b017590ff8ec45888e1db9d12cc22458",
       "version_major": 2,
       "version_minor": 0
      },
      "text/plain": [
       "  0%|          | 0/1 [00:00<?, ?it/s]"
      ]
     },
     "metadata": {},
     "output_type": "display_data"
    },
    {
     "data": {
      "application/vnd.jupyter.widget-view+json": {
       "model_id": "9e1c7e29eb0e4ec68c43cabb73d80fab",
       "version_major": 2,
       "version_minor": 0
      },
      "text/plain": [
       "  0%|          | 0/1 [00:00<?, ?it/s]"
      ]
     },
     "metadata": {},
     "output_type": "display_data"
    },
    {
     "data": {
      "application/vnd.jupyter.widget-view+json": {
       "model_id": "606abcc85f4c4a52be98de757f9d23ea",
       "version_major": 2,
       "version_minor": 0
      },
      "text/plain": [
       "  0%|          | 0/1 [00:00<?, ?it/s]"
      ]
     },
     "metadata": {},
     "output_type": "display_data"
    },
    {
     "data": {
      "application/vnd.jupyter.widget-view+json": {
       "model_id": "be87ca96d6b24042a62f6a3a1491dc23",
       "version_major": 2,
       "version_minor": 0
      },
      "text/plain": [
       "  0%|          | 0/1 [00:00<?, ?it/s]"
      ]
     },
     "metadata": {},
     "output_type": "display_data"
    },
    {
     "data": {
      "application/vnd.jupyter.widget-view+json": {
       "model_id": "58e60408272e4f77a022eed20210eb61",
       "version_major": 2,
       "version_minor": 0
      },
      "text/plain": [
       "  0%|          | 0/1 [00:00<?, ?it/s]"
      ]
     },
     "metadata": {},
     "output_type": "display_data"
    },
    {
     "data": {
      "application/vnd.jupyter.widget-view+json": {
       "model_id": "5bf0be4c408d43a991e11c85b9a2ffbc",
       "version_major": 2,
       "version_minor": 0
      },
      "text/plain": [
       "  0%|          | 0/1 [00:00<?, ?it/s]"
      ]
     },
     "metadata": {},
     "output_type": "display_data"
    },
    {
     "data": {
      "application/vnd.jupyter.widget-view+json": {
       "model_id": "62d69a6cf6cb4a7b9c9f58fcc6903cb1",
       "version_major": 2,
       "version_minor": 0
      },
      "text/plain": [
       "  0%|          | 0/1 [00:00<?, ?it/s]"
      ]
     },
     "metadata": {},
     "output_type": "display_data"
    },
    {
     "data": {
      "application/vnd.jupyter.widget-view+json": {
       "model_id": "f3cdeb9bce794e19940899268106e1d8",
       "version_major": 2,
       "version_minor": 0
      },
      "text/plain": [
       "  0%|          | 0/1 [00:00<?, ?it/s]"
      ]
     },
     "metadata": {},
     "output_type": "display_data"
    },
    {
     "data": {
      "application/vnd.jupyter.widget-view+json": {
       "model_id": "7f44df2c927b432cb61e4bcbb6f03ba9",
       "version_major": 2,
       "version_minor": 0
      },
      "text/plain": [
       "  0%|          | 0/1 [00:00<?, ?it/s]"
      ]
     },
     "metadata": {},
     "output_type": "display_data"
    },
    {
     "data": {
      "application/vnd.jupyter.widget-view+json": {
       "model_id": "c4f216572b9a4f3ba4ed775d90bed72e",
       "version_major": 2,
       "version_minor": 0
      },
      "text/plain": [
       "  0%|          | 0/1 [00:00<?, ?it/s]"
      ]
     },
     "metadata": {},
     "output_type": "display_data"
    },
    {
     "data": {
      "application/vnd.jupyter.widget-view+json": {
       "model_id": "ac11cb2e0f254f70ad06ad5bcf3f009a",
       "version_major": 2,
       "version_minor": 0
      },
      "text/plain": [
       "  0%|          | 0/1 [00:00<?, ?it/s]"
      ]
     },
     "metadata": {},
     "output_type": "display_data"
    },
    {
     "data": {
      "application/vnd.jupyter.widget-view+json": {
       "model_id": "47ac247e1cda42eb9de717b1533f74dd",
       "version_major": 2,
       "version_minor": 0
      },
      "text/plain": [
       "  0%|          | 0/1 [00:00<?, ?it/s]"
      ]
     },
     "metadata": {},
     "output_type": "display_data"
    },
    {
     "data": {
      "application/vnd.jupyter.widget-view+json": {
       "model_id": "e2b3756c999c40bf849badcfed033708",
       "version_major": 2,
       "version_minor": 0
      },
      "text/plain": [
       "  0%|          | 0/1 [00:00<?, ?it/s]"
      ]
     },
     "metadata": {},
     "output_type": "display_data"
    },
    {
     "data": {
      "application/vnd.jupyter.widget-view+json": {
       "model_id": "b5a7a03c9b8544b49afa694ea875c874",
       "version_major": 2,
       "version_minor": 0
      },
      "text/plain": [
       "  0%|          | 0/1 [00:00<?, ?it/s]"
      ]
     },
     "metadata": {},
     "output_type": "display_data"
    },
    {
     "data": {
      "application/vnd.jupyter.widget-view+json": {
       "model_id": "315bce50a0ae404e81548ec97b773e45",
       "version_major": 2,
       "version_minor": 0
      },
      "text/plain": [
       "  0%|          | 0/1 [00:00<?, ?it/s]"
      ]
     },
     "metadata": {},
     "output_type": "display_data"
    },
    {
     "data": {
      "application/vnd.jupyter.widget-view+json": {
       "model_id": "e2706055f0964bd3b082a31a381ef59a",
       "version_major": 2,
       "version_minor": 0
      },
      "text/plain": [
       "  0%|          | 0/1 [00:00<?, ?it/s]"
      ]
     },
     "metadata": {},
     "output_type": "display_data"
    },
    {
     "data": {
      "application/vnd.jupyter.widget-view+json": {
       "model_id": "497ca7a1336147d5a55f6bacfa9114c9",
       "version_major": 2,
       "version_minor": 0
      },
      "text/plain": [
       "  0%|          | 0/1 [00:00<?, ?it/s]"
      ]
     },
     "metadata": {},
     "output_type": "display_data"
    },
    {
     "data": {
      "application/vnd.jupyter.widget-view+json": {
       "model_id": "7c182fb643114f2f9e774489d9dee7f0",
       "version_major": 2,
       "version_minor": 0
      },
      "text/plain": [
       "  0%|          | 0/1 [00:00<?, ?it/s]"
      ]
     },
     "metadata": {},
     "output_type": "display_data"
    },
    {
     "data": {
      "application/vnd.jupyter.widget-view+json": {
       "model_id": "eb968e3b480346acad929d2e0bfdc4b9",
       "version_major": 2,
       "version_minor": 0
      },
      "text/plain": [
       "  0%|          | 0/1 [00:00<?, ?it/s]"
      ]
     },
     "metadata": {},
     "output_type": "display_data"
    },
    {
     "data": {
      "application/vnd.jupyter.widget-view+json": {
       "model_id": "55963743f4c4442e851579b75267ef05",
       "version_major": 2,
       "version_minor": 0
      },
      "text/plain": [
       "  0%|          | 0/1 [00:00<?, ?it/s]"
      ]
     },
     "metadata": {},
     "output_type": "display_data"
    },
    {
     "data": {
      "application/vnd.jupyter.widget-view+json": {
       "model_id": "bc87a6116567491c808554a02f96fb9b",
       "version_major": 2,
       "version_minor": 0
      },
      "text/plain": [
       "  0%|          | 0/1 [00:00<?, ?it/s]"
      ]
     },
     "metadata": {},
     "output_type": "display_data"
    },
    {
     "data": {
      "application/vnd.jupyter.widget-view+json": {
       "model_id": "86888f3bb9184cd7898d50f3ad05f25e",
       "version_major": 2,
       "version_minor": 0
      },
      "text/plain": [
       "  0%|          | 0/1 [00:00<?, ?it/s]"
      ]
     },
     "metadata": {},
     "output_type": "display_data"
    },
    {
     "data": {
      "application/vnd.jupyter.widget-view+json": {
       "model_id": "b9d3ef45a99d40a182de9b9cc95d4822",
       "version_major": 2,
       "version_minor": 0
      },
      "text/plain": [
       "  0%|          | 0/1 [00:00<?, ?it/s]"
      ]
     },
     "metadata": {},
     "output_type": "display_data"
    },
    {
     "data": {
      "application/vnd.jupyter.widget-view+json": {
       "model_id": "3f70f7371eda4fab9b6f090210191e73",
       "version_major": 2,
       "version_minor": 0
      },
      "text/plain": [
       "  0%|          | 0/1 [00:00<?, ?it/s]"
      ]
     },
     "metadata": {},
     "output_type": "display_data"
    },
    {
     "data": {
      "application/vnd.jupyter.widget-view+json": {
       "model_id": "fc8bf51a3ab54030bc9e33aa6643dcbc",
       "version_major": 2,
       "version_minor": 0
      },
      "text/plain": [
       "  0%|          | 0/1 [00:00<?, ?it/s]"
      ]
     },
     "metadata": {},
     "output_type": "display_data"
    },
    {
     "data": {
      "application/vnd.jupyter.widget-view+json": {
       "model_id": "55c2faff8fb84741928fcf903287affc",
       "version_major": 2,
       "version_minor": 0
      },
      "text/plain": [
       "  0%|          | 0/1 [00:00<?, ?it/s]"
      ]
     },
     "metadata": {},
     "output_type": "display_data"
    },
    {
     "data": {
      "application/vnd.jupyter.widget-view+json": {
       "model_id": "b5b37c45d35f4629889f1d2efbd9789b",
       "version_major": 2,
       "version_minor": 0
      },
      "text/plain": [
       "  0%|          | 0/1 [00:00<?, ?it/s]"
      ]
     },
     "metadata": {},
     "output_type": "display_data"
    },
    {
     "data": {
      "application/vnd.jupyter.widget-view+json": {
       "model_id": "a9758b82ae654f6da26f8714f33f4f08",
       "version_major": 2,
       "version_minor": 0
      },
      "text/plain": [
       "  0%|          | 0/1 [00:00<?, ?it/s]"
      ]
     },
     "metadata": {},
     "output_type": "display_data"
    },
    {
     "data": {
      "application/vnd.jupyter.widget-view+json": {
       "model_id": "89000022918d4be596fc740a153968aa",
       "version_major": 2,
       "version_minor": 0
      },
      "text/plain": [
       "  0%|          | 0/1 [00:00<?, ?it/s]"
      ]
     },
     "metadata": {},
     "output_type": "display_data"
    },
    {
     "data": {
      "application/vnd.jupyter.widget-view+json": {
       "model_id": "6be427d4387b4d2690bd469586aff6e0",
       "version_major": 2,
       "version_minor": 0
      },
      "text/plain": [
       "  0%|          | 0/1 [00:00<?, ?it/s]"
      ]
     },
     "metadata": {},
     "output_type": "display_data"
    },
    {
     "data": {
      "application/vnd.jupyter.widget-view+json": {
       "model_id": "2108ab481dc043c5b37e3c97307a90c8",
       "version_major": 2,
       "version_minor": 0
      },
      "text/plain": [
       "  0%|          | 0/1 [00:00<?, ?it/s]"
      ]
     },
     "metadata": {},
     "output_type": "display_data"
    },
    {
     "data": {
      "application/vnd.jupyter.widget-view+json": {
       "model_id": "a2b0736298a54610bf50c1cbcb908576",
       "version_major": 2,
       "version_minor": 0
      },
      "text/plain": [
       "  0%|          | 0/1 [00:00<?, ?it/s]"
      ]
     },
     "metadata": {},
     "output_type": "display_data"
    },
    {
     "data": {
      "application/vnd.jupyter.widget-view+json": {
       "model_id": "a1161396e07b479ab00d6678d0453951",
       "version_major": 2,
       "version_minor": 0
      },
      "text/plain": [
       "  0%|          | 0/1 [00:00<?, ?it/s]"
      ]
     },
     "metadata": {},
     "output_type": "display_data"
    },
    {
     "data": {
      "application/vnd.jupyter.widget-view+json": {
       "model_id": "e619030cbf39474bb7ca92e424193033",
       "version_major": 2,
       "version_minor": 0
      },
      "text/plain": [
       "  0%|          | 0/1 [00:00<?, ?it/s]"
      ]
     },
     "metadata": {},
     "output_type": "display_data"
    },
    {
     "data": {
      "application/vnd.jupyter.widget-view+json": {
       "model_id": "32f9dc3b1fc044b9a76318b686937c30",
       "version_major": 2,
       "version_minor": 0
      },
      "text/plain": [
       "  0%|          | 0/1 [00:00<?, ?it/s]"
      ]
     },
     "metadata": {},
     "output_type": "display_data"
    },
    {
     "data": {
      "application/vnd.jupyter.widget-view+json": {
       "model_id": "d50b9210388542deb6ed1b3d23d3720d",
       "version_major": 2,
       "version_minor": 0
      },
      "text/plain": [
       "  0%|          | 0/1 [00:00<?, ?it/s]"
      ]
     },
     "metadata": {},
     "output_type": "display_data"
    },
    {
     "data": {
      "application/vnd.jupyter.widget-view+json": {
       "model_id": "f5870948ed0441fe8ee7d19d54b2533c",
       "version_major": 2,
       "version_minor": 0
      },
      "text/plain": [
       "  0%|          | 0/1 [00:00<?, ?it/s]"
      ]
     },
     "metadata": {},
     "output_type": "display_data"
    },
    {
     "data": {
      "application/vnd.jupyter.widget-view+json": {
       "model_id": "c8395d71b14849a994c7840abac19935",
       "version_major": 2,
       "version_minor": 0
      },
      "text/plain": [
       "  0%|          | 0/1 [00:00<?, ?it/s]"
      ]
     },
     "metadata": {},
     "output_type": "display_data"
    },
    {
     "data": {
      "application/vnd.jupyter.widget-view+json": {
       "model_id": "3b00faf0e46b4483bbed8f20d8e9fb39",
       "version_major": 2,
       "version_minor": 0
      },
      "text/plain": [
       "  0%|          | 0/1 [00:00<?, ?it/s]"
      ]
     },
     "metadata": {},
     "output_type": "display_data"
    },
    {
     "data": {
      "application/vnd.jupyter.widget-view+json": {
       "model_id": "6728e7136c374afd993535a5119ed7a8",
       "version_major": 2,
       "version_minor": 0
      },
      "text/plain": [
       "  0%|          | 0/1 [00:00<?, ?it/s]"
      ]
     },
     "metadata": {},
     "output_type": "display_data"
    },
    {
     "data": {
      "application/vnd.jupyter.widget-view+json": {
       "model_id": "17e005eb9b2447e2b39f8ebbd14e8db9",
       "version_major": 2,
       "version_minor": 0
      },
      "text/plain": [
       "  0%|          | 0/1 [00:00<?, ?it/s]"
      ]
     },
     "metadata": {},
     "output_type": "display_data"
    },
    {
     "data": {
      "application/vnd.jupyter.widget-view+json": {
       "model_id": "8f4f444517b54d5e9fb7949a51075727",
       "version_major": 2,
       "version_minor": 0
      },
      "text/plain": [
       "  0%|          | 0/1 [00:00<?, ?it/s]"
      ]
     },
     "metadata": {},
     "output_type": "display_data"
    },
    {
     "data": {
      "application/vnd.jupyter.widget-view+json": {
       "model_id": "f9cfad8703b246bb95a24c5d7abb3d47",
       "version_major": 2,
       "version_minor": 0
      },
      "text/plain": [
       "  0%|          | 0/1 [00:00<?, ?it/s]"
      ]
     },
     "metadata": {},
     "output_type": "display_data"
    },
    {
     "data": {
      "application/vnd.jupyter.widget-view+json": {
       "model_id": "d606d71c4ec04493a9170fb8865c0da5",
       "version_major": 2,
       "version_minor": 0
      },
      "text/plain": [
       "  0%|          | 0/1 [00:00<?, ?it/s]"
      ]
     },
     "metadata": {},
     "output_type": "display_data"
    },
    {
     "data": {
      "application/vnd.jupyter.widget-view+json": {
       "model_id": "34fc5ebffb794ed08861acd034e6e5fa",
       "version_major": 2,
       "version_minor": 0
      },
      "text/plain": [
       "  0%|          | 0/1 [00:00<?, ?it/s]"
      ]
     },
     "metadata": {},
     "output_type": "display_data"
    },
    {
     "data": {
      "application/vnd.jupyter.widget-view+json": {
       "model_id": "2847f89f588841748b76564017e45db4",
       "version_major": 2,
       "version_minor": 0
      },
      "text/plain": [
       "  0%|          | 0/1 [00:00<?, ?it/s]"
      ]
     },
     "metadata": {},
     "output_type": "display_data"
    },
    {
     "data": {
      "application/vnd.jupyter.widget-view+json": {
       "model_id": "8b2724ebb14c463c82a2aac747dd0c85",
       "version_major": 2,
       "version_minor": 0
      },
      "text/plain": [
       "  0%|          | 0/1 [00:00<?, ?it/s]"
      ]
     },
     "metadata": {},
     "output_type": "display_data"
    },
    {
     "data": {
      "application/vnd.jupyter.widget-view+json": {
       "model_id": "a9f5638c486043f59e61511aba07ccc9",
       "version_major": 2,
       "version_minor": 0
      },
      "text/plain": [
       "  0%|          | 0/1 [00:00<?, ?it/s]"
      ]
     },
     "metadata": {},
     "output_type": "display_data"
    },
    {
     "data": {
      "application/vnd.jupyter.widget-view+json": {
       "model_id": "c5608f384d864e1196064dae650b3779",
       "version_major": 2,
       "version_minor": 0
      },
      "text/plain": [
       "  0%|          | 0/1 [00:00<?, ?it/s]"
      ]
     },
     "metadata": {},
     "output_type": "display_data"
    },
    {
     "data": {
      "application/vnd.jupyter.widget-view+json": {
       "model_id": "14333b4ec94a4300b3b06dfa5b54eade",
       "version_major": 2,
       "version_minor": 0
      },
      "text/plain": [
       "  0%|          | 0/1 [00:00<?, ?it/s]"
      ]
     },
     "metadata": {},
     "output_type": "display_data"
    },
    {
     "data": {
      "application/vnd.jupyter.widget-view+json": {
       "model_id": "5c7edbfdf4704fdba6b73be2569fea26",
       "version_major": 2,
       "version_minor": 0
      },
      "text/plain": [
       "  0%|          | 0/1 [00:00<?, ?it/s]"
      ]
     },
     "metadata": {},
     "output_type": "display_data"
    },
    {
     "data": {
      "application/vnd.jupyter.widget-view+json": {
       "model_id": "9b721bc853964bda95edd00b3e95f451",
       "version_major": 2,
       "version_minor": 0
      },
      "text/plain": [
       "  0%|          | 0/1 [00:00<?, ?it/s]"
      ]
     },
     "metadata": {},
     "output_type": "display_data"
    },
    {
     "data": {
      "application/vnd.jupyter.widget-view+json": {
       "model_id": "03acb7b118834cacb1f5de1c82d8f372",
       "version_major": 2,
       "version_minor": 0
      },
      "text/plain": [
       "  0%|          | 0/1 [00:00<?, ?it/s]"
      ]
     },
     "metadata": {},
     "output_type": "display_data"
    },
    {
     "data": {
      "application/vnd.jupyter.widget-view+json": {
       "model_id": "7760725e83e841feb7096a94f56e5154",
       "version_major": 2,
       "version_minor": 0
      },
      "text/plain": [
       "  0%|          | 0/1 [00:00<?, ?it/s]"
      ]
     },
     "metadata": {},
     "output_type": "display_data"
    },
    {
     "data": {
      "application/vnd.jupyter.widget-view+json": {
       "model_id": "e358969bb2ec48c2a1dd2520185838cc",
       "version_major": 2,
       "version_minor": 0
      },
      "text/plain": [
       "  0%|          | 0/1 [00:00<?, ?it/s]"
      ]
     },
     "metadata": {},
     "output_type": "display_data"
    },
    {
     "data": {
      "application/vnd.jupyter.widget-view+json": {
       "model_id": "09aa95b5f45442439d80c16209200011",
       "version_major": 2,
       "version_minor": 0
      },
      "text/plain": [
       "  0%|          | 0/1 [00:00<?, ?it/s]"
      ]
     },
     "metadata": {},
     "output_type": "display_data"
    },
    {
     "data": {
      "application/vnd.jupyter.widget-view+json": {
       "model_id": "9c073b63b0204bb98b19435378dc2ca2",
       "version_major": 2,
       "version_minor": 0
      },
      "text/plain": [
       "  0%|          | 0/1 [00:00<?, ?it/s]"
      ]
     },
     "metadata": {},
     "output_type": "display_data"
    },
    {
     "data": {
      "application/vnd.jupyter.widget-view+json": {
       "model_id": "807241e4fe7b4b75a047ed93d949670a",
       "version_major": 2,
       "version_minor": 0
      },
      "text/plain": [
       "  0%|          | 0/1 [00:00<?, ?it/s]"
      ]
     },
     "metadata": {},
     "output_type": "display_data"
    },
    {
     "data": {
      "application/vnd.jupyter.widget-view+json": {
       "model_id": "b11d0ce1ebf84f07a01fb1fbc1532162",
       "version_major": 2,
       "version_minor": 0
      },
      "text/plain": [
       "  0%|          | 0/1 [00:00<?, ?it/s]"
      ]
     },
     "metadata": {},
     "output_type": "display_data"
    },
    {
     "data": {
      "application/vnd.jupyter.widget-view+json": {
       "model_id": "3e94f98cbff34597a6879df413c7f996",
       "version_major": 2,
       "version_minor": 0
      },
      "text/plain": [
       "  0%|          | 0/1 [00:00<?, ?it/s]"
      ]
     },
     "metadata": {},
     "output_type": "display_data"
    },
    {
     "data": {
      "application/vnd.jupyter.widget-view+json": {
       "model_id": "1424bafba6cf40b49a5314915d5ebc46",
       "version_major": 2,
       "version_minor": 0
      },
      "text/plain": [
       "  0%|          | 0/1 [00:00<?, ?it/s]"
      ]
     },
     "metadata": {},
     "output_type": "display_data"
    },
    {
     "data": {
      "application/vnd.jupyter.widget-view+json": {
       "model_id": "036dbdafda87465492e3bd2bdb845b60",
       "version_major": 2,
       "version_minor": 0
      },
      "text/plain": [
       "  0%|          | 0/1 [00:00<?, ?it/s]"
      ]
     },
     "metadata": {},
     "output_type": "display_data"
    },
    {
     "data": {
      "application/vnd.jupyter.widget-view+json": {
       "model_id": "1ddf9bb3926447e6a2ac2d18da63f05c",
       "version_major": 2,
       "version_minor": 0
      },
      "text/plain": [
       "  0%|          | 0/1 [00:00<?, ?it/s]"
      ]
     },
     "metadata": {},
     "output_type": "display_data"
    },
    {
     "data": {
      "application/vnd.jupyter.widget-view+json": {
       "model_id": "5faeac598b5b47ec9ee14e6e2d98e028",
       "version_major": 2,
       "version_minor": 0
      },
      "text/plain": [
       "  0%|          | 0/1 [00:00<?, ?it/s]"
      ]
     },
     "metadata": {},
     "output_type": "display_data"
    },
    {
     "data": {
      "application/vnd.jupyter.widget-view+json": {
       "model_id": "d867912da739458fbef2ecbea63af899",
       "version_major": 2,
       "version_minor": 0
      },
      "text/plain": [
       "  0%|          | 0/1 [00:00<?, ?it/s]"
      ]
     },
     "metadata": {},
     "output_type": "display_data"
    },
    {
     "data": {
      "application/vnd.jupyter.widget-view+json": {
       "model_id": "05d0f36ac35a470f92be3c91364336ca",
       "version_major": 2,
       "version_minor": 0
      },
      "text/plain": [
       "  0%|          | 0/1 [00:00<?, ?it/s]"
      ]
     },
     "metadata": {},
     "output_type": "display_data"
    },
    {
     "data": {
      "application/vnd.jupyter.widget-view+json": {
       "model_id": "20d500719dae4136b2927d06c982e744",
       "version_major": 2,
       "version_minor": 0
      },
      "text/plain": [
       "  0%|          | 0/1 [00:00<?, ?it/s]"
      ]
     },
     "metadata": {},
     "output_type": "display_data"
    },
    {
     "data": {
      "application/vnd.jupyter.widget-view+json": {
       "model_id": "dbc558eb9bbf416188b2b6806cd2478b",
       "version_major": 2,
       "version_minor": 0
      },
      "text/plain": [
       "  0%|          | 0/1 [00:00<?, ?it/s]"
      ]
     },
     "metadata": {},
     "output_type": "display_data"
    },
    {
     "data": {
      "application/vnd.jupyter.widget-view+json": {
       "model_id": "ef4938f38d944d8fa3df1c55701dc842",
       "version_major": 2,
       "version_minor": 0
      },
      "text/plain": [
       "  0%|          | 0/1 [00:00<?, ?it/s]"
      ]
     },
     "metadata": {},
     "output_type": "display_data"
    },
    {
     "data": {
      "application/vnd.jupyter.widget-view+json": {
       "model_id": "1c133cc710a040ce9920f912b893f854",
       "version_major": 2,
       "version_minor": 0
      },
      "text/plain": [
       "  0%|          | 0/1 [00:00<?, ?it/s]"
      ]
     },
     "metadata": {},
     "output_type": "display_data"
    },
    {
     "data": {
      "application/vnd.jupyter.widget-view+json": {
       "model_id": "598b750e556445c299825dd7f0ec8562",
       "version_major": 2,
       "version_minor": 0
      },
      "text/plain": [
       "  0%|          | 0/1 [00:00<?, ?it/s]"
      ]
     },
     "metadata": {},
     "output_type": "display_data"
    },
    {
     "data": {
      "application/vnd.jupyter.widget-view+json": {
       "model_id": "1e433866290f41b89aa3a8f36ff5eab8",
       "version_major": 2,
       "version_minor": 0
      },
      "text/plain": [
       "  0%|          | 0/1 [00:00<?, ?it/s]"
      ]
     },
     "metadata": {},
     "output_type": "display_data"
    },
    {
     "data": {
      "application/vnd.jupyter.widget-view+json": {
       "model_id": "6b9594482c1d40029ed4d20f31e408f1",
       "version_major": 2,
       "version_minor": 0
      },
      "text/plain": [
       "  0%|          | 0/1 [00:00<?, ?it/s]"
      ]
     },
     "metadata": {},
     "output_type": "display_data"
    },
    {
     "data": {
      "application/vnd.jupyter.widget-view+json": {
       "model_id": "35717291f32b43d0ba7f0783e453feac",
       "version_major": 2,
       "version_minor": 0
      },
      "text/plain": [
       "  0%|          | 0/1 [00:00<?, ?it/s]"
      ]
     },
     "metadata": {},
     "output_type": "display_data"
    },
    {
     "data": {
      "application/vnd.jupyter.widget-view+json": {
       "model_id": "e9d96506cddc4b699e995b1164abffc8",
       "version_major": 2,
       "version_minor": 0
      },
      "text/plain": [
       "  0%|          | 0/1 [00:00<?, ?it/s]"
      ]
     },
     "metadata": {},
     "output_type": "display_data"
    },
    {
     "data": {
      "application/vnd.jupyter.widget-view+json": {
       "model_id": "53a97a76010f49deb07049d084ef2b0e",
       "version_major": 2,
       "version_minor": 0
      },
      "text/plain": [
       "  0%|          | 0/1 [00:00<?, ?it/s]"
      ]
     },
     "metadata": {},
     "output_type": "display_data"
    },
    {
     "data": {
      "application/vnd.jupyter.widget-view+json": {
       "model_id": "c125c4d44ced44a89e3f4bdf8508d51a",
       "version_major": 2,
       "version_minor": 0
      },
      "text/plain": [
       "  0%|          | 0/1 [00:00<?, ?it/s]"
      ]
     },
     "metadata": {},
     "output_type": "display_data"
    },
    {
     "data": {
      "application/vnd.jupyter.widget-view+json": {
       "model_id": "ea99c7c48ba14d2e9e2ae6bef6376bc0",
       "version_major": 2,
       "version_minor": 0
      },
      "text/plain": [
       "  0%|          | 0/1 [00:00<?, ?it/s]"
      ]
     },
     "metadata": {},
     "output_type": "display_data"
    },
    {
     "data": {
      "application/vnd.jupyter.widget-view+json": {
       "model_id": "f4becf89a3864dd7abb29d5fc76e477e",
       "version_major": 2,
       "version_minor": 0
      },
      "text/plain": [
       "  0%|          | 0/1 [00:00<?, ?it/s]"
      ]
     },
     "metadata": {},
     "output_type": "display_data"
    },
    {
     "data": {
      "application/vnd.jupyter.widget-view+json": {
       "model_id": "4b09022c52ad40f095334e8f80676692",
       "version_major": 2,
       "version_minor": 0
      },
      "text/plain": [
       "  0%|          | 0/1 [00:00<?, ?it/s]"
      ]
     },
     "metadata": {},
     "output_type": "display_data"
    }
   ],
   "source": [
    "# Initialize the tracker\n",
    "tracker = MultiPromptActivityTracker(available_layers_to_optimize)\n",
    "\n",
    "# Create the generator with the fixed seed\n",
    "generator = torch.Generator(\"cuda\").manual_seed(SEED)\n",
    "\n",
    "# Create a flat list of all prompts\n",
    "prompts = [prompt for prompts_list in prompt_categories.values() for prompt in prompts_list]\n",
    "\n",
    "# Assign a category label to each prompt for visualization\n",
    "prompt_labels = {prompt: category for category, prompts_list in prompt_categories.items() for prompt in prompts_list}\n",
    "\n",
    "# Collect feature vectors for all prompts\n",
    "feature_vectors = {}\n",
    "with tqdm(total=len(prompts), desc=\"Processing prompts\", unit=\"prompt\") as pbar:\n",
    "    for prompt in prompts:\n",
    "        outputs = tracker.run_prompt(pipe, prompt, generator=generator, height=512, width=512)\n",
    "\n",
    "        # Compute feature vector for the prompt\n",
    "        features = []\n",
    "        for layer_name in available_layers_to_optimize:\n",
    "            output = outputs.get(layer_name)\n",
    "            if output is not None:\n",
    "                activity = output.mean().item()\n",
    "                features.append(activity)\n",
    "            else:\n",
    "                features.append(0.0)\n",
    "        feature_vectors[prompt] = features\n",
    "\n",
    "        # Clear variables and GPU memory\n",
    "        del outputs\n",
    "        torch.cuda.empty_cache()\n",
    "        gc.collect()\n",
    "\n",
    "        # Update progress bar\n",
    "        pbar.update(1)\n",
    "        pbar.set_postfix({\"Current prompt\": prompt[:30] + \"...\" if len(prompt) > 30 else prompt})\n"
   ]
  },
  {
   "cell_type": "code",
   "execution_count": 15,
   "metadata": {},
   "outputs": [
    {
     "data": {
      "application/vnd.jupyter.widget-view+json": {
       "model_id": "308b558c0544443782125c81083ea1c0",
       "version_major": 2,
       "version_minor": 0
      },
      "text/plain": [
       "Loading pipeline components...:   0%|          | 0/7 [00:00<?, ?it/s]"
      ]
     },
     "metadata": {},
     "output_type": "display_data"
    },
    {
     "data": {
      "application/vnd.jupyter.widget-view+json": {
       "model_id": "fc0a597b6d754e1e888cfb806c1777c1",
       "version_major": 2,
       "version_minor": 0
      },
      "text/plain": [
       "Loading checkpoint shards:   0%|          | 0/2 [00:00<?, ?it/s]"
      ]
     },
     "metadata": {},
     "output_type": "display_data"
    },
    {
     "name": "stderr",
     "output_type": "stream",
     "text": [
      "/home/zsakib/miniconda3/envs/flux-pulid/lib/python3.10/site-packages/umap/umap_.py:1945: UserWarning:\n",
      "\n",
      "n_jobs value 1 overridden to 1 by setting random_state. Use no seed for parallelism.\n",
      "\n"
     ]
    },
    {
     "data": {
      "application/vnd.plotly.v1+json": {
       "config": {
        "plotlyServerURL": "https://plot.ly"
       },
       "data": [
        {
         "customdata": [
          [
           "smiling portrait"
          ],
          [
           "frowning expression"
          ],
          [
           "surprised look"
          ],
          [
           "angry glare"
          ],
          [
           "neutral expression"
          ],
          [
           "bearded individual"
          ],
          [
           "freckled complexion"
          ],
          [
           "face"
          ],
          [
           "laughing face"
          ],
          [
           "crying expression"
          ],
          [
           "confused look"
          ],
          [
           "excited smile"
          ],
          [
           "thoughtful gaze"
          ],
          [
           "wrinkled face"
          ],
          [
           "dimpled cheeks"
          ],
          [
           "strong jawline"
          ],
          [
           "high cheekbones"
          ],
          [
           "bushy eyebrows"
          ]
         ],
         "hovertemplate": "category=facial_features<br>Dim1=%{x}<br>Dim2=%{y}<br>Dim3=%{z}<br>prompt=%{customdata[0]}<extra></extra>",
         "legendgroup": "facial_features",
         "marker": {
          "color": "#636efa",
          "symbol": "circle"
         },
         "mode": "markers",
         "name": "facial_features",
         "scene": "scene",
         "showlegend": true,
         "type": "scatter3d",
         "x": [
          5.0338826,
          4.148808,
          3.818991,
          4.1315184,
          4.2234364,
          3.8919997,
          4.0255494,
          4.7072353,
          4.064249,
          3.8519862,
          3.7325454,
          3.7699568,
          5.955397,
          4.226211,
          4.023025,
          4.4047227,
          4.1473255,
          3.8728132
         ],
         "y": [
          5.8389673,
          5.8535876,
          5.559396,
          6.002049,
          5.689392,
          6.082133,
          6.186913,
          5.9646697,
          5.6764655,
          5.5418625,
          5.683574,
          5.6748157,
          5.2538176,
          6.1100516,
          6.091754,
          6.099196,
          6.2588296,
          6.1871104
         ],
         "z": [
          10.283217,
          10.571414,
          10.088773,
          10.280125,
          9.87107,
          9.55567,
          9.465247,
          10.205272,
          10.235493,
          10.694935,
          10.373086,
          10.654267,
          10.508526,
          9.78359,
          9.470641,
          10.401409,
          9.52014,
          9.481846
         ]
        },
        {
         "customdata": [
          [
           "landscape"
          ],
          [
           "seascape"
          ],
          [
           "mountain range"
          ],
          [
           "forest"
          ],
          [
           "sunset"
          ],
          [
           "sunrise"
          ],
          [
           "beach"
          ],
          [
           "desert"
          ],
          [
           "waterfall"
          ],
          [
           "canyon"
          ],
          [
           "meadow"
          ],
          [
           "tropical island"
          ],
          [
           "arctic tundra"
          ],
          [
           "savanna"
          ],
          [
           "volcano"
          ],
          [
           "coral reef"
          ],
          [
           "rainforest"
          ],
          [
           "autumn leaves"
          ],
          [
           "spring blossoms"
          ],
          [
           "misty morning"
          ]
         ],
         "hovertemplate": "category=nature<br>Dim1=%{x}<br>Dim2=%{y}<br>Dim3=%{z}<br>prompt=%{customdata[0]}<extra></extra>",
         "legendgroup": "nature",
         "marker": {
          "color": "#EF553B",
          "symbol": "circle"
         },
         "mode": "markers",
         "name": "nature",
         "scene": "scene",
         "showlegend": true,
         "type": "scatter3d",
         "x": [
          7.42168,
          7.82534,
          7.802678,
          7.347085,
          7.5722284,
          7.7708097,
          7.0370398,
          7.4188046,
          7.736879,
          7.8003783,
          7.3962135,
          7.772389,
          8.004469,
          7.308844,
          5.92716,
          7.6402493,
          7.6571035,
          6.8391423,
          7.0225873,
          7.8118196
         ],
         "y": [
          2.394621,
          2.8474326,
          2.4536445,
          2.1167595,
          2.1981523,
          2.058226,
          3.2451081,
          2.3286421,
          2.0116794,
          1.9373,
          2.5189905,
          2.8568194,
          2.748409,
          2.0822794,
          4.0572815,
          2.9789598,
          2.220237,
          1.779487,
          2.1892035,
          2.094432
         ],
         "z": [
          9.915855,
          10.102517,
          9.654717,
          9.196914,
          10.256816,
          10.29908,
          10.39803,
          10.219823,
          9.22456,
          9.304596,
          9.485632,
          9.607712,
          9.921748,
          9.78072,
          7.997928,
          9.440398,
          9.05108,
          9.636892,
          9.555122,
          9.7803545
         ]
        },
        {
         "customdata": [
          [
           "dog"
          ],
          [
           "cat"
          ],
          [
           "bird"
          ],
          [
           "fish"
          ],
          [
           "elephant"
          ],
          [
           "lion"
          ],
          [
           "giraffe"
          ],
          [
           "penguin"
          ],
          [
           "dolphin"
          ],
          [
           "butterfly"
          ],
          [
           "owl"
          ],
          [
           "tiger"
          ],
          [
           "panda"
          ],
          [
           "koala"
          ],
          [
           "kangaroo"
          ],
          [
           "zebra"
          ],
          [
           "rhinoceros"
          ],
          [
           "cheetah"
          ],
          [
           "polar bear"
          ]
         ],
         "hovertemplate": "category=animals<br>Dim1=%{x}<br>Dim2=%{y}<br>Dim3=%{z}<br>prompt=%{customdata[0]}<extra></extra>",
         "legendgroup": "animals",
         "marker": {
          "color": "#00cc96",
          "symbol": "circle"
         },
         "mode": "markers",
         "name": "animals",
         "scene": "scene",
         "showlegend": true,
         "type": "scatter3d",
         "x": [
          6.3681474,
          6.406823,
          4.591993,
          4.8261943,
          4.689801,
          4.904435,
          5.104524,
          5.300199,
          5.0825534,
          4.3241115,
          4.521514,
          6.290324,
          4.8601174,
          4.9891267,
          5.1743984,
          5.2306566,
          4.7889295,
          4.7850995,
          4.969709
         ],
         "y": [
          4.9184422,
          5.034715,
          4.621321,
          4.6995354,
          4.583416,
          5.9125314,
          4.4713707,
          4.5432796,
          4.7530084,
          3.7870216,
          3.9631379,
          1.4531221,
          4.6037855,
          4.9380193,
          4.761743,
          4.5432935,
          4.8661947,
          4.4421463,
          5.00357
         ],
         "z": [
          10.566378,
          10.482555,
          7.4554214,
          7.702672,
          7.039973,
          10.221178,
          7.1651273,
          7.4211493,
          7.523987,
          6.718427,
          6.84569,
          9.692899,
          6.653287,
          6.644966,
          6.595208,
          7.427358,
          6.9084444,
          6.907331,
          6.947304
         ]
        },
        {
         "customdata": [
          [
           "apple"
          ],
          [
           "banana"
          ],
          [
           "pizza"
          ],
          [
           "sushi"
          ],
          [
           "pasta"
          ],
          [
           "steak"
          ],
          [
           "salad"
          ],
          [
           "ice cream"
          ],
          [
           "chocolate"
          ],
          [
           "burger"
          ],
          [
           "taco"
          ],
          [
           "soup"
          ],
          [
           "cake"
          ],
          [
           "fruit platter"
          ],
          [
           "sandwich"
          ],
          [
           "roast chicken"
          ],
          [
           "seafood platter"
          ]
         ],
         "hovertemplate": "category=food<br>Dim1=%{x}<br>Dim2=%{y}<br>Dim3=%{z}<br>prompt=%{customdata[0]}<extra></extra>",
         "legendgroup": "food",
         "marker": {
          "color": "#ab63fa",
          "symbol": "circle"
         },
         "mode": "markers",
         "name": "food",
         "scene": "scene",
         "showlegend": true,
         "type": "scatter3d",
         "x": [
          4.4065113,
          4.5728307,
          4.6416993,
          4.8304377,
          4.927818,
          5.0153775,
          4.7516375,
          4.619677,
          4.639875,
          5.02557,
          5.1646705,
          5.8014073,
          4.4661026,
          5.06027,
          4.7286077,
          5.9950795,
          4.9490128
         ],
         "y": [
          0.9574017,
          0.70777136,
          1.7119458,
          1.4952787,
          0.6771482,
          1.2571282,
          0.5682005,
          1.1499846,
          1.5826273,
          1.0105323,
          0.9032801,
          1.1383704,
          1.3161141,
          1.3907694,
          0.6212661,
          1.32044,
          1.5160226
         ],
         "z": [
          8.576332,
          8.909578,
          10.035367,
          10.058656,
          9.299262,
          9.89548,
          9.064418,
          9.39894,
          9.991204,
          9.656988,
          9.528477,
          9.694888,
          9.593961,
          10.126361,
          9.126368,
          9.747127,
          10.152298
         ]
        },
        {
         "customdata": [
          [
           "guitar"
          ],
          [
           "piano"
          ],
          [
           "violin"
          ],
          [
           "drums"
          ],
          [
           "saxophone"
          ],
          [
           "trumpet"
          ],
          [
           "flute"
          ],
          [
           "cello"
          ],
          [
           "harp"
          ],
          [
           "clarinet"
          ],
          [
           "accordion"
          ],
          [
           "electric guitar"
          ],
          [
           "synthesizer"
          ],
          [
           "DJ turntables"
          ],
          [
           "orchestra"
          ],
          [
           "rock band"
          ],
          [
           "jazz ensemble"
          ]
         ],
         "hovertemplate": "category=music<br>Dim1=%{x}<br>Dim2=%{y}<br>Dim3=%{z}<br>prompt=%{customdata[0]}<extra></extra>",
         "legendgroup": "music",
         "marker": {
          "color": "#FFA15A",
          "symbol": "circle"
         },
         "mode": "markers",
         "name": "music",
         "scene": "scene",
         "showlegend": true,
         "type": "scatter3d",
         "x": [
          3.1525388,
          2.8589206,
          3.2425065,
          4.7178397,
          3.1361423,
          3.2332997,
          3.3159611,
          3.0455735,
          3.4776618,
          3.4142797,
          3.353119,
          3.1404877,
          3.0161777,
          3.065766,
          2.735092,
          2.5383213,
          2.6028514
         ],
         "y": [
          1.6338123,
          1.4690049,
          2.291819,
          2.8390524,
          2.1951988,
          1.5269284,
          1.5695103,
          1.5380491,
          2.6015978,
          1.435,
          2.4857926,
          2.0923262,
          1.8221384,
          1.9521055,
          1.4617918,
          1.3896569,
          1.4735789
         ],
         "z": [
          5.8579497,
          5.518724,
          5.9661365,
          10.296458,
          5.8632092,
          6.2512407,
          6.4390683,
          5.8147917,
          6.1466475,
          6.406362,
          6.037073,
          5.798606,
          5.4032,
          5.367667,
          5.4356904,
          5.237523,
          5.3085656
         ]
        },
        {
         "customdata": [
          [
           "skyscraper"
          ],
          [
           "castle"
          ],
          [
           "bridge"
          ],
          [
           "ancient ruins"
          ],
          [
           "modern house"
          ],
          [
           "cathedral"
          ],
          [
           "pagoda"
          ],
          [
           "lighthouse"
          ],
          [
           "pyramid"
          ],
          [
           "log cabin"
          ],
          [
           "treehouse"
          ],
          [
           "futuristic city"
          ]
         ],
         "hovertemplate": "category=architecture<br>Dim1=%{x}<br>Dim2=%{y}<br>Dim3=%{z}<br>prompt=%{customdata[0]}<extra></extra>",
         "legendgroup": "architecture",
         "marker": {
          "color": "#19d3f3",
          "symbol": "circle"
         },
         "mode": "markers",
         "name": "architecture",
         "scene": "scene",
         "showlegend": true,
         "type": "scatter3d",
         "x": [
          6.5724173,
          6.814833,
          7.22513,
          6.474573,
          7.2965245,
          6.754191,
          7.0273476,
          8.0355215,
          5.996784,
          7.248766,
          7.4006805,
          6.39752
         ],
         "y": [
          3.2754896,
          3.1769125,
          3.757013,
          3.4484518,
          2.747099,
          3.051737,
          2.7003164,
          2.670293,
          3.9762108,
          2.2819362,
          2.586087,
          3.5063925
         ],
         "z": [
          8.311199,
          8.958805,
          10.3523855,
          8.920311,
          8.756272,
          8.433015,
          8.536494,
          9.8526745,
          8.187745,
          8.872444,
          8.906482,
          8.380926
         ]
        },
        {
         "customdata": [
          [
           "car"
          ],
          [
           "airplane"
          ],
          [
           "bicycle"
          ],
          [
           "motorcycle"
          ],
          [
           "boat"
          ],
          [
           "train"
          ],
          [
           "helicopter"
          ],
          [
           "rocket"
          ],
          [
           "submarine"
          ],
          [
           "hot air balloon"
          ],
          [
           "sailboat"
          ],
          [
           "vintage car"
          ]
         ],
         "hovertemplate": "category=vehicles<br>Dim1=%{x}<br>Dim2=%{y}<br>Dim3=%{z}<br>prompt=%{customdata[0]}<extra></extra>",
         "legendgroup": "vehicles",
         "marker": {
          "color": "#FF6692",
          "symbol": "circle"
         },
         "mode": "markers",
         "name": "vehicles",
         "scene": "scene",
         "showlegend": true,
         "type": "scatter3d",
         "x": [
          6.6457243,
          7.7106338,
          6.5028224,
          6.3971715,
          7.0416436,
          6.3759766,
          7.7131596,
          5.743017,
          7.7886786,
          7.939067,
          7.7305346,
          6.620888
         ],
         "y": [
          4.504412,
          3.6178155,
          4.648475,
          4.5549316,
          4.03468,
          4.0690217,
          3.675432,
          4.223855,
          3.316228,
          1.9981593,
          3.4361317,
          4.5494666
         ],
         "z": [
          10.641726,
          9.7626,
          10.6242895,
          10.57563,
          10.467445,
          10.616783,
          9.657384,
          7.7913547,
          9.566939,
          10.13079,
          9.715638,
          10.6952505
         ]
        },
        {
         "customdata": [
          [
           "love"
          ],
          [
           "time"
          ],
          [
           "freedom"
          ],
          [
           "peace"
          ],
          [
           "chaos"
          ],
          [
           "infinity"
          ],
          [
           "balance"
          ],
          [
           "evolution"
          ],
          [
           "imagination"
          ],
          [
           "dreams"
          ],
          [
           "consciousness"
          ],
          [
           "harmony"
          ]
         ],
         "hovertemplate": "category=abstract_concepts<br>Dim1=%{x}<br>Dim2=%{y}<br>Dim3=%{z}<br>prompt=%{customdata[0]}<extra></extra>",
         "legendgroup": "abstract_concepts",
         "marker": {
          "color": "#B6E880",
          "symbol": "circle"
         },
         "mode": "markers",
         "name": "abstract_concepts",
         "scene": "scene",
         "showlegend": true,
         "type": "scatter3d",
         "x": [
          4.339708,
          4.8740945,
          6.080481,
          5.0205107,
          4.8456883,
          5.1569853,
          4.2124786,
          4.2880125,
          3.893488,
          5.255614,
          4.858839,
          4.696724
         ],
         "y": [
          4.834112,
          3.8673954,
          3.89295,
          3.9259512,
          4.572724,
          3.7799191,
          1.2314823,
          1.162982,
          5.4174747,
          3.7114177,
          4.2675323,
          4.4823823
         ],
         "z": [
          10.545727,
          10.543888,
          10.632954,
          10.603305,
          10.332075,
          10.639932,
          7.940466,
          8.121253,
          10.589819,
          10.610165,
          10.509829,
          10.546871
         ]
        }
       ],
       "layout": {
        "legend": {
         "title": {
          "text": "category"
         },
         "tracegroupgap": 0
        },
        "scene": {
         "domain": {
          "x": [
           0,
           1
          ],
          "y": [
           0,
           1
          ]
         },
         "xaxis": {
          "title": {
           "text": "Dim1"
          }
         },
         "yaxis": {
          "title": {
           "text": "Dim2"
          }
         },
         "zaxis": {
          "title": {
           "text": "Dim3"
          }
         }
        },
        "template": {
         "data": {
          "bar": [
           {
            "error_x": {
             "color": "#2a3f5f"
            },
            "error_y": {
             "color": "#2a3f5f"
            },
            "marker": {
             "line": {
              "color": "#E5ECF6",
              "width": 0.5
             },
             "pattern": {
              "fillmode": "overlay",
              "size": 10,
              "solidity": 0.2
             }
            },
            "type": "bar"
           }
          ],
          "barpolar": [
           {
            "marker": {
             "line": {
              "color": "#E5ECF6",
              "width": 0.5
             },
             "pattern": {
              "fillmode": "overlay",
              "size": 10,
              "solidity": 0.2
             }
            },
            "type": "barpolar"
           }
          ],
          "carpet": [
           {
            "aaxis": {
             "endlinecolor": "#2a3f5f",
             "gridcolor": "white",
             "linecolor": "white",
             "minorgridcolor": "white",
             "startlinecolor": "#2a3f5f"
            },
            "baxis": {
             "endlinecolor": "#2a3f5f",
             "gridcolor": "white",
             "linecolor": "white",
             "minorgridcolor": "white",
             "startlinecolor": "#2a3f5f"
            },
            "type": "carpet"
           }
          ],
          "choropleth": [
           {
            "colorbar": {
             "outlinewidth": 0,
             "ticks": ""
            },
            "type": "choropleth"
           }
          ],
          "contour": [
           {
            "colorbar": {
             "outlinewidth": 0,
             "ticks": ""
            },
            "colorscale": [
             [
              0,
              "#0d0887"
             ],
             [
              0.1111111111111111,
              "#46039f"
             ],
             [
              0.2222222222222222,
              "#7201a8"
             ],
             [
              0.3333333333333333,
              "#9c179e"
             ],
             [
              0.4444444444444444,
              "#bd3786"
             ],
             [
              0.5555555555555556,
              "#d8576b"
             ],
             [
              0.6666666666666666,
              "#ed7953"
             ],
             [
              0.7777777777777778,
              "#fb9f3a"
             ],
             [
              0.8888888888888888,
              "#fdca26"
             ],
             [
              1,
              "#f0f921"
             ]
            ],
            "type": "contour"
           }
          ],
          "contourcarpet": [
           {
            "colorbar": {
             "outlinewidth": 0,
             "ticks": ""
            },
            "type": "contourcarpet"
           }
          ],
          "heatmap": [
           {
            "colorbar": {
             "outlinewidth": 0,
             "ticks": ""
            },
            "colorscale": [
             [
              0,
              "#0d0887"
             ],
             [
              0.1111111111111111,
              "#46039f"
             ],
             [
              0.2222222222222222,
              "#7201a8"
             ],
             [
              0.3333333333333333,
              "#9c179e"
             ],
             [
              0.4444444444444444,
              "#bd3786"
             ],
             [
              0.5555555555555556,
              "#d8576b"
             ],
             [
              0.6666666666666666,
              "#ed7953"
             ],
             [
              0.7777777777777778,
              "#fb9f3a"
             ],
             [
              0.8888888888888888,
              "#fdca26"
             ],
             [
              1,
              "#f0f921"
             ]
            ],
            "type": "heatmap"
           }
          ],
          "heatmapgl": [
           {
            "colorbar": {
             "outlinewidth": 0,
             "ticks": ""
            },
            "colorscale": [
             [
              0,
              "#0d0887"
             ],
             [
              0.1111111111111111,
              "#46039f"
             ],
             [
              0.2222222222222222,
              "#7201a8"
             ],
             [
              0.3333333333333333,
              "#9c179e"
             ],
             [
              0.4444444444444444,
              "#bd3786"
             ],
             [
              0.5555555555555556,
              "#d8576b"
             ],
             [
              0.6666666666666666,
              "#ed7953"
             ],
             [
              0.7777777777777778,
              "#fb9f3a"
             ],
             [
              0.8888888888888888,
              "#fdca26"
             ],
             [
              1,
              "#f0f921"
             ]
            ],
            "type": "heatmapgl"
           }
          ],
          "histogram": [
           {
            "marker": {
             "pattern": {
              "fillmode": "overlay",
              "size": 10,
              "solidity": 0.2
             }
            },
            "type": "histogram"
           }
          ],
          "histogram2d": [
           {
            "colorbar": {
             "outlinewidth": 0,
             "ticks": ""
            },
            "colorscale": [
             [
              0,
              "#0d0887"
             ],
             [
              0.1111111111111111,
              "#46039f"
             ],
             [
              0.2222222222222222,
              "#7201a8"
             ],
             [
              0.3333333333333333,
              "#9c179e"
             ],
             [
              0.4444444444444444,
              "#bd3786"
             ],
             [
              0.5555555555555556,
              "#d8576b"
             ],
             [
              0.6666666666666666,
              "#ed7953"
             ],
             [
              0.7777777777777778,
              "#fb9f3a"
             ],
             [
              0.8888888888888888,
              "#fdca26"
             ],
             [
              1,
              "#f0f921"
             ]
            ],
            "type": "histogram2d"
           }
          ],
          "histogram2dcontour": [
           {
            "colorbar": {
             "outlinewidth": 0,
             "ticks": ""
            },
            "colorscale": [
             [
              0,
              "#0d0887"
             ],
             [
              0.1111111111111111,
              "#46039f"
             ],
             [
              0.2222222222222222,
              "#7201a8"
             ],
             [
              0.3333333333333333,
              "#9c179e"
             ],
             [
              0.4444444444444444,
              "#bd3786"
             ],
             [
              0.5555555555555556,
              "#d8576b"
             ],
             [
              0.6666666666666666,
              "#ed7953"
             ],
             [
              0.7777777777777778,
              "#fb9f3a"
             ],
             [
              0.8888888888888888,
              "#fdca26"
             ],
             [
              1,
              "#f0f921"
             ]
            ],
            "type": "histogram2dcontour"
           }
          ],
          "mesh3d": [
           {
            "colorbar": {
             "outlinewidth": 0,
             "ticks": ""
            },
            "type": "mesh3d"
           }
          ],
          "parcoords": [
           {
            "line": {
             "colorbar": {
              "outlinewidth": 0,
              "ticks": ""
             }
            },
            "type": "parcoords"
           }
          ],
          "pie": [
           {
            "automargin": true,
            "type": "pie"
           }
          ],
          "scatter": [
           {
            "fillpattern": {
             "fillmode": "overlay",
             "size": 10,
             "solidity": 0.2
            },
            "type": "scatter"
           }
          ],
          "scatter3d": [
           {
            "line": {
             "colorbar": {
              "outlinewidth": 0,
              "ticks": ""
             }
            },
            "marker": {
             "colorbar": {
              "outlinewidth": 0,
              "ticks": ""
             }
            },
            "type": "scatter3d"
           }
          ],
          "scattercarpet": [
           {
            "marker": {
             "colorbar": {
              "outlinewidth": 0,
              "ticks": ""
             }
            },
            "type": "scattercarpet"
           }
          ],
          "scattergeo": [
           {
            "marker": {
             "colorbar": {
              "outlinewidth": 0,
              "ticks": ""
             }
            },
            "type": "scattergeo"
           }
          ],
          "scattergl": [
           {
            "marker": {
             "colorbar": {
              "outlinewidth": 0,
              "ticks": ""
             }
            },
            "type": "scattergl"
           }
          ],
          "scattermapbox": [
           {
            "marker": {
             "colorbar": {
              "outlinewidth": 0,
              "ticks": ""
             }
            },
            "type": "scattermapbox"
           }
          ],
          "scatterpolar": [
           {
            "marker": {
             "colorbar": {
              "outlinewidth": 0,
              "ticks": ""
             }
            },
            "type": "scatterpolar"
           }
          ],
          "scatterpolargl": [
           {
            "marker": {
             "colorbar": {
              "outlinewidth": 0,
              "ticks": ""
             }
            },
            "type": "scatterpolargl"
           }
          ],
          "scatterternary": [
           {
            "marker": {
             "colorbar": {
              "outlinewidth": 0,
              "ticks": ""
             }
            },
            "type": "scatterternary"
           }
          ],
          "surface": [
           {
            "colorbar": {
             "outlinewidth": 0,
             "ticks": ""
            },
            "colorscale": [
             [
              0,
              "#0d0887"
             ],
             [
              0.1111111111111111,
              "#46039f"
             ],
             [
              0.2222222222222222,
              "#7201a8"
             ],
             [
              0.3333333333333333,
              "#9c179e"
             ],
             [
              0.4444444444444444,
              "#bd3786"
             ],
             [
              0.5555555555555556,
              "#d8576b"
             ],
             [
              0.6666666666666666,
              "#ed7953"
             ],
             [
              0.7777777777777778,
              "#fb9f3a"
             ],
             [
              0.8888888888888888,
              "#fdca26"
             ],
             [
              1,
              "#f0f921"
             ]
            ],
            "type": "surface"
           }
          ],
          "table": [
           {
            "cells": {
             "fill": {
              "color": "#EBF0F8"
             },
             "line": {
              "color": "white"
             }
            },
            "header": {
             "fill": {
              "color": "#C8D4E3"
             },
             "line": {
              "color": "white"
             }
            },
            "type": "table"
           }
          ]
         },
         "layout": {
          "annotationdefaults": {
           "arrowcolor": "#2a3f5f",
           "arrowhead": 0,
           "arrowwidth": 1
          },
          "autotypenumbers": "strict",
          "coloraxis": {
           "colorbar": {
            "outlinewidth": 0,
            "ticks": ""
           }
          },
          "colorscale": {
           "diverging": [
            [
             0,
             "#8e0152"
            ],
            [
             0.1,
             "#c51b7d"
            ],
            [
             0.2,
             "#de77ae"
            ],
            [
             0.3,
             "#f1b6da"
            ],
            [
             0.4,
             "#fde0ef"
            ],
            [
             0.5,
             "#f7f7f7"
            ],
            [
             0.6,
             "#e6f5d0"
            ],
            [
             0.7,
             "#b8e186"
            ],
            [
             0.8,
             "#7fbc41"
            ],
            [
             0.9,
             "#4d9221"
            ],
            [
             1,
             "#276419"
            ]
           ],
           "sequential": [
            [
             0,
             "#0d0887"
            ],
            [
             0.1111111111111111,
             "#46039f"
            ],
            [
             0.2222222222222222,
             "#7201a8"
            ],
            [
             0.3333333333333333,
             "#9c179e"
            ],
            [
             0.4444444444444444,
             "#bd3786"
            ],
            [
             0.5555555555555556,
             "#d8576b"
            ],
            [
             0.6666666666666666,
             "#ed7953"
            ],
            [
             0.7777777777777778,
             "#fb9f3a"
            ],
            [
             0.8888888888888888,
             "#fdca26"
            ],
            [
             1,
             "#f0f921"
            ]
           ],
           "sequentialminus": [
            [
             0,
             "#0d0887"
            ],
            [
             0.1111111111111111,
             "#46039f"
            ],
            [
             0.2222222222222222,
             "#7201a8"
            ],
            [
             0.3333333333333333,
             "#9c179e"
            ],
            [
             0.4444444444444444,
             "#bd3786"
            ],
            [
             0.5555555555555556,
             "#d8576b"
            ],
            [
             0.6666666666666666,
             "#ed7953"
            ],
            [
             0.7777777777777778,
             "#fb9f3a"
            ],
            [
             0.8888888888888888,
             "#fdca26"
            ],
            [
             1,
             "#f0f921"
            ]
           ]
          },
          "colorway": [
           "#636efa",
           "#EF553B",
           "#00cc96",
           "#ab63fa",
           "#FFA15A",
           "#19d3f3",
           "#FF6692",
           "#B6E880",
           "#FF97FF",
           "#FECB52"
          ],
          "font": {
           "color": "#2a3f5f"
          },
          "geo": {
           "bgcolor": "white",
           "lakecolor": "white",
           "landcolor": "#E5ECF6",
           "showlakes": true,
           "showland": true,
           "subunitcolor": "white"
          },
          "hoverlabel": {
           "align": "left"
          },
          "hovermode": "closest",
          "mapbox": {
           "style": "light"
          },
          "paper_bgcolor": "white",
          "plot_bgcolor": "#E5ECF6",
          "polar": {
           "angularaxis": {
            "gridcolor": "white",
            "linecolor": "white",
            "ticks": ""
           },
           "bgcolor": "#E5ECF6",
           "radialaxis": {
            "gridcolor": "white",
            "linecolor": "white",
            "ticks": ""
           }
          },
          "scene": {
           "xaxis": {
            "backgroundcolor": "#E5ECF6",
            "gridcolor": "white",
            "gridwidth": 2,
            "linecolor": "white",
            "showbackground": true,
            "ticks": "",
            "zerolinecolor": "white"
           },
           "yaxis": {
            "backgroundcolor": "#E5ECF6",
            "gridcolor": "white",
            "gridwidth": 2,
            "linecolor": "white",
            "showbackground": true,
            "ticks": "",
            "zerolinecolor": "white"
           },
           "zaxis": {
            "backgroundcolor": "#E5ECF6",
            "gridcolor": "white",
            "gridwidth": 2,
            "linecolor": "white",
            "showbackground": true,
            "ticks": "",
            "zerolinecolor": "white"
           }
          },
          "shapedefaults": {
           "line": {
            "color": "#2a3f5f"
           }
          },
          "ternary": {
           "aaxis": {
            "gridcolor": "white",
            "linecolor": "white",
            "ticks": ""
           },
           "baxis": {
            "gridcolor": "white",
            "linecolor": "white",
            "ticks": ""
           },
           "bgcolor": "#E5ECF6",
           "caxis": {
            "gridcolor": "white",
            "linecolor": "white",
            "ticks": ""
           }
          },
          "title": {
           "x": 0.05
          },
          "xaxis": {
           "automargin": true,
           "gridcolor": "white",
           "linecolor": "white",
           "ticks": "",
           "title": {
            "standoff": 15
           },
           "zerolinecolor": "white",
           "zerolinewidth": 2
          },
          "yaxis": {
           "automargin": true,
           "gridcolor": "white",
           "linecolor": "white",
           "ticks": "",
           "title": {
            "standoff": 15
           },
           "zerolinecolor": "white",
           "zerolinewidth": 2
          }
         }
        },
        "title": {
         "text": "Best Layers for Finetuning: 3D UMAP Embedding of Prompt Mean Layer Activities"
        }
       }
      },
      "text/html": [
       "<div>                            <div id=\"be328099-7783-4dbc-a811-f9b412c1a1a6\" class=\"plotly-graph-div\" style=\"height:525px; width:100%;\"></div>            <script type=\"text/javascript\">                require([\"plotly\"], function(Plotly) {                    window.PLOTLYENV=window.PLOTLYENV || {};                                    if (document.getElementById(\"be328099-7783-4dbc-a811-f9b412c1a1a6\")) {                    Plotly.newPlot(                        \"be328099-7783-4dbc-a811-f9b412c1a1a6\",                        [{\"customdata\":[[\"smiling portrait\"],[\"frowning expression\"],[\"surprised look\"],[\"angry glare\"],[\"neutral expression\"],[\"bearded individual\"],[\"freckled complexion\"],[\"face\"],[\"laughing face\"],[\"crying expression\"],[\"confused look\"],[\"excited smile\"],[\"thoughtful gaze\"],[\"wrinkled face\"],[\"dimpled cheeks\"],[\"strong jawline\"],[\"high cheekbones\"],[\"bushy eyebrows\"]],\"hovertemplate\":\"category=facial_features\\u003cbr\\u003eDim1=%{x}\\u003cbr\\u003eDim2=%{y}\\u003cbr\\u003eDim3=%{z}\\u003cbr\\u003eprompt=%{customdata[0]}\\u003cextra\\u003e\\u003c\\u002fextra\\u003e\",\"legendgroup\":\"facial_features\",\"marker\":{\"color\":\"#636efa\",\"symbol\":\"circle\"},\"mode\":\"markers\",\"name\":\"facial_features\",\"scene\":\"scene\",\"showlegend\":true,\"x\":[5.0338826,4.148808,3.818991,4.1315184,4.2234364,3.8919997,4.0255494,4.7072353,4.064249,3.8519862,3.7325454,3.7699568,5.955397,4.226211,4.023025,4.4047227,4.1473255,3.8728132],\"y\":[5.8389673,5.8535876,5.559396,6.002049,5.689392,6.082133,6.186913,5.9646697,5.6764655,5.5418625,5.683574,5.6748157,5.2538176,6.1100516,6.091754,6.099196,6.2588296,6.1871104],\"z\":[10.283217,10.571414,10.088773,10.280125,9.87107,9.55567,9.465247,10.205272,10.235493,10.694935,10.373086,10.654267,10.508526,9.78359,9.470641,10.401409,9.52014,9.481846],\"type\":\"scatter3d\"},{\"customdata\":[[\"landscape\"],[\"seascape\"],[\"mountain range\"],[\"forest\"],[\"sunset\"],[\"sunrise\"],[\"beach\"],[\"desert\"],[\"waterfall\"],[\"canyon\"],[\"meadow\"],[\"tropical island\"],[\"arctic tundra\"],[\"savanna\"],[\"volcano\"],[\"coral reef\"],[\"rainforest\"],[\"autumn leaves\"],[\"spring blossoms\"],[\"misty morning\"]],\"hovertemplate\":\"category=nature\\u003cbr\\u003eDim1=%{x}\\u003cbr\\u003eDim2=%{y}\\u003cbr\\u003eDim3=%{z}\\u003cbr\\u003eprompt=%{customdata[0]}\\u003cextra\\u003e\\u003c\\u002fextra\\u003e\",\"legendgroup\":\"nature\",\"marker\":{\"color\":\"#EF553B\",\"symbol\":\"circle\"},\"mode\":\"markers\",\"name\":\"nature\",\"scene\":\"scene\",\"showlegend\":true,\"x\":[7.42168,7.82534,7.802678,7.347085,7.5722284,7.7708097,7.0370398,7.4188046,7.736879,7.8003783,7.3962135,7.772389,8.004469,7.308844,5.92716,7.6402493,7.6571035,6.8391423,7.0225873,7.8118196],\"y\":[2.394621,2.8474326,2.4536445,2.1167595,2.1981523,2.058226,3.2451081,2.3286421,2.0116794,1.9373,2.5189905,2.8568194,2.748409,2.0822794,4.0572815,2.9789598,2.220237,1.779487,2.1892035,2.094432],\"z\":[9.915855,10.102517,9.654717,9.196914,10.256816,10.29908,10.39803,10.219823,9.22456,9.304596,9.485632,9.607712,9.921748,9.78072,7.997928,9.440398,9.05108,9.636892,9.555122,9.7803545],\"type\":\"scatter3d\"},{\"customdata\":[[\"dog\"],[\"cat\"],[\"bird\"],[\"fish\"],[\"elephant\"],[\"lion\"],[\"giraffe\"],[\"penguin\"],[\"dolphin\"],[\"butterfly\"],[\"owl\"],[\"tiger\"],[\"panda\"],[\"koala\"],[\"kangaroo\"],[\"zebra\"],[\"rhinoceros\"],[\"cheetah\"],[\"polar bear\"]],\"hovertemplate\":\"category=animals\\u003cbr\\u003eDim1=%{x}\\u003cbr\\u003eDim2=%{y}\\u003cbr\\u003eDim3=%{z}\\u003cbr\\u003eprompt=%{customdata[0]}\\u003cextra\\u003e\\u003c\\u002fextra\\u003e\",\"legendgroup\":\"animals\",\"marker\":{\"color\":\"#00cc96\",\"symbol\":\"circle\"},\"mode\":\"markers\",\"name\":\"animals\",\"scene\":\"scene\",\"showlegend\":true,\"x\":[6.3681474,6.406823,4.591993,4.8261943,4.689801,4.904435,5.104524,5.300199,5.0825534,4.3241115,4.521514,6.290324,4.8601174,4.9891267,5.1743984,5.2306566,4.7889295,4.7850995,4.969709],\"y\":[4.9184422,5.034715,4.621321,4.6995354,4.583416,5.9125314,4.4713707,4.5432796,4.7530084,3.7870216,3.9631379,1.4531221,4.6037855,4.9380193,4.761743,4.5432935,4.8661947,4.4421463,5.00357],\"z\":[10.566378,10.482555,7.4554214,7.702672,7.039973,10.221178,7.1651273,7.4211493,7.523987,6.718427,6.84569,9.692899,6.653287,6.644966,6.595208,7.427358,6.9084444,6.907331,6.947304],\"type\":\"scatter3d\"},{\"customdata\":[[\"apple\"],[\"banana\"],[\"pizza\"],[\"sushi\"],[\"pasta\"],[\"steak\"],[\"salad\"],[\"ice cream\"],[\"chocolate\"],[\"burger\"],[\"taco\"],[\"soup\"],[\"cake\"],[\"fruit platter\"],[\"sandwich\"],[\"roast chicken\"],[\"seafood platter\"]],\"hovertemplate\":\"category=food\\u003cbr\\u003eDim1=%{x}\\u003cbr\\u003eDim2=%{y}\\u003cbr\\u003eDim3=%{z}\\u003cbr\\u003eprompt=%{customdata[0]}\\u003cextra\\u003e\\u003c\\u002fextra\\u003e\",\"legendgroup\":\"food\",\"marker\":{\"color\":\"#ab63fa\",\"symbol\":\"circle\"},\"mode\":\"markers\",\"name\":\"food\",\"scene\":\"scene\",\"showlegend\":true,\"x\":[4.4065113,4.5728307,4.6416993,4.8304377,4.927818,5.0153775,4.7516375,4.619677,4.639875,5.02557,5.1646705,5.8014073,4.4661026,5.06027,4.7286077,5.9950795,4.9490128],\"y\":[0.9574017,0.70777136,1.7119458,1.4952787,0.6771482,1.2571282,0.5682005,1.1499846,1.5826273,1.0105323,0.9032801,1.1383704,1.3161141,1.3907694,0.6212661,1.32044,1.5160226],\"z\":[8.576332,8.909578,10.035367,10.058656,9.299262,9.89548,9.064418,9.39894,9.991204,9.656988,9.528477,9.694888,9.593961,10.126361,9.126368,9.747127,10.152298],\"type\":\"scatter3d\"},{\"customdata\":[[\"guitar\"],[\"piano\"],[\"violin\"],[\"drums\"],[\"saxophone\"],[\"trumpet\"],[\"flute\"],[\"cello\"],[\"harp\"],[\"clarinet\"],[\"accordion\"],[\"electric guitar\"],[\"synthesizer\"],[\"DJ turntables\"],[\"orchestra\"],[\"rock band\"],[\"jazz ensemble\"]],\"hovertemplate\":\"category=music\\u003cbr\\u003eDim1=%{x}\\u003cbr\\u003eDim2=%{y}\\u003cbr\\u003eDim3=%{z}\\u003cbr\\u003eprompt=%{customdata[0]}\\u003cextra\\u003e\\u003c\\u002fextra\\u003e\",\"legendgroup\":\"music\",\"marker\":{\"color\":\"#FFA15A\",\"symbol\":\"circle\"},\"mode\":\"markers\",\"name\":\"music\",\"scene\":\"scene\",\"showlegend\":true,\"x\":[3.1525388,2.8589206,3.2425065,4.7178397,3.1361423,3.2332997,3.3159611,3.0455735,3.4776618,3.4142797,3.353119,3.1404877,3.0161777,3.065766,2.735092,2.5383213,2.6028514],\"y\":[1.6338123,1.4690049,2.291819,2.8390524,2.1951988,1.5269284,1.5695103,1.5380491,2.6015978,1.435,2.4857926,2.0923262,1.8221384,1.9521055,1.4617918,1.3896569,1.4735789],\"z\":[5.8579497,5.518724,5.9661365,10.296458,5.8632092,6.2512407,6.4390683,5.8147917,6.1466475,6.406362,6.037073,5.798606,5.4032,5.367667,5.4356904,5.237523,5.3085656],\"type\":\"scatter3d\"},{\"customdata\":[[\"skyscraper\"],[\"castle\"],[\"bridge\"],[\"ancient ruins\"],[\"modern house\"],[\"cathedral\"],[\"pagoda\"],[\"lighthouse\"],[\"pyramid\"],[\"log cabin\"],[\"treehouse\"],[\"futuristic city\"]],\"hovertemplate\":\"category=architecture\\u003cbr\\u003eDim1=%{x}\\u003cbr\\u003eDim2=%{y}\\u003cbr\\u003eDim3=%{z}\\u003cbr\\u003eprompt=%{customdata[0]}\\u003cextra\\u003e\\u003c\\u002fextra\\u003e\",\"legendgroup\":\"architecture\",\"marker\":{\"color\":\"#19d3f3\",\"symbol\":\"circle\"},\"mode\":\"markers\",\"name\":\"architecture\",\"scene\":\"scene\",\"showlegend\":true,\"x\":[6.5724173,6.814833,7.22513,6.474573,7.2965245,6.754191,7.0273476,8.0355215,5.996784,7.248766,7.4006805,6.39752],\"y\":[3.2754896,3.1769125,3.757013,3.4484518,2.747099,3.051737,2.7003164,2.670293,3.9762108,2.2819362,2.586087,3.5063925],\"z\":[8.311199,8.958805,10.3523855,8.920311,8.756272,8.433015,8.536494,9.8526745,8.187745,8.872444,8.906482,8.380926],\"type\":\"scatter3d\"},{\"customdata\":[[\"car\"],[\"airplane\"],[\"bicycle\"],[\"motorcycle\"],[\"boat\"],[\"train\"],[\"helicopter\"],[\"rocket\"],[\"submarine\"],[\"hot air balloon\"],[\"sailboat\"],[\"vintage car\"]],\"hovertemplate\":\"category=vehicles\\u003cbr\\u003eDim1=%{x}\\u003cbr\\u003eDim2=%{y}\\u003cbr\\u003eDim3=%{z}\\u003cbr\\u003eprompt=%{customdata[0]}\\u003cextra\\u003e\\u003c\\u002fextra\\u003e\",\"legendgroup\":\"vehicles\",\"marker\":{\"color\":\"#FF6692\",\"symbol\":\"circle\"},\"mode\":\"markers\",\"name\":\"vehicles\",\"scene\":\"scene\",\"showlegend\":true,\"x\":[6.6457243,7.7106338,6.5028224,6.3971715,7.0416436,6.3759766,7.7131596,5.743017,7.7886786,7.939067,7.7305346,6.620888],\"y\":[4.504412,3.6178155,4.648475,4.5549316,4.03468,4.0690217,3.675432,4.223855,3.316228,1.9981593,3.4361317,4.5494666],\"z\":[10.641726,9.7626,10.6242895,10.57563,10.467445,10.616783,9.657384,7.7913547,9.566939,10.13079,9.715638,10.6952505],\"type\":\"scatter3d\"},{\"customdata\":[[\"love\"],[\"time\"],[\"freedom\"],[\"peace\"],[\"chaos\"],[\"infinity\"],[\"balance\"],[\"evolution\"],[\"imagination\"],[\"dreams\"],[\"consciousness\"],[\"harmony\"]],\"hovertemplate\":\"category=abstract_concepts\\u003cbr\\u003eDim1=%{x}\\u003cbr\\u003eDim2=%{y}\\u003cbr\\u003eDim3=%{z}\\u003cbr\\u003eprompt=%{customdata[0]}\\u003cextra\\u003e\\u003c\\u002fextra\\u003e\",\"legendgroup\":\"abstract_concepts\",\"marker\":{\"color\":\"#B6E880\",\"symbol\":\"circle\"},\"mode\":\"markers\",\"name\":\"abstract_concepts\",\"scene\":\"scene\",\"showlegend\":true,\"x\":[4.339708,4.8740945,6.080481,5.0205107,4.8456883,5.1569853,4.2124786,4.2880125,3.893488,5.255614,4.858839,4.696724],\"y\":[4.834112,3.8673954,3.89295,3.9259512,4.572724,3.7799191,1.2314823,1.162982,5.4174747,3.7114177,4.2675323,4.4823823],\"z\":[10.545727,10.543888,10.632954,10.603305,10.332075,10.639932,7.940466,8.121253,10.589819,10.610165,10.509829,10.546871],\"type\":\"scatter3d\"}],                        {\"template\":{\"data\":{\"histogram2dcontour\":[{\"type\":\"histogram2dcontour\",\"colorbar\":{\"outlinewidth\":0,\"ticks\":\"\"},\"colorscale\":[[0.0,\"#0d0887\"],[0.1111111111111111,\"#46039f\"],[0.2222222222222222,\"#7201a8\"],[0.3333333333333333,\"#9c179e\"],[0.4444444444444444,\"#bd3786\"],[0.5555555555555556,\"#d8576b\"],[0.6666666666666666,\"#ed7953\"],[0.7777777777777778,\"#fb9f3a\"],[0.8888888888888888,\"#fdca26\"],[1.0,\"#f0f921\"]]}],\"choropleth\":[{\"type\":\"choropleth\",\"colorbar\":{\"outlinewidth\":0,\"ticks\":\"\"}}],\"histogram2d\":[{\"type\":\"histogram2d\",\"colorbar\":{\"outlinewidth\":0,\"ticks\":\"\"},\"colorscale\":[[0.0,\"#0d0887\"],[0.1111111111111111,\"#46039f\"],[0.2222222222222222,\"#7201a8\"],[0.3333333333333333,\"#9c179e\"],[0.4444444444444444,\"#bd3786\"],[0.5555555555555556,\"#d8576b\"],[0.6666666666666666,\"#ed7953\"],[0.7777777777777778,\"#fb9f3a\"],[0.8888888888888888,\"#fdca26\"],[1.0,\"#f0f921\"]]}],\"heatmap\":[{\"type\":\"heatmap\",\"colorbar\":{\"outlinewidth\":0,\"ticks\":\"\"},\"colorscale\":[[0.0,\"#0d0887\"],[0.1111111111111111,\"#46039f\"],[0.2222222222222222,\"#7201a8\"],[0.3333333333333333,\"#9c179e\"],[0.4444444444444444,\"#bd3786\"],[0.5555555555555556,\"#d8576b\"],[0.6666666666666666,\"#ed7953\"],[0.7777777777777778,\"#fb9f3a\"],[0.8888888888888888,\"#fdca26\"],[1.0,\"#f0f921\"]]}],\"heatmapgl\":[{\"type\":\"heatmapgl\",\"colorbar\":{\"outlinewidth\":0,\"ticks\":\"\"},\"colorscale\":[[0.0,\"#0d0887\"],[0.1111111111111111,\"#46039f\"],[0.2222222222222222,\"#7201a8\"],[0.3333333333333333,\"#9c179e\"],[0.4444444444444444,\"#bd3786\"],[0.5555555555555556,\"#d8576b\"],[0.6666666666666666,\"#ed7953\"],[0.7777777777777778,\"#fb9f3a\"],[0.8888888888888888,\"#fdca26\"],[1.0,\"#f0f921\"]]}],\"contourcarpet\":[{\"type\":\"contourcarpet\",\"colorbar\":{\"outlinewidth\":0,\"ticks\":\"\"}}],\"contour\":[{\"type\":\"contour\",\"colorbar\":{\"outlinewidth\":0,\"ticks\":\"\"},\"colorscale\":[[0.0,\"#0d0887\"],[0.1111111111111111,\"#46039f\"],[0.2222222222222222,\"#7201a8\"],[0.3333333333333333,\"#9c179e\"],[0.4444444444444444,\"#bd3786\"],[0.5555555555555556,\"#d8576b\"],[0.6666666666666666,\"#ed7953\"],[0.7777777777777778,\"#fb9f3a\"],[0.8888888888888888,\"#fdca26\"],[1.0,\"#f0f921\"]]}],\"surface\":[{\"type\":\"surface\",\"colorbar\":{\"outlinewidth\":0,\"ticks\":\"\"},\"colorscale\":[[0.0,\"#0d0887\"],[0.1111111111111111,\"#46039f\"],[0.2222222222222222,\"#7201a8\"],[0.3333333333333333,\"#9c179e\"],[0.4444444444444444,\"#bd3786\"],[0.5555555555555556,\"#d8576b\"],[0.6666666666666666,\"#ed7953\"],[0.7777777777777778,\"#fb9f3a\"],[0.8888888888888888,\"#fdca26\"],[1.0,\"#f0f921\"]]}],\"mesh3d\":[{\"type\":\"mesh3d\",\"colorbar\":{\"outlinewidth\":0,\"ticks\":\"\"}}],\"scatter\":[{\"fillpattern\":{\"fillmode\":\"overlay\",\"size\":10,\"solidity\":0.2},\"type\":\"scatter\"}],\"parcoords\":[{\"type\":\"parcoords\",\"line\":{\"colorbar\":{\"outlinewidth\":0,\"ticks\":\"\"}}}],\"scatterpolargl\":[{\"type\":\"scatterpolargl\",\"marker\":{\"colorbar\":{\"outlinewidth\":0,\"ticks\":\"\"}}}],\"bar\":[{\"error_x\":{\"color\":\"#2a3f5f\"},\"error_y\":{\"color\":\"#2a3f5f\"},\"marker\":{\"line\":{\"color\":\"#E5ECF6\",\"width\":0.5},\"pattern\":{\"fillmode\":\"overlay\",\"size\":10,\"solidity\":0.2}},\"type\":\"bar\"}],\"scattergeo\":[{\"type\":\"scattergeo\",\"marker\":{\"colorbar\":{\"outlinewidth\":0,\"ticks\":\"\"}}}],\"scatterpolar\":[{\"type\":\"scatterpolar\",\"marker\":{\"colorbar\":{\"outlinewidth\":0,\"ticks\":\"\"}}}],\"histogram\":[{\"marker\":{\"pattern\":{\"fillmode\":\"overlay\",\"size\":10,\"solidity\":0.2}},\"type\":\"histogram\"}],\"scattergl\":[{\"type\":\"scattergl\",\"marker\":{\"colorbar\":{\"outlinewidth\":0,\"ticks\":\"\"}}}],\"scatter3d\":[{\"type\":\"scatter3d\",\"line\":{\"colorbar\":{\"outlinewidth\":0,\"ticks\":\"\"}},\"marker\":{\"colorbar\":{\"outlinewidth\":0,\"ticks\":\"\"}}}],\"scattermapbox\":[{\"type\":\"scattermapbox\",\"marker\":{\"colorbar\":{\"outlinewidth\":0,\"ticks\":\"\"}}}],\"scatterternary\":[{\"type\":\"scatterternary\",\"marker\":{\"colorbar\":{\"outlinewidth\":0,\"ticks\":\"\"}}}],\"scattercarpet\":[{\"type\":\"scattercarpet\",\"marker\":{\"colorbar\":{\"outlinewidth\":0,\"ticks\":\"\"}}}],\"carpet\":[{\"aaxis\":{\"endlinecolor\":\"#2a3f5f\",\"gridcolor\":\"white\",\"linecolor\":\"white\",\"minorgridcolor\":\"white\",\"startlinecolor\":\"#2a3f5f\"},\"baxis\":{\"endlinecolor\":\"#2a3f5f\",\"gridcolor\":\"white\",\"linecolor\":\"white\",\"minorgridcolor\":\"white\",\"startlinecolor\":\"#2a3f5f\"},\"type\":\"carpet\"}],\"table\":[{\"cells\":{\"fill\":{\"color\":\"#EBF0F8\"},\"line\":{\"color\":\"white\"}},\"header\":{\"fill\":{\"color\":\"#C8D4E3\"},\"line\":{\"color\":\"white\"}},\"type\":\"table\"}],\"barpolar\":[{\"marker\":{\"line\":{\"color\":\"#E5ECF6\",\"width\":0.5},\"pattern\":{\"fillmode\":\"overlay\",\"size\":10,\"solidity\":0.2}},\"type\":\"barpolar\"}],\"pie\":[{\"automargin\":true,\"type\":\"pie\"}]},\"layout\":{\"autotypenumbers\":\"strict\",\"colorway\":[\"#636efa\",\"#EF553B\",\"#00cc96\",\"#ab63fa\",\"#FFA15A\",\"#19d3f3\",\"#FF6692\",\"#B6E880\",\"#FF97FF\",\"#FECB52\"],\"font\":{\"color\":\"#2a3f5f\"},\"hovermode\":\"closest\",\"hoverlabel\":{\"align\":\"left\"},\"paper_bgcolor\":\"white\",\"plot_bgcolor\":\"#E5ECF6\",\"polar\":{\"bgcolor\":\"#E5ECF6\",\"angularaxis\":{\"gridcolor\":\"white\",\"linecolor\":\"white\",\"ticks\":\"\"},\"radialaxis\":{\"gridcolor\":\"white\",\"linecolor\":\"white\",\"ticks\":\"\"}},\"ternary\":{\"bgcolor\":\"#E5ECF6\",\"aaxis\":{\"gridcolor\":\"white\",\"linecolor\":\"white\",\"ticks\":\"\"},\"baxis\":{\"gridcolor\":\"white\",\"linecolor\":\"white\",\"ticks\":\"\"},\"caxis\":{\"gridcolor\":\"white\",\"linecolor\":\"white\",\"ticks\":\"\"}},\"coloraxis\":{\"colorbar\":{\"outlinewidth\":0,\"ticks\":\"\"}},\"colorscale\":{\"sequential\":[[0.0,\"#0d0887\"],[0.1111111111111111,\"#46039f\"],[0.2222222222222222,\"#7201a8\"],[0.3333333333333333,\"#9c179e\"],[0.4444444444444444,\"#bd3786\"],[0.5555555555555556,\"#d8576b\"],[0.6666666666666666,\"#ed7953\"],[0.7777777777777778,\"#fb9f3a\"],[0.8888888888888888,\"#fdca26\"],[1.0,\"#f0f921\"]],\"sequentialminus\":[[0.0,\"#0d0887\"],[0.1111111111111111,\"#46039f\"],[0.2222222222222222,\"#7201a8\"],[0.3333333333333333,\"#9c179e\"],[0.4444444444444444,\"#bd3786\"],[0.5555555555555556,\"#d8576b\"],[0.6666666666666666,\"#ed7953\"],[0.7777777777777778,\"#fb9f3a\"],[0.8888888888888888,\"#fdca26\"],[1.0,\"#f0f921\"]],\"diverging\":[[0,\"#8e0152\"],[0.1,\"#c51b7d\"],[0.2,\"#de77ae\"],[0.3,\"#f1b6da\"],[0.4,\"#fde0ef\"],[0.5,\"#f7f7f7\"],[0.6,\"#e6f5d0\"],[0.7,\"#b8e186\"],[0.8,\"#7fbc41\"],[0.9,\"#4d9221\"],[1,\"#276419\"]]},\"xaxis\":{\"gridcolor\":\"white\",\"linecolor\":\"white\",\"ticks\":\"\",\"title\":{\"standoff\":15},\"zerolinecolor\":\"white\",\"automargin\":true,\"zerolinewidth\":2},\"yaxis\":{\"gridcolor\":\"white\",\"linecolor\":\"white\",\"ticks\":\"\",\"title\":{\"standoff\":15},\"zerolinecolor\":\"white\",\"automargin\":true,\"zerolinewidth\":2},\"scene\":{\"xaxis\":{\"backgroundcolor\":\"#E5ECF6\",\"gridcolor\":\"white\",\"linecolor\":\"white\",\"showbackground\":true,\"ticks\":\"\",\"zerolinecolor\":\"white\",\"gridwidth\":2},\"yaxis\":{\"backgroundcolor\":\"#E5ECF6\",\"gridcolor\":\"white\",\"linecolor\":\"white\",\"showbackground\":true,\"ticks\":\"\",\"zerolinecolor\":\"white\",\"gridwidth\":2},\"zaxis\":{\"backgroundcolor\":\"#E5ECF6\",\"gridcolor\":\"white\",\"linecolor\":\"white\",\"showbackground\":true,\"ticks\":\"\",\"zerolinecolor\":\"white\",\"gridwidth\":2}},\"shapedefaults\":{\"line\":{\"color\":\"#2a3f5f\"}},\"annotationdefaults\":{\"arrowcolor\":\"#2a3f5f\",\"arrowhead\":0,\"arrowwidth\":1},\"geo\":{\"bgcolor\":\"white\",\"landcolor\":\"#E5ECF6\",\"subunitcolor\":\"white\",\"showland\":true,\"showlakes\":true,\"lakecolor\":\"white\"},\"title\":{\"x\":0.05},\"mapbox\":{\"style\":\"light\"}}},\"scene\":{\"domain\":{\"x\":[0.0,1.0],\"y\":[0.0,1.0]},\"xaxis\":{\"title\":{\"text\":\"Dim1\"}},\"yaxis\":{\"title\":{\"text\":\"Dim2\"}},\"zaxis\":{\"title\":{\"text\":\"Dim3\"}}},\"legend\":{\"title\":{\"text\":\"category\"},\"tracegroupgap\":0},\"title\":{\"text\":\"Best Layers for Finetuning: 3D UMAP Embedding of Prompt Mean Layer Activities\"}},                        {\"responsive\": true}                    ).then(function(){\n",
       "                            \n",
       "var gd = document.getElementById('be328099-7783-4dbc-a811-f9b412c1a1a6');\n",
       "var x = new MutationObserver(function (mutations, observer) {{\n",
       "        var display = window.getComputedStyle(gd).display;\n",
       "        if (!display || display === 'none') {{\n",
       "            console.log([gd, 'removed!']);\n",
       "            Plotly.purge(gd);\n",
       "            observer.disconnect();\n",
       "        }}\n",
       "}});\n",
       "\n",
       "// Listen for the removal of the full notebook cells\n",
       "var notebookContainer = gd.closest('#notebook-container');\n",
       "if (notebookContainer) {{\n",
       "    x.observe(notebookContainer, {childList: true});\n",
       "}}\n",
       "\n",
       "// Listen for the clearing of the current output cell\n",
       "var outputEl = gd.closest('.output');\n",
       "if (outputEl) {{\n",
       "    x.observe(outputEl, {childList: true});\n",
       "}}\n",
       "\n",
       "                        })                };                });            </script>        </div>"
      ]
     },
     "metadata": {},
     "output_type": "display_data"
    },
    {
     "data": {
      "application/vnd.plotly.v1+json": {
       "config": {
        "plotlyServerURL": "https://plot.ly"
       },
       "data": [
        {
         "customdata": [
          [
           "smiling portrait"
          ],
          [
           "frowning expression"
          ],
          [
           "surprised look"
          ],
          [
           "angry glare"
          ],
          [
           "neutral expression"
          ],
          [
           "bearded individual"
          ],
          [
           "freckled complexion"
          ],
          [
           "face"
          ],
          [
           "laughing face"
          ],
          [
           "crying expression"
          ],
          [
           "confused look"
          ],
          [
           "excited smile"
          ],
          [
           "thoughtful gaze"
          ],
          [
           "wrinkled face"
          ],
          [
           "dimpled cheeks"
          ],
          [
           "strong jawline"
          ],
          [
           "high cheekbones"
          ],
          [
           "bushy eyebrows"
          ]
         ],
         "hovertemplate": "category=facial_features<br>PC1=%{x}<br>PC2=%{y}<br>PC3=%{z}<br>prompt=%{customdata[0]}<extra></extra>",
         "legendgroup": "facial_features",
         "marker": {
          "color": "#636efa",
          "symbol": "circle"
         },
         "mode": "markers",
         "name": "facial_features",
         "scene": "scene",
         "showlegend": true,
         "type": "scatter3d",
         "x": [
          -0.006629200634805422,
          -9.588655008131344,
          -22.535326844394426,
          -7.307526750780857,
          -8.013311262907923,
          -8.990307560372646,
          -18.060688412130396,
          -8.817970361718427,
          -14.198436378324027,
          -10.523746146647065,
          -16.97033990594699,
          -12.504555025429115,
          3.683203299071778,
          -13.37618353946267,
          -15.968366342122009,
          -4.985184430483768,
          -10.703040730834234,
          -4.102615963736916
         ],
         "y": [
          4.90104603856675,
          8.758457384654411,
          5.189025726374061,
          10.0199668494119,
          0.3337785384634156,
          4.7529034926582385,
          8.438694192948185,
          3.1555610333521567,
          8.850884862545454,
          0.999382433379495,
          7.214381345846798,
          4.3493708710340515,
          0.19839685917195632,
          11.739154344498358,
          8.44400716366272,
          4.302211718351724,
          5.699129113002607,
          3.9896937378672956
         ],
         "z": [
          7.160246354227352,
          9.338892706096237,
          6.495543757403053,
          4.654104515802925,
          7.735212822436805,
          2.3521612860900185,
          -6.899594888304357,
          9.527603145478384,
          11.521307401603602,
          8.873512393083582,
          10.194487619679123,
          7.965991505131169,
          6.056789778318545,
          2.1530070286439127,
          -1.5542954086823633,
          8.510390779850134,
          2.791403818790375,
          0.3945578355146063
         ]
        },
        {
         "customdata": [
          [
           "landscape"
          ],
          [
           "seascape"
          ],
          [
           "mountain range"
          ],
          [
           "forest"
          ],
          [
           "sunset"
          ],
          [
           "sunrise"
          ],
          [
           "beach"
          ],
          [
           "desert"
          ],
          [
           "waterfall"
          ],
          [
           "canyon"
          ],
          [
           "meadow"
          ],
          [
           "tropical island"
          ],
          [
           "arctic tundra"
          ],
          [
           "savanna"
          ],
          [
           "volcano"
          ],
          [
           "coral reef"
          ],
          [
           "rainforest"
          ],
          [
           "autumn leaves"
          ],
          [
           "spring blossoms"
          ],
          [
           "misty morning"
          ]
         ],
         "hovertemplate": "category=nature<br>PC1=%{x}<br>PC2=%{y}<br>PC3=%{z}<br>prompt=%{customdata[0]}<extra></extra>",
         "legendgroup": "nature",
         "marker": {
          "color": "#EF553B",
          "symbol": "circle"
         },
         "mode": "markers",
         "name": "nature",
         "scene": "scene",
         "showlegend": true,
         "type": "scatter3d",
         "x": [
          15.708794212159097,
          12.670090004244242,
          19.487843028973078,
          22.254550212890447,
          8.508815655699328,
          10.922607688164677,
          13.51152872447961,
          13.100291820115105,
          16.367353636917144,
          15.845355232573876,
          22.32812864277217,
          20.011762538372345,
          12.56174220747826,
          4.576615479422206,
          0.13117058858737293,
          12.30426555155246,
          16.50450753973649,
          16.86228089833313,
          10.089734543129206,
          26.596859809370482
         ],
         "y": [
          7.65723802957646,
          7.831958578075072,
          10.69324712761285,
          4.605364278651284,
          3.917879045622227,
          5.449354623929827,
          1.344019141203225,
          3.521742385685695,
          2.914447722343072,
          5.623854019175711,
          2.08835053452151,
          8.187619417241375,
          8.987868487832808,
          1.0177887898891542,
          6.9217293361482835,
          0.3501840578395856,
          2.765891105086442,
          -2.939567664524198,
          -2.369559948579836,
          7.027282587262112
         ],
         "z": [
          5.23218574702531,
          -2.0773215289522273,
          1.1613740112017277,
          4.006721263499435,
          -2.248427694307869,
          -0.9532919300181063,
          3.705196725344555,
          -0.850996860104276,
          -6.734669636401004,
          0.003725241944624066,
          0.0677751154732097,
          -5.314155782826171,
          -8.877625751651149,
          3.1227607433634126,
          -7.638703849679293,
          -6.8735225636104405,
          -2.476479160298495,
          1.3943128169363779,
          1.148346387116004,
          -8.186286315946532
         ]
        },
        {
         "customdata": [
          [
           "dog"
          ],
          [
           "cat"
          ],
          [
           "bird"
          ],
          [
           "fish"
          ],
          [
           "elephant"
          ],
          [
           "lion"
          ],
          [
           "giraffe"
          ],
          [
           "penguin"
          ],
          [
           "dolphin"
          ],
          [
           "butterfly"
          ],
          [
           "owl"
          ],
          [
           "tiger"
          ],
          [
           "panda"
          ],
          [
           "koala"
          ],
          [
           "kangaroo"
          ],
          [
           "zebra"
          ],
          [
           "rhinoceros"
          ],
          [
           "cheetah"
          ],
          [
           "polar bear"
          ]
         ],
         "hovertemplate": "category=animals<br>PC1=%{x}<br>PC2=%{y}<br>PC3=%{z}<br>prompt=%{customdata[0]}<extra></extra>",
         "legendgroup": "animals",
         "marker": {
          "color": "#00cc96",
          "symbol": "circle"
         },
         "mode": "markers",
         "name": "animals",
         "scene": "scene",
         "showlegend": true,
         "type": "scatter3d",
         "x": [
          5.196233332480462,
          0.6034926899399711,
          -0.5453215404958557,
          2.4980745385992007,
          -4.4326285926602065,
          2.650919102960914,
          -10.791995625153993,
          -12.877502381836697,
          -6.449482672778914,
          -0.49096185755440086,
          -5.027156560787952,
          7.84957944312119,
          -10.553427933092921,
          -12.371147923754485,
          -5.683758219822939,
          -11.44282757443853,
          -3.7016732397422762,
          -10.04612077098174,
          -10.244691226859729
         ],
         "y": [
          -6.5188827999046,
          -7.174234285637531,
          0.49244097961188094,
          -2.137850528883717,
          2.406041769757319,
          2.338818104808043,
          3.6372608495285217,
          10.82593941007911,
          10.136859231964062,
          -1.226523589993533,
          -0.4505495503572274,
          -4.174378137391378,
          4.562920564965737,
          0.4437778987554715,
          -5.377987395214128,
          7.564736873922699,
          -0.4496852074707681,
          -0.7590027981924852,
          5.592822205424837
         ],
         "z": [
          5.776661539234189,
          0.32232217337975844,
          1.885984256772729,
          -1.2861363424483112,
          -1.7847154642631702,
          3.1832858063946823,
          -7.935089046856792,
          -11.458571969517399,
          -8.741487148791219,
          -5.058821096050821,
          -4.610554734554733,
          -0.21743651697310196,
          -4.344424013113682,
          -7.7037779133470075,
          -4.084735953189556,
          -1.7175339925517157,
          -2.2881618276496596,
          -4.431715002965285,
          -9.707790777627611
         ]
        },
        {
         "customdata": [
          [
           "apple"
          ],
          [
           "banana"
          ],
          [
           "pizza"
          ],
          [
           "sushi"
          ],
          [
           "pasta"
          ],
          [
           "steak"
          ],
          [
           "salad"
          ],
          [
           "ice cream"
          ],
          [
           "chocolate"
          ],
          [
           "burger"
          ],
          [
           "taco"
          ],
          [
           "soup"
          ],
          [
           "cake"
          ],
          [
           "fruit platter"
          ],
          [
           "sandwich"
          ],
          [
           "roast chicken"
          ],
          [
           "seafood platter"
          ]
         ],
         "hovertemplate": "category=food<br>PC1=%{x}<br>PC2=%{y}<br>PC3=%{z}<br>prompt=%{customdata[0]}<extra></extra>",
         "legendgroup": "food",
         "marker": {
          "color": "#ab63fa",
          "symbol": "circle"
         },
         "mode": "markers",
         "name": "food",
         "scene": "scene",
         "showlegend": true,
         "type": "scatter3d",
         "x": [
          -0.2058920627828723,
          -6.273761493636396,
          2.719411926875241,
          3.2774039705546625,
          1.2444167715956969,
          4.134642225199252,
          -5.886045707424896,
          -3.6409499611700094,
          -1.077188358059096,
          0.6778843653270337,
          1.5442703323056504,
          6.842144568425589,
          -3.7415009237344283,
          10.439163435250324,
          -3.133876844845669,
          6.601868439902624,
          11.31795360166468
         ],
         "y": [
          -3.031710070884264,
          -2.522968005012219,
          -14.881203875970167,
          -10.785670678939896,
          -7.200066815864327,
          -12.46597469001457,
          -2.8815727142646215,
          -7.996149238534666,
          -12.370271302410979,
          -10.078433610111174,
          -9.40954997755165,
          -7.698252723818621,
          -8.098718248010776,
          -9.684786562863591,
          -5.275116283892266,
          -6.888247205019514,
          -11.770760783293055
         ],
         "z": [
          -7.223375157938352,
          -6.4602038953790535,
          -1.0860881075422664,
          1.0285638114541096,
          -0.5081262905315076,
          -1.0326899812958275,
          -1.5173985574861817,
          -6.1639068517323485,
          2.371498831472227,
          -6.8005200581767244,
          -3.438363798073718,
          -1.7138414298800084,
          -0.07683902880832465,
          1.3819521263692451,
          -1.4272398251377467,
          -2.453278878918297,
          2.6223617239502137
         ]
        },
        {
         "customdata": [
          [
           "guitar"
          ],
          [
           "piano"
          ],
          [
           "violin"
          ],
          [
           "drums"
          ],
          [
           "saxophone"
          ],
          [
           "trumpet"
          ],
          [
           "flute"
          ],
          [
           "cello"
          ],
          [
           "harp"
          ],
          [
           "clarinet"
          ],
          [
           "accordion"
          ],
          [
           "electric guitar"
          ],
          [
           "synthesizer"
          ],
          [
           "DJ turntables"
          ],
          [
           "orchestra"
          ],
          [
           "rock band"
          ],
          [
           "jazz ensemble"
          ]
         ],
         "hovertemplate": "category=music<br>PC1=%{x}<br>PC2=%{y}<br>PC3=%{z}<br>prompt=%{customdata[0]}<extra></extra>",
         "legendgroup": "music",
         "marker": {
          "color": "#FFA15A",
          "symbol": "circle"
         },
         "mode": "markers",
         "name": "music",
         "scene": "scene",
         "showlegend": true,
         "type": "scatter3d",
         "x": [
          -11.297273775394403,
          -11.007320242283507,
          -11.571480819253289,
          4.207206099257518,
          -9.464685412637214,
          -7.3052114882333425,
          -1.8143384499390767,
          -15.566236435464141,
          -7.076634638490987,
          -6.795046206729422,
          -10.471004198636185,
          -6.417666742712671,
          -10.51498703750502,
          -7.6454098619705615,
          -12.005628098294011,
          -1.8273705595921577,
          -2.7677514252572237
         ],
         "y": [
          -4.508765321502568,
          -5.823294248601032,
          -10.18260814868818,
          -12.780948968660299,
          -9.993425241531872,
          -4.826119427738672,
          -7.521975859936165,
          -2.5794955275717606,
          -0.8417141039599307,
          -1.6376779082161772,
          -9.582324260943219,
          -5.5783491105866805,
          -0.362169145466271,
          -3.559867278923088,
          -5.875272700101994,
          -6.6235724155061035,
          -5.187277945228093
         ],
         "z": [
          -0.697251371518272,
          -2.109495573850157,
          -11.114554126563196,
          4.513201133270738,
          -7.666991687180372,
          -1.5299810727521843,
          -3.6438414027388384,
          -6.295158128671874,
          -4.601531146166733,
          -4.182580068100788,
          -2.7012187676614636,
          -6.4127064248974,
          0.7219333224350171,
          -4.527870707575098,
          -2.2689281319001187,
          -2.2611313398257917,
          2.4605197739247733
         ]
        },
        {
         "customdata": [
          [
           "skyscraper"
          ],
          [
           "castle"
          ],
          [
           "bridge"
          ],
          [
           "ancient ruins"
          ],
          [
           "modern house"
          ],
          [
           "cathedral"
          ],
          [
           "pagoda"
          ],
          [
           "lighthouse"
          ],
          [
           "pyramid"
          ],
          [
           "log cabin"
          ],
          [
           "treehouse"
          ],
          [
           "futuristic city"
          ]
         ],
         "hovertemplate": "category=architecture<br>PC1=%{x}<br>PC2=%{y}<br>PC3=%{z}<br>prompt=%{customdata[0]}<extra></extra>",
         "legendgroup": "architecture",
         "marker": {
          "color": "#19d3f3",
          "symbol": "circle"
         },
         "mode": "markers",
         "name": "architecture",
         "scene": "scene",
         "showlegend": true,
         "type": "scatter3d",
         "x": [
          1.11717023769771,
          8.115878238849334,
          4.614418305871083,
          8.656395899372258,
          8.198948926270715,
          -1.6880575269792968,
          4.6159292342522305,
          5.991475758310674,
          -4.446705186896014,
          9.012898396264388,
          8.903389717427977,
          -0.4842676617979483
         ],
         "y": [
          7.827840290237912,
          2.6184996709241224,
          4.442094273935052,
          5.599922577284065,
          -0.935543729250538,
          7.426935002633631,
          7.090239379455637,
          8.835697611780814,
          9.493287987278007,
          5.128895524464474,
          -3.666155152837408,
          5.061826376117886
         ],
         "z": [
          -2.195653727468019,
          2.5094182264038527,
          2.971940668225893,
          2.814252414923346,
          2.4181149903270374,
          5.655560466494175,
          -0.5791791013978178,
          -5.5565330122612755,
          0.44914827825479864,
          2.3150313732629253,
          -0.24238335565147334,
          -1.799041456912869
         ]
        },
        {
         "customdata": [
          [
           "car"
          ],
          [
           "airplane"
          ],
          [
           "bicycle"
          ],
          [
           "motorcycle"
          ],
          [
           "boat"
          ],
          [
           "train"
          ],
          [
           "helicopter"
          ],
          [
           "rocket"
          ],
          [
           "submarine"
          ],
          [
           "hot air balloon"
          ],
          [
           "sailboat"
          ],
          [
           "vintage car"
          ]
         ],
         "hovertemplate": "category=vehicles<br>PC1=%{x}<br>PC2=%{y}<br>PC3=%{z}<br>prompt=%{customdata[0]}<extra></extra>",
         "legendgroup": "vehicles",
         "marker": {
          "color": "#FF6692",
          "symbol": "circle"
         },
         "mode": "markers",
         "name": "vehicles",
         "scene": "scene",
         "showlegend": true,
         "type": "scatter3d",
         "x": [
          -1.8745729301953649,
          3.0838260436431337,
          -0.05761658911609967,
          3.924307389503812,
          4.533807462315398,
          7.062682330294121,
          1.8423125267533762,
          -2.3709777067691635,
          6.815468039439885,
          6.340602190604164,
          10.473160102603224,
          -1.960028256175538
         ],
         "y": [
          -5.753991692060865,
          3.905286482947233,
          -4.48366964690293,
          -5.978402953542394,
          0.05550378958020559,
          -4.808766918761876,
          1.31188024646136,
          2.8728461362809066,
          3.3291322364682587,
          1.6047855443572376,
          2.5746717115113182,
          -1.697242092732991
         ],
         "z": [
          4.42357949135624,
          -1.7174564566290735,
          5.023603085805217,
          5.981418946604796,
          4.518175026337907,
          7.090660131109208,
          -1.3834216691269046,
          -5.824700912620897,
          -3.1085499646945576,
          -7.563241352664905,
          -1.826220681592332,
          2.5470068335846503
         ]
        },
        {
         "customdata": [
          [
           "love"
          ],
          [
           "time"
          ],
          [
           "freedom"
          ],
          [
           "peace"
          ],
          [
           "chaos"
          ],
          [
           "infinity"
          ],
          [
           "balance"
          ],
          [
           "evolution"
          ],
          [
           "imagination"
          ],
          [
           "dreams"
          ],
          [
           "consciousness"
          ],
          [
           "harmony"
          ]
         ],
         "hovertemplate": "category=abstract_concepts<br>PC1=%{x}<br>PC2=%{y}<br>PC3=%{z}<br>prompt=%{customdata[0]}<extra></extra>",
         "legendgroup": "abstract_concepts",
         "marker": {
          "color": "#B6E880",
          "symbol": "circle"
         },
         "mode": "markers",
         "name": "abstract_concepts",
         "scene": "scene",
         "showlegend": true,
         "type": "scatter3d",
         "x": [
          -10.943457391751807,
          2.2481512576552265,
          6.821304613436925,
          -3.433029260806541,
          2.0737604833751266,
          4.17404222508519,
          -3.5415670682807594,
          -1.511013842909079,
          -7.802603540765293,
          7.766052455687306,
          -0.1057036616831181,
          -3.179706640024871
         ],
         "y": [
          -1.2869064309234783,
          -7.635770976387227,
          -2.9981960561071643,
          -4.77086156950431,
          3.243729148473553,
          -2.4701622697130503,
          2.920212620372444,
          3.067958422217453,
          -1.655019638327928,
          -7.137698455216005,
          0.6101280777374057,
          0.09606391521313784
         ],
         "z": [
          7.46847543836953,
          12.343747801020683,
          9.18397516729381,
          8.24146192751983,
          7.517982041423402,
          0.9236345644844806,
          -1.6229052770212313,
          -11.128839966890533,
          6.230690741881292,
          6.226313246473577,
          7.9580932072381545,
          13.871382548809885
         ]
        }
       ],
       "layout": {
        "legend": {
         "title": {
          "text": "category"
         },
         "tracegroupgap": 0
        },
        "scene": {
         "domain": {
          "x": [
           0,
           1
          ],
          "y": [
           0,
           1
          ]
         },
         "xaxis": {
          "title": {
           "text": "PC1"
          }
         },
         "yaxis": {
          "title": {
           "text": "PC2"
          }
         },
         "zaxis": {
          "title": {
           "text": "PC3"
          }
         }
        },
        "template": {
         "data": {
          "bar": [
           {
            "error_x": {
             "color": "#2a3f5f"
            },
            "error_y": {
             "color": "#2a3f5f"
            },
            "marker": {
             "line": {
              "color": "#E5ECF6",
              "width": 0.5
             },
             "pattern": {
              "fillmode": "overlay",
              "size": 10,
              "solidity": 0.2
             }
            },
            "type": "bar"
           }
          ],
          "barpolar": [
           {
            "marker": {
             "line": {
              "color": "#E5ECF6",
              "width": 0.5
             },
             "pattern": {
              "fillmode": "overlay",
              "size": 10,
              "solidity": 0.2
             }
            },
            "type": "barpolar"
           }
          ],
          "carpet": [
           {
            "aaxis": {
             "endlinecolor": "#2a3f5f",
             "gridcolor": "white",
             "linecolor": "white",
             "minorgridcolor": "white",
             "startlinecolor": "#2a3f5f"
            },
            "baxis": {
             "endlinecolor": "#2a3f5f",
             "gridcolor": "white",
             "linecolor": "white",
             "minorgridcolor": "white",
             "startlinecolor": "#2a3f5f"
            },
            "type": "carpet"
           }
          ],
          "choropleth": [
           {
            "colorbar": {
             "outlinewidth": 0,
             "ticks": ""
            },
            "type": "choropleth"
           }
          ],
          "contour": [
           {
            "colorbar": {
             "outlinewidth": 0,
             "ticks": ""
            },
            "colorscale": [
             [
              0,
              "#0d0887"
             ],
             [
              0.1111111111111111,
              "#46039f"
             ],
             [
              0.2222222222222222,
              "#7201a8"
             ],
             [
              0.3333333333333333,
              "#9c179e"
             ],
             [
              0.4444444444444444,
              "#bd3786"
             ],
             [
              0.5555555555555556,
              "#d8576b"
             ],
             [
              0.6666666666666666,
              "#ed7953"
             ],
             [
              0.7777777777777778,
              "#fb9f3a"
             ],
             [
              0.8888888888888888,
              "#fdca26"
             ],
             [
              1,
              "#f0f921"
             ]
            ],
            "type": "contour"
           }
          ],
          "contourcarpet": [
           {
            "colorbar": {
             "outlinewidth": 0,
             "ticks": ""
            },
            "type": "contourcarpet"
           }
          ],
          "heatmap": [
           {
            "colorbar": {
             "outlinewidth": 0,
             "ticks": ""
            },
            "colorscale": [
             [
              0,
              "#0d0887"
             ],
             [
              0.1111111111111111,
              "#46039f"
             ],
             [
              0.2222222222222222,
              "#7201a8"
             ],
             [
              0.3333333333333333,
              "#9c179e"
             ],
             [
              0.4444444444444444,
              "#bd3786"
             ],
             [
              0.5555555555555556,
              "#d8576b"
             ],
             [
              0.6666666666666666,
              "#ed7953"
             ],
             [
              0.7777777777777778,
              "#fb9f3a"
             ],
             [
              0.8888888888888888,
              "#fdca26"
             ],
             [
              1,
              "#f0f921"
             ]
            ],
            "type": "heatmap"
           }
          ],
          "heatmapgl": [
           {
            "colorbar": {
             "outlinewidth": 0,
             "ticks": ""
            },
            "colorscale": [
             [
              0,
              "#0d0887"
             ],
             [
              0.1111111111111111,
              "#46039f"
             ],
             [
              0.2222222222222222,
              "#7201a8"
             ],
             [
              0.3333333333333333,
              "#9c179e"
             ],
             [
              0.4444444444444444,
              "#bd3786"
             ],
             [
              0.5555555555555556,
              "#d8576b"
             ],
             [
              0.6666666666666666,
              "#ed7953"
             ],
             [
              0.7777777777777778,
              "#fb9f3a"
             ],
             [
              0.8888888888888888,
              "#fdca26"
             ],
             [
              1,
              "#f0f921"
             ]
            ],
            "type": "heatmapgl"
           }
          ],
          "histogram": [
           {
            "marker": {
             "pattern": {
              "fillmode": "overlay",
              "size": 10,
              "solidity": 0.2
             }
            },
            "type": "histogram"
           }
          ],
          "histogram2d": [
           {
            "colorbar": {
             "outlinewidth": 0,
             "ticks": ""
            },
            "colorscale": [
             [
              0,
              "#0d0887"
             ],
             [
              0.1111111111111111,
              "#46039f"
             ],
             [
              0.2222222222222222,
              "#7201a8"
             ],
             [
              0.3333333333333333,
              "#9c179e"
             ],
             [
              0.4444444444444444,
              "#bd3786"
             ],
             [
              0.5555555555555556,
              "#d8576b"
             ],
             [
              0.6666666666666666,
              "#ed7953"
             ],
             [
              0.7777777777777778,
              "#fb9f3a"
             ],
             [
              0.8888888888888888,
              "#fdca26"
             ],
             [
              1,
              "#f0f921"
             ]
            ],
            "type": "histogram2d"
           }
          ],
          "histogram2dcontour": [
           {
            "colorbar": {
             "outlinewidth": 0,
             "ticks": ""
            },
            "colorscale": [
             [
              0,
              "#0d0887"
             ],
             [
              0.1111111111111111,
              "#46039f"
             ],
             [
              0.2222222222222222,
              "#7201a8"
             ],
             [
              0.3333333333333333,
              "#9c179e"
             ],
             [
              0.4444444444444444,
              "#bd3786"
             ],
             [
              0.5555555555555556,
              "#d8576b"
             ],
             [
              0.6666666666666666,
              "#ed7953"
             ],
             [
              0.7777777777777778,
              "#fb9f3a"
             ],
             [
              0.8888888888888888,
              "#fdca26"
             ],
             [
              1,
              "#f0f921"
             ]
            ],
            "type": "histogram2dcontour"
           }
          ],
          "mesh3d": [
           {
            "colorbar": {
             "outlinewidth": 0,
             "ticks": ""
            },
            "type": "mesh3d"
           }
          ],
          "parcoords": [
           {
            "line": {
             "colorbar": {
              "outlinewidth": 0,
              "ticks": ""
             }
            },
            "type": "parcoords"
           }
          ],
          "pie": [
           {
            "automargin": true,
            "type": "pie"
           }
          ],
          "scatter": [
           {
            "fillpattern": {
             "fillmode": "overlay",
             "size": 10,
             "solidity": 0.2
            },
            "type": "scatter"
           }
          ],
          "scatter3d": [
           {
            "line": {
             "colorbar": {
              "outlinewidth": 0,
              "ticks": ""
             }
            },
            "marker": {
             "colorbar": {
              "outlinewidth": 0,
              "ticks": ""
             }
            },
            "type": "scatter3d"
           }
          ],
          "scattercarpet": [
           {
            "marker": {
             "colorbar": {
              "outlinewidth": 0,
              "ticks": ""
             }
            },
            "type": "scattercarpet"
           }
          ],
          "scattergeo": [
           {
            "marker": {
             "colorbar": {
              "outlinewidth": 0,
              "ticks": ""
             }
            },
            "type": "scattergeo"
           }
          ],
          "scattergl": [
           {
            "marker": {
             "colorbar": {
              "outlinewidth": 0,
              "ticks": ""
             }
            },
            "type": "scattergl"
           }
          ],
          "scattermapbox": [
           {
            "marker": {
             "colorbar": {
              "outlinewidth": 0,
              "ticks": ""
             }
            },
            "type": "scattermapbox"
           }
          ],
          "scatterpolar": [
           {
            "marker": {
             "colorbar": {
              "outlinewidth": 0,
              "ticks": ""
             }
            },
            "type": "scatterpolar"
           }
          ],
          "scatterpolargl": [
           {
            "marker": {
             "colorbar": {
              "outlinewidth": 0,
              "ticks": ""
             }
            },
            "type": "scatterpolargl"
           }
          ],
          "scatterternary": [
           {
            "marker": {
             "colorbar": {
              "outlinewidth": 0,
              "ticks": ""
             }
            },
            "type": "scatterternary"
           }
          ],
          "surface": [
           {
            "colorbar": {
             "outlinewidth": 0,
             "ticks": ""
            },
            "colorscale": [
             [
              0,
              "#0d0887"
             ],
             [
              0.1111111111111111,
              "#46039f"
             ],
             [
              0.2222222222222222,
              "#7201a8"
             ],
             [
              0.3333333333333333,
              "#9c179e"
             ],
             [
              0.4444444444444444,
              "#bd3786"
             ],
             [
              0.5555555555555556,
              "#d8576b"
             ],
             [
              0.6666666666666666,
              "#ed7953"
             ],
             [
              0.7777777777777778,
              "#fb9f3a"
             ],
             [
              0.8888888888888888,
              "#fdca26"
             ],
             [
              1,
              "#f0f921"
             ]
            ],
            "type": "surface"
           }
          ],
          "table": [
           {
            "cells": {
             "fill": {
              "color": "#EBF0F8"
             },
             "line": {
              "color": "white"
             }
            },
            "header": {
             "fill": {
              "color": "#C8D4E3"
             },
             "line": {
              "color": "white"
             }
            },
            "type": "table"
           }
          ]
         },
         "layout": {
          "annotationdefaults": {
           "arrowcolor": "#2a3f5f",
           "arrowhead": 0,
           "arrowwidth": 1
          },
          "autotypenumbers": "strict",
          "coloraxis": {
           "colorbar": {
            "outlinewidth": 0,
            "ticks": ""
           }
          },
          "colorscale": {
           "diverging": [
            [
             0,
             "#8e0152"
            ],
            [
             0.1,
             "#c51b7d"
            ],
            [
             0.2,
             "#de77ae"
            ],
            [
             0.3,
             "#f1b6da"
            ],
            [
             0.4,
             "#fde0ef"
            ],
            [
             0.5,
             "#f7f7f7"
            ],
            [
             0.6,
             "#e6f5d0"
            ],
            [
             0.7,
             "#b8e186"
            ],
            [
             0.8,
             "#7fbc41"
            ],
            [
             0.9,
             "#4d9221"
            ],
            [
             1,
             "#276419"
            ]
           ],
           "sequential": [
            [
             0,
             "#0d0887"
            ],
            [
             0.1111111111111111,
             "#46039f"
            ],
            [
             0.2222222222222222,
             "#7201a8"
            ],
            [
             0.3333333333333333,
             "#9c179e"
            ],
            [
             0.4444444444444444,
             "#bd3786"
            ],
            [
             0.5555555555555556,
             "#d8576b"
            ],
            [
             0.6666666666666666,
             "#ed7953"
            ],
            [
             0.7777777777777778,
             "#fb9f3a"
            ],
            [
             0.8888888888888888,
             "#fdca26"
            ],
            [
             1,
             "#f0f921"
            ]
           ],
           "sequentialminus": [
            [
             0,
             "#0d0887"
            ],
            [
             0.1111111111111111,
             "#46039f"
            ],
            [
             0.2222222222222222,
             "#7201a8"
            ],
            [
             0.3333333333333333,
             "#9c179e"
            ],
            [
             0.4444444444444444,
             "#bd3786"
            ],
            [
             0.5555555555555556,
             "#d8576b"
            ],
            [
             0.6666666666666666,
             "#ed7953"
            ],
            [
             0.7777777777777778,
             "#fb9f3a"
            ],
            [
             0.8888888888888888,
             "#fdca26"
            ],
            [
             1,
             "#f0f921"
            ]
           ]
          },
          "colorway": [
           "#636efa",
           "#EF553B",
           "#00cc96",
           "#ab63fa",
           "#FFA15A",
           "#19d3f3",
           "#FF6692",
           "#B6E880",
           "#FF97FF",
           "#FECB52"
          ],
          "font": {
           "color": "#2a3f5f"
          },
          "geo": {
           "bgcolor": "white",
           "lakecolor": "white",
           "landcolor": "#E5ECF6",
           "showlakes": true,
           "showland": true,
           "subunitcolor": "white"
          },
          "hoverlabel": {
           "align": "left"
          },
          "hovermode": "closest",
          "mapbox": {
           "style": "light"
          },
          "paper_bgcolor": "white",
          "plot_bgcolor": "#E5ECF6",
          "polar": {
           "angularaxis": {
            "gridcolor": "white",
            "linecolor": "white",
            "ticks": ""
           },
           "bgcolor": "#E5ECF6",
           "radialaxis": {
            "gridcolor": "white",
            "linecolor": "white",
            "ticks": ""
           }
          },
          "scene": {
           "xaxis": {
            "backgroundcolor": "#E5ECF6",
            "gridcolor": "white",
            "gridwidth": 2,
            "linecolor": "white",
            "showbackground": true,
            "ticks": "",
            "zerolinecolor": "white"
           },
           "yaxis": {
            "backgroundcolor": "#E5ECF6",
            "gridcolor": "white",
            "gridwidth": 2,
            "linecolor": "white",
            "showbackground": true,
            "ticks": "",
            "zerolinecolor": "white"
           },
           "zaxis": {
            "backgroundcolor": "#E5ECF6",
            "gridcolor": "white",
            "gridwidth": 2,
            "linecolor": "white",
            "showbackground": true,
            "ticks": "",
            "zerolinecolor": "white"
           }
          },
          "shapedefaults": {
           "line": {
            "color": "#2a3f5f"
           }
          },
          "ternary": {
           "aaxis": {
            "gridcolor": "white",
            "linecolor": "white",
            "ticks": ""
           },
           "baxis": {
            "gridcolor": "white",
            "linecolor": "white",
            "ticks": ""
           },
           "bgcolor": "#E5ECF6",
           "caxis": {
            "gridcolor": "white",
            "linecolor": "white",
            "ticks": ""
           }
          },
          "title": {
           "x": 0.05
          },
          "xaxis": {
           "automargin": true,
           "gridcolor": "white",
           "linecolor": "white",
           "ticks": "",
           "title": {
            "standoff": 15
           },
           "zerolinecolor": "white",
           "zerolinewidth": 2
          },
          "yaxis": {
           "automargin": true,
           "gridcolor": "white",
           "linecolor": "white",
           "ticks": "",
           "title": {
            "standoff": 15
           },
           "zerolinecolor": "white",
           "zerolinewidth": 2
          }
         }
        },
        "title": {
         "text": "Best Layers for Finetuning: 3D PCA Embedding of Prompt Mean Layer Activities"
        }
       }
      },
      "text/html": [
       "<div>                            <div id=\"03ae0a75-bb09-4f43-ab5e-ff89c4318e39\" class=\"plotly-graph-div\" style=\"height:525px; width:100%;\"></div>            <script type=\"text/javascript\">                require([\"plotly\"], function(Plotly) {                    window.PLOTLYENV=window.PLOTLYENV || {};                                    if (document.getElementById(\"03ae0a75-bb09-4f43-ab5e-ff89c4318e39\")) {                    Plotly.newPlot(                        \"03ae0a75-bb09-4f43-ab5e-ff89c4318e39\",                        [{\"customdata\":[[\"smiling portrait\"],[\"frowning expression\"],[\"surprised look\"],[\"angry glare\"],[\"neutral expression\"],[\"bearded individual\"],[\"freckled complexion\"],[\"face\"],[\"laughing face\"],[\"crying expression\"],[\"confused look\"],[\"excited smile\"],[\"thoughtful gaze\"],[\"wrinkled face\"],[\"dimpled cheeks\"],[\"strong jawline\"],[\"high cheekbones\"],[\"bushy eyebrows\"]],\"hovertemplate\":\"category=facial_features\\u003cbr\\u003ePC1=%{x}\\u003cbr\\u003ePC2=%{y}\\u003cbr\\u003ePC3=%{z}\\u003cbr\\u003eprompt=%{customdata[0]}\\u003cextra\\u003e\\u003c\\u002fextra\\u003e\",\"legendgroup\":\"facial_features\",\"marker\":{\"color\":\"#636efa\",\"symbol\":\"circle\"},\"mode\":\"markers\",\"name\":\"facial_features\",\"scene\":\"scene\",\"showlegend\":true,\"x\":[-0.006629200634805422,-9.588655008131344,-22.535326844394426,-7.307526750780857,-8.013311262907923,-8.990307560372646,-18.060688412130396,-8.817970361718427,-14.198436378324027,-10.523746146647065,-16.97033990594699,-12.504555025429115,3.683203299071778,-13.37618353946267,-15.968366342122009,-4.985184430483768,-10.703040730834234,-4.102615963736916],\"y\":[4.90104603856675,8.758457384654411,5.189025726374061,10.0199668494119,0.3337785384634156,4.7529034926582385,8.438694192948185,3.1555610333521567,8.850884862545454,0.999382433379495,7.214381345846798,4.3493708710340515,0.19839685917195632,11.739154344498358,8.44400716366272,4.302211718351724,5.699129113002607,3.9896937378672956],\"z\":[7.160246354227352,9.338892706096237,6.495543757403053,4.654104515802925,7.735212822436805,2.3521612860900185,-6.899594888304357,9.527603145478384,11.521307401603602,8.873512393083582,10.194487619679123,7.965991505131169,6.056789778318545,2.1530070286439127,-1.5542954086823633,8.510390779850134,2.791403818790375,0.3945578355146063],\"type\":\"scatter3d\"},{\"customdata\":[[\"landscape\"],[\"seascape\"],[\"mountain range\"],[\"forest\"],[\"sunset\"],[\"sunrise\"],[\"beach\"],[\"desert\"],[\"waterfall\"],[\"canyon\"],[\"meadow\"],[\"tropical island\"],[\"arctic tundra\"],[\"savanna\"],[\"volcano\"],[\"coral reef\"],[\"rainforest\"],[\"autumn leaves\"],[\"spring blossoms\"],[\"misty morning\"]],\"hovertemplate\":\"category=nature\\u003cbr\\u003ePC1=%{x}\\u003cbr\\u003ePC2=%{y}\\u003cbr\\u003ePC3=%{z}\\u003cbr\\u003eprompt=%{customdata[0]}\\u003cextra\\u003e\\u003c\\u002fextra\\u003e\",\"legendgroup\":\"nature\",\"marker\":{\"color\":\"#EF553B\",\"symbol\":\"circle\"},\"mode\":\"markers\",\"name\":\"nature\",\"scene\":\"scene\",\"showlegend\":true,\"x\":[15.708794212159097,12.670090004244242,19.487843028973078,22.254550212890447,8.508815655699328,10.922607688164677,13.51152872447961,13.100291820115105,16.367353636917144,15.845355232573876,22.32812864277217,20.011762538372345,12.56174220747826,4.576615479422206,0.13117058858737293,12.30426555155246,16.50450753973649,16.86228089833313,10.089734543129206,26.596859809370482],\"y\":[7.65723802957646,7.831958578075072,10.69324712761285,4.605364278651284,3.917879045622227,5.449354623929827,1.344019141203225,3.521742385685695,2.914447722343072,5.623854019175711,2.08835053452151,8.187619417241375,8.987868487832808,1.0177887898891542,6.9217293361482835,0.3501840578395856,2.765891105086442,-2.939567664524198,-2.369559948579836,7.027282587262112],\"z\":[5.23218574702531,-2.0773215289522273,1.1613740112017277,4.006721263499435,-2.248427694307869,-0.9532919300181063,3.705196725344555,-0.850996860104276,-6.734669636401004,0.003725241944624066,0.0677751154732097,-5.314155782826171,-8.877625751651149,3.1227607433634126,-7.638703849679293,-6.8735225636104405,-2.476479160298495,1.3943128169363779,1.148346387116004,-8.186286315946532],\"type\":\"scatter3d\"},{\"customdata\":[[\"dog\"],[\"cat\"],[\"bird\"],[\"fish\"],[\"elephant\"],[\"lion\"],[\"giraffe\"],[\"penguin\"],[\"dolphin\"],[\"butterfly\"],[\"owl\"],[\"tiger\"],[\"panda\"],[\"koala\"],[\"kangaroo\"],[\"zebra\"],[\"rhinoceros\"],[\"cheetah\"],[\"polar bear\"]],\"hovertemplate\":\"category=animals\\u003cbr\\u003ePC1=%{x}\\u003cbr\\u003ePC2=%{y}\\u003cbr\\u003ePC3=%{z}\\u003cbr\\u003eprompt=%{customdata[0]}\\u003cextra\\u003e\\u003c\\u002fextra\\u003e\",\"legendgroup\":\"animals\",\"marker\":{\"color\":\"#00cc96\",\"symbol\":\"circle\"},\"mode\":\"markers\",\"name\":\"animals\",\"scene\":\"scene\",\"showlegend\":true,\"x\":[5.196233332480462,0.6034926899399711,-0.5453215404958557,2.4980745385992007,-4.4326285926602065,2.650919102960914,-10.791995625153993,-12.877502381836697,-6.449482672778914,-0.49096185755440086,-5.027156560787952,7.84957944312119,-10.553427933092921,-12.371147923754485,-5.683758219822939,-11.44282757443853,-3.7016732397422762,-10.04612077098174,-10.244691226859729],\"y\":[-6.5188827999046,-7.174234285637531,0.49244097961188094,-2.137850528883717,2.406041769757319,2.338818104808043,3.6372608495285217,10.82593941007911,10.136859231964062,-1.226523589993533,-0.4505495503572274,-4.174378137391378,4.562920564965737,0.4437778987554715,-5.377987395214128,7.564736873922699,-0.4496852074707681,-0.7590027981924852,5.592822205424837],\"z\":[5.776661539234189,0.32232217337975844,1.885984256772729,-1.2861363424483112,-1.7847154642631702,3.1832858063946823,-7.935089046856792,-11.458571969517399,-8.741487148791219,-5.058821096050821,-4.610554734554733,-0.21743651697310196,-4.344424013113682,-7.7037779133470075,-4.084735953189556,-1.7175339925517157,-2.2881618276496596,-4.431715002965285,-9.707790777627611],\"type\":\"scatter3d\"},{\"customdata\":[[\"apple\"],[\"banana\"],[\"pizza\"],[\"sushi\"],[\"pasta\"],[\"steak\"],[\"salad\"],[\"ice cream\"],[\"chocolate\"],[\"burger\"],[\"taco\"],[\"soup\"],[\"cake\"],[\"fruit platter\"],[\"sandwich\"],[\"roast chicken\"],[\"seafood platter\"]],\"hovertemplate\":\"category=food\\u003cbr\\u003ePC1=%{x}\\u003cbr\\u003ePC2=%{y}\\u003cbr\\u003ePC3=%{z}\\u003cbr\\u003eprompt=%{customdata[0]}\\u003cextra\\u003e\\u003c\\u002fextra\\u003e\",\"legendgroup\":\"food\",\"marker\":{\"color\":\"#ab63fa\",\"symbol\":\"circle\"},\"mode\":\"markers\",\"name\":\"food\",\"scene\":\"scene\",\"showlegend\":true,\"x\":[-0.2058920627828723,-6.273761493636396,2.719411926875241,3.2774039705546625,1.2444167715956969,4.134642225199252,-5.886045707424896,-3.6409499611700094,-1.077188358059096,0.6778843653270337,1.5442703323056504,6.842144568425589,-3.7415009237344283,10.439163435250324,-3.133876844845669,6.601868439902624,11.31795360166468],\"y\":[-3.031710070884264,-2.522968005012219,-14.881203875970167,-10.785670678939896,-7.200066815864327,-12.46597469001457,-2.8815727142646215,-7.996149238534666,-12.370271302410979,-10.078433610111174,-9.40954997755165,-7.698252723818621,-8.098718248010776,-9.684786562863591,-5.275116283892266,-6.888247205019514,-11.770760783293055],\"z\":[-7.223375157938352,-6.4602038953790535,-1.0860881075422664,1.0285638114541096,-0.5081262905315076,-1.0326899812958275,-1.5173985574861817,-6.1639068517323485,2.371498831472227,-6.8005200581767244,-3.438363798073718,-1.7138414298800084,-0.07683902880832465,1.3819521263692451,-1.4272398251377467,-2.453278878918297,2.6223617239502137],\"type\":\"scatter3d\"},{\"customdata\":[[\"guitar\"],[\"piano\"],[\"violin\"],[\"drums\"],[\"saxophone\"],[\"trumpet\"],[\"flute\"],[\"cello\"],[\"harp\"],[\"clarinet\"],[\"accordion\"],[\"electric guitar\"],[\"synthesizer\"],[\"DJ turntables\"],[\"orchestra\"],[\"rock band\"],[\"jazz ensemble\"]],\"hovertemplate\":\"category=music\\u003cbr\\u003ePC1=%{x}\\u003cbr\\u003ePC2=%{y}\\u003cbr\\u003ePC3=%{z}\\u003cbr\\u003eprompt=%{customdata[0]}\\u003cextra\\u003e\\u003c\\u002fextra\\u003e\",\"legendgroup\":\"music\",\"marker\":{\"color\":\"#FFA15A\",\"symbol\":\"circle\"},\"mode\":\"markers\",\"name\":\"music\",\"scene\":\"scene\",\"showlegend\":true,\"x\":[-11.297273775394403,-11.007320242283507,-11.571480819253289,4.207206099257518,-9.464685412637214,-7.3052114882333425,-1.8143384499390767,-15.566236435464141,-7.076634638490987,-6.795046206729422,-10.471004198636185,-6.417666742712671,-10.51498703750502,-7.6454098619705615,-12.005628098294011,-1.8273705595921577,-2.7677514252572237],\"y\":[-4.508765321502568,-5.823294248601032,-10.18260814868818,-12.780948968660299,-9.993425241531872,-4.826119427738672,-7.521975859936165,-2.5794955275717606,-0.8417141039599307,-1.6376779082161772,-9.582324260943219,-5.5783491105866805,-0.362169145466271,-3.559867278923088,-5.875272700101994,-6.6235724155061035,-5.187277945228093],\"z\":[-0.697251371518272,-2.109495573850157,-11.114554126563196,4.513201133270738,-7.666991687180372,-1.5299810727521843,-3.6438414027388384,-6.295158128671874,-4.601531146166733,-4.182580068100788,-2.7012187676614636,-6.4127064248974,0.7219333224350171,-4.527870707575098,-2.2689281319001187,-2.2611313398257917,2.4605197739247733],\"type\":\"scatter3d\"},{\"customdata\":[[\"skyscraper\"],[\"castle\"],[\"bridge\"],[\"ancient ruins\"],[\"modern house\"],[\"cathedral\"],[\"pagoda\"],[\"lighthouse\"],[\"pyramid\"],[\"log cabin\"],[\"treehouse\"],[\"futuristic city\"]],\"hovertemplate\":\"category=architecture\\u003cbr\\u003ePC1=%{x}\\u003cbr\\u003ePC2=%{y}\\u003cbr\\u003ePC3=%{z}\\u003cbr\\u003eprompt=%{customdata[0]}\\u003cextra\\u003e\\u003c\\u002fextra\\u003e\",\"legendgroup\":\"architecture\",\"marker\":{\"color\":\"#19d3f3\",\"symbol\":\"circle\"},\"mode\":\"markers\",\"name\":\"architecture\",\"scene\":\"scene\",\"showlegend\":true,\"x\":[1.11717023769771,8.115878238849334,4.614418305871083,8.656395899372258,8.198948926270715,-1.6880575269792968,4.6159292342522305,5.991475758310674,-4.446705186896014,9.012898396264388,8.903389717427977,-0.4842676617979483],\"y\":[7.827840290237912,2.6184996709241224,4.442094273935052,5.599922577284065,-0.935543729250538,7.426935002633631,7.090239379455637,8.835697611780814,9.493287987278007,5.128895524464474,-3.666155152837408,5.061826376117886],\"z\":[-2.195653727468019,2.5094182264038527,2.971940668225893,2.814252414923346,2.4181149903270374,5.655560466494175,-0.5791791013978178,-5.5565330122612755,0.44914827825479864,2.3150313732629253,-0.24238335565147334,-1.799041456912869],\"type\":\"scatter3d\"},{\"customdata\":[[\"car\"],[\"airplane\"],[\"bicycle\"],[\"motorcycle\"],[\"boat\"],[\"train\"],[\"helicopter\"],[\"rocket\"],[\"submarine\"],[\"hot air balloon\"],[\"sailboat\"],[\"vintage car\"]],\"hovertemplate\":\"category=vehicles\\u003cbr\\u003ePC1=%{x}\\u003cbr\\u003ePC2=%{y}\\u003cbr\\u003ePC3=%{z}\\u003cbr\\u003eprompt=%{customdata[0]}\\u003cextra\\u003e\\u003c\\u002fextra\\u003e\",\"legendgroup\":\"vehicles\",\"marker\":{\"color\":\"#FF6692\",\"symbol\":\"circle\"},\"mode\":\"markers\",\"name\":\"vehicles\",\"scene\":\"scene\",\"showlegend\":true,\"x\":[-1.8745729301953649,3.0838260436431337,-0.05761658911609967,3.924307389503812,4.533807462315398,7.062682330294121,1.8423125267533762,-2.3709777067691635,6.815468039439885,6.340602190604164,10.473160102603224,-1.960028256175538],\"y\":[-5.753991692060865,3.905286482947233,-4.48366964690293,-5.978402953542394,0.05550378958020559,-4.808766918761876,1.31188024646136,2.8728461362809066,3.3291322364682587,1.6047855443572376,2.5746717115113182,-1.697242092732991],\"z\":[4.42357949135624,-1.7174564566290735,5.023603085805217,5.981418946604796,4.518175026337907,7.090660131109208,-1.3834216691269046,-5.824700912620897,-3.1085499646945576,-7.563241352664905,-1.826220681592332,2.5470068335846503],\"type\":\"scatter3d\"},{\"customdata\":[[\"love\"],[\"time\"],[\"freedom\"],[\"peace\"],[\"chaos\"],[\"infinity\"],[\"balance\"],[\"evolution\"],[\"imagination\"],[\"dreams\"],[\"consciousness\"],[\"harmony\"]],\"hovertemplate\":\"category=abstract_concepts\\u003cbr\\u003ePC1=%{x}\\u003cbr\\u003ePC2=%{y}\\u003cbr\\u003ePC3=%{z}\\u003cbr\\u003eprompt=%{customdata[0]}\\u003cextra\\u003e\\u003c\\u002fextra\\u003e\",\"legendgroup\":\"abstract_concepts\",\"marker\":{\"color\":\"#B6E880\",\"symbol\":\"circle\"},\"mode\":\"markers\",\"name\":\"abstract_concepts\",\"scene\":\"scene\",\"showlegend\":true,\"x\":[-10.943457391751807,2.2481512576552265,6.821304613436925,-3.433029260806541,2.0737604833751266,4.17404222508519,-3.5415670682807594,-1.511013842909079,-7.802603540765293,7.766052455687306,-0.1057036616831181,-3.179706640024871],\"y\":[-1.2869064309234783,-7.635770976387227,-2.9981960561071643,-4.77086156950431,3.243729148473553,-2.4701622697130503,2.920212620372444,3.067958422217453,-1.655019638327928,-7.137698455216005,0.6101280777374057,0.09606391521313784],\"z\":[7.46847543836953,12.343747801020683,9.18397516729381,8.24146192751983,7.517982041423402,0.9236345644844806,-1.6229052770212313,-11.128839966890533,6.230690741881292,6.226313246473577,7.9580932072381545,13.871382548809885],\"type\":\"scatter3d\"}],                        {\"template\":{\"data\":{\"histogram2dcontour\":[{\"type\":\"histogram2dcontour\",\"colorbar\":{\"outlinewidth\":0,\"ticks\":\"\"},\"colorscale\":[[0.0,\"#0d0887\"],[0.1111111111111111,\"#46039f\"],[0.2222222222222222,\"#7201a8\"],[0.3333333333333333,\"#9c179e\"],[0.4444444444444444,\"#bd3786\"],[0.5555555555555556,\"#d8576b\"],[0.6666666666666666,\"#ed7953\"],[0.7777777777777778,\"#fb9f3a\"],[0.8888888888888888,\"#fdca26\"],[1.0,\"#f0f921\"]]}],\"choropleth\":[{\"type\":\"choropleth\",\"colorbar\":{\"outlinewidth\":0,\"ticks\":\"\"}}],\"histogram2d\":[{\"type\":\"histogram2d\",\"colorbar\":{\"outlinewidth\":0,\"ticks\":\"\"},\"colorscale\":[[0.0,\"#0d0887\"],[0.1111111111111111,\"#46039f\"],[0.2222222222222222,\"#7201a8\"],[0.3333333333333333,\"#9c179e\"],[0.4444444444444444,\"#bd3786\"],[0.5555555555555556,\"#d8576b\"],[0.6666666666666666,\"#ed7953\"],[0.7777777777777778,\"#fb9f3a\"],[0.8888888888888888,\"#fdca26\"],[1.0,\"#f0f921\"]]}],\"heatmap\":[{\"type\":\"heatmap\",\"colorbar\":{\"outlinewidth\":0,\"ticks\":\"\"},\"colorscale\":[[0.0,\"#0d0887\"],[0.1111111111111111,\"#46039f\"],[0.2222222222222222,\"#7201a8\"],[0.3333333333333333,\"#9c179e\"],[0.4444444444444444,\"#bd3786\"],[0.5555555555555556,\"#d8576b\"],[0.6666666666666666,\"#ed7953\"],[0.7777777777777778,\"#fb9f3a\"],[0.8888888888888888,\"#fdca26\"],[1.0,\"#f0f921\"]]}],\"heatmapgl\":[{\"type\":\"heatmapgl\",\"colorbar\":{\"outlinewidth\":0,\"ticks\":\"\"},\"colorscale\":[[0.0,\"#0d0887\"],[0.1111111111111111,\"#46039f\"],[0.2222222222222222,\"#7201a8\"],[0.3333333333333333,\"#9c179e\"],[0.4444444444444444,\"#bd3786\"],[0.5555555555555556,\"#d8576b\"],[0.6666666666666666,\"#ed7953\"],[0.7777777777777778,\"#fb9f3a\"],[0.8888888888888888,\"#fdca26\"],[1.0,\"#f0f921\"]]}],\"contourcarpet\":[{\"type\":\"contourcarpet\",\"colorbar\":{\"outlinewidth\":0,\"ticks\":\"\"}}],\"contour\":[{\"type\":\"contour\",\"colorbar\":{\"outlinewidth\":0,\"ticks\":\"\"},\"colorscale\":[[0.0,\"#0d0887\"],[0.1111111111111111,\"#46039f\"],[0.2222222222222222,\"#7201a8\"],[0.3333333333333333,\"#9c179e\"],[0.4444444444444444,\"#bd3786\"],[0.5555555555555556,\"#d8576b\"],[0.6666666666666666,\"#ed7953\"],[0.7777777777777778,\"#fb9f3a\"],[0.8888888888888888,\"#fdca26\"],[1.0,\"#f0f921\"]]}],\"surface\":[{\"type\":\"surface\",\"colorbar\":{\"outlinewidth\":0,\"ticks\":\"\"},\"colorscale\":[[0.0,\"#0d0887\"],[0.1111111111111111,\"#46039f\"],[0.2222222222222222,\"#7201a8\"],[0.3333333333333333,\"#9c179e\"],[0.4444444444444444,\"#bd3786\"],[0.5555555555555556,\"#d8576b\"],[0.6666666666666666,\"#ed7953\"],[0.7777777777777778,\"#fb9f3a\"],[0.8888888888888888,\"#fdca26\"],[1.0,\"#f0f921\"]]}],\"mesh3d\":[{\"type\":\"mesh3d\",\"colorbar\":{\"outlinewidth\":0,\"ticks\":\"\"}}],\"scatter\":[{\"fillpattern\":{\"fillmode\":\"overlay\",\"size\":10,\"solidity\":0.2},\"type\":\"scatter\"}],\"parcoords\":[{\"type\":\"parcoords\",\"line\":{\"colorbar\":{\"outlinewidth\":0,\"ticks\":\"\"}}}],\"scatterpolargl\":[{\"type\":\"scatterpolargl\",\"marker\":{\"colorbar\":{\"outlinewidth\":0,\"ticks\":\"\"}}}],\"bar\":[{\"error_x\":{\"color\":\"#2a3f5f\"},\"error_y\":{\"color\":\"#2a3f5f\"},\"marker\":{\"line\":{\"color\":\"#E5ECF6\",\"width\":0.5},\"pattern\":{\"fillmode\":\"overlay\",\"size\":10,\"solidity\":0.2}},\"type\":\"bar\"}],\"scattergeo\":[{\"type\":\"scattergeo\",\"marker\":{\"colorbar\":{\"outlinewidth\":0,\"ticks\":\"\"}}}],\"scatterpolar\":[{\"type\":\"scatterpolar\",\"marker\":{\"colorbar\":{\"outlinewidth\":0,\"ticks\":\"\"}}}],\"histogram\":[{\"marker\":{\"pattern\":{\"fillmode\":\"overlay\",\"size\":10,\"solidity\":0.2}},\"type\":\"histogram\"}],\"scattergl\":[{\"type\":\"scattergl\",\"marker\":{\"colorbar\":{\"outlinewidth\":0,\"ticks\":\"\"}}}],\"scatter3d\":[{\"type\":\"scatter3d\",\"line\":{\"colorbar\":{\"outlinewidth\":0,\"ticks\":\"\"}},\"marker\":{\"colorbar\":{\"outlinewidth\":0,\"ticks\":\"\"}}}],\"scattermapbox\":[{\"type\":\"scattermapbox\",\"marker\":{\"colorbar\":{\"outlinewidth\":0,\"ticks\":\"\"}}}],\"scatterternary\":[{\"type\":\"scatterternary\",\"marker\":{\"colorbar\":{\"outlinewidth\":0,\"ticks\":\"\"}}}],\"scattercarpet\":[{\"type\":\"scattercarpet\",\"marker\":{\"colorbar\":{\"outlinewidth\":0,\"ticks\":\"\"}}}],\"carpet\":[{\"aaxis\":{\"endlinecolor\":\"#2a3f5f\",\"gridcolor\":\"white\",\"linecolor\":\"white\",\"minorgridcolor\":\"white\",\"startlinecolor\":\"#2a3f5f\"},\"baxis\":{\"endlinecolor\":\"#2a3f5f\",\"gridcolor\":\"white\",\"linecolor\":\"white\",\"minorgridcolor\":\"white\",\"startlinecolor\":\"#2a3f5f\"},\"type\":\"carpet\"}],\"table\":[{\"cells\":{\"fill\":{\"color\":\"#EBF0F8\"},\"line\":{\"color\":\"white\"}},\"header\":{\"fill\":{\"color\":\"#C8D4E3\"},\"line\":{\"color\":\"white\"}},\"type\":\"table\"}],\"barpolar\":[{\"marker\":{\"line\":{\"color\":\"#E5ECF6\",\"width\":0.5},\"pattern\":{\"fillmode\":\"overlay\",\"size\":10,\"solidity\":0.2}},\"type\":\"barpolar\"}],\"pie\":[{\"automargin\":true,\"type\":\"pie\"}]},\"layout\":{\"autotypenumbers\":\"strict\",\"colorway\":[\"#636efa\",\"#EF553B\",\"#00cc96\",\"#ab63fa\",\"#FFA15A\",\"#19d3f3\",\"#FF6692\",\"#B6E880\",\"#FF97FF\",\"#FECB52\"],\"font\":{\"color\":\"#2a3f5f\"},\"hovermode\":\"closest\",\"hoverlabel\":{\"align\":\"left\"},\"paper_bgcolor\":\"white\",\"plot_bgcolor\":\"#E5ECF6\",\"polar\":{\"bgcolor\":\"#E5ECF6\",\"angularaxis\":{\"gridcolor\":\"white\",\"linecolor\":\"white\",\"ticks\":\"\"},\"radialaxis\":{\"gridcolor\":\"white\",\"linecolor\":\"white\",\"ticks\":\"\"}},\"ternary\":{\"bgcolor\":\"#E5ECF6\",\"aaxis\":{\"gridcolor\":\"white\",\"linecolor\":\"white\",\"ticks\":\"\"},\"baxis\":{\"gridcolor\":\"white\",\"linecolor\":\"white\",\"ticks\":\"\"},\"caxis\":{\"gridcolor\":\"white\",\"linecolor\":\"white\",\"ticks\":\"\"}},\"coloraxis\":{\"colorbar\":{\"outlinewidth\":0,\"ticks\":\"\"}},\"colorscale\":{\"sequential\":[[0.0,\"#0d0887\"],[0.1111111111111111,\"#46039f\"],[0.2222222222222222,\"#7201a8\"],[0.3333333333333333,\"#9c179e\"],[0.4444444444444444,\"#bd3786\"],[0.5555555555555556,\"#d8576b\"],[0.6666666666666666,\"#ed7953\"],[0.7777777777777778,\"#fb9f3a\"],[0.8888888888888888,\"#fdca26\"],[1.0,\"#f0f921\"]],\"sequentialminus\":[[0.0,\"#0d0887\"],[0.1111111111111111,\"#46039f\"],[0.2222222222222222,\"#7201a8\"],[0.3333333333333333,\"#9c179e\"],[0.4444444444444444,\"#bd3786\"],[0.5555555555555556,\"#d8576b\"],[0.6666666666666666,\"#ed7953\"],[0.7777777777777778,\"#fb9f3a\"],[0.8888888888888888,\"#fdca26\"],[1.0,\"#f0f921\"]],\"diverging\":[[0,\"#8e0152\"],[0.1,\"#c51b7d\"],[0.2,\"#de77ae\"],[0.3,\"#f1b6da\"],[0.4,\"#fde0ef\"],[0.5,\"#f7f7f7\"],[0.6,\"#e6f5d0\"],[0.7,\"#b8e186\"],[0.8,\"#7fbc41\"],[0.9,\"#4d9221\"],[1,\"#276419\"]]},\"xaxis\":{\"gridcolor\":\"white\",\"linecolor\":\"white\",\"ticks\":\"\",\"title\":{\"standoff\":15},\"zerolinecolor\":\"white\",\"automargin\":true,\"zerolinewidth\":2},\"yaxis\":{\"gridcolor\":\"white\",\"linecolor\":\"white\",\"ticks\":\"\",\"title\":{\"standoff\":15},\"zerolinecolor\":\"white\",\"automargin\":true,\"zerolinewidth\":2},\"scene\":{\"xaxis\":{\"backgroundcolor\":\"#E5ECF6\",\"gridcolor\":\"white\",\"linecolor\":\"white\",\"showbackground\":true,\"ticks\":\"\",\"zerolinecolor\":\"white\",\"gridwidth\":2},\"yaxis\":{\"backgroundcolor\":\"#E5ECF6\",\"gridcolor\":\"white\",\"linecolor\":\"white\",\"showbackground\":true,\"ticks\":\"\",\"zerolinecolor\":\"white\",\"gridwidth\":2},\"zaxis\":{\"backgroundcolor\":\"#E5ECF6\",\"gridcolor\":\"white\",\"linecolor\":\"white\",\"showbackground\":true,\"ticks\":\"\",\"zerolinecolor\":\"white\",\"gridwidth\":2}},\"shapedefaults\":{\"line\":{\"color\":\"#2a3f5f\"}},\"annotationdefaults\":{\"arrowcolor\":\"#2a3f5f\",\"arrowhead\":0,\"arrowwidth\":1},\"geo\":{\"bgcolor\":\"white\",\"landcolor\":\"#E5ECF6\",\"subunitcolor\":\"white\",\"showland\":true,\"showlakes\":true,\"lakecolor\":\"white\"},\"title\":{\"x\":0.05},\"mapbox\":{\"style\":\"light\"}}},\"scene\":{\"domain\":{\"x\":[0.0,1.0],\"y\":[0.0,1.0]},\"xaxis\":{\"title\":{\"text\":\"PC1\"}},\"yaxis\":{\"title\":{\"text\":\"PC2\"}},\"zaxis\":{\"title\":{\"text\":\"PC3\"}}},\"legend\":{\"title\":{\"text\":\"category\"},\"tracegroupgap\":0},\"title\":{\"text\":\"Best Layers for Finetuning: 3D PCA Embedding of Prompt Mean Layer Activities\"}},                        {\"responsive\": true}                    ).then(function(){\n",
       "                            \n",
       "var gd = document.getElementById('03ae0a75-bb09-4f43-ab5e-ff89c4318e39');\n",
       "var x = new MutationObserver(function (mutations, observer) {{\n",
       "        var display = window.getComputedStyle(gd).display;\n",
       "        if (!display || display === 'none') {{\n",
       "            console.log([gd, 'removed!']);\n",
       "            Plotly.purge(gd);\n",
       "            observer.disconnect();\n",
       "        }}\n",
       "}});\n",
       "\n",
       "// Listen for the removal of the full notebook cells\n",
       "var notebookContainer = gd.closest('#notebook-container');\n",
       "if (notebookContainer) {{\n",
       "    x.observe(notebookContainer, {childList: true});\n",
       "}}\n",
       "\n",
       "// Listen for the clearing of the current output cell\n",
       "var outputEl = gd.closest('.output');\n",
       "if (outputEl) {{\n",
       "    x.observe(outputEl, {childList: true});\n",
       "}}\n",
       "\n",
       "                        })                };                });            </script>        </div>"
      ]
     },
     "metadata": {},
     "output_type": "display_data"
    },
    {
     "data": {
      "application/vnd.plotly.v1+json": {
       "config": {
        "plotlyServerURL": "https://plot.ly"
       },
       "data": [
        {
         "alignmentgroup": "True",
         "hovertemplate": "Absolute Coefficient=%{x}<br>Layer=%{y}<extra></extra>",
         "legendgroup": "",
         "marker": {
          "color": "#636efa",
          "pattern": {
           "shape": ""
          }
         },
         "name": "",
         "offsetgroup": "",
         "orientation": "h",
         "showlegend": false,
         "textposition": "auto",
         "type": "bar",
         "x": [
          0.6624131157406609,
          0.43542145841188556,
          0.4313269107536032,
          0.39405263797962714,
          0.3515371267160113,
          0.26730343264724227,
          0.24709821332486465,
          0.23296507403978733,
          0.2172977562157051,
          0.19803348878037144
         ],
         "xaxis": "x",
         "y": [
          "transformer.single_transformer_blocks.7.attn.to_q",
          "transformer.single_transformer_blocks.3.attn.to_q",
          "transformer.transformer_blocks.16.ff.net.2",
          "transformer.transformer_blocks.14.attn.to_q",
          "transformer.transformer_blocks.10.ff_context.net.2",
          "transformer.transformer_blocks.3.norm1.linear",
          "transformer.transformer_blocks.13.ff.net.2",
          "transformer.transformer_blocks.18.attn.to_v",
          "transformer.single_transformer_blocks.0.attn.to_q",
          "transformer.single_transformer_blocks.18.attn.to_k"
         ],
         "yaxis": "y"
        }
       ],
       "layout": {
        "barmode": "relative",
        "legend": {
         "tracegroupgap": 0
        },
        "template": {
         "data": {
          "bar": [
           {
            "error_x": {
             "color": "#2a3f5f"
            },
            "error_y": {
             "color": "#2a3f5f"
            },
            "marker": {
             "line": {
              "color": "#E5ECF6",
              "width": 0.5
             },
             "pattern": {
              "fillmode": "overlay",
              "size": 10,
              "solidity": 0.2
             }
            },
            "type": "bar"
           }
          ],
          "barpolar": [
           {
            "marker": {
             "line": {
              "color": "#E5ECF6",
              "width": 0.5
             },
             "pattern": {
              "fillmode": "overlay",
              "size": 10,
              "solidity": 0.2
             }
            },
            "type": "barpolar"
           }
          ],
          "carpet": [
           {
            "aaxis": {
             "endlinecolor": "#2a3f5f",
             "gridcolor": "white",
             "linecolor": "white",
             "minorgridcolor": "white",
             "startlinecolor": "#2a3f5f"
            },
            "baxis": {
             "endlinecolor": "#2a3f5f",
             "gridcolor": "white",
             "linecolor": "white",
             "minorgridcolor": "white",
             "startlinecolor": "#2a3f5f"
            },
            "type": "carpet"
           }
          ],
          "choropleth": [
           {
            "colorbar": {
             "outlinewidth": 0,
             "ticks": ""
            },
            "type": "choropleth"
           }
          ],
          "contour": [
           {
            "colorbar": {
             "outlinewidth": 0,
             "ticks": ""
            },
            "colorscale": [
             [
              0,
              "#0d0887"
             ],
             [
              0.1111111111111111,
              "#46039f"
             ],
             [
              0.2222222222222222,
              "#7201a8"
             ],
             [
              0.3333333333333333,
              "#9c179e"
             ],
             [
              0.4444444444444444,
              "#bd3786"
             ],
             [
              0.5555555555555556,
              "#d8576b"
             ],
             [
              0.6666666666666666,
              "#ed7953"
             ],
             [
              0.7777777777777778,
              "#fb9f3a"
             ],
             [
              0.8888888888888888,
              "#fdca26"
             ],
             [
              1,
              "#f0f921"
             ]
            ],
            "type": "contour"
           }
          ],
          "contourcarpet": [
           {
            "colorbar": {
             "outlinewidth": 0,
             "ticks": ""
            },
            "type": "contourcarpet"
           }
          ],
          "heatmap": [
           {
            "colorbar": {
             "outlinewidth": 0,
             "ticks": ""
            },
            "colorscale": [
             [
              0,
              "#0d0887"
             ],
             [
              0.1111111111111111,
              "#46039f"
             ],
             [
              0.2222222222222222,
              "#7201a8"
             ],
             [
              0.3333333333333333,
              "#9c179e"
             ],
             [
              0.4444444444444444,
              "#bd3786"
             ],
             [
              0.5555555555555556,
              "#d8576b"
             ],
             [
              0.6666666666666666,
              "#ed7953"
             ],
             [
              0.7777777777777778,
              "#fb9f3a"
             ],
             [
              0.8888888888888888,
              "#fdca26"
             ],
             [
              1,
              "#f0f921"
             ]
            ],
            "type": "heatmap"
           }
          ],
          "heatmapgl": [
           {
            "colorbar": {
             "outlinewidth": 0,
             "ticks": ""
            },
            "colorscale": [
             [
              0,
              "#0d0887"
             ],
             [
              0.1111111111111111,
              "#46039f"
             ],
             [
              0.2222222222222222,
              "#7201a8"
             ],
             [
              0.3333333333333333,
              "#9c179e"
             ],
             [
              0.4444444444444444,
              "#bd3786"
             ],
             [
              0.5555555555555556,
              "#d8576b"
             ],
             [
              0.6666666666666666,
              "#ed7953"
             ],
             [
              0.7777777777777778,
              "#fb9f3a"
             ],
             [
              0.8888888888888888,
              "#fdca26"
             ],
             [
              1,
              "#f0f921"
             ]
            ],
            "type": "heatmapgl"
           }
          ],
          "histogram": [
           {
            "marker": {
             "pattern": {
              "fillmode": "overlay",
              "size": 10,
              "solidity": 0.2
             }
            },
            "type": "histogram"
           }
          ],
          "histogram2d": [
           {
            "colorbar": {
             "outlinewidth": 0,
             "ticks": ""
            },
            "colorscale": [
             [
              0,
              "#0d0887"
             ],
             [
              0.1111111111111111,
              "#46039f"
             ],
             [
              0.2222222222222222,
              "#7201a8"
             ],
             [
              0.3333333333333333,
              "#9c179e"
             ],
             [
              0.4444444444444444,
              "#bd3786"
             ],
             [
              0.5555555555555556,
              "#d8576b"
             ],
             [
              0.6666666666666666,
              "#ed7953"
             ],
             [
              0.7777777777777778,
              "#fb9f3a"
             ],
             [
              0.8888888888888888,
              "#fdca26"
             ],
             [
              1,
              "#f0f921"
             ]
            ],
            "type": "histogram2d"
           }
          ],
          "histogram2dcontour": [
           {
            "colorbar": {
             "outlinewidth": 0,
             "ticks": ""
            },
            "colorscale": [
             [
              0,
              "#0d0887"
             ],
             [
              0.1111111111111111,
              "#46039f"
             ],
             [
              0.2222222222222222,
              "#7201a8"
             ],
             [
              0.3333333333333333,
              "#9c179e"
             ],
             [
              0.4444444444444444,
              "#bd3786"
             ],
             [
              0.5555555555555556,
              "#d8576b"
             ],
             [
              0.6666666666666666,
              "#ed7953"
             ],
             [
              0.7777777777777778,
              "#fb9f3a"
             ],
             [
              0.8888888888888888,
              "#fdca26"
             ],
             [
              1,
              "#f0f921"
             ]
            ],
            "type": "histogram2dcontour"
           }
          ],
          "mesh3d": [
           {
            "colorbar": {
             "outlinewidth": 0,
             "ticks": ""
            },
            "type": "mesh3d"
           }
          ],
          "parcoords": [
           {
            "line": {
             "colorbar": {
              "outlinewidth": 0,
              "ticks": ""
             }
            },
            "type": "parcoords"
           }
          ],
          "pie": [
           {
            "automargin": true,
            "type": "pie"
           }
          ],
          "scatter": [
           {
            "fillpattern": {
             "fillmode": "overlay",
             "size": 10,
             "solidity": 0.2
            },
            "type": "scatter"
           }
          ],
          "scatter3d": [
           {
            "line": {
             "colorbar": {
              "outlinewidth": 0,
              "ticks": ""
             }
            },
            "marker": {
             "colorbar": {
              "outlinewidth": 0,
              "ticks": ""
             }
            },
            "type": "scatter3d"
           }
          ],
          "scattercarpet": [
           {
            "marker": {
             "colorbar": {
              "outlinewidth": 0,
              "ticks": ""
             }
            },
            "type": "scattercarpet"
           }
          ],
          "scattergeo": [
           {
            "marker": {
             "colorbar": {
              "outlinewidth": 0,
              "ticks": ""
             }
            },
            "type": "scattergeo"
           }
          ],
          "scattergl": [
           {
            "marker": {
             "colorbar": {
              "outlinewidth": 0,
              "ticks": ""
             }
            },
            "type": "scattergl"
           }
          ],
          "scattermapbox": [
           {
            "marker": {
             "colorbar": {
              "outlinewidth": 0,
              "ticks": ""
             }
            },
            "type": "scattermapbox"
           }
          ],
          "scatterpolar": [
           {
            "marker": {
             "colorbar": {
              "outlinewidth": 0,
              "ticks": ""
             }
            },
            "type": "scatterpolar"
           }
          ],
          "scatterpolargl": [
           {
            "marker": {
             "colorbar": {
              "outlinewidth": 0,
              "ticks": ""
             }
            },
            "type": "scatterpolargl"
           }
          ],
          "scatterternary": [
           {
            "marker": {
             "colorbar": {
              "outlinewidth": 0,
              "ticks": ""
             }
            },
            "type": "scatterternary"
           }
          ],
          "surface": [
           {
            "colorbar": {
             "outlinewidth": 0,
             "ticks": ""
            },
            "colorscale": [
             [
              0,
              "#0d0887"
             ],
             [
              0.1111111111111111,
              "#46039f"
             ],
             [
              0.2222222222222222,
              "#7201a8"
             ],
             [
              0.3333333333333333,
              "#9c179e"
             ],
             [
              0.4444444444444444,
              "#bd3786"
             ],
             [
              0.5555555555555556,
              "#d8576b"
             ],
             [
              0.6666666666666666,
              "#ed7953"
             ],
             [
              0.7777777777777778,
              "#fb9f3a"
             ],
             [
              0.8888888888888888,
              "#fdca26"
             ],
             [
              1,
              "#f0f921"
             ]
            ],
            "type": "surface"
           }
          ],
          "table": [
           {
            "cells": {
             "fill": {
              "color": "#EBF0F8"
             },
             "line": {
              "color": "white"
             }
            },
            "header": {
             "fill": {
              "color": "#C8D4E3"
             },
             "line": {
              "color": "white"
             }
            },
            "type": "table"
           }
          ]
         },
         "layout": {
          "annotationdefaults": {
           "arrowcolor": "#2a3f5f",
           "arrowhead": 0,
           "arrowwidth": 1
          },
          "autotypenumbers": "strict",
          "coloraxis": {
           "colorbar": {
            "outlinewidth": 0,
            "ticks": ""
           }
          },
          "colorscale": {
           "diverging": [
            [
             0,
             "#8e0152"
            ],
            [
             0.1,
             "#c51b7d"
            ],
            [
             0.2,
             "#de77ae"
            ],
            [
             0.3,
             "#f1b6da"
            ],
            [
             0.4,
             "#fde0ef"
            ],
            [
             0.5,
             "#f7f7f7"
            ],
            [
             0.6,
             "#e6f5d0"
            ],
            [
             0.7,
             "#b8e186"
            ],
            [
             0.8,
             "#7fbc41"
            ],
            [
             0.9,
             "#4d9221"
            ],
            [
             1,
             "#276419"
            ]
           ],
           "sequential": [
            [
             0,
             "#0d0887"
            ],
            [
             0.1111111111111111,
             "#46039f"
            ],
            [
             0.2222222222222222,
             "#7201a8"
            ],
            [
             0.3333333333333333,
             "#9c179e"
            ],
            [
             0.4444444444444444,
             "#bd3786"
            ],
            [
             0.5555555555555556,
             "#d8576b"
            ],
            [
             0.6666666666666666,
             "#ed7953"
            ],
            [
             0.7777777777777778,
             "#fb9f3a"
            ],
            [
             0.8888888888888888,
             "#fdca26"
            ],
            [
             1,
             "#f0f921"
            ]
           ],
           "sequentialminus": [
            [
             0,
             "#0d0887"
            ],
            [
             0.1111111111111111,
             "#46039f"
            ],
            [
             0.2222222222222222,
             "#7201a8"
            ],
            [
             0.3333333333333333,
             "#9c179e"
            ],
            [
             0.4444444444444444,
             "#bd3786"
            ],
            [
             0.5555555555555556,
             "#d8576b"
            ],
            [
             0.6666666666666666,
             "#ed7953"
            ],
            [
             0.7777777777777778,
             "#fb9f3a"
            ],
            [
             0.8888888888888888,
             "#fdca26"
            ],
            [
             1,
             "#f0f921"
            ]
           ]
          },
          "colorway": [
           "#636efa",
           "#EF553B",
           "#00cc96",
           "#ab63fa",
           "#FFA15A",
           "#19d3f3",
           "#FF6692",
           "#B6E880",
           "#FF97FF",
           "#FECB52"
          ],
          "font": {
           "color": "#2a3f5f"
          },
          "geo": {
           "bgcolor": "white",
           "lakecolor": "white",
           "landcolor": "#E5ECF6",
           "showlakes": true,
           "showland": true,
           "subunitcolor": "white"
          },
          "hoverlabel": {
           "align": "left"
          },
          "hovermode": "closest",
          "mapbox": {
           "style": "light"
          },
          "paper_bgcolor": "white",
          "plot_bgcolor": "#E5ECF6",
          "polar": {
           "angularaxis": {
            "gridcolor": "white",
            "linecolor": "white",
            "ticks": ""
           },
           "bgcolor": "#E5ECF6",
           "radialaxis": {
            "gridcolor": "white",
            "linecolor": "white",
            "ticks": ""
           }
          },
          "scene": {
           "xaxis": {
            "backgroundcolor": "#E5ECF6",
            "gridcolor": "white",
            "gridwidth": 2,
            "linecolor": "white",
            "showbackground": true,
            "ticks": "",
            "zerolinecolor": "white"
           },
           "yaxis": {
            "backgroundcolor": "#E5ECF6",
            "gridcolor": "white",
            "gridwidth": 2,
            "linecolor": "white",
            "showbackground": true,
            "ticks": "",
            "zerolinecolor": "white"
           },
           "zaxis": {
            "backgroundcolor": "#E5ECF6",
            "gridcolor": "white",
            "gridwidth": 2,
            "linecolor": "white",
            "showbackground": true,
            "ticks": "",
            "zerolinecolor": "white"
           }
          },
          "shapedefaults": {
           "line": {
            "color": "#2a3f5f"
           }
          },
          "ternary": {
           "aaxis": {
            "gridcolor": "white",
            "linecolor": "white",
            "ticks": ""
           },
           "baxis": {
            "gridcolor": "white",
            "linecolor": "white",
            "ticks": ""
           },
           "bgcolor": "#E5ECF6",
           "caxis": {
            "gridcolor": "white",
            "linecolor": "white",
            "ticks": ""
           }
          },
          "title": {
           "x": 0.05
          },
          "xaxis": {
           "automargin": true,
           "gridcolor": "white",
           "linecolor": "white",
           "ticks": "",
           "title": {
            "standoff": 15
           },
           "zerolinecolor": "white",
           "zerolinewidth": 2
          },
          "yaxis": {
           "automargin": true,
           "gridcolor": "white",
           "linecolor": "white",
           "ticks": "",
           "title": {
            "standoff": 15
           },
           "zerolinecolor": "white",
           "zerolinewidth": 2
          }
         }
        },
        "title": {
         "text": "Best Layers for Finetuning on facial_features: Top 10 Identified by Logistic Regression"
        },
        "xaxis": {
         "anchor": "y",
         "domain": [
          0,
          1
         ],
         "title": {
          "text": "Absolute Coefficient"
         }
        },
        "yaxis": {
         "anchor": "x",
         "categoryorder": "total ascending",
         "domain": [
          0,
          1
         ],
         "title": {
          "text": "Layer"
         }
        }
       }
      },
      "text/html": [
       "<div>                            <div id=\"af3ac623-fafb-426b-962a-fad9db99d9bd\" class=\"plotly-graph-div\" style=\"height:525px; width:100%;\"></div>            <script type=\"text/javascript\">                require([\"plotly\"], function(Plotly) {                    window.PLOTLYENV=window.PLOTLYENV || {};                                    if (document.getElementById(\"af3ac623-fafb-426b-962a-fad9db99d9bd\")) {                    Plotly.newPlot(                        \"af3ac623-fafb-426b-962a-fad9db99d9bd\",                        [{\"alignmentgroup\":\"True\",\"hovertemplate\":\"Absolute Coefficient=%{x}\\u003cbr\\u003eLayer=%{y}\\u003cextra\\u003e\\u003c\\u002fextra\\u003e\",\"legendgroup\":\"\",\"marker\":{\"color\":\"#636efa\",\"pattern\":{\"shape\":\"\"}},\"name\":\"\",\"offsetgroup\":\"\",\"orientation\":\"h\",\"showlegend\":false,\"textposition\":\"auto\",\"x\":[0.6624131157406609,0.43542145841188556,0.4313269107536032,0.39405263797962714,0.3515371267160113,0.26730343264724227,0.24709821332486465,0.23296507403978733,0.2172977562157051,0.19803348878037144],\"xaxis\":\"x\",\"y\":[\"transformer.single_transformer_blocks.7.attn.to_q\",\"transformer.single_transformer_blocks.3.attn.to_q\",\"transformer.transformer_blocks.16.ff.net.2\",\"transformer.transformer_blocks.14.attn.to_q\",\"transformer.transformer_blocks.10.ff_context.net.2\",\"transformer.transformer_blocks.3.norm1.linear\",\"transformer.transformer_blocks.13.ff.net.2\",\"transformer.transformer_blocks.18.attn.to_v\",\"transformer.single_transformer_blocks.0.attn.to_q\",\"transformer.single_transformer_blocks.18.attn.to_k\"],\"yaxis\":\"y\",\"type\":\"bar\"}],                        {\"template\":{\"data\":{\"histogram2dcontour\":[{\"type\":\"histogram2dcontour\",\"colorbar\":{\"outlinewidth\":0,\"ticks\":\"\"},\"colorscale\":[[0.0,\"#0d0887\"],[0.1111111111111111,\"#46039f\"],[0.2222222222222222,\"#7201a8\"],[0.3333333333333333,\"#9c179e\"],[0.4444444444444444,\"#bd3786\"],[0.5555555555555556,\"#d8576b\"],[0.6666666666666666,\"#ed7953\"],[0.7777777777777778,\"#fb9f3a\"],[0.8888888888888888,\"#fdca26\"],[1.0,\"#f0f921\"]]}],\"choropleth\":[{\"type\":\"choropleth\",\"colorbar\":{\"outlinewidth\":0,\"ticks\":\"\"}}],\"histogram2d\":[{\"type\":\"histogram2d\",\"colorbar\":{\"outlinewidth\":0,\"ticks\":\"\"},\"colorscale\":[[0.0,\"#0d0887\"],[0.1111111111111111,\"#46039f\"],[0.2222222222222222,\"#7201a8\"],[0.3333333333333333,\"#9c179e\"],[0.4444444444444444,\"#bd3786\"],[0.5555555555555556,\"#d8576b\"],[0.6666666666666666,\"#ed7953\"],[0.7777777777777778,\"#fb9f3a\"],[0.8888888888888888,\"#fdca26\"],[1.0,\"#f0f921\"]]}],\"heatmap\":[{\"type\":\"heatmap\",\"colorbar\":{\"outlinewidth\":0,\"ticks\":\"\"},\"colorscale\":[[0.0,\"#0d0887\"],[0.1111111111111111,\"#46039f\"],[0.2222222222222222,\"#7201a8\"],[0.3333333333333333,\"#9c179e\"],[0.4444444444444444,\"#bd3786\"],[0.5555555555555556,\"#d8576b\"],[0.6666666666666666,\"#ed7953\"],[0.7777777777777778,\"#fb9f3a\"],[0.8888888888888888,\"#fdca26\"],[1.0,\"#f0f921\"]]}],\"heatmapgl\":[{\"type\":\"heatmapgl\",\"colorbar\":{\"outlinewidth\":0,\"ticks\":\"\"},\"colorscale\":[[0.0,\"#0d0887\"],[0.1111111111111111,\"#46039f\"],[0.2222222222222222,\"#7201a8\"],[0.3333333333333333,\"#9c179e\"],[0.4444444444444444,\"#bd3786\"],[0.5555555555555556,\"#d8576b\"],[0.6666666666666666,\"#ed7953\"],[0.7777777777777778,\"#fb9f3a\"],[0.8888888888888888,\"#fdca26\"],[1.0,\"#f0f921\"]]}],\"contourcarpet\":[{\"type\":\"contourcarpet\",\"colorbar\":{\"outlinewidth\":0,\"ticks\":\"\"}}],\"contour\":[{\"type\":\"contour\",\"colorbar\":{\"outlinewidth\":0,\"ticks\":\"\"},\"colorscale\":[[0.0,\"#0d0887\"],[0.1111111111111111,\"#46039f\"],[0.2222222222222222,\"#7201a8\"],[0.3333333333333333,\"#9c179e\"],[0.4444444444444444,\"#bd3786\"],[0.5555555555555556,\"#d8576b\"],[0.6666666666666666,\"#ed7953\"],[0.7777777777777778,\"#fb9f3a\"],[0.8888888888888888,\"#fdca26\"],[1.0,\"#f0f921\"]]}],\"surface\":[{\"type\":\"surface\",\"colorbar\":{\"outlinewidth\":0,\"ticks\":\"\"},\"colorscale\":[[0.0,\"#0d0887\"],[0.1111111111111111,\"#46039f\"],[0.2222222222222222,\"#7201a8\"],[0.3333333333333333,\"#9c179e\"],[0.4444444444444444,\"#bd3786\"],[0.5555555555555556,\"#d8576b\"],[0.6666666666666666,\"#ed7953\"],[0.7777777777777778,\"#fb9f3a\"],[0.8888888888888888,\"#fdca26\"],[1.0,\"#f0f921\"]]}],\"mesh3d\":[{\"type\":\"mesh3d\",\"colorbar\":{\"outlinewidth\":0,\"ticks\":\"\"}}],\"scatter\":[{\"fillpattern\":{\"fillmode\":\"overlay\",\"size\":10,\"solidity\":0.2},\"type\":\"scatter\"}],\"parcoords\":[{\"type\":\"parcoords\",\"line\":{\"colorbar\":{\"outlinewidth\":0,\"ticks\":\"\"}}}],\"scatterpolargl\":[{\"type\":\"scatterpolargl\",\"marker\":{\"colorbar\":{\"outlinewidth\":0,\"ticks\":\"\"}}}],\"bar\":[{\"error_x\":{\"color\":\"#2a3f5f\"},\"error_y\":{\"color\":\"#2a3f5f\"},\"marker\":{\"line\":{\"color\":\"#E5ECF6\",\"width\":0.5},\"pattern\":{\"fillmode\":\"overlay\",\"size\":10,\"solidity\":0.2}},\"type\":\"bar\"}],\"scattergeo\":[{\"type\":\"scattergeo\",\"marker\":{\"colorbar\":{\"outlinewidth\":0,\"ticks\":\"\"}}}],\"scatterpolar\":[{\"type\":\"scatterpolar\",\"marker\":{\"colorbar\":{\"outlinewidth\":0,\"ticks\":\"\"}}}],\"histogram\":[{\"marker\":{\"pattern\":{\"fillmode\":\"overlay\",\"size\":10,\"solidity\":0.2}},\"type\":\"histogram\"}],\"scattergl\":[{\"type\":\"scattergl\",\"marker\":{\"colorbar\":{\"outlinewidth\":0,\"ticks\":\"\"}}}],\"scatter3d\":[{\"type\":\"scatter3d\",\"line\":{\"colorbar\":{\"outlinewidth\":0,\"ticks\":\"\"}},\"marker\":{\"colorbar\":{\"outlinewidth\":0,\"ticks\":\"\"}}}],\"scattermapbox\":[{\"type\":\"scattermapbox\",\"marker\":{\"colorbar\":{\"outlinewidth\":0,\"ticks\":\"\"}}}],\"scatterternary\":[{\"type\":\"scatterternary\",\"marker\":{\"colorbar\":{\"outlinewidth\":0,\"ticks\":\"\"}}}],\"scattercarpet\":[{\"type\":\"scattercarpet\",\"marker\":{\"colorbar\":{\"outlinewidth\":0,\"ticks\":\"\"}}}],\"carpet\":[{\"aaxis\":{\"endlinecolor\":\"#2a3f5f\",\"gridcolor\":\"white\",\"linecolor\":\"white\",\"minorgridcolor\":\"white\",\"startlinecolor\":\"#2a3f5f\"},\"baxis\":{\"endlinecolor\":\"#2a3f5f\",\"gridcolor\":\"white\",\"linecolor\":\"white\",\"minorgridcolor\":\"white\",\"startlinecolor\":\"#2a3f5f\"},\"type\":\"carpet\"}],\"table\":[{\"cells\":{\"fill\":{\"color\":\"#EBF0F8\"},\"line\":{\"color\":\"white\"}},\"header\":{\"fill\":{\"color\":\"#C8D4E3\"},\"line\":{\"color\":\"white\"}},\"type\":\"table\"}],\"barpolar\":[{\"marker\":{\"line\":{\"color\":\"#E5ECF6\",\"width\":0.5},\"pattern\":{\"fillmode\":\"overlay\",\"size\":10,\"solidity\":0.2}},\"type\":\"barpolar\"}],\"pie\":[{\"automargin\":true,\"type\":\"pie\"}]},\"layout\":{\"autotypenumbers\":\"strict\",\"colorway\":[\"#636efa\",\"#EF553B\",\"#00cc96\",\"#ab63fa\",\"#FFA15A\",\"#19d3f3\",\"#FF6692\",\"#B6E880\",\"#FF97FF\",\"#FECB52\"],\"font\":{\"color\":\"#2a3f5f\"},\"hovermode\":\"closest\",\"hoverlabel\":{\"align\":\"left\"},\"paper_bgcolor\":\"white\",\"plot_bgcolor\":\"#E5ECF6\",\"polar\":{\"bgcolor\":\"#E5ECF6\",\"angularaxis\":{\"gridcolor\":\"white\",\"linecolor\":\"white\",\"ticks\":\"\"},\"radialaxis\":{\"gridcolor\":\"white\",\"linecolor\":\"white\",\"ticks\":\"\"}},\"ternary\":{\"bgcolor\":\"#E5ECF6\",\"aaxis\":{\"gridcolor\":\"white\",\"linecolor\":\"white\",\"ticks\":\"\"},\"baxis\":{\"gridcolor\":\"white\",\"linecolor\":\"white\",\"ticks\":\"\"},\"caxis\":{\"gridcolor\":\"white\",\"linecolor\":\"white\",\"ticks\":\"\"}},\"coloraxis\":{\"colorbar\":{\"outlinewidth\":0,\"ticks\":\"\"}},\"colorscale\":{\"sequential\":[[0.0,\"#0d0887\"],[0.1111111111111111,\"#46039f\"],[0.2222222222222222,\"#7201a8\"],[0.3333333333333333,\"#9c179e\"],[0.4444444444444444,\"#bd3786\"],[0.5555555555555556,\"#d8576b\"],[0.6666666666666666,\"#ed7953\"],[0.7777777777777778,\"#fb9f3a\"],[0.8888888888888888,\"#fdca26\"],[1.0,\"#f0f921\"]],\"sequentialminus\":[[0.0,\"#0d0887\"],[0.1111111111111111,\"#46039f\"],[0.2222222222222222,\"#7201a8\"],[0.3333333333333333,\"#9c179e\"],[0.4444444444444444,\"#bd3786\"],[0.5555555555555556,\"#d8576b\"],[0.6666666666666666,\"#ed7953\"],[0.7777777777777778,\"#fb9f3a\"],[0.8888888888888888,\"#fdca26\"],[1.0,\"#f0f921\"]],\"diverging\":[[0,\"#8e0152\"],[0.1,\"#c51b7d\"],[0.2,\"#de77ae\"],[0.3,\"#f1b6da\"],[0.4,\"#fde0ef\"],[0.5,\"#f7f7f7\"],[0.6,\"#e6f5d0\"],[0.7,\"#b8e186\"],[0.8,\"#7fbc41\"],[0.9,\"#4d9221\"],[1,\"#276419\"]]},\"xaxis\":{\"gridcolor\":\"white\",\"linecolor\":\"white\",\"ticks\":\"\",\"title\":{\"standoff\":15},\"zerolinecolor\":\"white\",\"automargin\":true,\"zerolinewidth\":2},\"yaxis\":{\"gridcolor\":\"white\",\"linecolor\":\"white\",\"ticks\":\"\",\"title\":{\"standoff\":15},\"zerolinecolor\":\"white\",\"automargin\":true,\"zerolinewidth\":2},\"scene\":{\"xaxis\":{\"backgroundcolor\":\"#E5ECF6\",\"gridcolor\":\"white\",\"linecolor\":\"white\",\"showbackground\":true,\"ticks\":\"\",\"zerolinecolor\":\"white\",\"gridwidth\":2},\"yaxis\":{\"backgroundcolor\":\"#E5ECF6\",\"gridcolor\":\"white\",\"linecolor\":\"white\",\"showbackground\":true,\"ticks\":\"\",\"zerolinecolor\":\"white\",\"gridwidth\":2},\"zaxis\":{\"backgroundcolor\":\"#E5ECF6\",\"gridcolor\":\"white\",\"linecolor\":\"white\",\"showbackground\":true,\"ticks\":\"\",\"zerolinecolor\":\"white\",\"gridwidth\":2}},\"shapedefaults\":{\"line\":{\"color\":\"#2a3f5f\"}},\"annotationdefaults\":{\"arrowcolor\":\"#2a3f5f\",\"arrowhead\":0,\"arrowwidth\":1},\"geo\":{\"bgcolor\":\"white\",\"landcolor\":\"#E5ECF6\",\"subunitcolor\":\"white\",\"showland\":true,\"showlakes\":true,\"lakecolor\":\"white\"},\"title\":{\"x\":0.05},\"mapbox\":{\"style\":\"light\"}}},\"xaxis\":{\"anchor\":\"y\",\"domain\":[0.0,1.0],\"title\":{\"text\":\"Absolute Coefficient\"}},\"yaxis\":{\"anchor\":\"x\",\"domain\":[0.0,1.0],\"title\":{\"text\":\"Layer\"},\"categoryorder\":\"total ascending\"},\"legend\":{\"tracegroupgap\":0},\"title\":{\"text\":\"Best Layers for Finetuning on facial_features: Top 10 Identified by Logistic Regression\"},\"barmode\":\"relative\"},                        {\"responsive\": true}                    ).then(function(){\n",
       "                            \n",
       "var gd = document.getElementById('af3ac623-fafb-426b-962a-fad9db99d9bd');\n",
       "var x = new MutationObserver(function (mutations, observer) {{\n",
       "        var display = window.getComputedStyle(gd).display;\n",
       "        if (!display || display === 'none') {{\n",
       "            console.log([gd, 'removed!']);\n",
       "            Plotly.purge(gd);\n",
       "            observer.disconnect();\n",
       "        }}\n",
       "}});\n",
       "\n",
       "// Listen for the removal of the full notebook cells\n",
       "var notebookContainer = gd.closest('#notebook-container');\n",
       "if (notebookContainer) {{\n",
       "    x.observe(notebookContainer, {childList: true});\n",
       "}}\n",
       "\n",
       "// Listen for the clearing of the current output cell\n",
       "var outputEl = gd.closest('.output');\n",
       "if (outputEl) {{\n",
       "    x.observe(outputEl, {childList: true});\n",
       "}}\n",
       "\n",
       "                        })                };                });            </script>        </div>"
      ]
     },
     "metadata": {},
     "output_type": "display_data"
    },
    {
     "name": "stderr",
     "output_type": "stream",
     "text": [
      "/home/zsakib/miniconda3/envs/flux-pulid/lib/python3.10/site-packages/shap/explainers/_linear.py:95: FutureWarning:\n",
      "\n",
      "The feature_perturbation option is now deprecated in favor of using the appropriate masker (maskers.Independent, maskers.Partition or maskers.Impute).\n",
      "\n"
     ]
    },
    {
     "data": {
      "application/vnd.plotly.v1+json": {
       "config": {
        "plotlyServerURL": "https://plot.ly"
       },
       "data": [
        {
         "alignmentgroup": "True",
         "hovertemplate": "Mean Absolute SHAP Value=%{x}<br>Layer=%{y}<extra></extra>",
         "legendgroup": "",
         "marker": {
          "color": "#636efa",
          "pattern": {
           "shape": ""
          }
         },
         "name": "",
         "offsetgroup": "",
         "orientation": "h",
         "showlegend": false,
         "textposition": "auto",
         "type": "bar",
         "x": [
          0.5210960769985642,
          0.35157983926289443,
          0.3461633479531741,
          0.33301860547011247,
          0.2891983032610534,
          0.2198766829645697,
          0.1898219537925139,
          0.18476298512697467,
          0.16565680530652732,
          0.16095951158037153
         ],
         "xaxis": "x",
         "y": [
          "transformer.single_transformer_blocks.7.attn.to_q",
          "transformer.single_transformer_blocks.3.attn.to_q",
          "transformer.transformer_blocks.16.ff.net.2",
          "transformer.transformer_blocks.14.attn.to_q",
          "transformer.transformer_blocks.10.ff_context.net.2",
          "transformer.transformer_blocks.3.norm1.linear",
          "transformer.transformer_blocks.13.ff.net.2",
          "transformer.transformer_blocks.18.attn.to_v",
          "transformer.single_transformer_blocks.0.attn.to_q",
          "transformer.single_transformer_blocks.18.attn.to_k"
         ],
         "yaxis": "y"
        }
       ],
       "layout": {
        "barmode": "relative",
        "legend": {
         "tracegroupgap": 0
        },
        "template": {
         "data": {
          "bar": [
           {
            "error_x": {
             "color": "#2a3f5f"
            },
            "error_y": {
             "color": "#2a3f5f"
            },
            "marker": {
             "line": {
              "color": "#E5ECF6",
              "width": 0.5
             },
             "pattern": {
              "fillmode": "overlay",
              "size": 10,
              "solidity": 0.2
             }
            },
            "type": "bar"
           }
          ],
          "barpolar": [
           {
            "marker": {
             "line": {
              "color": "#E5ECF6",
              "width": 0.5
             },
             "pattern": {
              "fillmode": "overlay",
              "size": 10,
              "solidity": 0.2
             }
            },
            "type": "barpolar"
           }
          ],
          "carpet": [
           {
            "aaxis": {
             "endlinecolor": "#2a3f5f",
             "gridcolor": "white",
             "linecolor": "white",
             "minorgridcolor": "white",
             "startlinecolor": "#2a3f5f"
            },
            "baxis": {
             "endlinecolor": "#2a3f5f",
             "gridcolor": "white",
             "linecolor": "white",
             "minorgridcolor": "white",
             "startlinecolor": "#2a3f5f"
            },
            "type": "carpet"
           }
          ],
          "choropleth": [
           {
            "colorbar": {
             "outlinewidth": 0,
             "ticks": ""
            },
            "type": "choropleth"
           }
          ],
          "contour": [
           {
            "colorbar": {
             "outlinewidth": 0,
             "ticks": ""
            },
            "colorscale": [
             [
              0,
              "#0d0887"
             ],
             [
              0.1111111111111111,
              "#46039f"
             ],
             [
              0.2222222222222222,
              "#7201a8"
             ],
             [
              0.3333333333333333,
              "#9c179e"
             ],
             [
              0.4444444444444444,
              "#bd3786"
             ],
             [
              0.5555555555555556,
              "#d8576b"
             ],
             [
              0.6666666666666666,
              "#ed7953"
             ],
             [
              0.7777777777777778,
              "#fb9f3a"
             ],
             [
              0.8888888888888888,
              "#fdca26"
             ],
             [
              1,
              "#f0f921"
             ]
            ],
            "type": "contour"
           }
          ],
          "contourcarpet": [
           {
            "colorbar": {
             "outlinewidth": 0,
             "ticks": ""
            },
            "type": "contourcarpet"
           }
          ],
          "heatmap": [
           {
            "colorbar": {
             "outlinewidth": 0,
             "ticks": ""
            },
            "colorscale": [
             [
              0,
              "#0d0887"
             ],
             [
              0.1111111111111111,
              "#46039f"
             ],
             [
              0.2222222222222222,
              "#7201a8"
             ],
             [
              0.3333333333333333,
              "#9c179e"
             ],
             [
              0.4444444444444444,
              "#bd3786"
             ],
             [
              0.5555555555555556,
              "#d8576b"
             ],
             [
              0.6666666666666666,
              "#ed7953"
             ],
             [
              0.7777777777777778,
              "#fb9f3a"
             ],
             [
              0.8888888888888888,
              "#fdca26"
             ],
             [
              1,
              "#f0f921"
             ]
            ],
            "type": "heatmap"
           }
          ],
          "heatmapgl": [
           {
            "colorbar": {
             "outlinewidth": 0,
             "ticks": ""
            },
            "colorscale": [
             [
              0,
              "#0d0887"
             ],
             [
              0.1111111111111111,
              "#46039f"
             ],
             [
              0.2222222222222222,
              "#7201a8"
             ],
             [
              0.3333333333333333,
              "#9c179e"
             ],
             [
              0.4444444444444444,
              "#bd3786"
             ],
             [
              0.5555555555555556,
              "#d8576b"
             ],
             [
              0.6666666666666666,
              "#ed7953"
             ],
             [
              0.7777777777777778,
              "#fb9f3a"
             ],
             [
              0.8888888888888888,
              "#fdca26"
             ],
             [
              1,
              "#f0f921"
             ]
            ],
            "type": "heatmapgl"
           }
          ],
          "histogram": [
           {
            "marker": {
             "pattern": {
              "fillmode": "overlay",
              "size": 10,
              "solidity": 0.2
             }
            },
            "type": "histogram"
           }
          ],
          "histogram2d": [
           {
            "colorbar": {
             "outlinewidth": 0,
             "ticks": ""
            },
            "colorscale": [
             [
              0,
              "#0d0887"
             ],
             [
              0.1111111111111111,
              "#46039f"
             ],
             [
              0.2222222222222222,
              "#7201a8"
             ],
             [
              0.3333333333333333,
              "#9c179e"
             ],
             [
              0.4444444444444444,
              "#bd3786"
             ],
             [
              0.5555555555555556,
              "#d8576b"
             ],
             [
              0.6666666666666666,
              "#ed7953"
             ],
             [
              0.7777777777777778,
              "#fb9f3a"
             ],
             [
              0.8888888888888888,
              "#fdca26"
             ],
             [
              1,
              "#f0f921"
             ]
            ],
            "type": "histogram2d"
           }
          ],
          "histogram2dcontour": [
           {
            "colorbar": {
             "outlinewidth": 0,
             "ticks": ""
            },
            "colorscale": [
             [
              0,
              "#0d0887"
             ],
             [
              0.1111111111111111,
              "#46039f"
             ],
             [
              0.2222222222222222,
              "#7201a8"
             ],
             [
              0.3333333333333333,
              "#9c179e"
             ],
             [
              0.4444444444444444,
              "#bd3786"
             ],
             [
              0.5555555555555556,
              "#d8576b"
             ],
             [
              0.6666666666666666,
              "#ed7953"
             ],
             [
              0.7777777777777778,
              "#fb9f3a"
             ],
             [
              0.8888888888888888,
              "#fdca26"
             ],
             [
              1,
              "#f0f921"
             ]
            ],
            "type": "histogram2dcontour"
           }
          ],
          "mesh3d": [
           {
            "colorbar": {
             "outlinewidth": 0,
             "ticks": ""
            },
            "type": "mesh3d"
           }
          ],
          "parcoords": [
           {
            "line": {
             "colorbar": {
              "outlinewidth": 0,
              "ticks": ""
             }
            },
            "type": "parcoords"
           }
          ],
          "pie": [
           {
            "automargin": true,
            "type": "pie"
           }
          ],
          "scatter": [
           {
            "fillpattern": {
             "fillmode": "overlay",
             "size": 10,
             "solidity": 0.2
            },
            "type": "scatter"
           }
          ],
          "scatter3d": [
           {
            "line": {
             "colorbar": {
              "outlinewidth": 0,
              "ticks": ""
             }
            },
            "marker": {
             "colorbar": {
              "outlinewidth": 0,
              "ticks": ""
             }
            },
            "type": "scatter3d"
           }
          ],
          "scattercarpet": [
           {
            "marker": {
             "colorbar": {
              "outlinewidth": 0,
              "ticks": ""
             }
            },
            "type": "scattercarpet"
           }
          ],
          "scattergeo": [
           {
            "marker": {
             "colorbar": {
              "outlinewidth": 0,
              "ticks": ""
             }
            },
            "type": "scattergeo"
           }
          ],
          "scattergl": [
           {
            "marker": {
             "colorbar": {
              "outlinewidth": 0,
              "ticks": ""
             }
            },
            "type": "scattergl"
           }
          ],
          "scattermapbox": [
           {
            "marker": {
             "colorbar": {
              "outlinewidth": 0,
              "ticks": ""
             }
            },
            "type": "scattermapbox"
           }
          ],
          "scatterpolar": [
           {
            "marker": {
             "colorbar": {
              "outlinewidth": 0,
              "ticks": ""
             }
            },
            "type": "scatterpolar"
           }
          ],
          "scatterpolargl": [
           {
            "marker": {
             "colorbar": {
              "outlinewidth": 0,
              "ticks": ""
             }
            },
            "type": "scatterpolargl"
           }
          ],
          "scatterternary": [
           {
            "marker": {
             "colorbar": {
              "outlinewidth": 0,
              "ticks": ""
             }
            },
            "type": "scatterternary"
           }
          ],
          "surface": [
           {
            "colorbar": {
             "outlinewidth": 0,
             "ticks": ""
            },
            "colorscale": [
             [
              0,
              "#0d0887"
             ],
             [
              0.1111111111111111,
              "#46039f"
             ],
             [
              0.2222222222222222,
              "#7201a8"
             ],
             [
              0.3333333333333333,
              "#9c179e"
             ],
             [
              0.4444444444444444,
              "#bd3786"
             ],
             [
              0.5555555555555556,
              "#d8576b"
             ],
             [
              0.6666666666666666,
              "#ed7953"
             ],
             [
              0.7777777777777778,
              "#fb9f3a"
             ],
             [
              0.8888888888888888,
              "#fdca26"
             ],
             [
              1,
              "#f0f921"
             ]
            ],
            "type": "surface"
           }
          ],
          "table": [
           {
            "cells": {
             "fill": {
              "color": "#EBF0F8"
             },
             "line": {
              "color": "white"
             }
            },
            "header": {
             "fill": {
              "color": "#C8D4E3"
             },
             "line": {
              "color": "white"
             }
            },
            "type": "table"
           }
          ]
         },
         "layout": {
          "annotationdefaults": {
           "arrowcolor": "#2a3f5f",
           "arrowhead": 0,
           "arrowwidth": 1
          },
          "autotypenumbers": "strict",
          "coloraxis": {
           "colorbar": {
            "outlinewidth": 0,
            "ticks": ""
           }
          },
          "colorscale": {
           "diverging": [
            [
             0,
             "#8e0152"
            ],
            [
             0.1,
             "#c51b7d"
            ],
            [
             0.2,
             "#de77ae"
            ],
            [
             0.3,
             "#f1b6da"
            ],
            [
             0.4,
             "#fde0ef"
            ],
            [
             0.5,
             "#f7f7f7"
            ],
            [
             0.6,
             "#e6f5d0"
            ],
            [
             0.7,
             "#b8e186"
            ],
            [
             0.8,
             "#7fbc41"
            ],
            [
             0.9,
             "#4d9221"
            ],
            [
             1,
             "#276419"
            ]
           ],
           "sequential": [
            [
             0,
             "#0d0887"
            ],
            [
             0.1111111111111111,
             "#46039f"
            ],
            [
             0.2222222222222222,
             "#7201a8"
            ],
            [
             0.3333333333333333,
             "#9c179e"
            ],
            [
             0.4444444444444444,
             "#bd3786"
            ],
            [
             0.5555555555555556,
             "#d8576b"
            ],
            [
             0.6666666666666666,
             "#ed7953"
            ],
            [
             0.7777777777777778,
             "#fb9f3a"
            ],
            [
             0.8888888888888888,
             "#fdca26"
            ],
            [
             1,
             "#f0f921"
            ]
           ],
           "sequentialminus": [
            [
             0,
             "#0d0887"
            ],
            [
             0.1111111111111111,
             "#46039f"
            ],
            [
             0.2222222222222222,
             "#7201a8"
            ],
            [
             0.3333333333333333,
             "#9c179e"
            ],
            [
             0.4444444444444444,
             "#bd3786"
            ],
            [
             0.5555555555555556,
             "#d8576b"
            ],
            [
             0.6666666666666666,
             "#ed7953"
            ],
            [
             0.7777777777777778,
             "#fb9f3a"
            ],
            [
             0.8888888888888888,
             "#fdca26"
            ],
            [
             1,
             "#f0f921"
            ]
           ]
          },
          "colorway": [
           "#636efa",
           "#EF553B",
           "#00cc96",
           "#ab63fa",
           "#FFA15A",
           "#19d3f3",
           "#FF6692",
           "#B6E880",
           "#FF97FF",
           "#FECB52"
          ],
          "font": {
           "color": "#2a3f5f"
          },
          "geo": {
           "bgcolor": "white",
           "lakecolor": "white",
           "landcolor": "#E5ECF6",
           "showlakes": true,
           "showland": true,
           "subunitcolor": "white"
          },
          "hoverlabel": {
           "align": "left"
          },
          "hovermode": "closest",
          "mapbox": {
           "style": "light"
          },
          "paper_bgcolor": "white",
          "plot_bgcolor": "#E5ECF6",
          "polar": {
           "angularaxis": {
            "gridcolor": "white",
            "linecolor": "white",
            "ticks": ""
           },
           "bgcolor": "#E5ECF6",
           "radialaxis": {
            "gridcolor": "white",
            "linecolor": "white",
            "ticks": ""
           }
          },
          "scene": {
           "xaxis": {
            "backgroundcolor": "#E5ECF6",
            "gridcolor": "white",
            "gridwidth": 2,
            "linecolor": "white",
            "showbackground": true,
            "ticks": "",
            "zerolinecolor": "white"
           },
           "yaxis": {
            "backgroundcolor": "#E5ECF6",
            "gridcolor": "white",
            "gridwidth": 2,
            "linecolor": "white",
            "showbackground": true,
            "ticks": "",
            "zerolinecolor": "white"
           },
           "zaxis": {
            "backgroundcolor": "#E5ECF6",
            "gridcolor": "white",
            "gridwidth": 2,
            "linecolor": "white",
            "showbackground": true,
            "ticks": "",
            "zerolinecolor": "white"
           }
          },
          "shapedefaults": {
           "line": {
            "color": "#2a3f5f"
           }
          },
          "ternary": {
           "aaxis": {
            "gridcolor": "white",
            "linecolor": "white",
            "ticks": ""
           },
           "baxis": {
            "gridcolor": "white",
            "linecolor": "white",
            "ticks": ""
           },
           "bgcolor": "#E5ECF6",
           "caxis": {
            "gridcolor": "white",
            "linecolor": "white",
            "ticks": ""
           }
          },
          "title": {
           "x": 0.05
          },
          "xaxis": {
           "automargin": true,
           "gridcolor": "white",
           "linecolor": "white",
           "ticks": "",
           "title": {
            "standoff": 15
           },
           "zerolinecolor": "white",
           "zerolinewidth": 2
          },
          "yaxis": {
           "automargin": true,
           "gridcolor": "white",
           "linecolor": "white",
           "ticks": "",
           "title": {
            "standoff": 15
           },
           "zerolinecolor": "white",
           "zerolinewidth": 2
          }
         }
        },
        "title": {
         "text": "Best Layers for Finetuning on facial_features: Top 10 Identified by SHAP Analysis"
        },
        "xaxis": {
         "anchor": "y",
         "domain": [
          0,
          1
         ],
         "title": {
          "text": "Mean Absolute SHAP Value"
         }
        },
        "yaxis": {
         "anchor": "x",
         "categoryorder": "total ascending",
         "domain": [
          0,
          1
         ],
         "title": {
          "text": "Layer"
         }
        }
       }
      },
      "text/html": [
       "<div>                            <div id=\"db26769d-1c64-4272-b55d-443e6098f696\" class=\"plotly-graph-div\" style=\"height:525px; width:100%;\"></div>            <script type=\"text/javascript\">                require([\"plotly\"], function(Plotly) {                    window.PLOTLYENV=window.PLOTLYENV || {};                                    if (document.getElementById(\"db26769d-1c64-4272-b55d-443e6098f696\")) {                    Plotly.newPlot(                        \"db26769d-1c64-4272-b55d-443e6098f696\",                        [{\"alignmentgroup\":\"True\",\"hovertemplate\":\"Mean Absolute SHAP Value=%{x}\\u003cbr\\u003eLayer=%{y}\\u003cextra\\u003e\\u003c\\u002fextra\\u003e\",\"legendgroup\":\"\",\"marker\":{\"color\":\"#636efa\",\"pattern\":{\"shape\":\"\"}},\"name\":\"\",\"offsetgroup\":\"\",\"orientation\":\"h\",\"showlegend\":false,\"textposition\":\"auto\",\"x\":[0.5210960769985642,0.35157983926289443,0.3461633479531741,0.33301860547011247,0.2891983032610534,0.2198766829645697,0.1898219537925139,0.18476298512697467,0.16565680530652732,0.16095951158037153],\"xaxis\":\"x\",\"y\":[\"transformer.single_transformer_blocks.7.attn.to_q\",\"transformer.single_transformer_blocks.3.attn.to_q\",\"transformer.transformer_blocks.16.ff.net.2\",\"transformer.transformer_blocks.14.attn.to_q\",\"transformer.transformer_blocks.10.ff_context.net.2\",\"transformer.transformer_blocks.3.norm1.linear\",\"transformer.transformer_blocks.13.ff.net.2\",\"transformer.transformer_blocks.18.attn.to_v\",\"transformer.single_transformer_blocks.0.attn.to_q\",\"transformer.single_transformer_blocks.18.attn.to_k\"],\"yaxis\":\"y\",\"type\":\"bar\"}],                        {\"template\":{\"data\":{\"histogram2dcontour\":[{\"type\":\"histogram2dcontour\",\"colorbar\":{\"outlinewidth\":0,\"ticks\":\"\"},\"colorscale\":[[0.0,\"#0d0887\"],[0.1111111111111111,\"#46039f\"],[0.2222222222222222,\"#7201a8\"],[0.3333333333333333,\"#9c179e\"],[0.4444444444444444,\"#bd3786\"],[0.5555555555555556,\"#d8576b\"],[0.6666666666666666,\"#ed7953\"],[0.7777777777777778,\"#fb9f3a\"],[0.8888888888888888,\"#fdca26\"],[1.0,\"#f0f921\"]]}],\"choropleth\":[{\"type\":\"choropleth\",\"colorbar\":{\"outlinewidth\":0,\"ticks\":\"\"}}],\"histogram2d\":[{\"type\":\"histogram2d\",\"colorbar\":{\"outlinewidth\":0,\"ticks\":\"\"},\"colorscale\":[[0.0,\"#0d0887\"],[0.1111111111111111,\"#46039f\"],[0.2222222222222222,\"#7201a8\"],[0.3333333333333333,\"#9c179e\"],[0.4444444444444444,\"#bd3786\"],[0.5555555555555556,\"#d8576b\"],[0.6666666666666666,\"#ed7953\"],[0.7777777777777778,\"#fb9f3a\"],[0.8888888888888888,\"#fdca26\"],[1.0,\"#f0f921\"]]}],\"heatmap\":[{\"type\":\"heatmap\",\"colorbar\":{\"outlinewidth\":0,\"ticks\":\"\"},\"colorscale\":[[0.0,\"#0d0887\"],[0.1111111111111111,\"#46039f\"],[0.2222222222222222,\"#7201a8\"],[0.3333333333333333,\"#9c179e\"],[0.4444444444444444,\"#bd3786\"],[0.5555555555555556,\"#d8576b\"],[0.6666666666666666,\"#ed7953\"],[0.7777777777777778,\"#fb9f3a\"],[0.8888888888888888,\"#fdca26\"],[1.0,\"#f0f921\"]]}],\"heatmapgl\":[{\"type\":\"heatmapgl\",\"colorbar\":{\"outlinewidth\":0,\"ticks\":\"\"},\"colorscale\":[[0.0,\"#0d0887\"],[0.1111111111111111,\"#46039f\"],[0.2222222222222222,\"#7201a8\"],[0.3333333333333333,\"#9c179e\"],[0.4444444444444444,\"#bd3786\"],[0.5555555555555556,\"#d8576b\"],[0.6666666666666666,\"#ed7953\"],[0.7777777777777778,\"#fb9f3a\"],[0.8888888888888888,\"#fdca26\"],[1.0,\"#f0f921\"]]}],\"contourcarpet\":[{\"type\":\"contourcarpet\",\"colorbar\":{\"outlinewidth\":0,\"ticks\":\"\"}}],\"contour\":[{\"type\":\"contour\",\"colorbar\":{\"outlinewidth\":0,\"ticks\":\"\"},\"colorscale\":[[0.0,\"#0d0887\"],[0.1111111111111111,\"#46039f\"],[0.2222222222222222,\"#7201a8\"],[0.3333333333333333,\"#9c179e\"],[0.4444444444444444,\"#bd3786\"],[0.5555555555555556,\"#d8576b\"],[0.6666666666666666,\"#ed7953\"],[0.7777777777777778,\"#fb9f3a\"],[0.8888888888888888,\"#fdca26\"],[1.0,\"#f0f921\"]]}],\"surface\":[{\"type\":\"surface\",\"colorbar\":{\"outlinewidth\":0,\"ticks\":\"\"},\"colorscale\":[[0.0,\"#0d0887\"],[0.1111111111111111,\"#46039f\"],[0.2222222222222222,\"#7201a8\"],[0.3333333333333333,\"#9c179e\"],[0.4444444444444444,\"#bd3786\"],[0.5555555555555556,\"#d8576b\"],[0.6666666666666666,\"#ed7953\"],[0.7777777777777778,\"#fb9f3a\"],[0.8888888888888888,\"#fdca26\"],[1.0,\"#f0f921\"]]}],\"mesh3d\":[{\"type\":\"mesh3d\",\"colorbar\":{\"outlinewidth\":0,\"ticks\":\"\"}}],\"scatter\":[{\"fillpattern\":{\"fillmode\":\"overlay\",\"size\":10,\"solidity\":0.2},\"type\":\"scatter\"}],\"parcoords\":[{\"type\":\"parcoords\",\"line\":{\"colorbar\":{\"outlinewidth\":0,\"ticks\":\"\"}}}],\"scatterpolargl\":[{\"type\":\"scatterpolargl\",\"marker\":{\"colorbar\":{\"outlinewidth\":0,\"ticks\":\"\"}}}],\"bar\":[{\"error_x\":{\"color\":\"#2a3f5f\"},\"error_y\":{\"color\":\"#2a3f5f\"},\"marker\":{\"line\":{\"color\":\"#E5ECF6\",\"width\":0.5},\"pattern\":{\"fillmode\":\"overlay\",\"size\":10,\"solidity\":0.2}},\"type\":\"bar\"}],\"scattergeo\":[{\"type\":\"scattergeo\",\"marker\":{\"colorbar\":{\"outlinewidth\":0,\"ticks\":\"\"}}}],\"scatterpolar\":[{\"type\":\"scatterpolar\",\"marker\":{\"colorbar\":{\"outlinewidth\":0,\"ticks\":\"\"}}}],\"histogram\":[{\"marker\":{\"pattern\":{\"fillmode\":\"overlay\",\"size\":10,\"solidity\":0.2}},\"type\":\"histogram\"}],\"scattergl\":[{\"type\":\"scattergl\",\"marker\":{\"colorbar\":{\"outlinewidth\":0,\"ticks\":\"\"}}}],\"scatter3d\":[{\"type\":\"scatter3d\",\"line\":{\"colorbar\":{\"outlinewidth\":0,\"ticks\":\"\"}},\"marker\":{\"colorbar\":{\"outlinewidth\":0,\"ticks\":\"\"}}}],\"scattermapbox\":[{\"type\":\"scattermapbox\",\"marker\":{\"colorbar\":{\"outlinewidth\":0,\"ticks\":\"\"}}}],\"scatterternary\":[{\"type\":\"scatterternary\",\"marker\":{\"colorbar\":{\"outlinewidth\":0,\"ticks\":\"\"}}}],\"scattercarpet\":[{\"type\":\"scattercarpet\",\"marker\":{\"colorbar\":{\"outlinewidth\":0,\"ticks\":\"\"}}}],\"carpet\":[{\"aaxis\":{\"endlinecolor\":\"#2a3f5f\",\"gridcolor\":\"white\",\"linecolor\":\"white\",\"minorgridcolor\":\"white\",\"startlinecolor\":\"#2a3f5f\"},\"baxis\":{\"endlinecolor\":\"#2a3f5f\",\"gridcolor\":\"white\",\"linecolor\":\"white\",\"minorgridcolor\":\"white\",\"startlinecolor\":\"#2a3f5f\"},\"type\":\"carpet\"}],\"table\":[{\"cells\":{\"fill\":{\"color\":\"#EBF0F8\"},\"line\":{\"color\":\"white\"}},\"header\":{\"fill\":{\"color\":\"#C8D4E3\"},\"line\":{\"color\":\"white\"}},\"type\":\"table\"}],\"barpolar\":[{\"marker\":{\"line\":{\"color\":\"#E5ECF6\",\"width\":0.5},\"pattern\":{\"fillmode\":\"overlay\",\"size\":10,\"solidity\":0.2}},\"type\":\"barpolar\"}],\"pie\":[{\"automargin\":true,\"type\":\"pie\"}]},\"layout\":{\"autotypenumbers\":\"strict\",\"colorway\":[\"#636efa\",\"#EF553B\",\"#00cc96\",\"#ab63fa\",\"#FFA15A\",\"#19d3f3\",\"#FF6692\",\"#B6E880\",\"#FF97FF\",\"#FECB52\"],\"font\":{\"color\":\"#2a3f5f\"},\"hovermode\":\"closest\",\"hoverlabel\":{\"align\":\"left\"},\"paper_bgcolor\":\"white\",\"plot_bgcolor\":\"#E5ECF6\",\"polar\":{\"bgcolor\":\"#E5ECF6\",\"angularaxis\":{\"gridcolor\":\"white\",\"linecolor\":\"white\",\"ticks\":\"\"},\"radialaxis\":{\"gridcolor\":\"white\",\"linecolor\":\"white\",\"ticks\":\"\"}},\"ternary\":{\"bgcolor\":\"#E5ECF6\",\"aaxis\":{\"gridcolor\":\"white\",\"linecolor\":\"white\",\"ticks\":\"\"},\"baxis\":{\"gridcolor\":\"white\",\"linecolor\":\"white\",\"ticks\":\"\"},\"caxis\":{\"gridcolor\":\"white\",\"linecolor\":\"white\",\"ticks\":\"\"}},\"coloraxis\":{\"colorbar\":{\"outlinewidth\":0,\"ticks\":\"\"}},\"colorscale\":{\"sequential\":[[0.0,\"#0d0887\"],[0.1111111111111111,\"#46039f\"],[0.2222222222222222,\"#7201a8\"],[0.3333333333333333,\"#9c179e\"],[0.4444444444444444,\"#bd3786\"],[0.5555555555555556,\"#d8576b\"],[0.6666666666666666,\"#ed7953\"],[0.7777777777777778,\"#fb9f3a\"],[0.8888888888888888,\"#fdca26\"],[1.0,\"#f0f921\"]],\"sequentialminus\":[[0.0,\"#0d0887\"],[0.1111111111111111,\"#46039f\"],[0.2222222222222222,\"#7201a8\"],[0.3333333333333333,\"#9c179e\"],[0.4444444444444444,\"#bd3786\"],[0.5555555555555556,\"#d8576b\"],[0.6666666666666666,\"#ed7953\"],[0.7777777777777778,\"#fb9f3a\"],[0.8888888888888888,\"#fdca26\"],[1.0,\"#f0f921\"]],\"diverging\":[[0,\"#8e0152\"],[0.1,\"#c51b7d\"],[0.2,\"#de77ae\"],[0.3,\"#f1b6da\"],[0.4,\"#fde0ef\"],[0.5,\"#f7f7f7\"],[0.6,\"#e6f5d0\"],[0.7,\"#b8e186\"],[0.8,\"#7fbc41\"],[0.9,\"#4d9221\"],[1,\"#276419\"]]},\"xaxis\":{\"gridcolor\":\"white\",\"linecolor\":\"white\",\"ticks\":\"\",\"title\":{\"standoff\":15},\"zerolinecolor\":\"white\",\"automargin\":true,\"zerolinewidth\":2},\"yaxis\":{\"gridcolor\":\"white\",\"linecolor\":\"white\",\"ticks\":\"\",\"title\":{\"standoff\":15},\"zerolinecolor\":\"white\",\"automargin\":true,\"zerolinewidth\":2},\"scene\":{\"xaxis\":{\"backgroundcolor\":\"#E5ECF6\",\"gridcolor\":\"white\",\"linecolor\":\"white\",\"showbackground\":true,\"ticks\":\"\",\"zerolinecolor\":\"white\",\"gridwidth\":2},\"yaxis\":{\"backgroundcolor\":\"#E5ECF6\",\"gridcolor\":\"white\",\"linecolor\":\"white\",\"showbackground\":true,\"ticks\":\"\",\"zerolinecolor\":\"white\",\"gridwidth\":2},\"zaxis\":{\"backgroundcolor\":\"#E5ECF6\",\"gridcolor\":\"white\",\"linecolor\":\"white\",\"showbackground\":true,\"ticks\":\"\",\"zerolinecolor\":\"white\",\"gridwidth\":2}},\"shapedefaults\":{\"line\":{\"color\":\"#2a3f5f\"}},\"annotationdefaults\":{\"arrowcolor\":\"#2a3f5f\",\"arrowhead\":0,\"arrowwidth\":1},\"geo\":{\"bgcolor\":\"white\",\"landcolor\":\"#E5ECF6\",\"subunitcolor\":\"white\",\"showland\":true,\"showlakes\":true,\"lakecolor\":\"white\"},\"title\":{\"x\":0.05},\"mapbox\":{\"style\":\"light\"}}},\"xaxis\":{\"anchor\":\"y\",\"domain\":[0.0,1.0],\"title\":{\"text\":\"Mean Absolute SHAP Value\"}},\"yaxis\":{\"anchor\":\"x\",\"domain\":[0.0,1.0],\"title\":{\"text\":\"Layer\"},\"categoryorder\":\"total ascending\"},\"legend\":{\"tracegroupgap\":0},\"title\":{\"text\":\"Best Layers for Finetuning on facial_features: Top 10 Identified by SHAP Analysis\"},\"barmode\":\"relative\"},                        {\"responsive\": true}                    ).then(function(){\n",
       "                            \n",
       "var gd = document.getElementById('db26769d-1c64-4272-b55d-443e6098f696');\n",
       "var x = new MutationObserver(function (mutations, observer) {{\n",
       "        var display = window.getComputedStyle(gd).display;\n",
       "        if (!display || display === 'none') {{\n",
       "            console.log([gd, 'removed!']);\n",
       "            Plotly.purge(gd);\n",
       "            observer.disconnect();\n",
       "        }}\n",
       "}});\n",
       "\n",
       "// Listen for the removal of the full notebook cells\n",
       "var notebookContainer = gd.closest('#notebook-container');\n",
       "if (notebookContainer) {{\n",
       "    x.observe(notebookContainer, {childList: true});\n",
       "}}\n",
       "\n",
       "// Listen for the clearing of the current output cell\n",
       "var outputEl = gd.closest('.output');\n",
       "if (outputEl) {{\n",
       "    x.observe(outputEl, {childList: true});\n",
       "}}\n",
       "\n",
       "                        })                };                });            </script>        </div>"
      ]
     },
     "metadata": {},
     "output_type": "display_data"
    },
    {
     "data": {
      "image/png": "[encoded data removed]",
      "text/plain": [
       "<Figure size 1000x600 with 2 Axes>"
      ]
     },
     "metadata": {},
     "output_type": "display_data"
    },
    {
     "data": {
      "application/vnd.plotly.v1+json": {
       "config": {
        "plotlyServerURL": "https://plot.ly"
       },
       "data": [
        {
         "alignmentgroup": "True",
         "hovertemplate": "Total Absolute Correlation=%{x}<br>Layer=%{y}<extra></extra>",
         "legendgroup": "",
         "marker": {
          "color": "#636efa",
          "pattern": {
           "shape": ""
          }
         },
         "name": "",
         "offsetgroup": "",
         "orientation": "h",
         "showlegend": false,
         "textposition": "auto",
         "type": "bar",
         "x": [
          1.4844629798809632,
          1.4739662039273962,
          1.4619684675045,
          1.4613891820301659,
          1.4603638902094422,
          1.4600512100130154,
          1.4588763151411492,
          1.457068412441605,
          1.448435890772945,
          1.4475145512147316
         ],
         "xaxis": "x",
         "y": [
          "transformer.transformer_blocks.10.norm1.linear",
          "transformer.transformer_blocks.11.norm1.linear",
          "transformer.transformer_blocks.14.norm1_context.linear",
          "transformer.transformer_blocks.14.norm1.linear",
          "transformer.transformer_blocks.15.norm1.linear",
          "transformer.transformer_blocks.9.norm1.linear",
          "transformer.transformer_blocks.13.norm1.linear",
          "transformer.transformer_blocks.5.norm1.linear",
          "transformer.transformer_blocks.11.norm1_context.linear",
          "transformer.transformer_blocks.6.norm1.linear"
         ],
         "yaxis": "y"
        }
       ],
       "layout": {
        "barmode": "relative",
        "legend": {
         "tracegroupgap": 0
        },
        "template": {
         "data": {
          "bar": [
           {
            "error_x": {
             "color": "#2a3f5f"
            },
            "error_y": {
             "color": "#2a3f5f"
            },
            "marker": {
             "line": {
              "color": "#E5ECF6",
              "width": 0.5
             },
             "pattern": {
              "fillmode": "overlay",
              "size": 10,
              "solidity": 0.2
             }
            },
            "type": "bar"
           }
          ],
          "barpolar": [
           {
            "marker": {
             "line": {
              "color": "#E5ECF6",
              "width": 0.5
             },
             "pattern": {
              "fillmode": "overlay",
              "size": 10,
              "solidity": 0.2
             }
            },
            "type": "barpolar"
           }
          ],
          "carpet": [
           {
            "aaxis": {
             "endlinecolor": "#2a3f5f",
             "gridcolor": "white",
             "linecolor": "white",
             "minorgridcolor": "white",
             "startlinecolor": "#2a3f5f"
            },
            "baxis": {
             "endlinecolor": "#2a3f5f",
             "gridcolor": "white",
             "linecolor": "white",
             "minorgridcolor": "white",
             "startlinecolor": "#2a3f5f"
            },
            "type": "carpet"
           }
          ],
          "choropleth": [
           {
            "colorbar": {
             "outlinewidth": 0,
             "ticks": ""
            },
            "type": "choropleth"
           }
          ],
          "contour": [
           {
            "colorbar": {
             "outlinewidth": 0,
             "ticks": ""
            },
            "colorscale": [
             [
              0,
              "#0d0887"
             ],
             [
              0.1111111111111111,
              "#46039f"
             ],
             [
              0.2222222222222222,
              "#7201a8"
             ],
             [
              0.3333333333333333,
              "#9c179e"
             ],
             [
              0.4444444444444444,
              "#bd3786"
             ],
             [
              0.5555555555555556,
              "#d8576b"
             ],
             [
              0.6666666666666666,
              "#ed7953"
             ],
             [
              0.7777777777777778,
              "#fb9f3a"
             ],
             [
              0.8888888888888888,
              "#fdca26"
             ],
             [
              1,
              "#f0f921"
             ]
            ],
            "type": "contour"
           }
          ],
          "contourcarpet": [
           {
            "colorbar": {
             "outlinewidth": 0,
             "ticks": ""
            },
            "type": "contourcarpet"
           }
          ],
          "heatmap": [
           {
            "colorbar": {
             "outlinewidth": 0,
             "ticks": ""
            },
            "colorscale": [
             [
              0,
              "#0d0887"
             ],
             [
              0.1111111111111111,
              "#46039f"
             ],
             [
              0.2222222222222222,
              "#7201a8"
             ],
             [
              0.3333333333333333,
              "#9c179e"
             ],
             [
              0.4444444444444444,
              "#bd3786"
             ],
             [
              0.5555555555555556,
              "#d8576b"
             ],
             [
              0.6666666666666666,
              "#ed7953"
             ],
             [
              0.7777777777777778,
              "#fb9f3a"
             ],
             [
              0.8888888888888888,
              "#fdca26"
             ],
             [
              1,
              "#f0f921"
             ]
            ],
            "type": "heatmap"
           }
          ],
          "heatmapgl": [
           {
            "colorbar": {
             "outlinewidth": 0,
             "ticks": ""
            },
            "colorscale": [
             [
              0,
              "#0d0887"
             ],
             [
              0.1111111111111111,
              "#46039f"
             ],
             [
              0.2222222222222222,
              "#7201a8"
             ],
             [
              0.3333333333333333,
              "#9c179e"
             ],
             [
              0.4444444444444444,
              "#bd3786"
             ],
             [
              0.5555555555555556,
              "#d8576b"
             ],
             [
              0.6666666666666666,
              "#ed7953"
             ],
             [
              0.7777777777777778,
              "#fb9f3a"
             ],
             [
              0.8888888888888888,
              "#fdca26"
             ],
             [
              1,
              "#f0f921"
             ]
            ],
            "type": "heatmapgl"
           }
          ],
          "histogram": [
           {
            "marker": {
             "pattern": {
              "fillmode": "overlay",
              "size": 10,
              "solidity": 0.2
             }
            },
            "type": "histogram"
           }
          ],
          "histogram2d": [
           {
            "colorbar": {
             "outlinewidth": 0,
             "ticks": ""
            },
            "colorscale": [
             [
              0,
              "#0d0887"
             ],
             [
              0.1111111111111111,
              "#46039f"
             ],
             [
              0.2222222222222222,
              "#7201a8"
             ],
             [
              0.3333333333333333,
              "#9c179e"
             ],
             [
              0.4444444444444444,
              "#bd3786"
             ],
             [
              0.5555555555555556,
              "#d8576b"
             ],
             [
              0.6666666666666666,
              "#ed7953"
             ],
             [
              0.7777777777777778,
              "#fb9f3a"
             ],
             [
              0.8888888888888888,
              "#fdca26"
             ],
             [
              1,
              "#f0f921"
             ]
            ],
            "type": "histogram2d"
           }
          ],
          "histogram2dcontour": [
           {
            "colorbar": {
             "outlinewidth": 0,
             "ticks": ""
            },
            "colorscale": [
             [
              0,
              "#0d0887"
             ],
             [
              0.1111111111111111,
              "#46039f"
             ],
             [
              0.2222222222222222,
              "#7201a8"
             ],
             [
              0.3333333333333333,
              "#9c179e"
             ],
             [
              0.4444444444444444,
              "#bd3786"
             ],
             [
              0.5555555555555556,
              "#d8576b"
             ],
             [
              0.6666666666666666,
              "#ed7953"
             ],
             [
              0.7777777777777778,
              "#fb9f3a"
             ],
             [
              0.8888888888888888,
              "#fdca26"
             ],
             [
              1,
              "#f0f921"
             ]
            ],
            "type": "histogram2dcontour"
           }
          ],
          "mesh3d": [
           {
            "colorbar": {
             "outlinewidth": 0,
             "ticks": ""
            },
            "type": "mesh3d"
           }
          ],
          "parcoords": [
           {
            "line": {
             "colorbar": {
              "outlinewidth": 0,
              "ticks": ""
             }
            },
            "type": "parcoords"
           }
          ],
          "pie": [
           {
            "automargin": true,
            "type": "pie"
           }
          ],
          "scatter": [
           {
            "fillpattern": {
             "fillmode": "overlay",
             "size": 10,
             "solidity": 0.2
            },
            "type": "scatter"
           }
          ],
          "scatter3d": [
           {
            "line": {
             "colorbar": {
              "outlinewidth": 0,
              "ticks": ""
             }
            },
            "marker": {
             "colorbar": {
              "outlinewidth": 0,
              "ticks": ""
             }
            },
            "type": "scatter3d"
           }
          ],
          "scattercarpet": [
           {
            "marker": {
             "colorbar": {
              "outlinewidth": 0,
              "ticks": ""
             }
            },
            "type": "scattercarpet"
           }
          ],
          "scattergeo": [
           {
            "marker": {
             "colorbar": {
              "outlinewidth": 0,
              "ticks": ""
             }
            },
            "type": "scattergeo"
           }
          ],
          "scattergl": [
           {
            "marker": {
             "colorbar": {
              "outlinewidth": 0,
              "ticks": ""
             }
            },
            "type": "scattergl"
           }
          ],
          "scattermapbox": [
           {
            "marker": {
             "colorbar": {
              "outlinewidth": 0,
              "ticks": ""
             }
            },
            "type": "scattermapbox"
           }
          ],
          "scatterpolar": [
           {
            "marker": {
             "colorbar": {
              "outlinewidth": 0,
              "ticks": ""
             }
            },
            "type": "scatterpolar"
           }
          ],
          "scatterpolargl": [
           {
            "marker": {
             "colorbar": {
              "outlinewidth": 0,
              "ticks": ""
             }
            },
            "type": "scatterpolargl"
           }
          ],
          "scatterternary": [
           {
            "marker": {
             "colorbar": {
              "outlinewidth": 0,
              "ticks": ""
             }
            },
            "type": "scatterternary"
           }
          ],
          "surface": [
           {
            "colorbar": {
             "outlinewidth": 0,
             "ticks": ""
            },
            "colorscale": [
             [
              0,
              "#0d0887"
             ],
             [
              0.1111111111111111,
              "#46039f"
             ],
             [
              0.2222222222222222,
              "#7201a8"
             ],
             [
              0.3333333333333333,
              "#9c179e"
             ],
             [
              0.4444444444444444,
              "#bd3786"
             ],
             [
              0.5555555555555556,
              "#d8576b"
             ],
             [
              0.6666666666666666,
              "#ed7953"
             ],
             [
              0.7777777777777778,
              "#fb9f3a"
             ],
             [
              0.8888888888888888,
              "#fdca26"
             ],
             [
              1,
              "#f0f921"
             ]
            ],
            "type": "surface"
           }
          ],
          "table": [
           {
            "cells": {
             "fill": {
              "color": "#EBF0F8"
             },
             "line": {
              "color": "white"
             }
            },
            "header": {
             "fill": {
              "color": "#C8D4E3"
             },
             "line": {
              "color": "white"
             }
            },
            "type": "table"
           }
          ]
         },
         "layout": {
          "annotationdefaults": {
           "arrowcolor": "#2a3f5f",
           "arrowhead": 0,
           "arrowwidth": 1
          },
          "autotypenumbers": "strict",
          "coloraxis": {
           "colorbar": {
            "outlinewidth": 0,
            "ticks": ""
           }
          },
          "colorscale": {
           "diverging": [
            [
             0,
             "#8e0152"
            ],
            [
             0.1,
             "#c51b7d"
            ],
            [
             0.2,
             "#de77ae"
            ],
            [
             0.3,
             "#f1b6da"
            ],
            [
             0.4,
             "#fde0ef"
            ],
            [
             0.5,
             "#f7f7f7"
            ],
            [
             0.6,
             "#e6f5d0"
            ],
            [
             0.7,
             "#b8e186"
            ],
            [
             0.8,
             "#7fbc41"
            ],
            [
             0.9,
             "#4d9221"
            ],
            [
             1,
             "#276419"
            ]
           ],
           "sequential": [
            [
             0,
             "#0d0887"
            ],
            [
             0.1111111111111111,
             "#46039f"
            ],
            [
             0.2222222222222222,
             "#7201a8"
            ],
            [
             0.3333333333333333,
             "#9c179e"
            ],
            [
             0.4444444444444444,
             "#bd3786"
            ],
            [
             0.5555555555555556,
             "#d8576b"
            ],
            [
             0.6666666666666666,
             "#ed7953"
            ],
            [
             0.7777777777777778,
             "#fb9f3a"
            ],
            [
             0.8888888888888888,
             "#fdca26"
            ],
            [
             1,
             "#f0f921"
            ]
           ],
           "sequentialminus": [
            [
             0,
             "#0d0887"
            ],
            [
             0.1111111111111111,
             "#46039f"
            ],
            [
             0.2222222222222222,
             "#7201a8"
            ],
            [
             0.3333333333333333,
             "#9c179e"
            ],
            [
             0.4444444444444444,
             "#bd3786"
            ],
            [
             0.5555555555555556,
             "#d8576b"
            ],
            [
             0.6666666666666666,
             "#ed7953"
            ],
            [
             0.7777777777777778,
             "#fb9f3a"
            ],
            [
             0.8888888888888888,
             "#fdca26"
            ],
            [
             1,
             "#f0f921"
            ]
           ]
          },
          "colorway": [
           "#636efa",
           "#EF553B",
           "#00cc96",
           "#ab63fa",
           "#FFA15A",
           "#19d3f3",
           "#FF6692",
           "#B6E880",
           "#FF97FF",
           "#FECB52"
          ],
          "font": {
           "color": "#2a3f5f"
          },
          "geo": {
           "bgcolor": "white",
           "lakecolor": "white",
           "landcolor": "#E5ECF6",
           "showlakes": true,
           "showland": true,
           "subunitcolor": "white"
          },
          "hoverlabel": {
           "align": "left"
          },
          "hovermode": "closest",
          "mapbox": {
           "style": "light"
          },
          "paper_bgcolor": "white",
          "plot_bgcolor": "#E5ECF6",
          "polar": {
           "angularaxis": {
            "gridcolor": "white",
            "linecolor": "white",
            "ticks": ""
           },
           "bgcolor": "#E5ECF6",
           "radialaxis": {
            "gridcolor": "white",
            "linecolor": "white",
            "ticks": ""
           }
          },
          "scene": {
           "xaxis": {
            "backgroundcolor": "#E5ECF6",
            "gridcolor": "white",
            "gridwidth": 2,
            "linecolor": "white",
            "showbackground": true,
            "ticks": "",
            "zerolinecolor": "white"
           },
           "yaxis": {
            "backgroundcolor": "#E5ECF6",
            "gridcolor": "white",
            "gridwidth": 2,
            "linecolor": "white",
            "showbackground": true,
            "ticks": "",
            "zerolinecolor": "white"
           },
           "zaxis": {
            "backgroundcolor": "#E5ECF6",
            "gridcolor": "white",
            "gridwidth": 2,
            "linecolor": "white",
            "showbackground": true,
            "ticks": "",
            "zerolinecolor": "white"
           }
          },
          "shapedefaults": {
           "line": {
            "color": "#2a3f5f"
           }
          },
          "ternary": {
           "aaxis": {
            "gridcolor": "white",
            "linecolor": "white",
            "ticks": ""
           },
           "baxis": {
            "gridcolor": "white",
            "linecolor": "white",
            "ticks": ""
           },
           "bgcolor": "#E5ECF6",
           "caxis": {
            "gridcolor": "white",
            "linecolor": "white",
            "ticks": ""
           }
          },
          "title": {
           "x": 0.05
          },
          "xaxis": {
           "automargin": true,
           "gridcolor": "white",
           "linecolor": "white",
           "ticks": "",
           "title": {
            "standoff": 15
           },
           "zerolinecolor": "white",
           "zerolinewidth": 2
          },
          "yaxis": {
           "automargin": true,
           "gridcolor": "white",
           "linecolor": "white",
           "ticks": "",
           "title": {
            "standoff": 15
           },
           "zerolinecolor": "white",
           "zerolinewidth": 2
          }
         }
        },
        "title": {
         "text": "Best Layers for Finetuning on facial_features: Top 10 with Highest Correlation to UMAP Dimensions"
        },
        "xaxis": {
         "anchor": "y",
         "domain": [
          0,
          1
         ],
         "title": {
          "text": "Total Absolute Correlation"
         }
        },
        "yaxis": {
         "anchor": "x",
         "categoryorder": "total ascending",
         "domain": [
          0,
          1
         ],
         "title": {
          "text": "Layer"
         }
        }
       }
      },
      "text/html": [
       "<div>                            <div id=\"786b693c-3d1a-4a72-aff6-6caf7e8dcfba\" class=\"plotly-graph-div\" style=\"height:525px; width:100%;\"></div>            <script type=\"text/javascript\">                require([\"plotly\"], function(Plotly) {                    window.PLOTLYENV=window.PLOTLYENV || {};                                    if (document.getElementById(\"786b693c-3d1a-4a72-aff6-6caf7e8dcfba\")) {                    Plotly.newPlot(                        \"786b693c-3d1a-4a72-aff6-6caf7e8dcfba\",                        [{\"alignmentgroup\":\"True\",\"hovertemplate\":\"Total Absolute Correlation=%{x}\\u003cbr\\u003eLayer=%{y}\\u003cextra\\u003e\\u003c\\u002fextra\\u003e\",\"legendgroup\":\"\",\"marker\":{\"color\":\"#636efa\",\"pattern\":{\"shape\":\"\"}},\"name\":\"\",\"offsetgroup\":\"\",\"orientation\":\"h\",\"showlegend\":false,\"textposition\":\"auto\",\"x\":[1.4844629798809632,1.4739662039273962,1.4619684675045,1.4613891820301659,1.4603638902094422,1.4600512100130154,1.4588763151411492,1.457068412441605,1.448435890772945,1.4475145512147316],\"xaxis\":\"x\",\"y\":[\"transformer.transformer_blocks.10.norm1.linear\",\"transformer.transformer_blocks.11.norm1.linear\",\"transformer.transformer_blocks.14.norm1_context.linear\",\"transformer.transformer_blocks.14.norm1.linear\",\"transformer.transformer_blocks.15.norm1.linear\",\"transformer.transformer_blocks.9.norm1.linear\",\"transformer.transformer_blocks.13.norm1.linear\",\"transformer.transformer_blocks.5.norm1.linear\",\"transformer.transformer_blocks.11.norm1_context.linear\",\"transformer.transformer_blocks.6.norm1.linear\"],\"yaxis\":\"y\",\"type\":\"bar\"}],                        {\"template\":{\"data\":{\"histogram2dcontour\":[{\"type\":\"histogram2dcontour\",\"colorbar\":{\"outlinewidth\":0,\"ticks\":\"\"},\"colorscale\":[[0.0,\"#0d0887\"],[0.1111111111111111,\"#46039f\"],[0.2222222222222222,\"#7201a8\"],[0.3333333333333333,\"#9c179e\"],[0.4444444444444444,\"#bd3786\"],[0.5555555555555556,\"#d8576b\"],[0.6666666666666666,\"#ed7953\"],[0.7777777777777778,\"#fb9f3a\"],[0.8888888888888888,\"#fdca26\"],[1.0,\"#f0f921\"]]}],\"choropleth\":[{\"type\":\"choropleth\",\"colorbar\":{\"outlinewidth\":0,\"ticks\":\"\"}}],\"histogram2d\":[{\"type\":\"histogram2d\",\"colorbar\":{\"outlinewidth\":0,\"ticks\":\"\"},\"colorscale\":[[0.0,\"#0d0887\"],[0.1111111111111111,\"#46039f\"],[0.2222222222222222,\"#7201a8\"],[0.3333333333333333,\"#9c179e\"],[0.4444444444444444,\"#bd3786\"],[0.5555555555555556,\"#d8576b\"],[0.6666666666666666,\"#ed7953\"],[0.7777777777777778,\"#fb9f3a\"],[0.8888888888888888,\"#fdca26\"],[1.0,\"#f0f921\"]]}],\"heatmap\":[{\"type\":\"heatmap\",\"colorbar\":{\"outlinewidth\":0,\"ticks\":\"\"},\"colorscale\":[[0.0,\"#0d0887\"],[0.1111111111111111,\"#46039f\"],[0.2222222222222222,\"#7201a8\"],[0.3333333333333333,\"#9c179e\"],[0.4444444444444444,\"#bd3786\"],[0.5555555555555556,\"#d8576b\"],[0.6666666666666666,\"#ed7953\"],[0.7777777777777778,\"#fb9f3a\"],[0.8888888888888888,\"#fdca26\"],[1.0,\"#f0f921\"]]}],\"heatmapgl\":[{\"type\":\"heatmapgl\",\"colorbar\":{\"outlinewidth\":0,\"ticks\":\"\"},\"colorscale\":[[0.0,\"#0d0887\"],[0.1111111111111111,\"#46039f\"],[0.2222222222222222,\"#7201a8\"],[0.3333333333333333,\"#9c179e\"],[0.4444444444444444,\"#bd3786\"],[0.5555555555555556,\"#d8576b\"],[0.6666666666666666,\"#ed7953\"],[0.7777777777777778,\"#fb9f3a\"],[0.8888888888888888,\"#fdca26\"],[1.0,\"#f0f921\"]]}],\"contourcarpet\":[{\"type\":\"contourcarpet\",\"colorbar\":{\"outlinewidth\":0,\"ticks\":\"\"}}],\"contour\":[{\"type\":\"contour\",\"colorbar\":{\"outlinewidth\":0,\"ticks\":\"\"},\"colorscale\":[[0.0,\"#0d0887\"],[0.1111111111111111,\"#46039f\"],[0.2222222222222222,\"#7201a8\"],[0.3333333333333333,\"#9c179e\"],[0.4444444444444444,\"#bd3786\"],[0.5555555555555556,\"#d8576b\"],[0.6666666666666666,\"#ed7953\"],[0.7777777777777778,\"#fb9f3a\"],[0.8888888888888888,\"#fdca26\"],[1.0,\"#f0f921\"]]}],\"surface\":[{\"type\":\"surface\",\"colorbar\":{\"outlinewidth\":0,\"ticks\":\"\"},\"colorscale\":[[0.0,\"#0d0887\"],[0.1111111111111111,\"#46039f\"],[0.2222222222222222,\"#7201a8\"],[0.3333333333333333,\"#9c179e\"],[0.4444444444444444,\"#bd3786\"],[0.5555555555555556,\"#d8576b\"],[0.6666666666666666,\"#ed7953\"],[0.7777777777777778,\"#fb9f3a\"],[0.8888888888888888,\"#fdca26\"],[1.0,\"#f0f921\"]]}],\"mesh3d\":[{\"type\":\"mesh3d\",\"colorbar\":{\"outlinewidth\":0,\"ticks\":\"\"}}],\"scatter\":[{\"fillpattern\":{\"fillmode\":\"overlay\",\"size\":10,\"solidity\":0.2},\"type\":\"scatter\"}],\"parcoords\":[{\"type\":\"parcoords\",\"line\":{\"colorbar\":{\"outlinewidth\":0,\"ticks\":\"\"}}}],\"scatterpolargl\":[{\"type\":\"scatterpolargl\",\"marker\":{\"colorbar\":{\"outlinewidth\":0,\"ticks\":\"\"}}}],\"bar\":[{\"error_x\":{\"color\":\"#2a3f5f\"},\"error_y\":{\"color\":\"#2a3f5f\"},\"marker\":{\"line\":{\"color\":\"#E5ECF6\",\"width\":0.5},\"pattern\":{\"fillmode\":\"overlay\",\"size\":10,\"solidity\":0.2}},\"type\":\"bar\"}],\"scattergeo\":[{\"type\":\"scattergeo\",\"marker\":{\"colorbar\":{\"outlinewidth\":0,\"ticks\":\"\"}}}],\"scatterpolar\":[{\"type\":\"scatterpolar\",\"marker\":{\"colorbar\":{\"outlinewidth\":0,\"ticks\":\"\"}}}],\"histogram\":[{\"marker\":{\"pattern\":{\"fillmode\":\"overlay\",\"size\":10,\"solidity\":0.2}},\"type\":\"histogram\"}],\"scattergl\":[{\"type\":\"scattergl\",\"marker\":{\"colorbar\":{\"outlinewidth\":0,\"ticks\":\"\"}}}],\"scatter3d\":[{\"type\":\"scatter3d\",\"line\":{\"colorbar\":{\"outlinewidth\":0,\"ticks\":\"\"}},\"marker\":{\"colorbar\":{\"outlinewidth\":0,\"ticks\":\"\"}}}],\"scattermapbox\":[{\"type\":\"scattermapbox\",\"marker\":{\"colorbar\":{\"outlinewidth\":0,\"ticks\":\"\"}}}],\"scatterternary\":[{\"type\":\"scatterternary\",\"marker\":{\"colorbar\":{\"outlinewidth\":0,\"ticks\":\"\"}}}],\"scattercarpet\":[{\"type\":\"scattercarpet\",\"marker\":{\"colorbar\":{\"outlinewidth\":0,\"ticks\":\"\"}}}],\"carpet\":[{\"aaxis\":{\"endlinecolor\":\"#2a3f5f\",\"gridcolor\":\"white\",\"linecolor\":\"white\",\"minorgridcolor\":\"white\",\"startlinecolor\":\"#2a3f5f\"},\"baxis\":{\"endlinecolor\":\"#2a3f5f\",\"gridcolor\":\"white\",\"linecolor\":\"white\",\"minorgridcolor\":\"white\",\"startlinecolor\":\"#2a3f5f\"},\"type\":\"carpet\"}],\"table\":[{\"cells\":{\"fill\":{\"color\":\"#EBF0F8\"},\"line\":{\"color\":\"white\"}},\"header\":{\"fill\":{\"color\":\"#C8D4E3\"},\"line\":{\"color\":\"white\"}},\"type\":\"table\"}],\"barpolar\":[{\"marker\":{\"line\":{\"color\":\"#E5ECF6\",\"width\":0.5},\"pattern\":{\"fillmode\":\"overlay\",\"size\":10,\"solidity\":0.2}},\"type\":\"barpolar\"}],\"pie\":[{\"automargin\":true,\"type\":\"pie\"}]},\"layout\":{\"autotypenumbers\":\"strict\",\"colorway\":[\"#636efa\",\"#EF553B\",\"#00cc96\",\"#ab63fa\",\"#FFA15A\",\"#19d3f3\",\"#FF6692\",\"#B6E880\",\"#FF97FF\",\"#FECB52\"],\"font\":{\"color\":\"#2a3f5f\"},\"hovermode\":\"closest\",\"hoverlabel\":{\"align\":\"left\"},\"paper_bgcolor\":\"white\",\"plot_bgcolor\":\"#E5ECF6\",\"polar\":{\"bgcolor\":\"#E5ECF6\",\"angularaxis\":{\"gridcolor\":\"white\",\"linecolor\":\"white\",\"ticks\":\"\"},\"radialaxis\":{\"gridcolor\":\"white\",\"linecolor\":\"white\",\"ticks\":\"\"}},\"ternary\":{\"bgcolor\":\"#E5ECF6\",\"aaxis\":{\"gridcolor\":\"white\",\"linecolor\":\"white\",\"ticks\":\"\"},\"baxis\":{\"gridcolor\":\"white\",\"linecolor\":\"white\",\"ticks\":\"\"},\"caxis\":{\"gridcolor\":\"white\",\"linecolor\":\"white\",\"ticks\":\"\"}},\"coloraxis\":{\"colorbar\":{\"outlinewidth\":0,\"ticks\":\"\"}},\"colorscale\":{\"sequential\":[[0.0,\"#0d0887\"],[0.1111111111111111,\"#46039f\"],[0.2222222222222222,\"#7201a8\"],[0.3333333333333333,\"#9c179e\"],[0.4444444444444444,\"#bd3786\"],[0.5555555555555556,\"#d8576b\"],[0.6666666666666666,\"#ed7953\"],[0.7777777777777778,\"#fb9f3a\"],[0.8888888888888888,\"#fdca26\"],[1.0,\"#f0f921\"]],\"sequentialminus\":[[0.0,\"#0d0887\"],[0.1111111111111111,\"#46039f\"],[0.2222222222222222,\"#7201a8\"],[0.3333333333333333,\"#9c179e\"],[0.4444444444444444,\"#bd3786\"],[0.5555555555555556,\"#d8576b\"],[0.6666666666666666,\"#ed7953\"],[0.7777777777777778,\"#fb9f3a\"],[0.8888888888888888,\"#fdca26\"],[1.0,\"#f0f921\"]],\"diverging\":[[0,\"#8e0152\"],[0.1,\"#c51b7d\"],[0.2,\"#de77ae\"],[0.3,\"#f1b6da\"],[0.4,\"#fde0ef\"],[0.5,\"#f7f7f7\"],[0.6,\"#e6f5d0\"],[0.7,\"#b8e186\"],[0.8,\"#7fbc41\"],[0.9,\"#4d9221\"],[1,\"#276419\"]]},\"xaxis\":{\"gridcolor\":\"white\",\"linecolor\":\"white\",\"ticks\":\"\",\"title\":{\"standoff\":15},\"zerolinecolor\":\"white\",\"automargin\":true,\"zerolinewidth\":2},\"yaxis\":{\"gridcolor\":\"white\",\"linecolor\":\"white\",\"ticks\":\"\",\"title\":{\"standoff\":15},\"zerolinecolor\":\"white\",\"automargin\":true,\"zerolinewidth\":2},\"scene\":{\"xaxis\":{\"backgroundcolor\":\"#E5ECF6\",\"gridcolor\":\"white\",\"linecolor\":\"white\",\"showbackground\":true,\"ticks\":\"\",\"zerolinecolor\":\"white\",\"gridwidth\":2},\"yaxis\":{\"backgroundcolor\":\"#E5ECF6\",\"gridcolor\":\"white\",\"linecolor\":\"white\",\"showbackground\":true,\"ticks\":\"\",\"zerolinecolor\":\"white\",\"gridwidth\":2},\"zaxis\":{\"backgroundcolor\":\"#E5ECF6\",\"gridcolor\":\"white\",\"linecolor\":\"white\",\"showbackground\":true,\"ticks\":\"\",\"zerolinecolor\":\"white\",\"gridwidth\":2}},\"shapedefaults\":{\"line\":{\"color\":\"#2a3f5f\"}},\"annotationdefaults\":{\"arrowcolor\":\"#2a3f5f\",\"arrowhead\":0,\"arrowwidth\":1},\"geo\":{\"bgcolor\":\"white\",\"landcolor\":\"#E5ECF6\",\"subunitcolor\":\"white\",\"showland\":true,\"showlakes\":true,\"lakecolor\":\"white\"},\"title\":{\"x\":0.05},\"mapbox\":{\"style\":\"light\"}}},\"xaxis\":{\"anchor\":\"y\",\"domain\":[0.0,1.0],\"title\":{\"text\":\"Total Absolute Correlation\"}},\"yaxis\":{\"anchor\":\"x\",\"domain\":[0.0,1.0],\"title\":{\"text\":\"Layer\"},\"categoryorder\":\"total ascending\"},\"legend\":{\"tracegroupgap\":0},\"title\":{\"text\":\"Best Layers for Finetuning on facial_features: Top 10 with Highest Correlation to UMAP Dimensions\"},\"barmode\":\"relative\"},                        {\"responsive\": true}                    ).then(function(){\n",
       "                            \n",
       "var gd = document.getElementById('786b693c-3d1a-4a72-aff6-6caf7e8dcfba');\n",
       "var x = new MutationObserver(function (mutations, observer) {{\n",
       "        var display = window.getComputedStyle(gd).display;\n",
       "        if (!display || display === 'none') {{\n",
       "            console.log([gd, 'removed!']);\n",
       "            Plotly.purge(gd);\n",
       "            observer.disconnect();\n",
       "        }}\n",
       "}});\n",
       "\n",
       "// Listen for the removal of the full notebook cells\n",
       "var notebookContainer = gd.closest('#notebook-container');\n",
       "if (notebookContainer) {{\n",
       "    x.observe(notebookContainer, {childList: true});\n",
       "}}\n",
       "\n",
       "// Listen for the clearing of the current output cell\n",
       "var outputEl = gd.closest('.output');\n",
       "if (outputEl) {{\n",
       "    x.observe(outputEl, {childList: true});\n",
       "}}\n",
       "\n",
       "                        })                };                });            </script>        </div>"
      ]
     },
     "metadata": {},
     "output_type": "display_data"
    },
    {
     "data": {
      "application/vnd.plotly.v1+json": {
       "config": {
        "plotlyServerURL": "https://plot.ly"
       },
       "data": [
        {
         "alignmentgroup": "True",
         "hovertemplate": "Combined Importance Score=%{x}<br>Layer=%{y}<extra></extra>",
         "legendgroup": "",
         "marker": {
          "color": "#636efa",
          "pattern": {
           "shape": ""
          }
         },
         "name": "",
         "offsetgroup": "",
         "orientation": "h",
         "showlegend": false,
         "textposition": "auto",
         "type": "bar",
         "x": [
          2.6733561387355915,
          1.8874182255613203,
          1.848031693364793,
          1.7788552823718744,
          1.453245497662714,
          1.3719548039688725,
          1.3336812286692576,
          1.3095670670906743,
          1.1789859353462724,
          1.1571219953825138
         ],
         "xaxis": "x",
         "y": [
          "transformer.single_transformer_blocks.7.attn.to_q",
          "transformer.transformer_blocks.16.ff.net.2",
          "transformer.transformer_blocks.14.attn.to_q",
          "transformer.single_transformer_blocks.3.attn.to_q",
          "transformer.transformer_blocks.10.ff_context.net.2",
          "transformer.transformer_blocks.13.ff.net.2",
          "transformer.transformer_blocks.3.norm1.linear",
          "transformer.single_transformer_blocks.18.attn.to_k",
          "transformer.transformer_blocks.18.attn.to_v",
          "transformer.single_transformer_blocks.4.attn.to_q"
         ],
         "yaxis": "y"
        }
       ],
       "layout": {
        "barmode": "relative",
        "legend": {
         "tracegroupgap": 0
        },
        "template": {
         "data": {
          "bar": [
           {
            "error_x": {
             "color": "#2a3f5f"
            },
            "error_y": {
             "color": "#2a3f5f"
            },
            "marker": {
             "line": {
              "color": "#E5ECF6",
              "width": 0.5
             },
             "pattern": {
              "fillmode": "overlay",
              "size": 10,
              "solidity": 0.2
             }
            },
            "type": "bar"
           }
          ],
          "barpolar": [
           {
            "marker": {
             "line": {
              "color": "#E5ECF6",
              "width": 0.5
             },
             "pattern": {
              "fillmode": "overlay",
              "size": 10,
              "solidity": 0.2
             }
            },
            "type": "barpolar"
           }
          ],
          "carpet": [
           {
            "aaxis": {
             "endlinecolor": "#2a3f5f",
             "gridcolor": "white",
             "linecolor": "white",
             "minorgridcolor": "white",
             "startlinecolor": "#2a3f5f"
            },
            "baxis": {
             "endlinecolor": "#2a3f5f",
             "gridcolor": "white",
             "linecolor": "white",
             "minorgridcolor": "white",
             "startlinecolor": "#2a3f5f"
            },
            "type": "carpet"
           }
          ],
          "choropleth": [
           {
            "colorbar": {
             "outlinewidth": 0,
             "ticks": ""
            },
            "type": "choropleth"
           }
          ],
          "contour": [
           {
            "colorbar": {
             "outlinewidth": 0,
             "ticks": ""
            },
            "colorscale": [
             [
              0,
              "#0d0887"
             ],
             [
              0.1111111111111111,
              "#46039f"
             ],
             [
              0.2222222222222222,
              "#7201a8"
             ],
             [
              0.3333333333333333,
              "#9c179e"
             ],
             [
              0.4444444444444444,
              "#bd3786"
             ],
             [
              0.5555555555555556,
              "#d8576b"
             ],
             [
              0.6666666666666666,
              "#ed7953"
             ],
             [
              0.7777777777777778,
              "#fb9f3a"
             ],
             [
              0.8888888888888888,
              "#fdca26"
             ],
             [
              1,
              "#f0f921"
             ]
            ],
            "type": "contour"
           }
          ],
          "contourcarpet": [
           {
            "colorbar": {
             "outlinewidth": 0,
             "ticks": ""
            },
            "type": "contourcarpet"
           }
          ],
          "heatmap": [
           {
            "colorbar": {
             "outlinewidth": 0,
             "ticks": ""
            },
            "colorscale": [
             [
              0,
              "#0d0887"
             ],
             [
              0.1111111111111111,
              "#46039f"
             ],
             [
              0.2222222222222222,
              "#7201a8"
             ],
             [
              0.3333333333333333,
              "#9c179e"
             ],
             [
              0.4444444444444444,
              "#bd3786"
             ],
             [
              0.5555555555555556,
              "#d8576b"
             ],
             [
              0.6666666666666666,
              "#ed7953"
             ],
             [
              0.7777777777777778,
              "#fb9f3a"
             ],
             [
              0.8888888888888888,
              "#fdca26"
             ],
             [
              1,
              "#f0f921"
             ]
            ],
            "type": "heatmap"
           }
          ],
          "heatmapgl": [
           {
            "colorbar": {
             "outlinewidth": 0,
             "ticks": ""
            },
            "colorscale": [
             [
              0,
              "#0d0887"
             ],
             [
              0.1111111111111111,
              "#46039f"
             ],
             [
              0.2222222222222222,
              "#7201a8"
             ],
             [
              0.3333333333333333,
              "#9c179e"
             ],
             [
              0.4444444444444444,
              "#bd3786"
             ],
             [
              0.5555555555555556,
              "#d8576b"
             ],
             [
              0.6666666666666666,
              "#ed7953"
             ],
             [
              0.7777777777777778,
              "#fb9f3a"
             ],
             [
              0.8888888888888888,
              "#fdca26"
             ],
             [
              1,
              "#f0f921"
             ]
            ],
            "type": "heatmapgl"
           }
          ],
          "histogram": [
           {
            "marker": {
             "pattern": {
              "fillmode": "overlay",
              "size": 10,
              "solidity": 0.2
             }
            },
            "type": "histogram"
           }
          ],
          "histogram2d": [
           {
            "colorbar": {
             "outlinewidth": 0,
             "ticks": ""
            },
            "colorscale": [
             [
              0,
              "#0d0887"
             ],
             [
              0.1111111111111111,
              "#46039f"
             ],
             [
              0.2222222222222222,
              "#7201a8"
             ],
             [
              0.3333333333333333,
              "#9c179e"
             ],
             [
              0.4444444444444444,
              "#bd3786"
             ],
             [
              0.5555555555555556,
              "#d8576b"
             ],
             [
              0.6666666666666666,
              "#ed7953"
             ],
             [
              0.7777777777777778,
              "#fb9f3a"
             ],
             [
              0.8888888888888888,
              "#fdca26"
             ],
             [
              1,
              "#f0f921"
             ]
            ],
            "type": "histogram2d"
           }
          ],
          "histogram2dcontour": [
           {
            "colorbar": {
             "outlinewidth": 0,
             "ticks": ""
            },
            "colorscale": [
             [
              0,
              "#0d0887"
             ],
             [
              0.1111111111111111,
              "#46039f"
             ],
             [
              0.2222222222222222,
              "#7201a8"
             ],
             [
              0.3333333333333333,
              "#9c179e"
             ],
             [
              0.4444444444444444,
              "#bd3786"
             ],
             [
              0.5555555555555556,
              "#d8576b"
             ],
             [
              0.6666666666666666,
              "#ed7953"
             ],
             [
              0.7777777777777778,
              "#fb9f3a"
             ],
             [
              0.8888888888888888,
              "#fdca26"
             ],
             [
              1,
              "#f0f921"
             ]
            ],
            "type": "histogram2dcontour"
           }
          ],
          "mesh3d": [
           {
            "colorbar": {
             "outlinewidth": 0,
             "ticks": ""
            },
            "type": "mesh3d"
           }
          ],
          "parcoords": [
           {
            "line": {
             "colorbar": {
              "outlinewidth": 0,
              "ticks": ""
             }
            },
            "type": "parcoords"
           }
          ],
          "pie": [
           {
            "automargin": true,
            "type": "pie"
           }
          ],
          "scatter": [
           {
            "fillpattern": {
             "fillmode": "overlay",
             "size": 10,
             "solidity": 0.2
            },
            "type": "scatter"
           }
          ],
          "scatter3d": [
           {
            "line": {
             "colorbar": {
              "outlinewidth": 0,
              "ticks": ""
             }
            },
            "marker": {
             "colorbar": {
              "outlinewidth": 0,
              "ticks": ""
             }
            },
            "type": "scatter3d"
           }
          ],
          "scattercarpet": [
           {
            "marker": {
             "colorbar": {
              "outlinewidth": 0,
              "ticks": ""
             }
            },
            "type": "scattercarpet"
           }
          ],
          "scattergeo": [
           {
            "marker": {
             "colorbar": {
              "outlinewidth": 0,
              "ticks": ""
             }
            },
            "type": "scattergeo"
           }
          ],
          "scattergl": [
           {
            "marker": {
             "colorbar": {
              "outlinewidth": 0,
              "ticks": ""
             }
            },
            "type": "scattergl"
           }
          ],
          "scattermapbox": [
           {
            "marker": {
             "colorbar": {
              "outlinewidth": 0,
              "ticks": ""
             }
            },
            "type": "scattermapbox"
           }
          ],
          "scatterpolar": [
           {
            "marker": {
             "colorbar": {
              "outlinewidth": 0,
              "ticks": ""
             }
            },
            "type": "scatterpolar"
           }
          ],
          "scatterpolargl": [
           {
            "marker": {
             "colorbar": {
              "outlinewidth": 0,
              "ticks": ""
             }
            },
            "type": "scatterpolargl"
           }
          ],
          "scatterternary": [
           {
            "marker": {
             "colorbar": {
              "outlinewidth": 0,
              "ticks": ""
             }
            },
            "type": "scatterternary"
           }
          ],
          "surface": [
           {
            "colorbar": {
             "outlinewidth": 0,
             "ticks": ""
            },
            "colorscale": [
             [
              0,
              "#0d0887"
             ],
             [
              0.1111111111111111,
              "#46039f"
             ],
             [
              0.2222222222222222,
              "#7201a8"
             ],
             [
              0.3333333333333333,
              "#9c179e"
             ],
             [
              0.4444444444444444,
              "#bd3786"
             ],
             [
              0.5555555555555556,
              "#d8576b"
             ],
             [
              0.6666666666666666,
              "#ed7953"
             ],
             [
              0.7777777777777778,
              "#fb9f3a"
             ],
             [
              0.8888888888888888,
              "#fdca26"
             ],
             [
              1,
              "#f0f921"
             ]
            ],
            "type": "surface"
           }
          ],
          "table": [
           {
            "cells": {
             "fill": {
              "color": "#EBF0F8"
             },
             "line": {
              "color": "white"
             }
            },
            "header": {
             "fill": {
              "color": "#C8D4E3"
             },
             "line": {
              "color": "white"
             }
            },
            "type": "table"
           }
          ]
         },
         "layout": {
          "annotationdefaults": {
           "arrowcolor": "#2a3f5f",
           "arrowhead": 0,
           "arrowwidth": 1
          },
          "autotypenumbers": "strict",
          "coloraxis": {
           "colorbar": {
            "outlinewidth": 0,
            "ticks": ""
           }
          },
          "colorscale": {
           "diverging": [
            [
             0,
             "#8e0152"
            ],
            [
             0.1,
             "#c51b7d"
            ],
            [
             0.2,
             "#de77ae"
            ],
            [
             0.3,
             "#f1b6da"
            ],
            [
             0.4,
             "#fde0ef"
            ],
            [
             0.5,
             "#f7f7f7"
            ],
            [
             0.6,
             "#e6f5d0"
            ],
            [
             0.7,
             "#b8e186"
            ],
            [
             0.8,
             "#7fbc41"
            ],
            [
             0.9,
             "#4d9221"
            ],
            [
             1,
             "#276419"
            ]
           ],
           "sequential": [
            [
             0,
             "#0d0887"
            ],
            [
             0.1111111111111111,
             "#46039f"
            ],
            [
             0.2222222222222222,
             "#7201a8"
            ],
            [
             0.3333333333333333,
             "#9c179e"
            ],
            [
             0.4444444444444444,
             "#bd3786"
            ],
            [
             0.5555555555555556,
             "#d8576b"
            ],
            [
             0.6666666666666666,
             "#ed7953"
            ],
            [
             0.7777777777777778,
             "#fb9f3a"
            ],
            [
             0.8888888888888888,
             "#fdca26"
            ],
            [
             1,
             "#f0f921"
            ]
           ],
           "sequentialminus": [
            [
             0,
             "#0d0887"
            ],
            [
             0.1111111111111111,
             "#46039f"
            ],
            [
             0.2222222222222222,
             "#7201a8"
            ],
            [
             0.3333333333333333,
             "#9c179e"
            ],
            [
             0.4444444444444444,
             "#bd3786"
            ],
            [
             0.5555555555555556,
             "#d8576b"
            ],
            [
             0.6666666666666666,
             "#ed7953"
            ],
            [
             0.7777777777777778,
             "#fb9f3a"
            ],
            [
             0.8888888888888888,
             "#fdca26"
            ],
            [
             1,
             "#f0f921"
            ]
           ]
          },
          "colorway": [
           "#636efa",
           "#EF553B",
           "#00cc96",
           "#ab63fa",
           "#FFA15A",
           "#19d3f3",
           "#FF6692",
           "#B6E880",
           "#FF97FF",
           "#FECB52"
          ],
          "font": {
           "color": "#2a3f5f"
          },
          "geo": {
           "bgcolor": "white",
           "lakecolor": "white",
           "landcolor": "#E5ECF6",
           "showlakes": true,
           "showland": true,
           "subunitcolor": "white"
          },
          "hoverlabel": {
           "align": "left"
          },
          "hovermode": "closest",
          "mapbox": {
           "style": "light"
          },
          "paper_bgcolor": "white",
          "plot_bgcolor": "#E5ECF6",
          "polar": {
           "angularaxis": {
            "gridcolor": "white",
            "linecolor": "white",
            "ticks": ""
           },
           "bgcolor": "#E5ECF6",
           "radialaxis": {
            "gridcolor": "white",
            "linecolor": "white",
            "ticks": ""
           }
          },
          "scene": {
           "xaxis": {
            "backgroundcolor": "#E5ECF6",
            "gridcolor": "white",
            "gridwidth": 2,
            "linecolor": "white",
            "showbackground": true,
            "ticks": "",
            "zerolinecolor": "white"
           },
           "yaxis": {
            "backgroundcolor": "#E5ECF6",
            "gridcolor": "white",
            "gridwidth": 2,
            "linecolor": "white",
            "showbackground": true,
            "ticks": "",
            "zerolinecolor": "white"
           },
           "zaxis": {
            "backgroundcolor": "#E5ECF6",
            "gridcolor": "white",
            "gridwidth": 2,
            "linecolor": "white",
            "showbackground": true,
            "ticks": "",
            "zerolinecolor": "white"
           }
          },
          "shapedefaults": {
           "line": {
            "color": "#2a3f5f"
           }
          },
          "ternary": {
           "aaxis": {
            "gridcolor": "white",
            "linecolor": "white",
            "ticks": ""
           },
           "baxis": {
            "gridcolor": "white",
            "linecolor": "white",
            "ticks": ""
           },
           "bgcolor": "#E5ECF6",
           "caxis": {
            "gridcolor": "white",
            "linecolor": "white",
            "ticks": ""
           }
          },
          "title": {
           "x": 0.05
          },
          "xaxis": {
           "automargin": true,
           "gridcolor": "white",
           "linecolor": "white",
           "ticks": "",
           "title": {
            "standoff": 15
           },
           "zerolinecolor": "white",
           "zerolinewidth": 2
          },
          "yaxis": {
           "automargin": true,
           "gridcolor": "white",
           "linecolor": "white",
           "ticks": "",
           "title": {
            "standoff": 15
           },
           "zerolinecolor": "white",
           "zerolinewidth": 2
          }
         }
        },
        "title": {
         "text": "Best Layers for Finetuning on facial_features: Top 10 Based on Combined Importance"
        },
        "xaxis": {
         "anchor": "y",
         "domain": [
          0,
          1
         ],
         "title": {
          "text": "Combined Importance Score"
         }
        },
        "yaxis": {
         "anchor": "x",
         "categoryorder": "total ascending",
         "domain": [
          0,
          1
         ],
         "title": {
          "text": "Layer"
         }
        }
       }
      },
      "text/html": [
       "<div>                            <div id=\"0fed6ccc-e6d3-4c37-8fa1-ad5fc0fd7e7a\" class=\"plotly-graph-div\" style=\"height:525px; width:100%;\"></div>            <script type=\"text/javascript\">                require([\"plotly\"], function(Plotly) {                    window.PLOTLYENV=window.PLOTLYENV || {};                                    if (document.getElementById(\"0fed6ccc-e6d3-4c37-8fa1-ad5fc0fd7e7a\")) {                    Plotly.newPlot(                        \"0fed6ccc-e6d3-4c37-8fa1-ad5fc0fd7e7a\",                        [{\"alignmentgroup\":\"True\",\"hovertemplate\":\"Combined Importance Score=%{x}\\u003cbr\\u003eLayer=%{y}\\u003cextra\\u003e\\u003c\\u002fextra\\u003e\",\"legendgroup\":\"\",\"marker\":{\"color\":\"#636efa\",\"pattern\":{\"shape\":\"\"}},\"name\":\"\",\"offsetgroup\":\"\",\"orientation\":\"h\",\"showlegend\":false,\"textposition\":\"auto\",\"x\":[2.6733561387355915,1.8874182255613203,1.848031693364793,1.7788552823718744,1.453245497662714,1.3719548039688725,1.3336812286692576,1.3095670670906743,1.1789859353462724,1.1571219953825138],\"xaxis\":\"x\",\"y\":[\"transformer.single_transformer_blocks.7.attn.to_q\",\"transformer.transformer_blocks.16.ff.net.2\",\"transformer.transformer_blocks.14.attn.to_q\",\"transformer.single_transformer_blocks.3.attn.to_q\",\"transformer.transformer_blocks.10.ff_context.net.2\",\"transformer.transformer_blocks.13.ff.net.2\",\"transformer.transformer_blocks.3.norm1.linear\",\"transformer.single_transformer_blocks.18.attn.to_k\",\"transformer.transformer_blocks.18.attn.to_v\",\"transformer.single_transformer_blocks.4.attn.to_q\"],\"yaxis\":\"y\",\"type\":\"bar\"}],                        {\"template\":{\"data\":{\"histogram2dcontour\":[{\"type\":\"histogram2dcontour\",\"colorbar\":{\"outlinewidth\":0,\"ticks\":\"\"},\"colorscale\":[[0.0,\"#0d0887\"],[0.1111111111111111,\"#46039f\"],[0.2222222222222222,\"#7201a8\"],[0.3333333333333333,\"#9c179e\"],[0.4444444444444444,\"#bd3786\"],[0.5555555555555556,\"#d8576b\"],[0.6666666666666666,\"#ed7953\"],[0.7777777777777778,\"#fb9f3a\"],[0.8888888888888888,\"#fdca26\"],[1.0,\"#f0f921\"]]}],\"choropleth\":[{\"type\":\"choropleth\",\"colorbar\":{\"outlinewidth\":0,\"ticks\":\"\"}}],\"histogram2d\":[{\"type\":\"histogram2d\",\"colorbar\":{\"outlinewidth\":0,\"ticks\":\"\"},\"colorscale\":[[0.0,\"#0d0887\"],[0.1111111111111111,\"#46039f\"],[0.2222222222222222,\"#7201a8\"],[0.3333333333333333,\"#9c179e\"],[0.4444444444444444,\"#bd3786\"],[0.5555555555555556,\"#d8576b\"],[0.6666666666666666,\"#ed7953\"],[0.7777777777777778,\"#fb9f3a\"],[0.8888888888888888,\"#fdca26\"],[1.0,\"#f0f921\"]]}],\"heatmap\":[{\"type\":\"heatmap\",\"colorbar\":{\"outlinewidth\":0,\"ticks\":\"\"},\"colorscale\":[[0.0,\"#0d0887\"],[0.1111111111111111,\"#46039f\"],[0.2222222222222222,\"#7201a8\"],[0.3333333333333333,\"#9c179e\"],[0.4444444444444444,\"#bd3786\"],[0.5555555555555556,\"#d8576b\"],[0.6666666666666666,\"#ed7953\"],[0.7777777777777778,\"#fb9f3a\"],[0.8888888888888888,\"#fdca26\"],[1.0,\"#f0f921\"]]}],\"heatmapgl\":[{\"type\":\"heatmapgl\",\"colorbar\":{\"outlinewidth\":0,\"ticks\":\"\"},\"colorscale\":[[0.0,\"#0d0887\"],[0.1111111111111111,\"#46039f\"],[0.2222222222222222,\"#7201a8\"],[0.3333333333333333,\"#9c179e\"],[0.4444444444444444,\"#bd3786\"],[0.5555555555555556,\"#d8576b\"],[0.6666666666666666,\"#ed7953\"],[0.7777777777777778,\"#fb9f3a\"],[0.8888888888888888,\"#fdca26\"],[1.0,\"#f0f921\"]]}],\"contourcarpet\":[{\"type\":\"contourcarpet\",\"colorbar\":{\"outlinewidth\":0,\"ticks\":\"\"}}],\"contour\":[{\"type\":\"contour\",\"colorbar\":{\"outlinewidth\":0,\"ticks\":\"\"},\"colorscale\":[[0.0,\"#0d0887\"],[0.1111111111111111,\"#46039f\"],[0.2222222222222222,\"#7201a8\"],[0.3333333333333333,\"#9c179e\"],[0.4444444444444444,\"#bd3786\"],[0.5555555555555556,\"#d8576b\"],[0.6666666666666666,\"#ed7953\"],[0.7777777777777778,\"#fb9f3a\"],[0.8888888888888888,\"#fdca26\"],[1.0,\"#f0f921\"]]}],\"surface\":[{\"type\":\"surface\",\"colorbar\":{\"outlinewidth\":0,\"ticks\":\"\"},\"colorscale\":[[0.0,\"#0d0887\"],[0.1111111111111111,\"#46039f\"],[0.2222222222222222,\"#7201a8\"],[0.3333333333333333,\"#9c179e\"],[0.4444444444444444,\"#bd3786\"],[0.5555555555555556,\"#d8576b\"],[0.6666666666666666,\"#ed7953\"],[0.7777777777777778,\"#fb9f3a\"],[0.8888888888888888,\"#fdca26\"],[1.0,\"#f0f921\"]]}],\"mesh3d\":[{\"type\":\"mesh3d\",\"colorbar\":{\"outlinewidth\":0,\"ticks\":\"\"}}],\"scatter\":[{\"fillpattern\":{\"fillmode\":\"overlay\",\"size\":10,\"solidity\":0.2},\"type\":\"scatter\"}],\"parcoords\":[{\"type\":\"parcoords\",\"line\":{\"colorbar\":{\"outlinewidth\":0,\"ticks\":\"\"}}}],\"scatterpolargl\":[{\"type\":\"scatterpolargl\",\"marker\":{\"colorbar\":{\"outlinewidth\":0,\"ticks\":\"\"}}}],\"bar\":[{\"error_x\":{\"color\":\"#2a3f5f\"},\"error_y\":{\"color\":\"#2a3f5f\"},\"marker\":{\"line\":{\"color\":\"#E5ECF6\",\"width\":0.5},\"pattern\":{\"fillmode\":\"overlay\",\"size\":10,\"solidity\":0.2}},\"type\":\"bar\"}],\"scattergeo\":[{\"type\":\"scattergeo\",\"marker\":{\"colorbar\":{\"outlinewidth\":0,\"ticks\":\"\"}}}],\"scatterpolar\":[{\"type\":\"scatterpolar\",\"marker\":{\"colorbar\":{\"outlinewidth\":0,\"ticks\":\"\"}}}],\"histogram\":[{\"marker\":{\"pattern\":{\"fillmode\":\"overlay\",\"size\":10,\"solidity\":0.2}},\"type\":\"histogram\"}],\"scattergl\":[{\"type\":\"scattergl\",\"marker\":{\"colorbar\":{\"outlinewidth\":0,\"ticks\":\"\"}}}],\"scatter3d\":[{\"type\":\"scatter3d\",\"line\":{\"colorbar\":{\"outlinewidth\":0,\"ticks\":\"\"}},\"marker\":{\"colorbar\":{\"outlinewidth\":0,\"ticks\":\"\"}}}],\"scattermapbox\":[{\"type\":\"scattermapbox\",\"marker\":{\"colorbar\":{\"outlinewidth\":0,\"ticks\":\"\"}}}],\"scatterternary\":[{\"type\":\"scatterternary\",\"marker\":{\"colorbar\":{\"outlinewidth\":0,\"ticks\":\"\"}}}],\"scattercarpet\":[{\"type\":\"scattercarpet\",\"marker\":{\"colorbar\":{\"outlinewidth\":0,\"ticks\":\"\"}}}],\"carpet\":[{\"aaxis\":{\"endlinecolor\":\"#2a3f5f\",\"gridcolor\":\"white\",\"linecolor\":\"white\",\"minorgridcolor\":\"white\",\"startlinecolor\":\"#2a3f5f\"},\"baxis\":{\"endlinecolor\":\"#2a3f5f\",\"gridcolor\":\"white\",\"linecolor\":\"white\",\"minorgridcolor\":\"white\",\"startlinecolor\":\"#2a3f5f\"},\"type\":\"carpet\"}],\"table\":[{\"cells\":{\"fill\":{\"color\":\"#EBF0F8\"},\"line\":{\"color\":\"white\"}},\"header\":{\"fill\":{\"color\":\"#C8D4E3\"},\"line\":{\"color\":\"white\"}},\"type\":\"table\"}],\"barpolar\":[{\"marker\":{\"line\":{\"color\":\"#E5ECF6\",\"width\":0.5},\"pattern\":{\"fillmode\":\"overlay\",\"size\":10,\"solidity\":0.2}},\"type\":\"barpolar\"}],\"pie\":[{\"automargin\":true,\"type\":\"pie\"}]},\"layout\":{\"autotypenumbers\":\"strict\",\"colorway\":[\"#636efa\",\"#EF553B\",\"#00cc96\",\"#ab63fa\",\"#FFA15A\",\"#19d3f3\",\"#FF6692\",\"#B6E880\",\"#FF97FF\",\"#FECB52\"],\"font\":{\"color\":\"#2a3f5f\"},\"hovermode\":\"closest\",\"hoverlabel\":{\"align\":\"left\"},\"paper_bgcolor\":\"white\",\"plot_bgcolor\":\"#E5ECF6\",\"polar\":{\"bgcolor\":\"#E5ECF6\",\"angularaxis\":{\"gridcolor\":\"white\",\"linecolor\":\"white\",\"ticks\":\"\"},\"radialaxis\":{\"gridcolor\":\"white\",\"linecolor\":\"white\",\"ticks\":\"\"}},\"ternary\":{\"bgcolor\":\"#E5ECF6\",\"aaxis\":{\"gridcolor\":\"white\",\"linecolor\":\"white\",\"ticks\":\"\"},\"baxis\":{\"gridcolor\":\"white\",\"linecolor\":\"white\",\"ticks\":\"\"},\"caxis\":{\"gridcolor\":\"white\",\"linecolor\":\"white\",\"ticks\":\"\"}},\"coloraxis\":{\"colorbar\":{\"outlinewidth\":0,\"ticks\":\"\"}},\"colorscale\":{\"sequential\":[[0.0,\"#0d0887\"],[0.1111111111111111,\"#46039f\"],[0.2222222222222222,\"#7201a8\"],[0.3333333333333333,\"#9c179e\"],[0.4444444444444444,\"#bd3786\"],[0.5555555555555556,\"#d8576b\"],[0.6666666666666666,\"#ed7953\"],[0.7777777777777778,\"#fb9f3a\"],[0.8888888888888888,\"#fdca26\"],[1.0,\"#f0f921\"]],\"sequentialminus\":[[0.0,\"#0d0887\"],[0.1111111111111111,\"#46039f\"],[0.2222222222222222,\"#7201a8\"],[0.3333333333333333,\"#9c179e\"],[0.4444444444444444,\"#bd3786\"],[0.5555555555555556,\"#d8576b\"],[0.6666666666666666,\"#ed7953\"],[0.7777777777777778,\"#fb9f3a\"],[0.8888888888888888,\"#fdca26\"],[1.0,\"#f0f921\"]],\"diverging\":[[0,\"#8e0152\"],[0.1,\"#c51b7d\"],[0.2,\"#de77ae\"],[0.3,\"#f1b6da\"],[0.4,\"#fde0ef\"],[0.5,\"#f7f7f7\"],[0.6,\"#e6f5d0\"],[0.7,\"#b8e186\"],[0.8,\"#7fbc41\"],[0.9,\"#4d9221\"],[1,\"#276419\"]]},\"xaxis\":{\"gridcolor\":\"white\",\"linecolor\":\"white\",\"ticks\":\"\",\"title\":{\"standoff\":15},\"zerolinecolor\":\"white\",\"automargin\":true,\"zerolinewidth\":2},\"yaxis\":{\"gridcolor\":\"white\",\"linecolor\":\"white\",\"ticks\":\"\",\"title\":{\"standoff\":15},\"zerolinecolor\":\"white\",\"automargin\":true,\"zerolinewidth\":2},\"scene\":{\"xaxis\":{\"backgroundcolor\":\"#E5ECF6\",\"gridcolor\":\"white\",\"linecolor\":\"white\",\"showbackground\":true,\"ticks\":\"\",\"zerolinecolor\":\"white\",\"gridwidth\":2},\"yaxis\":{\"backgroundcolor\":\"#E5ECF6\",\"gridcolor\":\"white\",\"linecolor\":\"white\",\"showbackground\":true,\"ticks\":\"\",\"zerolinecolor\":\"white\",\"gridwidth\":2},\"zaxis\":{\"backgroundcolor\":\"#E5ECF6\",\"gridcolor\":\"white\",\"linecolor\":\"white\",\"showbackground\":true,\"ticks\":\"\",\"zerolinecolor\":\"white\",\"gridwidth\":2}},\"shapedefaults\":{\"line\":{\"color\":\"#2a3f5f\"}},\"annotationdefaults\":{\"arrowcolor\":\"#2a3f5f\",\"arrowhead\":0,\"arrowwidth\":1},\"geo\":{\"bgcolor\":\"white\",\"landcolor\":\"#E5ECF6\",\"subunitcolor\":\"white\",\"showland\":true,\"showlakes\":true,\"lakecolor\":\"white\"},\"title\":{\"x\":0.05},\"mapbox\":{\"style\":\"light\"}}},\"xaxis\":{\"anchor\":\"y\",\"domain\":[0.0,1.0],\"title\":{\"text\":\"Combined Importance Score\"}},\"yaxis\":{\"anchor\":\"x\",\"domain\":[0.0,1.0],\"title\":{\"text\":\"Layer\"},\"categoryorder\":\"total ascending\"},\"legend\":{\"tracegroupgap\":0},\"title\":{\"text\":\"Best Layers for Finetuning on facial_features: Top 10 Based on Combined Importance\"},\"barmode\":\"relative\"},                        {\"responsive\": true}                    ).then(function(){\n",
       "                            \n",
       "var gd = document.getElementById('0fed6ccc-e6d3-4c37-8fa1-ad5fc0fd7e7a');\n",
       "var x = new MutationObserver(function (mutations, observer) {{\n",
       "        var display = window.getComputedStyle(gd).display;\n",
       "        if (!display || display === 'none') {{\n",
       "            console.log([gd, 'removed!']);\n",
       "            Plotly.purge(gd);\n",
       "            observer.disconnect();\n",
       "        }}\n",
       "}});\n",
       "\n",
       "// Listen for the removal of the full notebook cells\n",
       "var notebookContainer = gd.closest('#notebook-container');\n",
       "if (notebookContainer) {{\n",
       "    x.observe(notebookContainer, {childList: true});\n",
       "}}\n",
       "\n",
       "// Listen for the clearing of the current output cell\n",
       "var outputEl = gd.closest('.output');\n",
       "if (outputEl) {{\n",
       "    x.observe(outputEl, {childList: true});\n",
       "}}\n",
       "\n",
       "                        })                };                });            </script>        </div>"
      ]
     },
     "metadata": {},
     "output_type": "display_data"
    },
    {
     "name": "stdout",
     "output_type": "stream",
     "text": [
      "Final recommendation for layers to fine-tune for facial_features:\n",
      "transformer.single_transformer_blocks.7.attn.to_q (Combined Importance: 2.6734)\n",
      "transformer.transformer_blocks.16.ff.net.2 (Combined Importance: 1.8874)\n",
      "transformer.transformer_blocks.14.attn.to_q (Combined Importance: 1.8480)\n",
      "transformer.single_transformer_blocks.3.attn.to_q (Combined Importance: 1.7789)\n",
      "transformer.transformer_blocks.10.ff_context.net.2 (Combined Importance: 1.4532)\n",
      "transformer.transformer_blocks.13.ff.net.2 (Combined Importance: 1.3720)\n",
      "transformer.transformer_blocks.3.norm1.linear (Combined Importance: 1.3337)\n",
      "transformer.single_transformer_blocks.18.attn.to_k (Combined Importance: 1.3096)\n",
      "transformer.transformer_blocks.18.attn.to_v (Combined Importance: 1.1790)\n",
      "transformer.single_transformer_blocks.4.attn.to_q (Combined Importance: 1.1571)\n"
     ]
    },
    {
     "name": "stderr",
     "output_type": "stream",
     "text": [
      "/home/zsakib/miniconda3/envs/flux-pulid/lib/python3.10/site-packages/umap/umap_.py:1945: UserWarning:\n",
      "\n",
      "n_jobs value 1 overridden to 1 by setting random_state. Use no seed for parallelism.\n",
      "\n"
     ]
    },
    {
     "data": {
      "application/vnd.plotly.v1+json": {
       "config": {
        "plotlyServerURL": "https://plot.ly"
       },
       "data": [
        {
         "customdata": [
          [
           "smiling portrait"
          ],
          [
           "frowning expression"
          ],
          [
           "surprised look"
          ],
          [
           "angry glare"
          ],
          [
           "neutral expression"
          ],
          [
           "bearded individual"
          ],
          [
           "freckled complexion"
          ],
          [
           "face"
          ],
          [
           "laughing face"
          ],
          [
           "crying expression"
          ],
          [
           "confused look"
          ],
          [
           "excited smile"
          ],
          [
           "thoughtful gaze"
          ],
          [
           "wrinkled face"
          ],
          [
           "dimpled cheeks"
          ],
          [
           "strong jawline"
          ],
          [
           "high cheekbones"
          ],
          [
           "bushy eyebrows"
          ]
         ],
         "hovertemplate": "category=facial_features<br>Dim1=%{x}<br>Dim2=%{y}<br>Dim3=%{z}<br>prompt=%{customdata[0]}<extra></extra>",
         "legendgroup": "facial_features",
         "marker": {
          "color": "#636efa",
          "symbol": "circle"
         },
         "mode": "markers",
         "name": "facial_features",
         "scene": "scene",
         "showlegend": true,
         "type": "scatter3d",
         "x": [
          -4.4523558300195445,
          -4.45252101252271,
          -3.9113623096585677,
          -4.658375548714697,
          -3.1349135391356824,
          -2.9993258388284874,
          -5.425142738125161,
          -4.538652798298528,
          -4.636974993668537,
          -3.7877203995432756,
          -4.002063986344538,
          -4.670324517512278,
          -3.2179371426577914,
          -4.266394012673213,
          -4.481935551688427,
          -3.7956553990020647,
          -5.672165198309586,
          -4.00593295456974
         ],
         "y": [
          -0.08369564482951283,
          0.5530741119207705,
          -0.14062096992608664,
          1.512096122079674,
          -0.5041105081778261,
          0.36213903625498584,
          -0.003734690833101619,
          1.3195891738400978,
          1.8665824986973358,
          -0.15773268723969155,
          0.37238960066847754,
          0.48055888164064886,
          -1.1835583344133165,
          0.6868888624058433,
          -0.027101828956845587,
          0.33896438632460996,
          -0.6929566779821138,
          0.6133966233551738
         ],
         "z": [
          2.0975951679330116,
          -0.050618970080238065,
          -0.8255205639723541,
          0.29468972104597524,
          -0.08644526145023947,
          0.260499758907561,
          -0.5825988388822205,
          0.903755227417961,
          -0.795314971528222,
          -2.472006408448455,
          -0.5148397568526172,
          -0.8464681660304235,
          0.9596437224058795,
          -1.1249379059483935,
          0.3622621541514633,
          0.13080053589600904,
          0.3591727886379094,
          0.03347360657026079
         ]
        },
        {
         "customdata": [
          [
           "landscape"
          ],
          [
           "seascape"
          ],
          [
           "mountain range"
          ],
          [
           "forest"
          ],
          [
           "sunset"
          ],
          [
           "sunrise"
          ],
          [
           "beach"
          ],
          [
           "desert"
          ],
          [
           "waterfall"
          ],
          [
           "canyon"
          ],
          [
           "meadow"
          ],
          [
           "tropical island"
          ],
          [
           "arctic tundra"
          ],
          [
           "savanna"
          ],
          [
           "volcano"
          ],
          [
           "coral reef"
          ],
          [
           "rainforest"
          ],
          [
           "autumn leaves"
          ],
          [
           "spring blossoms"
          ],
          [
           "misty morning"
          ]
         ],
         "hovertemplate": "category=nature<br>Dim1=%{x}<br>Dim2=%{y}<br>Dim3=%{z}<br>prompt=%{customdata[0]}<extra></extra>",
         "legendgroup": "nature",
         "marker": {
          "color": "#EF553B",
          "symbol": "circle"
         },
         "mode": "markers",
         "name": "nature",
         "scene": "scene",
         "showlegend": true,
         "type": "scatter3d",
         "x": [
          1.495102771857914,
          1.4134044487950395,
          1.355673860710688,
          2.332990057807757,
          -0.5181363576347978,
          -0.8516559728154702,
          1.884830862818088,
          1.024466738637597,
          3.469294866337325,
          2.36857054550601,
          2.677402143443956,
          1.332890107808919,
          2.0262011513389537,
          0.7779623070579865,
          1.4979850419867378,
          1.9466729162262069,
          2.0197564906077123,
          1.5210853889978098,
          0.43608496596825413,
          1.789915988728449
         ],
         "y": [
          2.4315453552840878,
          2.007950031707341,
          3.462584340676762,
          1.3120899220399131,
          1.3707410111805203,
          2.140365427920693,
          0.20496057486089628,
          0.798515307920902,
          -0.14769383187873628,
          1.2858109071251929,
          1.2417307594744025,
          1.7109131370387005,
          1.5067241747146345,
          -0.273438982747809,
          0.3555737082879309,
          0.9791896449761746,
          -0.028252134621998968,
          -0.13803270257783695,
          0.5878833006166525,
          2.1903575118841547
         ],
         "z": [
          -0.020040915954577777,
          -1.6759052080787842,
          0.1120052508805209,
          0.3136892823525078,
          1.0879411180665532,
          1.5009322890876147,
          -0.37057604628936863,
          -0.19247978296134513,
          1.1629891777058434,
          0.25557165429536466,
          0.379963007967748,
          -0.2829680341246661,
          -0.9854042017867305,
          0.38837592755411754,
          0.23015628598461974,
          -1.4129708412329693,
          -0.31822994193015586,
          0.5616853419350403,
          -0.3883261736547682,
          1.5315842381677365
         ]
        },
        {
         "customdata": [
          [
           "dog"
          ],
          [
           "cat"
          ],
          [
           "bird"
          ],
          [
           "fish"
          ],
          [
           "elephant"
          ],
          [
           "lion"
          ],
          [
           "giraffe"
          ],
          [
           "penguin"
          ],
          [
           "dolphin"
          ],
          [
           "butterfly"
          ],
          [
           "owl"
          ],
          [
           "tiger"
          ],
          [
           "panda"
          ],
          [
           "koala"
          ],
          [
           "kangaroo"
          ],
          [
           "zebra"
          ],
          [
           "rhinoceros"
          ],
          [
           "cheetah"
          ],
          [
           "polar bear"
          ]
         ],
         "hovertemplate": "category=animals<br>Dim1=%{x}<br>Dim2=%{y}<br>Dim3=%{z}<br>prompt=%{customdata[0]}<extra></extra>",
         "legendgroup": "animals",
         "marker": {
          "color": "#00cc96",
          "symbol": "circle"
         },
         "mode": "markers",
         "name": "animals",
         "scene": "scene",
         "showlegend": true,
         "type": "scatter3d",
         "x": [
          -0.9973104214481131,
          -0.20281365740138788,
          0.5777412142862415,
          1.2921210879863787,
          0.9106342113500859,
          -0.6266314480969531,
          -0.060388459984428024,
          1.0204637431529842,
          -0.1077320370963804,
          0.7553567919799072,
          0.3274292166803881,
          1.1327471681183021,
          0.43572625575734086,
          -0.7201862073267216,
          -0.050588834168626653,
          0.18406356058136283,
          0.17186563823155612,
          0.682172196327228,
          0.4457358718016047
         ],
         "y": [
          -1.4721618397042908,
          -1.8427893297561801,
          -0.6885362887311248,
          -0.8133078525700072,
          -1.697160857998435,
          -0.04321873036085412,
          -1.4098320953112595,
          -1.863819996902168,
          0.12699917674937017,
          -1.2411227843701498,
          -1.3941189897237356,
          -1.861550330363288,
          -1.365113311063941,
          -1.165425412226588,
          -1.0656253825368196,
          -1.5914395238608865,
          -1.9061659953609302,
          -2.3590982048041402,
          -1.4190690601513494
         ],
         "z": [
          -0.3171336506860847,
          0.2522854870196156,
          0.7796221639647807,
          0.9410727489288322,
          0.5696148050117349,
          -0.32284988731288783,
          -0.47067963469038787,
          0.8652276899907012,
          -0.43358841664469316,
          0.005145374891843982,
          -0.3005487151633742,
          0.14492748897840896,
          -0.19793459870383207,
          -0.2357088455904805,
          -0.30863193747451556,
          -0.8087322395355337,
          0.2918289830738742,
          -0.05970546140017597,
          -1.2193325129050476
         ]
        },
        {
         "customdata": [
          [
           "apple"
          ],
          [
           "banana"
          ],
          [
           "pizza"
          ],
          [
           "sushi"
          ],
          [
           "pasta"
          ],
          [
           "steak"
          ],
          [
           "salad"
          ],
          [
           "ice cream"
          ],
          [
           "chocolate"
          ],
          [
           "burger"
          ],
          [
           "taco"
          ],
          [
           "soup"
          ],
          [
           "cake"
          ],
          [
           "fruit platter"
          ],
          [
           "sandwich"
          ],
          [
           "roast chicken"
          ],
          [
           "seafood platter"
          ]
         ],
         "hovertemplate": "category=food<br>Dim1=%{x}<br>Dim2=%{y}<br>Dim3=%{z}<br>prompt=%{customdata[0]}<extra></extra>",
         "legendgroup": "food",
         "marker": {
          "color": "#ab63fa",
          "symbol": "circle"
         },
         "mode": "markers",
         "name": "food",
         "scene": "scene",
         "showlegend": true,
         "type": "scatter3d",
         "x": [
          -0.6103068104493892,
          -0.0037212329604312086,
          1.553065481823333,
          1.3969004863495251,
          0.875635142925386,
          1.2981779524542278,
          0.607614189759693,
          -0.2645529186821543,
          0.7054520285975856,
          -0.1060084528074806,
          1.5318126575102682,
          -0.7904832219760813,
          0.2505953491156085,
          1.0326715688687145,
          0.25236099705208986,
          0.6821888295149515,
          1.6344044346853817
         ],
         "y": [
          -0.6820304320706171,
          -0.6887600464932383,
          -1.23014810386435,
          -1.3664745732842838,
          -1.1251582439739676,
          -1.51727584679947,
          -0.9838878861689738,
          -2.1858909984256574,
          -1.233079053337316,
          -1.2466232865899158,
          -1.7365092728967422,
          -0.8596963868252441,
          -1.6772383631287675,
          -0.23802525325723345,
          -0.46745028975395736,
          -1.291241019486419,
          0.0241178938467147
         ],
         "z": [
          2.843966752467224,
          -1.5587675286171079,
          -1.6651572875209184,
          -0.49457262318415646,
          -0.7914082097998395,
          -1.807285448371837,
          -0.07916874739515513,
          -0.23949866144525497,
          0.7089530987421188,
          -1.407848196579382,
          -0.07064726853375256,
          -0.10081805919626605,
          0.0956263627396484,
          -1.7980669007203984,
          -1.0178182581608777,
          -0.6151217399127434,
          -2.4203342167058595
         ]
        },
        {
         "customdata": [
          [
           "guitar"
          ],
          [
           "piano"
          ],
          [
           "violin"
          ],
          [
           "drums"
          ],
          [
           "saxophone"
          ],
          [
           "trumpet"
          ],
          [
           "flute"
          ],
          [
           "cello"
          ],
          [
           "harp"
          ],
          [
           "clarinet"
          ],
          [
           "accordion"
          ],
          [
           "electric guitar"
          ],
          [
           "synthesizer"
          ],
          [
           "DJ turntables"
          ],
          [
           "orchestra"
          ],
          [
           "rock band"
          ],
          [
           "jazz ensemble"
          ]
         ],
         "hovertemplate": "category=music<br>Dim1=%{x}<br>Dim2=%{y}<br>Dim3=%{z}<br>prompt=%{customdata[0]}<extra></extra>",
         "legendgroup": "music",
         "marker": {
          "color": "#FFA15A",
          "symbol": "circle"
         },
         "mode": "markers",
         "name": "music",
         "scene": "scene",
         "showlegend": true,
         "type": "scatter3d",
         "x": [
          0.8213440575728252,
          1.6868059663652655,
          1.159635861220735,
          1.5769023191979399,
          0.9718564540026481,
          -0.08153936914020543,
          0.6345046395382132,
          -0.24819571170561894,
          -0.025075283575902507,
          0.09890002194695718,
          1.108472926982109,
          0.7768376965605471,
          0.32957000117393886,
          0.7166069819240684,
          1.6595623564597006,
          0.47867257160398957,
          -0.22515310621338494
         ],
         "y": [
          -0.29112377807391054,
          -1.0473906417589833,
          -1.3136328585051802,
          -0.004262024700468161,
          -0.3158522581725373,
          0.9636671843825546,
          -1.0137213346499607,
          -0.6715958540421109,
          -0.7913024098047499,
          -0.04016173136473877,
          -1.1674875775947897,
          -0.5514883138445813,
          1.4570283544757832,
          0.7277150960607406,
          -1.5113127028965756,
          -0.9580515493778261,
          -0.3710569569257119
         ],
         "z": [
          1.1217721380058003,
          0.14577315095629156,
          0.5524477063155093,
          0.13464202472804102,
          0.09162698508179862,
          -1.7465293257649004,
          0.24363699549633802,
          0.5669570654785077,
          -1.4319310562950156,
          0.9982490096253327,
          -2.2498350954701727,
          1.2169300123722189,
          -0.4338997701797718,
          -1.17229224711033,
          0.6559003309310445,
          0.3924174180717068,
          0.1960011613020308
         ]
        },
        {
         "customdata": [
          [
           "skyscraper"
          ],
          [
           "castle"
          ],
          [
           "bridge"
          ],
          [
           "ancient ruins"
          ],
          [
           "modern house"
          ],
          [
           "cathedral"
          ],
          [
           "pagoda"
          ],
          [
           "lighthouse"
          ],
          [
           "pyramid"
          ],
          [
           "log cabin"
          ],
          [
           "treehouse"
          ],
          [
           "futuristic city"
          ]
         ],
         "hovertemplate": "category=architecture<br>Dim1=%{x}<br>Dim2=%{y}<br>Dim3=%{z}<br>prompt=%{customdata[0]}<extra></extra>",
         "legendgroup": "architecture",
         "marker": {
          "color": "#19d3f3",
          "symbol": "circle"
         },
         "mode": "markers",
         "name": "architecture",
         "scene": "scene",
         "showlegend": true,
         "type": "scatter3d",
         "x": [
          0.8715430217133966,
          1.5579350617536634,
          1.0097201212023543,
          2.78341797302062,
          1.3179596881591333,
          1.2805842810891013,
          0.4727818831677618,
          0.8600837784076698,
          0.7844852858586817,
          0.5408458461574858,
          1.1514895166914596,
          1.3890155354030667
         ],
         "y": [
          1.0845182240506694,
          1.2936899871623004,
          1.0373830282878007,
          1.8650113142252445,
          1.674050817196471,
          1.3259613484276662,
          1.1684666366288363,
          2.063343863746117,
          1.6567865119304641,
          0.517765150804331,
          0.957874209921297,
          2.4122514633170744
         ],
         "z": [
          0.9934115101095073,
          0.5271612619202101,
          1.7683838590462566,
          -0.7362227131858368,
          -1.2831609679234628,
          1.0973289242227393,
          1.5828678587960494,
          0.68124866618759,
          0.4504248231911891,
          0.15255068867090057,
          -1.9964224428658552,
          -2.335150628035553
         ]
        },
        {
         "customdata": [
          [
           "car"
          ],
          [
           "airplane"
          ],
          [
           "bicycle"
          ],
          [
           "motorcycle"
          ],
          [
           "boat"
          ],
          [
           "train"
          ],
          [
           "helicopter"
          ],
          [
           "rocket"
          ],
          [
           "submarine"
          ],
          [
           "hot air balloon"
          ],
          [
           "sailboat"
          ],
          [
           "vintage car"
          ]
         ],
         "hovertemplate": "category=vehicles<br>Dim1=%{x}<br>Dim2=%{y}<br>Dim3=%{z}<br>prompt=%{customdata[0]}<extra></extra>",
         "legendgroup": "vehicles",
         "marker": {
          "color": "#FF6692",
          "symbol": "circle"
         },
         "mode": "markers",
         "name": "vehicles",
         "scene": "scene",
         "showlegend": true,
         "type": "scatter3d",
         "x": [
          1.2475496030816196,
          0.4940748744092904,
          -0.6619917983858883,
          0.1399445535814131,
          0.4309675431890602,
          1.375838917688288,
          0.13997673846769235,
          0.18066585327263746,
          -0.5911211984152733,
          -0.5825556192693959,
          0.5804169030722782,
          0.7047478145832445
         ],
         "y": [
          -0.8126796357400871,
          1.6226987232082162,
          0.09060561780916829,
          -0.6050591217550814,
          0.18388607737544277,
          -0.8655448788858882,
          1.7480918762589586,
          0.005816824164109347,
          1.6821971110596643,
          0.3447750538801431,
          1.1647951130836285,
          -1.1139023464315807
         ],
         "z": [
          2.1979410182617385,
          1.0840332528366603,
          0.28224775272674046,
          1.0109426143772684,
          0.5687951872669259,
          0.9368380760111213,
          0.8320013666940578,
          0.8038658312217338,
          0.7371135650400507,
          0.7140782696829786,
          0.17468572006925162,
          1.7737505629144872
         ]
        },
        {
         "customdata": [
          [
           "love"
          ],
          [
           "time"
          ],
          [
           "freedom"
          ],
          [
           "peace"
          ],
          [
           "chaos"
          ],
          [
           "infinity"
          ],
          [
           "balance"
          ],
          [
           "evolution"
          ],
          [
           "imagination"
          ],
          [
           "dreams"
          ],
          [
           "consciousness"
          ],
          [
           "harmony"
          ]
         ],
         "hovertemplate": "category=abstract_concepts<br>Dim1=%{x}<br>Dim2=%{y}<br>Dim3=%{z}<br>prompt=%{customdata[0]}<extra></extra>",
         "legendgroup": "abstract_concepts",
         "marker": {
          "color": "#B6E880",
          "symbol": "circle"
         },
         "mode": "markers",
         "name": "abstract_concepts",
         "scene": "scene",
         "showlegend": true,
         "type": "scatter3d",
         "x": [
          -1.6439544197037632,
          -0.06692275384528068,
          0.7342949124495904,
          0.12275626681613278,
          0.5976248919571927,
          1.5248775612987957,
          -0.0484195938912825,
          0.3854990291450844,
          0.6680115595577936,
          0.29409130277358175,
          -0.8378182511056249,
          0.24491800731029603
         ],
         "y": [
          -0.8701182668533165,
          -0.2768752132728601,
          -0.2799256079948703,
          -0.1850927629569235,
          1.9537920696512538,
          1.0194002683812817,
          0.6641655870323347,
          -0.21190194546201785,
          -0.08753218168576839,
          0.024985186837117594,
          0.4884793877467255,
          -0.5758875815103677
         ],
         "z": [
          -0.6507042586018575,
          1.543708810716388,
          1.13774874306263,
          0.9027994705138193,
          -1.3434419873667032,
          -0.7801531122824913,
          0.6355938414942017,
          -0.9994631093490204,
          -0.6111090056526907,
          -0.40242831241512617,
          -0.17672426364722285,
          0.7055464454315022
         ]
        }
       ],
       "layout": {
        "legend": {
         "title": {
          "text": "category"
         },
         "tracegroupgap": 0
        },
        "scene": {
         "domain": {
          "x": [
           0,
           1
          ],
          "y": [
           0,
           1
          ]
         },
         "xaxis": {
          "title": {
           "text": "Dim1"
          }
         },
         "yaxis": {
          "title": {
           "text": "Dim2"
          }
         },
         "zaxis": {
          "title": {
           "text": "Dim3"
          }
         }
        },
        "template": {
         "data": {
          "bar": [
           {
            "error_x": {
             "color": "#2a3f5f"
            },
            "error_y": {
             "color": "#2a3f5f"
            },
            "marker": {
             "line": {
              "color": "#E5ECF6",
              "width": 0.5
             },
             "pattern": {
              "fillmode": "overlay",
              "size": 10,
              "solidity": 0.2
             }
            },
            "type": "bar"
           }
          ],
          "barpolar": [
           {
            "marker": {
             "line": {
              "color": "#E5ECF6",
              "width": 0.5
             },
             "pattern": {
              "fillmode": "overlay",
              "size": 10,
              "solidity": 0.2
             }
            },
            "type": "barpolar"
           }
          ],
          "carpet": [
           {
            "aaxis": {
             "endlinecolor": "#2a3f5f",
             "gridcolor": "white",
             "linecolor": "white",
             "minorgridcolor": "white",
             "startlinecolor": "#2a3f5f"
            },
            "baxis": {
             "endlinecolor": "#2a3f5f",
             "gridcolor": "white",
             "linecolor": "white",
             "minorgridcolor": "white",
             "startlinecolor": "#2a3f5f"
            },
            "type": "carpet"
           }
          ],
          "choropleth": [
           {
            "colorbar": {
             "outlinewidth": 0,
             "ticks": ""
            },
            "type": "choropleth"
           }
          ],
          "contour": [
           {
            "colorbar": {
             "outlinewidth": 0,
             "ticks": ""
            },
            "colorscale": [
             [
              0,
              "#0d0887"
             ],
             [
              0.1111111111111111,
              "#46039f"
             ],
             [
              0.2222222222222222,
              "#7201a8"
             ],
             [
              0.3333333333333333,
              "#9c179e"
             ],
             [
              0.4444444444444444,
              "#bd3786"
             ],
             [
              0.5555555555555556,
              "#d8576b"
             ],
             [
              0.6666666666666666,
              "#ed7953"
             ],
             [
              0.7777777777777778,
              "#fb9f3a"
             ],
             [
              0.8888888888888888,
              "#fdca26"
             ],
             [
              1,
              "#f0f921"
             ]
            ],
            "type": "contour"
           }
          ],
          "contourcarpet": [
           {
            "colorbar": {
             "outlinewidth": 0,
             "ticks": ""
            },
            "type": "contourcarpet"
           }
          ],
          "heatmap": [
           {
            "colorbar": {
             "outlinewidth": 0,
             "ticks": ""
            },
            "colorscale": [
             [
              0,
              "#0d0887"
             ],
             [
              0.1111111111111111,
              "#46039f"
             ],
             [
              0.2222222222222222,
              "#7201a8"
             ],
             [
              0.3333333333333333,
              "#9c179e"
             ],
             [
              0.4444444444444444,
              "#bd3786"
             ],
             [
              0.5555555555555556,
              "#d8576b"
             ],
             [
              0.6666666666666666,
              "#ed7953"
             ],
             [
              0.7777777777777778,
              "#fb9f3a"
             ],
             [
              0.8888888888888888,
              "#fdca26"
             ],
             [
              1,
              "#f0f921"
             ]
            ],
            "type": "heatmap"
           }
          ],
          "heatmapgl": [
           {
            "colorbar": {
             "outlinewidth": 0,
             "ticks": ""
            },
            "colorscale": [
             [
              0,
              "#0d0887"
             ],
             [
              0.1111111111111111,
              "#46039f"
             ],
             [
              0.2222222222222222,
              "#7201a8"
             ],
             [
              0.3333333333333333,
              "#9c179e"
             ],
             [
              0.4444444444444444,
              "#bd3786"
             ],
             [
              0.5555555555555556,
              "#d8576b"
             ],
             [
              0.6666666666666666,
              "#ed7953"
             ],
             [
              0.7777777777777778,
              "#fb9f3a"
             ],
             [
              0.8888888888888888,
              "#fdca26"
             ],
             [
              1,
              "#f0f921"
             ]
            ],
            "type": "heatmapgl"
           }
          ],
          "histogram": [
           {
            "marker": {
             "pattern": {
              "fillmode": "overlay",
              "size": 10,
              "solidity": 0.2
             }
            },
            "type": "histogram"
           }
          ],
          "histogram2d": [
           {
            "colorbar": {
             "outlinewidth": 0,
             "ticks": ""
            },
            "colorscale": [
             [
              0,
              "#0d0887"
             ],
             [
              0.1111111111111111,
              "#46039f"
             ],
             [
              0.2222222222222222,
              "#7201a8"
             ],
             [
              0.3333333333333333,
              "#9c179e"
             ],
             [
              0.4444444444444444,
              "#bd3786"
             ],
             [
              0.5555555555555556,
              "#d8576b"
             ],
             [
              0.6666666666666666,
              "#ed7953"
             ],
             [
              0.7777777777777778,
              "#fb9f3a"
             ],
             [
              0.8888888888888888,
              "#fdca26"
             ],
             [
              1,
              "#f0f921"
             ]
            ],
            "type": "histogram2d"
           }
          ],
          "histogram2dcontour": [
           {
            "colorbar": {
             "outlinewidth": 0,
             "ticks": ""
            },
            "colorscale": [
             [
              0,
              "#0d0887"
             ],
             [
              0.1111111111111111,
              "#46039f"
             ],
             [
              0.2222222222222222,
              "#7201a8"
             ],
             [
              0.3333333333333333,
              "#9c179e"
             ],
             [
              0.4444444444444444,
              "#bd3786"
             ],
             [
              0.5555555555555556,
              "#d8576b"
             ],
             [
              0.6666666666666666,
              "#ed7953"
             ],
             [
              0.7777777777777778,
              "#fb9f3a"
             ],
             [
              0.8888888888888888,
              "#fdca26"
             ],
             [
              1,
              "#f0f921"
             ]
            ],
            "type": "histogram2dcontour"
           }
          ],
          "mesh3d": [
           {
            "colorbar": {
             "outlinewidth": 0,
             "ticks": ""
            },
            "type": "mesh3d"
           }
          ],
          "parcoords": [
           {
            "line": {
             "colorbar": {
              "outlinewidth": 0,
              "ticks": ""
             }
            },
            "type": "parcoords"
           }
          ],
          "pie": [
           {
            "automargin": true,
            "type": "pie"
           }
          ],
          "scatter": [
           {
            "fillpattern": {
             "fillmode": "overlay",
             "size": 10,
             "solidity": 0.2
            },
            "type": "scatter"
           }
          ],
          "scatter3d": [
           {
            "line": {
             "colorbar": {
              "outlinewidth": 0,
              "ticks": ""
             }
            },
            "marker": {
             "colorbar": {
              "outlinewidth": 0,
              "ticks": ""
             }
            },
            "type": "scatter3d"
           }
          ],
          "scattercarpet": [
           {
            "marker": {
             "colorbar": {
              "outlinewidth": 0,
              "ticks": ""
             }
            },
            "type": "scattercarpet"
           }
          ],
          "scattergeo": [
           {
            "marker": {
             "colorbar": {
              "outlinewidth": 0,
              "ticks": ""
             }
            },
            "type": "scattergeo"
           }
          ],
          "scattergl": [
           {
            "marker": {
             "colorbar": {
              "outlinewidth": 0,
              "ticks": ""
             }
            },
            "type": "scattergl"
           }
          ],
          "scattermapbox": [
           {
            "marker": {
             "colorbar": {
              "outlinewidth": 0,
              "ticks": ""
             }
            },
            "type": "scattermapbox"
           }
          ],
          "scatterpolar": [
           {
            "marker": {
             "colorbar": {
              "outlinewidth": 0,
              "ticks": ""
             }
            },
            "type": "scatterpolar"
           }
          ],
          "scatterpolargl": [
           {
            "marker": {
             "colorbar": {
              "outlinewidth": 0,
              "ticks": ""
             }
            },
            "type": "scatterpolargl"
           }
          ],
          "scatterternary": [
           {
            "marker": {
             "colorbar": {
              "outlinewidth": 0,
              "ticks": ""
             }
            },
            "type": "scatterternary"
           }
          ],
          "surface": [
           {
            "colorbar": {
             "outlinewidth": 0,
             "ticks": ""
            },
            "colorscale": [
             [
              0,
              "#0d0887"
             ],
             [
              0.1111111111111111,
              "#46039f"
             ],
             [
              0.2222222222222222,
              "#7201a8"
             ],
             [
              0.3333333333333333,
              "#9c179e"
             ],
             [
              0.4444444444444444,
              "#bd3786"
             ],
             [
              0.5555555555555556,
              "#d8576b"
             ],
             [
              0.6666666666666666,
              "#ed7953"
             ],
             [
              0.7777777777777778,
              "#fb9f3a"
             ],
             [
              0.8888888888888888,
              "#fdca26"
             ],
             [
              1,
              "#f0f921"
             ]
            ],
            "type": "surface"
           }
          ],
          "table": [
           {
            "cells": {
             "fill": {
              "color": "#EBF0F8"
             },
             "line": {
              "color": "white"
             }
            },
            "header": {
             "fill": {
              "color": "#C8D4E3"
             },
             "line": {
              "color": "white"
             }
            },
            "type": "table"
           }
          ]
         },
         "layout": {
          "annotationdefaults": {
           "arrowcolor": "#2a3f5f",
           "arrowhead": 0,
           "arrowwidth": 1
          },
          "autotypenumbers": "strict",
          "coloraxis": {
           "colorbar": {
            "outlinewidth": 0,
            "ticks": ""
           }
          },
          "colorscale": {
           "diverging": [
            [
             0,
             "#8e0152"
            ],
            [
             0.1,
             "#c51b7d"
            ],
            [
             0.2,
             "#de77ae"
            ],
            [
             0.3,
             "#f1b6da"
            ],
            [
             0.4,
             "#fde0ef"
            ],
            [
             0.5,
             "#f7f7f7"
            ],
            [
             0.6,
             "#e6f5d0"
            ],
            [
             0.7,
             "#b8e186"
            ],
            [
             0.8,
             "#7fbc41"
            ],
            [
             0.9,
             "#4d9221"
            ],
            [
             1,
             "#276419"
            ]
           ],
           "sequential": [
            [
             0,
             "#0d0887"
            ],
            [
             0.1111111111111111,
             "#46039f"
            ],
            [
             0.2222222222222222,
             "#7201a8"
            ],
            [
             0.3333333333333333,
             "#9c179e"
            ],
            [
             0.4444444444444444,
             "#bd3786"
            ],
            [
             0.5555555555555556,
             "#d8576b"
            ],
            [
             0.6666666666666666,
             "#ed7953"
            ],
            [
             0.7777777777777778,
             "#fb9f3a"
            ],
            [
             0.8888888888888888,
             "#fdca26"
            ],
            [
             1,
             "#f0f921"
            ]
           ],
           "sequentialminus": [
            [
             0,
             "#0d0887"
            ],
            [
             0.1111111111111111,
             "#46039f"
            ],
            [
             0.2222222222222222,
             "#7201a8"
            ],
            [
             0.3333333333333333,
             "#9c179e"
            ],
            [
             0.4444444444444444,
             "#bd3786"
            ],
            [
             0.5555555555555556,
             "#d8576b"
            ],
            [
             0.6666666666666666,
             "#ed7953"
            ],
            [
             0.7777777777777778,
             "#fb9f3a"
            ],
            [
             0.8888888888888888,
             "#fdca26"
            ],
            [
             1,
             "#f0f921"
            ]
           ]
          },
          "colorway": [
           "#636efa",
           "#EF553B",
           "#00cc96",
           "#ab63fa",
           "#FFA15A",
           "#19d3f3",
           "#FF6692",
           "#B6E880",
           "#FF97FF",
           "#FECB52"
          ],
          "font": {
           "color": "#2a3f5f"
          },
          "geo": {
           "bgcolor": "white",
           "lakecolor": "white",
           "landcolor": "#E5ECF6",
           "showlakes": true,
           "showland": true,
           "subunitcolor": "white"
          },
          "hoverlabel": {
           "align": "left"
          },
          "hovermode": "closest",
          "mapbox": {
           "style": "light"
          },
          "paper_bgcolor": "white",
          "plot_bgcolor": "#E5ECF6",
          "polar": {
           "angularaxis": {
            "gridcolor": "white",
            "linecolor": "white",
            "ticks": ""
           },
           "bgcolor": "#E5ECF6",
           "radialaxis": {
            "gridcolor": "white",
            "linecolor": "white",
            "ticks": ""
           }
          },
          "scene": {
           "xaxis": {
            "backgroundcolor": "#E5ECF6",
            "gridcolor": "white",
            "gridwidth": 2,
            "linecolor": "white",
            "showbackground": true,
            "ticks": "",
            "zerolinecolor": "white"
           },
           "yaxis": {
            "backgroundcolor": "#E5ECF6",
            "gridcolor": "white",
            "gridwidth": 2,
            "linecolor": "white",
            "showbackground": true,
            "ticks": "",
            "zerolinecolor": "white"
           },
           "zaxis": {
            "backgroundcolor": "#E5ECF6",
            "gridcolor": "white",
            "gridwidth": 2,
            "linecolor": "white",
            "showbackground": true,
            "ticks": "",
            "zerolinecolor": "white"
           }
          },
          "shapedefaults": {
           "line": {
            "color": "#2a3f5f"
           }
          },
          "ternary": {
           "aaxis": {
            "gridcolor": "white",
            "linecolor": "white",
            "ticks": ""
           },
           "baxis": {
            "gridcolor": "white",
            "linecolor": "white",
            "ticks": ""
           },
           "bgcolor": "#E5ECF6",
           "caxis": {
            "gridcolor": "white",
            "linecolor": "white",
            "ticks": ""
           }
          },
          "title": {
           "x": 0.05
          },
          "xaxis": {
           "automargin": true,
           "gridcolor": "white",
           "linecolor": "white",
           "ticks": "",
           "title": {
            "standoff": 15
           },
           "zerolinecolor": "white",
           "zerolinewidth": 2
          },
          "yaxis": {
           "automargin": true,
           "gridcolor": "white",
           "linecolor": "white",
           "ticks": "",
           "title": {
            "standoff": 15
           },
           "zerolinecolor": "white",
           "zerolinewidth": 2
          }
         }
        },
        "title": {
         "text": "3D PCA Embedding Using Only Top Recommended Layers (Mean Layer Activity)"
        }
       }
      },
      "text/html": [
       "<div>                            <div id=\"82563317-6798-4c92-ba1f-a28ef13119ac\" class=\"plotly-graph-div\" style=\"height:525px; width:100%;\"></div>            <script type=\"text/javascript\">                require([\"plotly\"], function(Plotly) {                    window.PLOTLYENV=window.PLOTLYENV || {};                                    if (document.getElementById(\"82563317-6798-4c92-ba1f-a28ef13119ac\")) {                    Plotly.newPlot(                        \"82563317-6798-4c92-ba1f-a28ef13119ac\",                        [{\"customdata\":[[\"smiling portrait\"],[\"frowning expression\"],[\"surprised look\"],[\"angry glare\"],[\"neutral expression\"],[\"bearded individual\"],[\"freckled complexion\"],[\"face\"],[\"laughing face\"],[\"crying expression\"],[\"confused look\"],[\"excited smile\"],[\"thoughtful gaze\"],[\"wrinkled face\"],[\"dimpled cheeks\"],[\"strong jawline\"],[\"high cheekbones\"],[\"bushy eyebrows\"]],\"hovertemplate\":\"category=facial_features\\u003cbr\\u003eDim1=%{x}\\u003cbr\\u003eDim2=%{y}\\u003cbr\\u003eDim3=%{z}\\u003cbr\\u003eprompt=%{customdata[0]}\\u003cextra\\u003e\\u003c\\u002fextra\\u003e\",\"legendgroup\":\"facial_features\",\"marker\":{\"color\":\"#636efa\",\"symbol\":\"circle\"},\"mode\":\"markers\",\"name\":\"facial_features\",\"scene\":\"scene\",\"showlegend\":true,\"x\":[-4.4523558300195445,-4.45252101252271,-3.9113623096585677,-4.658375548714697,-3.1349135391356824,-2.9993258388284874,-5.425142738125161,-4.538652798298528,-4.636974993668537,-3.7877203995432756,-4.002063986344538,-4.670324517512278,-3.2179371426577914,-4.266394012673213,-4.481935551688427,-3.7956553990020647,-5.672165198309586,-4.00593295456974],\"y\":[-0.08369564482951283,0.5530741119207705,-0.14062096992608664,1.512096122079674,-0.5041105081778261,0.36213903625498584,-0.003734690833101619,1.3195891738400978,1.8665824986973358,-0.15773268723969155,0.37238960066847754,0.48055888164064886,-1.1835583344133165,0.6868888624058433,-0.027101828956845587,0.33896438632460996,-0.6929566779821138,0.6133966233551738],\"z\":[2.0975951679330116,-0.050618970080238065,-0.8255205639723541,0.29468972104597524,-0.08644526145023947,0.260499758907561,-0.5825988388822205,0.903755227417961,-0.795314971528222,-2.472006408448455,-0.5148397568526172,-0.8464681660304235,0.9596437224058795,-1.1249379059483935,0.3622621541514633,0.13080053589600904,0.3591727886379094,0.03347360657026079],\"type\":\"scatter3d\"},{\"customdata\":[[\"landscape\"],[\"seascape\"],[\"mountain range\"],[\"forest\"],[\"sunset\"],[\"sunrise\"],[\"beach\"],[\"desert\"],[\"waterfall\"],[\"canyon\"],[\"meadow\"],[\"tropical island\"],[\"arctic tundra\"],[\"savanna\"],[\"volcano\"],[\"coral reef\"],[\"rainforest\"],[\"autumn leaves\"],[\"spring blossoms\"],[\"misty morning\"]],\"hovertemplate\":\"category=nature\\u003cbr\\u003eDim1=%{x}\\u003cbr\\u003eDim2=%{y}\\u003cbr\\u003eDim3=%{z}\\u003cbr\\u003eprompt=%{customdata[0]}\\u003cextra\\u003e\\u003c\\u002fextra\\u003e\",\"legendgroup\":\"nature\",\"marker\":{\"color\":\"#EF553B\",\"symbol\":\"circle\"},\"mode\":\"markers\",\"name\":\"nature\",\"scene\":\"scene\",\"showlegend\":true,\"x\":[1.495102771857914,1.4134044487950395,1.355673860710688,2.332990057807757,-0.5181363576347978,-0.8516559728154702,1.884830862818088,1.024466738637597,3.469294866337325,2.36857054550601,2.677402143443956,1.332890107808919,2.0262011513389537,0.7779623070579865,1.4979850419867378,1.9466729162262069,2.0197564906077123,1.5210853889978098,0.43608496596825413,1.789915988728449],\"y\":[2.4315453552840878,2.007950031707341,3.462584340676762,1.3120899220399131,1.3707410111805203,2.140365427920693,0.20496057486089628,0.798515307920902,-0.14769383187873628,1.2858109071251929,1.2417307594744025,1.7109131370387005,1.5067241747146345,-0.273438982747809,0.3555737082879309,0.9791896449761746,-0.028252134621998968,-0.13803270257783695,0.5878833006166525,2.1903575118841547],\"z\":[-0.020040915954577777,-1.6759052080787842,0.1120052508805209,0.3136892823525078,1.0879411180665532,1.5009322890876147,-0.37057604628936863,-0.19247978296134513,1.1629891777058434,0.25557165429536466,0.379963007967748,-0.2829680341246661,-0.9854042017867305,0.38837592755411754,0.23015628598461974,-1.4129708412329693,-0.31822994193015586,0.5616853419350403,-0.3883261736547682,1.5315842381677365],\"type\":\"scatter3d\"},{\"customdata\":[[\"dog\"],[\"cat\"],[\"bird\"],[\"fish\"],[\"elephant\"],[\"lion\"],[\"giraffe\"],[\"penguin\"],[\"dolphin\"],[\"butterfly\"],[\"owl\"],[\"tiger\"],[\"panda\"],[\"koala\"],[\"kangaroo\"],[\"zebra\"],[\"rhinoceros\"],[\"cheetah\"],[\"polar bear\"]],\"hovertemplate\":\"category=animals\\u003cbr\\u003eDim1=%{x}\\u003cbr\\u003eDim2=%{y}\\u003cbr\\u003eDim3=%{z}\\u003cbr\\u003eprompt=%{customdata[0]}\\u003cextra\\u003e\\u003c\\u002fextra\\u003e\",\"legendgroup\":\"animals\",\"marker\":{\"color\":\"#00cc96\",\"symbol\":\"circle\"},\"mode\":\"markers\",\"name\":\"animals\",\"scene\":\"scene\",\"showlegend\":true,\"x\":[-0.9973104214481131,-0.20281365740138788,0.5777412142862415,1.2921210879863787,0.9106342113500859,-0.6266314480969531,-0.060388459984428024,1.0204637431529842,-0.1077320370963804,0.7553567919799072,0.3274292166803881,1.1327471681183021,0.43572625575734086,-0.7201862073267216,-0.050588834168626653,0.18406356058136283,0.17186563823155612,0.682172196327228,0.4457358718016047],\"y\":[-1.4721618397042908,-1.8427893297561801,-0.6885362887311248,-0.8133078525700072,-1.697160857998435,-0.04321873036085412,-1.4098320953112595,-1.863819996902168,0.12699917674937017,-1.2411227843701498,-1.3941189897237356,-1.861550330363288,-1.365113311063941,-1.165425412226588,-1.0656253825368196,-1.5914395238608865,-1.9061659953609302,-2.3590982048041402,-1.4190690601513494],\"z\":[-0.3171336506860847,0.2522854870196156,0.7796221639647807,0.9410727489288322,0.5696148050117349,-0.32284988731288783,-0.47067963469038787,0.8652276899907012,-0.43358841664469316,0.005145374891843982,-0.3005487151633742,0.14492748897840896,-0.19793459870383207,-0.2357088455904805,-0.30863193747451556,-0.8087322395355337,0.2918289830738742,-0.05970546140017597,-1.2193325129050476],\"type\":\"scatter3d\"},{\"customdata\":[[\"apple\"],[\"banana\"],[\"pizza\"],[\"sushi\"],[\"pasta\"],[\"steak\"],[\"salad\"],[\"ice cream\"],[\"chocolate\"],[\"burger\"],[\"taco\"],[\"soup\"],[\"cake\"],[\"fruit platter\"],[\"sandwich\"],[\"roast chicken\"],[\"seafood platter\"]],\"hovertemplate\":\"category=food\\u003cbr\\u003eDim1=%{x}\\u003cbr\\u003eDim2=%{y}\\u003cbr\\u003eDim3=%{z}\\u003cbr\\u003eprompt=%{customdata[0]}\\u003cextra\\u003e\\u003c\\u002fextra\\u003e\",\"legendgroup\":\"food\",\"marker\":{\"color\":\"#ab63fa\",\"symbol\":\"circle\"},\"mode\":\"markers\",\"name\":\"food\",\"scene\":\"scene\",\"showlegend\":true,\"x\":[-0.6103068104493892,-0.0037212329604312086,1.553065481823333,1.3969004863495251,0.875635142925386,1.2981779524542278,0.607614189759693,-0.2645529186821543,0.7054520285975856,-0.1060084528074806,1.5318126575102682,-0.7904832219760813,0.2505953491156085,1.0326715688687145,0.25236099705208986,0.6821888295149515,1.6344044346853817],\"y\":[-0.6820304320706171,-0.6887600464932383,-1.23014810386435,-1.3664745732842838,-1.1251582439739676,-1.51727584679947,-0.9838878861689738,-2.1858909984256574,-1.233079053337316,-1.2466232865899158,-1.7365092728967422,-0.8596963868252441,-1.6772383631287675,-0.23802525325723345,-0.46745028975395736,-1.291241019486419,0.0241178938467147],\"z\":[2.843966752467224,-1.5587675286171079,-1.6651572875209184,-0.49457262318415646,-0.7914082097998395,-1.807285448371837,-0.07916874739515513,-0.23949866144525497,0.7089530987421188,-1.407848196579382,-0.07064726853375256,-0.10081805919626605,0.0956263627396484,-1.7980669007203984,-1.0178182581608777,-0.6151217399127434,-2.4203342167058595],\"type\":\"scatter3d\"},{\"customdata\":[[\"guitar\"],[\"piano\"],[\"violin\"],[\"drums\"],[\"saxophone\"],[\"trumpet\"],[\"flute\"],[\"cello\"],[\"harp\"],[\"clarinet\"],[\"accordion\"],[\"electric guitar\"],[\"synthesizer\"],[\"DJ turntables\"],[\"orchestra\"],[\"rock band\"],[\"jazz ensemble\"]],\"hovertemplate\":\"category=music\\u003cbr\\u003eDim1=%{x}\\u003cbr\\u003eDim2=%{y}\\u003cbr\\u003eDim3=%{z}\\u003cbr\\u003eprompt=%{customdata[0]}\\u003cextra\\u003e\\u003c\\u002fextra\\u003e\",\"legendgroup\":\"music\",\"marker\":{\"color\":\"#FFA15A\",\"symbol\":\"circle\"},\"mode\":\"markers\",\"name\":\"music\",\"scene\":\"scene\",\"showlegend\":true,\"x\":[0.8213440575728252,1.6868059663652655,1.159635861220735,1.5769023191979399,0.9718564540026481,-0.08153936914020543,0.6345046395382132,-0.24819571170561894,-0.025075283575902507,0.09890002194695718,1.108472926982109,0.7768376965605471,0.32957000117393886,0.7166069819240684,1.6595623564597006,0.47867257160398957,-0.22515310621338494],\"y\":[-0.29112377807391054,-1.0473906417589833,-1.3136328585051802,-0.004262024700468161,-0.3158522581725373,0.9636671843825546,-1.0137213346499607,-0.6715958540421109,-0.7913024098047499,-0.04016173136473877,-1.1674875775947897,-0.5514883138445813,1.4570283544757832,0.7277150960607406,-1.5113127028965756,-0.9580515493778261,-0.3710569569257119],\"z\":[1.1217721380058003,0.14577315095629156,0.5524477063155093,0.13464202472804102,0.09162698508179862,-1.7465293257649004,0.24363699549633802,0.5669570654785077,-1.4319310562950156,0.9982490096253327,-2.2498350954701727,1.2169300123722189,-0.4338997701797718,-1.17229224711033,0.6559003309310445,0.3924174180717068,0.1960011613020308],\"type\":\"scatter3d\"},{\"customdata\":[[\"skyscraper\"],[\"castle\"],[\"bridge\"],[\"ancient ruins\"],[\"modern house\"],[\"cathedral\"],[\"pagoda\"],[\"lighthouse\"],[\"pyramid\"],[\"log cabin\"],[\"treehouse\"],[\"futuristic city\"]],\"hovertemplate\":\"category=architecture\\u003cbr\\u003eDim1=%{x}\\u003cbr\\u003eDim2=%{y}\\u003cbr\\u003eDim3=%{z}\\u003cbr\\u003eprompt=%{customdata[0]}\\u003cextra\\u003e\\u003c\\u002fextra\\u003e\",\"legendgroup\":\"architecture\",\"marker\":{\"color\":\"#19d3f3\",\"symbol\":\"circle\"},\"mode\":\"markers\",\"name\":\"architecture\",\"scene\":\"scene\",\"showlegend\":true,\"x\":[0.8715430217133966,1.5579350617536634,1.0097201212023543,2.78341797302062,1.3179596881591333,1.2805842810891013,0.4727818831677618,0.8600837784076698,0.7844852858586817,0.5408458461574858,1.1514895166914596,1.3890155354030667],\"y\":[1.0845182240506694,1.2936899871623004,1.0373830282878007,1.8650113142252445,1.674050817196471,1.3259613484276662,1.1684666366288363,2.063343863746117,1.6567865119304641,0.517765150804331,0.957874209921297,2.4122514633170744],\"z\":[0.9934115101095073,0.5271612619202101,1.7683838590462566,-0.7362227131858368,-1.2831609679234628,1.0973289242227393,1.5828678587960494,0.68124866618759,0.4504248231911891,0.15255068867090057,-1.9964224428658552,-2.335150628035553],\"type\":\"scatter3d\"},{\"customdata\":[[\"car\"],[\"airplane\"],[\"bicycle\"],[\"motorcycle\"],[\"boat\"],[\"train\"],[\"helicopter\"],[\"rocket\"],[\"submarine\"],[\"hot air balloon\"],[\"sailboat\"],[\"vintage car\"]],\"hovertemplate\":\"category=vehicles\\u003cbr\\u003eDim1=%{x}\\u003cbr\\u003eDim2=%{y}\\u003cbr\\u003eDim3=%{z}\\u003cbr\\u003eprompt=%{customdata[0]}\\u003cextra\\u003e\\u003c\\u002fextra\\u003e\",\"legendgroup\":\"vehicles\",\"marker\":{\"color\":\"#FF6692\",\"symbol\":\"circle\"},\"mode\":\"markers\",\"name\":\"vehicles\",\"scene\":\"scene\",\"showlegend\":true,\"x\":[1.2475496030816196,0.4940748744092904,-0.6619917983858883,0.1399445535814131,0.4309675431890602,1.375838917688288,0.13997673846769235,0.18066585327263746,-0.5911211984152733,-0.5825556192693959,0.5804169030722782,0.7047478145832445],\"y\":[-0.8126796357400871,1.6226987232082162,0.09060561780916829,-0.6050591217550814,0.18388607737544277,-0.8655448788858882,1.7480918762589586,0.005816824164109347,1.6821971110596643,0.3447750538801431,1.1647951130836285,-1.1139023464315807],\"z\":[2.1979410182617385,1.0840332528366603,0.28224775272674046,1.0109426143772684,0.5687951872669259,0.9368380760111213,0.8320013666940578,0.8038658312217338,0.7371135650400507,0.7140782696829786,0.17468572006925162,1.7737505629144872],\"type\":\"scatter3d\"},{\"customdata\":[[\"love\"],[\"time\"],[\"freedom\"],[\"peace\"],[\"chaos\"],[\"infinity\"],[\"balance\"],[\"evolution\"],[\"imagination\"],[\"dreams\"],[\"consciousness\"],[\"harmony\"]],\"hovertemplate\":\"category=abstract_concepts\\u003cbr\\u003eDim1=%{x}\\u003cbr\\u003eDim2=%{y}\\u003cbr\\u003eDim3=%{z}\\u003cbr\\u003eprompt=%{customdata[0]}\\u003cextra\\u003e\\u003c\\u002fextra\\u003e\",\"legendgroup\":\"abstract_concepts\",\"marker\":{\"color\":\"#B6E880\",\"symbol\":\"circle\"},\"mode\":\"markers\",\"name\":\"abstract_concepts\",\"scene\":\"scene\",\"showlegend\":true,\"x\":[-1.6439544197037632,-0.06692275384528068,0.7342949124495904,0.12275626681613278,0.5976248919571927,1.5248775612987957,-0.0484195938912825,0.3854990291450844,0.6680115595577936,0.29409130277358175,-0.8378182511056249,0.24491800731029603],\"y\":[-0.8701182668533165,-0.2768752132728601,-0.2799256079948703,-0.1850927629569235,1.9537920696512538,1.0194002683812817,0.6641655870323347,-0.21190194546201785,-0.08753218168576839,0.024985186837117594,0.4884793877467255,-0.5758875815103677],\"z\":[-0.6507042586018575,1.543708810716388,1.13774874306263,0.9027994705138193,-1.3434419873667032,-0.7801531122824913,0.6355938414942017,-0.9994631093490204,-0.6111090056526907,-0.40242831241512617,-0.17672426364722285,0.7055464454315022],\"type\":\"scatter3d\"}],                        {\"template\":{\"data\":{\"histogram2dcontour\":[{\"type\":\"histogram2dcontour\",\"colorbar\":{\"outlinewidth\":0,\"ticks\":\"\"},\"colorscale\":[[0.0,\"#0d0887\"],[0.1111111111111111,\"#46039f\"],[0.2222222222222222,\"#7201a8\"],[0.3333333333333333,\"#9c179e\"],[0.4444444444444444,\"#bd3786\"],[0.5555555555555556,\"#d8576b\"],[0.6666666666666666,\"#ed7953\"],[0.7777777777777778,\"#fb9f3a\"],[0.8888888888888888,\"#fdca26\"],[1.0,\"#f0f921\"]]}],\"choropleth\":[{\"type\":\"choropleth\",\"colorbar\":{\"outlinewidth\":0,\"ticks\":\"\"}}],\"histogram2d\":[{\"type\":\"histogram2d\",\"colorbar\":{\"outlinewidth\":0,\"ticks\":\"\"},\"colorscale\":[[0.0,\"#0d0887\"],[0.1111111111111111,\"#46039f\"],[0.2222222222222222,\"#7201a8\"],[0.3333333333333333,\"#9c179e\"],[0.4444444444444444,\"#bd3786\"],[0.5555555555555556,\"#d8576b\"],[0.6666666666666666,\"#ed7953\"],[0.7777777777777778,\"#fb9f3a\"],[0.8888888888888888,\"#fdca26\"],[1.0,\"#f0f921\"]]}],\"heatmap\":[{\"type\":\"heatmap\",\"colorbar\":{\"outlinewidth\":0,\"ticks\":\"\"},\"colorscale\":[[0.0,\"#0d0887\"],[0.1111111111111111,\"#46039f\"],[0.2222222222222222,\"#7201a8\"],[0.3333333333333333,\"#9c179e\"],[0.4444444444444444,\"#bd3786\"],[0.5555555555555556,\"#d8576b\"],[0.6666666666666666,\"#ed7953\"],[0.7777777777777778,\"#fb9f3a\"],[0.8888888888888888,\"#fdca26\"],[1.0,\"#f0f921\"]]}],\"heatmapgl\":[{\"type\":\"heatmapgl\",\"colorbar\":{\"outlinewidth\":0,\"ticks\":\"\"},\"colorscale\":[[0.0,\"#0d0887\"],[0.1111111111111111,\"#46039f\"],[0.2222222222222222,\"#7201a8\"],[0.3333333333333333,\"#9c179e\"],[0.4444444444444444,\"#bd3786\"],[0.5555555555555556,\"#d8576b\"],[0.6666666666666666,\"#ed7953\"],[0.7777777777777778,\"#fb9f3a\"],[0.8888888888888888,\"#fdca26\"],[1.0,\"#f0f921\"]]}],\"contourcarpet\":[{\"type\":\"contourcarpet\",\"colorbar\":{\"outlinewidth\":0,\"ticks\":\"\"}}],\"contour\":[{\"type\":\"contour\",\"colorbar\":{\"outlinewidth\":0,\"ticks\":\"\"},\"colorscale\":[[0.0,\"#0d0887\"],[0.1111111111111111,\"#46039f\"],[0.2222222222222222,\"#7201a8\"],[0.3333333333333333,\"#9c179e\"],[0.4444444444444444,\"#bd3786\"],[0.5555555555555556,\"#d8576b\"],[0.6666666666666666,\"#ed7953\"],[0.7777777777777778,\"#fb9f3a\"],[0.8888888888888888,\"#fdca26\"],[1.0,\"#f0f921\"]]}],\"surface\":[{\"type\":\"surface\",\"colorbar\":{\"outlinewidth\":0,\"ticks\":\"\"},\"colorscale\":[[0.0,\"#0d0887\"],[0.1111111111111111,\"#46039f\"],[0.2222222222222222,\"#7201a8\"],[0.3333333333333333,\"#9c179e\"],[0.4444444444444444,\"#bd3786\"],[0.5555555555555556,\"#d8576b\"],[0.6666666666666666,\"#ed7953\"],[0.7777777777777778,\"#fb9f3a\"],[0.8888888888888888,\"#fdca26\"],[1.0,\"#f0f921\"]]}],\"mesh3d\":[{\"type\":\"mesh3d\",\"colorbar\":{\"outlinewidth\":0,\"ticks\":\"\"}}],\"scatter\":[{\"fillpattern\":{\"fillmode\":\"overlay\",\"size\":10,\"solidity\":0.2},\"type\":\"scatter\"}],\"parcoords\":[{\"type\":\"parcoords\",\"line\":{\"colorbar\":{\"outlinewidth\":0,\"ticks\":\"\"}}}],\"scatterpolargl\":[{\"type\":\"scatterpolargl\",\"marker\":{\"colorbar\":{\"outlinewidth\":0,\"ticks\":\"\"}}}],\"bar\":[{\"error_x\":{\"color\":\"#2a3f5f\"},\"error_y\":{\"color\":\"#2a3f5f\"},\"marker\":{\"line\":{\"color\":\"#E5ECF6\",\"width\":0.5},\"pattern\":{\"fillmode\":\"overlay\",\"size\":10,\"solidity\":0.2}},\"type\":\"bar\"}],\"scattergeo\":[{\"type\":\"scattergeo\",\"marker\":{\"colorbar\":{\"outlinewidth\":0,\"ticks\":\"\"}}}],\"scatterpolar\":[{\"type\":\"scatterpolar\",\"marker\":{\"colorbar\":{\"outlinewidth\":0,\"ticks\":\"\"}}}],\"histogram\":[{\"marker\":{\"pattern\":{\"fillmode\":\"overlay\",\"size\":10,\"solidity\":0.2}},\"type\":\"histogram\"}],\"scattergl\":[{\"type\":\"scattergl\",\"marker\":{\"colorbar\":{\"outlinewidth\":0,\"ticks\":\"\"}}}],\"scatter3d\":[{\"type\":\"scatter3d\",\"line\":{\"colorbar\":{\"outlinewidth\":0,\"ticks\":\"\"}},\"marker\":{\"colorbar\":{\"outlinewidth\":0,\"ticks\":\"\"}}}],\"scattermapbox\":[{\"type\":\"scattermapbox\",\"marker\":{\"colorbar\":{\"outlinewidth\":0,\"ticks\":\"\"}}}],\"scatterternary\":[{\"type\":\"scatterternary\",\"marker\":{\"colorbar\":{\"outlinewidth\":0,\"ticks\":\"\"}}}],\"scattercarpet\":[{\"type\":\"scattercarpet\",\"marker\":{\"colorbar\":{\"outlinewidth\":0,\"ticks\":\"\"}}}],\"carpet\":[{\"aaxis\":{\"endlinecolor\":\"#2a3f5f\",\"gridcolor\":\"white\",\"linecolor\":\"white\",\"minorgridcolor\":\"white\",\"startlinecolor\":\"#2a3f5f\"},\"baxis\":{\"endlinecolor\":\"#2a3f5f\",\"gridcolor\":\"white\",\"linecolor\":\"white\",\"minorgridcolor\":\"white\",\"startlinecolor\":\"#2a3f5f\"},\"type\":\"carpet\"}],\"table\":[{\"cells\":{\"fill\":{\"color\":\"#EBF0F8\"},\"line\":{\"color\":\"white\"}},\"header\":{\"fill\":{\"color\":\"#C8D4E3\"},\"line\":{\"color\":\"white\"}},\"type\":\"table\"}],\"barpolar\":[{\"marker\":{\"line\":{\"color\":\"#E5ECF6\",\"width\":0.5},\"pattern\":{\"fillmode\":\"overlay\",\"size\":10,\"solidity\":0.2}},\"type\":\"barpolar\"}],\"pie\":[{\"automargin\":true,\"type\":\"pie\"}]},\"layout\":{\"autotypenumbers\":\"strict\",\"colorway\":[\"#636efa\",\"#EF553B\",\"#00cc96\",\"#ab63fa\",\"#FFA15A\",\"#19d3f3\",\"#FF6692\",\"#B6E880\",\"#FF97FF\",\"#FECB52\"],\"font\":{\"color\":\"#2a3f5f\"},\"hovermode\":\"closest\",\"hoverlabel\":{\"align\":\"left\"},\"paper_bgcolor\":\"white\",\"plot_bgcolor\":\"#E5ECF6\",\"polar\":{\"bgcolor\":\"#E5ECF6\",\"angularaxis\":{\"gridcolor\":\"white\",\"linecolor\":\"white\",\"ticks\":\"\"},\"radialaxis\":{\"gridcolor\":\"white\",\"linecolor\":\"white\",\"ticks\":\"\"}},\"ternary\":{\"bgcolor\":\"#E5ECF6\",\"aaxis\":{\"gridcolor\":\"white\",\"linecolor\":\"white\",\"ticks\":\"\"},\"baxis\":{\"gridcolor\":\"white\",\"linecolor\":\"white\",\"ticks\":\"\"},\"caxis\":{\"gridcolor\":\"white\",\"linecolor\":\"white\",\"ticks\":\"\"}},\"coloraxis\":{\"colorbar\":{\"outlinewidth\":0,\"ticks\":\"\"}},\"colorscale\":{\"sequential\":[[0.0,\"#0d0887\"],[0.1111111111111111,\"#46039f\"],[0.2222222222222222,\"#7201a8\"],[0.3333333333333333,\"#9c179e\"],[0.4444444444444444,\"#bd3786\"],[0.5555555555555556,\"#d8576b\"],[0.6666666666666666,\"#ed7953\"],[0.7777777777777778,\"#fb9f3a\"],[0.8888888888888888,\"#fdca26\"],[1.0,\"#f0f921\"]],\"sequentialminus\":[[0.0,\"#0d0887\"],[0.1111111111111111,\"#46039f\"],[0.2222222222222222,\"#7201a8\"],[0.3333333333333333,\"#9c179e\"],[0.4444444444444444,\"#bd3786\"],[0.5555555555555556,\"#d8576b\"],[0.6666666666666666,\"#ed7953\"],[0.7777777777777778,\"#fb9f3a\"],[0.8888888888888888,\"#fdca26\"],[1.0,\"#f0f921\"]],\"diverging\":[[0,\"#8e0152\"],[0.1,\"#c51b7d\"],[0.2,\"#de77ae\"],[0.3,\"#f1b6da\"],[0.4,\"#fde0ef\"],[0.5,\"#f7f7f7\"],[0.6,\"#e6f5d0\"],[0.7,\"#b8e186\"],[0.8,\"#7fbc41\"],[0.9,\"#4d9221\"],[1,\"#276419\"]]},\"xaxis\":{\"gridcolor\":\"white\",\"linecolor\":\"white\",\"ticks\":\"\",\"title\":{\"standoff\":15},\"zerolinecolor\":\"white\",\"automargin\":true,\"zerolinewidth\":2},\"yaxis\":{\"gridcolor\":\"white\",\"linecolor\":\"white\",\"ticks\":\"\",\"title\":{\"standoff\":15},\"zerolinecolor\":\"white\",\"automargin\":true,\"zerolinewidth\":2},\"scene\":{\"xaxis\":{\"backgroundcolor\":\"#E5ECF6\",\"gridcolor\":\"white\",\"linecolor\":\"white\",\"showbackground\":true,\"ticks\":\"\",\"zerolinecolor\":\"white\",\"gridwidth\":2},\"yaxis\":{\"backgroundcolor\":\"#E5ECF6\",\"gridcolor\":\"white\",\"linecolor\":\"white\",\"showbackground\":true,\"ticks\":\"\",\"zerolinecolor\":\"white\",\"gridwidth\":2},\"zaxis\":{\"backgroundcolor\":\"#E5ECF6\",\"gridcolor\":\"white\",\"linecolor\":\"white\",\"showbackground\":true,\"ticks\":\"\",\"zerolinecolor\":\"white\",\"gridwidth\":2}},\"shapedefaults\":{\"line\":{\"color\":\"#2a3f5f\"}},\"annotationdefaults\":{\"arrowcolor\":\"#2a3f5f\",\"arrowhead\":0,\"arrowwidth\":1},\"geo\":{\"bgcolor\":\"white\",\"landcolor\":\"#E5ECF6\",\"subunitcolor\":\"white\",\"showland\":true,\"showlakes\":true,\"lakecolor\":\"white\"},\"title\":{\"x\":0.05},\"mapbox\":{\"style\":\"light\"}}},\"scene\":{\"domain\":{\"x\":[0.0,1.0],\"y\":[0.0,1.0]},\"xaxis\":{\"title\":{\"text\":\"Dim1\"}},\"yaxis\":{\"title\":{\"text\":\"Dim2\"}},\"zaxis\":{\"title\":{\"text\":\"Dim3\"}}},\"legend\":{\"title\":{\"text\":\"category\"},\"tracegroupgap\":0},\"title\":{\"text\":\"3D PCA Embedding Using Only Top Recommended Layers (Mean Layer Activity)\"}},                        {\"responsive\": true}                    ).then(function(){\n",
       "                            \n",
       "var gd = document.getElementById('82563317-6798-4c92-ba1f-a28ef13119ac');\n",
       "var x = new MutationObserver(function (mutations, observer) {{\n",
       "        var display = window.getComputedStyle(gd).display;\n",
       "        if (!display || display === 'none') {{\n",
       "            console.log([gd, 'removed!']);\n",
       "            Plotly.purge(gd);\n",
       "            observer.disconnect();\n",
       "        }}\n",
       "}});\n",
       "\n",
       "// Listen for the removal of the full notebook cells\n",
       "var notebookContainer = gd.closest('#notebook-container');\n",
       "if (notebookContainer) {{\n",
       "    x.observe(notebookContainer, {childList: true});\n",
       "}}\n",
       "\n",
       "// Listen for the clearing of the current output cell\n",
       "var outputEl = gd.closest('.output');\n",
       "if (outputEl) {{\n",
       "    x.observe(outputEl, {childList: true});\n",
       "}}\n",
       "\n",
       "                        })                };                });            </script>        </div>"
      ]
     },
     "metadata": {},
     "output_type": "display_data"
    },
    {
     "data": {
      "application/vnd.plotly.v1+json": {
       "config": {
        "plotlyServerURL": "https://plot.ly"
       },
       "data": [
        {
         "customdata": [
          [
           "smiling portrait"
          ],
          [
           "frowning expression"
          ],
          [
           "surprised look"
          ],
          [
           "angry glare"
          ],
          [
           "neutral expression"
          ],
          [
           "bearded individual"
          ],
          [
           "freckled complexion"
          ],
          [
           "face"
          ],
          [
           "laughing face"
          ],
          [
           "crying expression"
          ],
          [
           "confused look"
          ],
          [
           "excited smile"
          ],
          [
           "thoughtful gaze"
          ],
          [
           "wrinkled face"
          ],
          [
           "dimpled cheeks"
          ],
          [
           "strong jawline"
          ],
          [
           "high cheekbones"
          ],
          [
           "bushy eyebrows"
          ]
         ],
         "hovertemplate": "category=facial_features<br>Dim1=%{x}<br>Dim2=%{y}<br>Dim3=%{z}<br>prompt=%{customdata[0]}<extra></extra>",
         "legendgroup": "facial_features",
         "marker": {
          "color": "#636efa",
          "symbol": "circle"
         },
         "mode": "markers",
         "name": "facial_features",
         "scene": "scene",
         "showlegend": true,
         "type": "scatter3d",
         "x": [
          0.66190034,
          0.99657404,
          1.1294402,
          1.0564066,
          0.5637098,
          1.0123408,
          1.0128148,
          0.699845,
          0.8209209,
          1.0648783,
          0.7312393,
          1.095714,
          0.42747292,
          0.95969105,
          1.2150787,
          1.0541674,
          0.8399076,
          0.9307729
         ],
         "y": [
          -5.633138,
          -5.6317887,
          -5.9058137,
          -5.5290217,
          -5.802448,
          -5.6943407,
          -6.0312953,
          -5.5733037,
          -5.8038354,
          -6.1272683,
          -6.0092006,
          -5.9657702,
          -5.7025037,
          -6.0557265,
          -5.7698298,
          -5.783271,
          -5.763318,
          -5.572981
         ],
         "z": [
          15.027779,
          14.763415,
          14.683258,
          14.971176,
          14.91646,
          14.940517,
          14.937952,
          14.772584,
          14.445276,
          14.633876,
          14.771492,
          14.53235,
          15.050611,
          14.509732,
          15.027866,
          15.098232,
          14.705208,
          15.119491
         ]
        },
        {
         "customdata": [
          [
           "landscape"
          ],
          [
           "seascape"
          ],
          [
           "mountain range"
          ],
          [
           "forest"
          ],
          [
           "sunset"
          ],
          [
           "sunrise"
          ],
          [
           "beach"
          ],
          [
           "desert"
          ],
          [
           "waterfall"
          ],
          [
           "canyon"
          ],
          [
           "meadow"
          ],
          [
           "tropical island"
          ],
          [
           "arctic tundra"
          ],
          [
           "savanna"
          ],
          [
           "volcano"
          ],
          [
           "coral reef"
          ],
          [
           "rainforest"
          ],
          [
           "autumn leaves"
          ],
          [
           "spring blossoms"
          ],
          [
           "misty morning"
          ]
         ],
         "hovertemplate": "category=nature<br>Dim1=%{x}<br>Dim2=%{y}<br>Dim3=%{z}<br>prompt=%{customdata[0]}<extra></extra>",
         "legendgroup": "nature",
         "marker": {
          "color": "#EF553B",
          "symbol": "circle"
         },
         "mode": "markers",
         "name": "nature",
         "scene": "scene",
         "showlegend": true,
         "type": "scatter3d",
         "x": [
          16.18823,
          15.889624,
          16.437304,
          15.425274,
          16.468485,
          16.630732,
          16.676252,
          16.777529,
          15.359966,
          15.686977,
          15.392368,
          16.374872,
          16.19998,
          17.313755,
          15.179614,
          15.62548,
          15.040323,
          15.1110115,
          15.466031,
          16.677137
         ],
         "y": [
          4.8635793,
          4.51729,
          4.6328607,
          5.042757,
          5.827992,
          5.8423114,
          4.7934017,
          4.9206767,
          5.487494,
          4.976425,
          4.7647805,
          5.021356,
          4.3820176,
          6.938328,
          5.3334594,
          4.5628066,
          5.8499227,
          6.2712708,
          6.1133676,
          5.3462725
         ],
         "z": [
          3.3787408,
          3.5024664,
          3.2174408,
          2.436304,
          3.2058587,
          2.7055392,
          3.4946973,
          3.2457547,
          2.3930516,
          2.4819365,
          2.708322,
          3.6545146,
          3.2668478,
          3.8123207,
          2.3471751,
          3.057609,
          2.2215168,
          2.3639588,
          3.7516527,
          2.6293736
         ]
        },
        {
         "customdata": [
          [
           "dog"
          ],
          [
           "cat"
          ],
          [
           "bird"
          ],
          [
           "fish"
          ],
          [
           "elephant"
          ],
          [
           "lion"
          ],
          [
           "giraffe"
          ],
          [
           "penguin"
          ],
          [
           "dolphin"
          ],
          [
           "butterfly"
          ],
          [
           "owl"
          ],
          [
           "tiger"
          ],
          [
           "panda"
          ],
          [
           "koala"
          ],
          [
           "kangaroo"
          ],
          [
           "zebra"
          ],
          [
           "rhinoceros"
          ],
          [
           "cheetah"
          ],
          [
           "polar bear"
          ]
         ],
         "hovertemplate": "category=animals<br>Dim1=%{x}<br>Dim2=%{y}<br>Dim3=%{z}<br>prompt=%{customdata[0]}<extra></extra>",
         "legendgroup": "animals",
         "marker": {
          "color": "#00cc96",
          "symbol": "circle"
         },
         "mode": "markers",
         "name": "animals",
         "scene": "scene",
         "showlegend": true,
         "type": "scatter3d",
         "x": [
          15.589566,
          15.554701,
          15.677191,
          15.481533,
          14.457097,
          15.476697,
          14.256467,
          14.531702,
          15.468913,
          15.624477,
          15.57744,
          15.109344,
          15.126704,
          15.627792,
          15.54787,
          14.369212,
          14.287206,
          14.325003,
          14.742003
         ],
         "y": [
          7.8688087,
          7.8103337,
          7.213805,
          6.8316956,
          7.1052723,
          6.431928,
          6.9875226,
          7.194448,
          6.5452614,
          7.308878,
          7.462859,
          7.370035,
          7.3018994,
          7.8222203,
          7.546375,
          6.9499097,
          7.1478767,
          7.296649,
          7.3042727
         ],
         "z": [
          3.3024182,
          3.3097272,
          2.714586,
          2.618261,
          2.4192011,
          3.7931035,
          2.912394,
          2.3333857,
          3.1426811,
          3.8954346,
          3.8029177,
          2.3736084,
          2.8215418,
          3.319537,
          3.200541,
          3.3084357,
          2.5266807,
          2.6950266,
          2.564523
         ]
        },
        {
         "customdata": [
          [
           "apple"
          ],
          [
           "banana"
          ],
          [
           "pizza"
          ],
          [
           "sushi"
          ],
          [
           "pasta"
          ],
          [
           "steak"
          ],
          [
           "salad"
          ],
          [
           "ice cream"
          ],
          [
           "chocolate"
          ],
          [
           "burger"
          ],
          [
           "taco"
          ],
          [
           "soup"
          ],
          [
           "cake"
          ],
          [
           "fruit platter"
          ],
          [
           "sandwich"
          ],
          [
           "roast chicken"
          ],
          [
           "seafood platter"
          ]
         ],
         "hovertemplate": "category=food<br>Dim1=%{x}<br>Dim2=%{y}<br>Dim3=%{z}<br>prompt=%{customdata[0]}<extra></extra>",
         "legendgroup": "food",
         "marker": {
          "color": "#ab63fa",
          "symbol": "circle"
         },
         "mode": "markers",
         "name": "food",
         "scene": "scene",
         "showlegend": true,
         "type": "scatter3d",
         "x": [
          16.216934,
          14.283877,
          14.20801,
          14.254395,
          14.312101,
          14.409295,
          14.834148,
          15.37621,
          15.198155,
          14.92983,
          14.760393,
          16.076778,
          15.334723,
          14.541319,
          14.807912,
          15.044439,
          14.1290245
         ],
         "y": [
          6.8552556,
          7.172523,
          7.6327033,
          7.3935637,
          7.6503773,
          7.8650208,
          7.6564393,
          8.018637,
          7.690812,
          8.086095,
          7.724041,
          6.8405194,
          7.744482,
          7.1609693,
          7.6575394,
          7.338541,
          7.45984
         ],
         "z": [
          2.4229882,
          3.4766364,
          3.3587823,
          3.278934,
          3.5311234,
          3.228323,
          3.6394615,
          2.8765743,
          3.010993,
          3.0260038,
          2.8446546,
          3.5207913,
          2.297907,
          3.6789382,
          3.2791424,
          3.4537616,
          3.5688677
         ]
        },
        {
         "customdata": [
          [
           "guitar"
          ],
          [
           "piano"
          ],
          [
           "violin"
          ],
          [
           "drums"
          ],
          [
           "saxophone"
          ],
          [
           "trumpet"
          ],
          [
           "flute"
          ],
          [
           "cello"
          ],
          [
           "harp"
          ],
          [
           "clarinet"
          ],
          [
           "accordion"
          ],
          [
           "electric guitar"
          ],
          [
           "synthesizer"
          ],
          [
           "DJ turntables"
          ],
          [
           "orchestra"
          ],
          [
           "rock band"
          ],
          [
           "jazz ensemble"
          ]
         ],
         "hovertemplate": "category=music<br>Dim1=%{x}<br>Dim2=%{y}<br>Dim3=%{z}<br>prompt=%{customdata[0]}<extra></extra>",
         "legendgroup": "music",
         "marker": {
          "color": "#FFA15A",
          "symbol": "circle"
         },
         "mode": "markers",
         "name": "music",
         "scene": "scene",
         "showlegend": true,
         "type": "scatter3d",
         "x": [
          16.846834,
          15.190428,
          15.268937,
          15.169859,
          15.155302,
          15.266634,
          15.524067,
          15.916195,
          15.081781,
          16.109127,
          14.858914,
          16.874046,
          15.503201,
          15.216278,
          14.894833,
          16.56198,
          16.516838
         ],
         "y": [
          6.8719707,
          7.608754,
          7.906798,
          5.596398,
          5.8453975,
          4.976823,
          7.2349105,
          7.121965,
          6.781983,
          6.8121023,
          7.0105968,
          7.11044,
          5.2906013,
          5.446177,
          7.765102,
          7.044377,
          6.6944866
         ],
         "z": [
          2.9833426,
          2.0529914,
          2.4117947,
          2.891479,
          3.1063406,
          3.633287,
          3.348541,
          2.1902146,
          3.8445897,
          2.6970003,
          3.8673809,
          3.3277364,
          3.4743576,
          3.6638577,
          2.1093614,
          4.0722775,
          3.5013642
         ]
        },
        {
         "customdata": [
          [
           "skyscraper"
          ],
          [
           "castle"
          ],
          [
           "bridge"
          ],
          [
           "ancient ruins"
          ],
          [
           "modern house"
          ],
          [
           "cathedral"
          ],
          [
           "pagoda"
          ],
          [
           "lighthouse"
          ],
          [
           "pyramid"
          ],
          [
           "log cabin"
          ],
          [
           "treehouse"
          ],
          [
           "futuristic city"
          ]
         ],
         "hovertemplate": "category=architecture<br>Dim1=%{x}<br>Dim2=%{y}<br>Dim3=%{z}<br>prompt=%{customdata[0]}<extra></extra>",
         "legendgroup": "architecture",
         "marker": {
          "color": "#19d3f3",
          "symbol": "circle"
         },
         "mode": "markers",
         "name": "architecture",
         "scene": "scene",
         "showlegend": true,
         "type": "scatter3d",
         "x": [
          16.46288,
          15.807123,
          16.878294,
          15.271978,
          15.899903,
          15.999388,
          16.530775,
          16.034143,
          16.089157,
          17.288382,
          15.607393,
          15.386904
         ],
         "y": [
          5.550597,
          5.409919,
          5.52525,
          4.562224,
          5.058858,
          5.1613965,
          5.8788805,
          5.5902877,
          5.1376853,
          6.566198,
          4.4492345,
          4.6992183
         ],
         "z": [
          2.4220872,
          2.2288845,
          2.8036633,
          2.8351362,
          3.710082,
          2.300389,
          2.3270128,
          2.1598306,
          2.512611,
          3.6634846,
          3.3203237,
          3.603081
         ]
        },
        {
         "customdata": [
          [
           "car"
          ],
          [
           "airplane"
          ],
          [
           "bicycle"
          ],
          [
           "motorcycle"
          ],
          [
           "boat"
          ],
          [
           "train"
          ],
          [
           "helicopter"
          ],
          [
           "rocket"
          ],
          [
           "submarine"
          ],
          [
           "hot air balloon"
          ],
          [
           "sailboat"
          ],
          [
           "vintage car"
          ]
         ],
         "hovertemplate": "category=vehicles<br>Dim1=%{x}<br>Dim2=%{y}<br>Dim3=%{z}<br>prompt=%{customdata[0]}<extra></extra>",
         "legendgroup": "vehicles",
         "marker": {
          "color": "#FF6692",
          "symbol": "circle"
         },
         "mode": "markers",
         "name": "vehicles",
         "scene": "scene",
         "showlegend": true,
         "type": "scatter3d",
         "x": [
          17.133217,
          16.78945,
          16.717216,
          16.786095,
          16.911545,
          16.873154,
          16.481102,
          15.752215,
          16.496311,
          16.639837,
          16.004305,
          17.214064
         ],
         "y": [
          7.2990212,
          5.314842,
          6.491143,
          6.898105,
          5.7234445,
          7.2936864,
          5.592153,
          6.6387963,
          5.922148,
          6.4688478,
          5.584922,
          7.320325
         ],
         "z": [
          3.4273536,
          2.6689353,
          4.0229726,
          3.836607,
          3.2080843,
          3.408284,
          3.0854087,
          2.4566538,
          2.3948162,
          2.4789598,
          3.2975235,
          3.682052
         ]
        },
        {
         "customdata": [
          [
           "love"
          ],
          [
           "time"
          ],
          [
           "freedom"
          ],
          [
           "peace"
          ],
          [
           "chaos"
          ],
          [
           "infinity"
          ],
          [
           "balance"
          ],
          [
           "evolution"
          ],
          [
           "imagination"
          ],
          [
           "dreams"
          ],
          [
           "consciousness"
          ],
          [
           "harmony"
          ]
         ],
         "hovertemplate": "category=abstract_concepts<br>Dim1=%{x}<br>Dim2=%{y}<br>Dim3=%{z}<br>prompt=%{customdata[0]}<extra></extra>",
         "legendgroup": "abstract_concepts",
         "marker": {
          "color": "#B6E880",
          "symbol": "circle"
         },
         "mode": "markers",
         "name": "abstract_concepts",
         "scene": "scene",
         "showlegend": true,
         "type": "scatter3d",
         "x": [
          15.893089,
          16.851854,
          17.270905,
          16.766296,
          15.273088,
          15.834875,
          15.985474,
          15.078434,
          15.564305,
          16.312641,
          16.077517,
          17.201746
         ],
         "y": [
          6.637764,
          7.198267,
          7.0281215,
          6.9753213,
          4.895316,
          5.183784,
          6.3567777,
          6.5109663,
          5.7888684,
          5.857487,
          6.2581596,
          7.066783
         ],
         "z": [
          4.0365405,
          3.7671049,
          3.5298,
          3.1040595,
          3.3627934,
          3.76915,
          2.6491494,
          3.868306,
          3.8659537,
          4.023434,
          3.7326932,
          3.9619472
         ]
        }
       ],
       "layout": {
        "legend": {
         "title": {
          "text": "category"
         },
         "tracegroupgap": 0
        },
        "scene": {
         "domain": {
          "x": [
           0,
           1
          ],
          "y": [
           0,
           1
          ]
         },
         "xaxis": {
          "title": {
           "text": "Dim1"
          }
         },
         "yaxis": {
          "title": {
           "text": "Dim2"
          }
         },
         "zaxis": {
          "title": {
           "text": "Dim3"
          }
         }
        },
        "template": {
         "data": {
          "bar": [
           {
            "error_x": {
             "color": "#2a3f5f"
            },
            "error_y": {
             "color": "#2a3f5f"
            },
            "marker": {
             "line": {
              "color": "#E5ECF6",
              "width": 0.5
             },
             "pattern": {
              "fillmode": "overlay",
              "size": 10,
              "solidity": 0.2
             }
            },
            "type": "bar"
           }
          ],
          "barpolar": [
           {
            "marker": {
             "line": {
              "color": "#E5ECF6",
              "width": 0.5
             },
             "pattern": {
              "fillmode": "overlay",
              "size": 10,
              "solidity": 0.2
             }
            },
            "type": "barpolar"
           }
          ],
          "carpet": [
           {
            "aaxis": {
             "endlinecolor": "#2a3f5f",
             "gridcolor": "white",
             "linecolor": "white",
             "minorgridcolor": "white",
             "startlinecolor": "#2a3f5f"
            },
            "baxis": {
             "endlinecolor": "#2a3f5f",
             "gridcolor": "white",
             "linecolor": "white",
             "minorgridcolor": "white",
             "startlinecolor": "#2a3f5f"
            },
            "type": "carpet"
           }
          ],
          "choropleth": [
           {
            "colorbar": {
             "outlinewidth": 0,
             "ticks": ""
            },
            "type": "choropleth"
           }
          ],
          "contour": [
           {
            "colorbar": {
             "outlinewidth": 0,
             "ticks": ""
            },
            "colorscale": [
             [
              0,
              "#0d0887"
             ],
             [
              0.1111111111111111,
              "#46039f"
             ],
             [
              0.2222222222222222,
              "#7201a8"
             ],
             [
              0.3333333333333333,
              "#9c179e"
             ],
             [
              0.4444444444444444,
              "#bd3786"
             ],
             [
              0.5555555555555556,
              "#d8576b"
             ],
             [
              0.6666666666666666,
              "#ed7953"
             ],
             [
              0.7777777777777778,
              "#fb9f3a"
             ],
             [
              0.8888888888888888,
              "#fdca26"
             ],
             [
              1,
              "#f0f921"
             ]
            ],
            "type": "contour"
           }
          ],
          "contourcarpet": [
           {
            "colorbar": {
             "outlinewidth": 0,
             "ticks": ""
            },
            "type": "contourcarpet"
           }
          ],
          "heatmap": [
           {
            "colorbar": {
             "outlinewidth": 0,
             "ticks": ""
            },
            "colorscale": [
             [
              0,
              "#0d0887"
             ],
             [
              0.1111111111111111,
              "#46039f"
             ],
             [
              0.2222222222222222,
              "#7201a8"
             ],
             [
              0.3333333333333333,
              "#9c179e"
             ],
             [
              0.4444444444444444,
              "#bd3786"
             ],
             [
              0.5555555555555556,
              "#d8576b"
             ],
             [
              0.6666666666666666,
              "#ed7953"
             ],
             [
              0.7777777777777778,
              "#fb9f3a"
             ],
             [
              0.8888888888888888,
              "#fdca26"
             ],
             [
              1,
              "#f0f921"
             ]
            ],
            "type": "heatmap"
           }
          ],
          "heatmapgl": [
           {
            "colorbar": {
             "outlinewidth": 0,
             "ticks": ""
            },
            "colorscale": [
             [
              0,
              "#0d0887"
             ],
             [
              0.1111111111111111,
              "#46039f"
             ],
             [
              0.2222222222222222,
              "#7201a8"
             ],
             [
              0.3333333333333333,
              "#9c179e"
             ],
             [
              0.4444444444444444,
              "#bd3786"
             ],
             [
              0.5555555555555556,
              "#d8576b"
             ],
             [
              0.6666666666666666,
              "#ed7953"
             ],
             [
              0.7777777777777778,
              "#fb9f3a"
             ],
             [
              0.8888888888888888,
              "#fdca26"
             ],
             [
              1,
              "#f0f921"
             ]
            ],
            "type": "heatmapgl"
           }
          ],
          "histogram": [
           {
            "marker": {
             "pattern": {
              "fillmode": "overlay",
              "size": 10,
              "solidity": 0.2
             }
            },
            "type": "histogram"
           }
          ],
          "histogram2d": [
           {
            "colorbar": {
             "outlinewidth": 0,
             "ticks": ""
            },
            "colorscale": [
             [
              0,
              "#0d0887"
             ],
             [
              0.1111111111111111,
              "#46039f"
             ],
             [
              0.2222222222222222,
              "#7201a8"
             ],
             [
              0.3333333333333333,
              "#9c179e"
             ],
             [
              0.4444444444444444,
              "#bd3786"
             ],
             [
              0.5555555555555556,
              "#d8576b"
             ],
             [
              0.6666666666666666,
              "#ed7953"
             ],
             [
              0.7777777777777778,
              "#fb9f3a"
             ],
             [
              0.8888888888888888,
              "#fdca26"
             ],
             [
              1,
              "#f0f921"
             ]
            ],
            "type": "histogram2d"
           }
          ],
          "histogram2dcontour": [
           {
            "colorbar": {
             "outlinewidth": 0,
             "ticks": ""
            },
            "colorscale": [
             [
              0,
              "#0d0887"
             ],
             [
              0.1111111111111111,
              "#46039f"
             ],
             [
              0.2222222222222222,
              "#7201a8"
             ],
             [
              0.3333333333333333,
              "#9c179e"
             ],
             [
              0.4444444444444444,
              "#bd3786"
             ],
             [
              0.5555555555555556,
              "#d8576b"
             ],
             [
              0.6666666666666666,
              "#ed7953"
             ],
             [
              0.7777777777777778,
              "#fb9f3a"
             ],
             [
              0.8888888888888888,
              "#fdca26"
             ],
             [
              1,
              "#f0f921"
             ]
            ],
            "type": "histogram2dcontour"
           }
          ],
          "mesh3d": [
           {
            "colorbar": {
             "outlinewidth": 0,
             "ticks": ""
            },
            "type": "mesh3d"
           }
          ],
          "parcoords": [
           {
            "line": {
             "colorbar": {
              "outlinewidth": 0,
              "ticks": ""
             }
            },
            "type": "parcoords"
           }
          ],
          "pie": [
           {
            "automargin": true,
            "type": "pie"
           }
          ],
          "scatter": [
           {
            "fillpattern": {
             "fillmode": "overlay",
             "size": 10,
             "solidity": 0.2
            },
            "type": "scatter"
           }
          ],
          "scatter3d": [
           {
            "line": {
             "colorbar": {
              "outlinewidth": 0,
              "ticks": ""
             }
            },
            "marker": {
             "colorbar": {
              "outlinewidth": 0,
              "ticks": ""
             }
            },
            "type": "scatter3d"
           }
          ],
          "scattercarpet": [
           {
            "marker": {
             "colorbar": {
              "outlinewidth": 0,
              "ticks": ""
             }
            },
            "type": "scattercarpet"
           }
          ],
          "scattergeo": [
           {
            "marker": {
             "colorbar": {
              "outlinewidth": 0,
              "ticks": ""
             }
            },
            "type": "scattergeo"
           }
          ],
          "scattergl": [
           {
            "marker": {
             "colorbar": {
              "outlinewidth": 0,
              "ticks": ""
             }
            },
            "type": "scattergl"
           }
          ],
          "scattermapbox": [
           {
            "marker": {
             "colorbar": {
              "outlinewidth": 0,
              "ticks": ""
             }
            },
            "type": "scattermapbox"
           }
          ],
          "scatterpolar": [
           {
            "marker": {
             "colorbar": {
              "outlinewidth": 0,
              "ticks": ""
             }
            },
            "type": "scatterpolar"
           }
          ],
          "scatterpolargl": [
           {
            "marker": {
             "colorbar": {
              "outlinewidth": 0,
              "ticks": ""
             }
            },
            "type": "scatterpolargl"
           }
          ],
          "scatterternary": [
           {
            "marker": {
             "colorbar": {
              "outlinewidth": 0,
              "ticks": ""
             }
            },
            "type": "scatterternary"
           }
          ],
          "surface": [
           {
            "colorbar": {
             "outlinewidth": 0,
             "ticks": ""
            },
            "colorscale": [
             [
              0,
              "#0d0887"
             ],
             [
              0.1111111111111111,
              "#46039f"
             ],
             [
              0.2222222222222222,
              "#7201a8"
             ],
             [
              0.3333333333333333,
              "#9c179e"
             ],
             [
              0.4444444444444444,
              "#bd3786"
             ],
             [
              0.5555555555555556,
              "#d8576b"
             ],
             [
              0.6666666666666666,
              "#ed7953"
             ],
             [
              0.7777777777777778,
              "#fb9f3a"
             ],
             [
              0.8888888888888888,
              "#fdca26"
             ],
             [
              1,
              "#f0f921"
             ]
            ],
            "type": "surface"
           }
          ],
          "table": [
           {
            "cells": {
             "fill": {
              "color": "#EBF0F8"
             },
             "line": {
              "color": "white"
             }
            },
            "header": {
             "fill": {
              "color": "#C8D4E3"
             },
             "line": {
              "color": "white"
             }
            },
            "type": "table"
           }
          ]
         },
         "layout": {
          "annotationdefaults": {
           "arrowcolor": "#2a3f5f",
           "arrowhead": 0,
           "arrowwidth": 1
          },
          "autotypenumbers": "strict",
          "coloraxis": {
           "colorbar": {
            "outlinewidth": 0,
            "ticks": ""
           }
          },
          "colorscale": {
           "diverging": [
            [
             0,
             "#8e0152"
            ],
            [
             0.1,
             "#c51b7d"
            ],
            [
             0.2,
             "#de77ae"
            ],
            [
             0.3,
             "#f1b6da"
            ],
            [
             0.4,
             "#fde0ef"
            ],
            [
             0.5,
             "#f7f7f7"
            ],
            [
             0.6,
             "#e6f5d0"
            ],
            [
             0.7,
             "#b8e186"
            ],
            [
             0.8,
             "#7fbc41"
            ],
            [
             0.9,
             "#4d9221"
            ],
            [
             1,
             "#276419"
            ]
           ],
           "sequential": [
            [
             0,
             "#0d0887"
            ],
            [
             0.1111111111111111,
             "#46039f"
            ],
            [
             0.2222222222222222,
             "#7201a8"
            ],
            [
             0.3333333333333333,
             "#9c179e"
            ],
            [
             0.4444444444444444,
             "#bd3786"
            ],
            [
             0.5555555555555556,
             "#d8576b"
            ],
            [
             0.6666666666666666,
             "#ed7953"
            ],
            [
             0.7777777777777778,
             "#fb9f3a"
            ],
            [
             0.8888888888888888,
             "#fdca26"
            ],
            [
             1,
             "#f0f921"
            ]
           ],
           "sequentialminus": [
            [
             0,
             "#0d0887"
            ],
            [
             0.1111111111111111,
             "#46039f"
            ],
            [
             0.2222222222222222,
             "#7201a8"
            ],
            [
             0.3333333333333333,
             "#9c179e"
            ],
            [
             0.4444444444444444,
             "#bd3786"
            ],
            [
             0.5555555555555556,
             "#d8576b"
            ],
            [
             0.6666666666666666,
             "#ed7953"
            ],
            [
             0.7777777777777778,
             "#fb9f3a"
            ],
            [
             0.8888888888888888,
             "#fdca26"
            ],
            [
             1,
             "#f0f921"
            ]
           ]
          },
          "colorway": [
           "#636efa",
           "#EF553B",
           "#00cc96",
           "#ab63fa",
           "#FFA15A",
           "#19d3f3",
           "#FF6692",
           "#B6E880",
           "#FF97FF",
           "#FECB52"
          ],
          "font": {
           "color": "#2a3f5f"
          },
          "geo": {
           "bgcolor": "white",
           "lakecolor": "white",
           "landcolor": "#E5ECF6",
           "showlakes": true,
           "showland": true,
           "subunitcolor": "white"
          },
          "hoverlabel": {
           "align": "left"
          },
          "hovermode": "closest",
          "mapbox": {
           "style": "light"
          },
          "paper_bgcolor": "white",
          "plot_bgcolor": "#E5ECF6",
          "polar": {
           "angularaxis": {
            "gridcolor": "white",
            "linecolor": "white",
            "ticks": ""
           },
           "bgcolor": "#E5ECF6",
           "radialaxis": {
            "gridcolor": "white",
            "linecolor": "white",
            "ticks": ""
           }
          },
          "scene": {
           "xaxis": {
            "backgroundcolor": "#E5ECF6",
            "gridcolor": "white",
            "gridwidth": 2,
            "linecolor": "white",
            "showbackground": true,
            "ticks": "",
            "zerolinecolor": "white"
           },
           "yaxis": {
            "backgroundcolor": "#E5ECF6",
            "gridcolor": "white",
            "gridwidth": 2,
            "linecolor": "white",
            "showbackground": true,
            "ticks": "",
            "zerolinecolor": "white"
           },
           "zaxis": {
            "backgroundcolor": "#E5ECF6",
            "gridcolor": "white",
            "gridwidth": 2,
            "linecolor": "white",
            "showbackground": true,
            "ticks": "",
            "zerolinecolor": "white"
           }
          },
          "shapedefaults": {
           "line": {
            "color": "#2a3f5f"
           }
          },
          "ternary": {
           "aaxis": {
            "gridcolor": "white",
            "linecolor": "white",
            "ticks": ""
           },
           "baxis": {
            "gridcolor": "white",
            "linecolor": "white",
            "ticks": ""
           },
           "bgcolor": "#E5ECF6",
           "caxis": {
            "gridcolor": "white",
            "linecolor": "white",
            "ticks": ""
           }
          },
          "title": {
           "x": 0.05
          },
          "xaxis": {
           "automargin": true,
           "gridcolor": "white",
           "linecolor": "white",
           "ticks": "",
           "title": {
            "standoff": 15
           },
           "zerolinecolor": "white",
           "zerolinewidth": 2
          },
          "yaxis": {
           "automargin": true,
           "gridcolor": "white",
           "linecolor": "white",
           "ticks": "",
           "title": {
            "standoff": 15
           },
           "zerolinecolor": "white",
           "zerolinewidth": 2
          }
         }
        },
        "title": {
         "text": "3D UMAP Embedding Using Only Top Recommended Layers (Mean Layer Activity)"
        }
       }
      },
      "text/html": [
       "<div>                            <div id=\"6d803905-c755-42d0-b381-c468fd5b0a3d\" class=\"plotly-graph-div\" style=\"height:525px; width:100%;\"></div>            <script type=\"text/javascript\">                require([\"plotly\"], function(Plotly) {                    window.PLOTLYENV=window.PLOTLYENV || {};                                    if (document.getElementById(\"6d803905-c755-42d0-b381-c468fd5b0a3d\")) {                    Plotly.newPlot(                        \"6d803905-c755-42d0-b381-c468fd5b0a3d\",                        [{\"customdata\":[[\"smiling portrait\"],[\"frowning expression\"],[\"surprised look\"],[\"angry glare\"],[\"neutral expression\"],[\"bearded individual\"],[\"freckled complexion\"],[\"face\"],[\"laughing face\"],[\"crying expression\"],[\"confused look\"],[\"excited smile\"],[\"thoughtful gaze\"],[\"wrinkled face\"],[\"dimpled cheeks\"],[\"strong jawline\"],[\"high cheekbones\"],[\"bushy eyebrows\"]],\"hovertemplate\":\"category=facial_features\\u003cbr\\u003eDim1=%{x}\\u003cbr\\u003eDim2=%{y}\\u003cbr\\u003eDim3=%{z}\\u003cbr\\u003eprompt=%{customdata[0]}\\u003cextra\\u003e\\u003c\\u002fextra\\u003e\",\"legendgroup\":\"facial_features\",\"marker\":{\"color\":\"#636efa\",\"symbol\":\"circle\"},\"mode\":\"markers\",\"name\":\"facial_features\",\"scene\":\"scene\",\"showlegend\":true,\"x\":[0.66190034,0.99657404,1.1294402,1.0564066,0.5637098,1.0123408,1.0128148,0.699845,0.8209209,1.0648783,0.7312393,1.095714,0.42747292,0.95969105,1.2150787,1.0541674,0.8399076,0.9307729],\"y\":[-5.633138,-5.6317887,-5.9058137,-5.5290217,-5.802448,-5.6943407,-6.0312953,-5.5733037,-5.8038354,-6.1272683,-6.0092006,-5.9657702,-5.7025037,-6.0557265,-5.7698298,-5.783271,-5.763318,-5.572981],\"z\":[15.027779,14.763415,14.683258,14.971176,14.91646,14.940517,14.937952,14.772584,14.445276,14.633876,14.771492,14.53235,15.050611,14.509732,15.027866,15.098232,14.705208,15.119491],\"type\":\"scatter3d\"},{\"customdata\":[[\"landscape\"],[\"seascape\"],[\"mountain range\"],[\"forest\"],[\"sunset\"],[\"sunrise\"],[\"beach\"],[\"desert\"],[\"waterfall\"],[\"canyon\"],[\"meadow\"],[\"tropical island\"],[\"arctic tundra\"],[\"savanna\"],[\"volcano\"],[\"coral reef\"],[\"rainforest\"],[\"autumn leaves\"],[\"spring blossoms\"],[\"misty morning\"]],\"hovertemplate\":\"category=nature\\u003cbr\\u003eDim1=%{x}\\u003cbr\\u003eDim2=%{y}\\u003cbr\\u003eDim3=%{z}\\u003cbr\\u003eprompt=%{customdata[0]}\\u003cextra\\u003e\\u003c\\u002fextra\\u003e\",\"legendgroup\":\"nature\",\"marker\":{\"color\":\"#EF553B\",\"symbol\":\"circle\"},\"mode\":\"markers\",\"name\":\"nature\",\"scene\":\"scene\",\"showlegend\":true,\"x\":[16.18823,15.889624,16.437304,15.425274,16.468485,16.630732,16.676252,16.777529,15.359966,15.686977,15.392368,16.374872,16.19998,17.313755,15.179614,15.62548,15.040323,15.1110115,15.466031,16.677137],\"y\":[4.8635793,4.51729,4.6328607,5.042757,5.827992,5.8423114,4.7934017,4.9206767,5.487494,4.976425,4.7647805,5.021356,4.3820176,6.938328,5.3334594,4.5628066,5.8499227,6.2712708,6.1133676,5.3462725],\"z\":[3.3787408,3.5024664,3.2174408,2.436304,3.2058587,2.7055392,3.4946973,3.2457547,2.3930516,2.4819365,2.708322,3.6545146,3.2668478,3.8123207,2.3471751,3.057609,2.2215168,2.3639588,3.7516527,2.6293736],\"type\":\"scatter3d\"},{\"customdata\":[[\"dog\"],[\"cat\"],[\"bird\"],[\"fish\"],[\"elephant\"],[\"lion\"],[\"giraffe\"],[\"penguin\"],[\"dolphin\"],[\"butterfly\"],[\"owl\"],[\"tiger\"],[\"panda\"],[\"koala\"],[\"kangaroo\"],[\"zebra\"],[\"rhinoceros\"],[\"cheetah\"],[\"polar bear\"]],\"hovertemplate\":\"category=animals\\u003cbr\\u003eDim1=%{x}\\u003cbr\\u003eDim2=%{y}\\u003cbr\\u003eDim3=%{z}\\u003cbr\\u003eprompt=%{customdata[0]}\\u003cextra\\u003e\\u003c\\u002fextra\\u003e\",\"legendgroup\":\"animals\",\"marker\":{\"color\":\"#00cc96\",\"symbol\":\"circle\"},\"mode\":\"markers\",\"name\":\"animals\",\"scene\":\"scene\",\"showlegend\":true,\"x\":[15.589566,15.554701,15.677191,15.481533,14.457097,15.476697,14.256467,14.531702,15.468913,15.624477,15.57744,15.109344,15.126704,15.627792,15.54787,14.369212,14.287206,14.325003,14.742003],\"y\":[7.8688087,7.8103337,7.213805,6.8316956,7.1052723,6.431928,6.9875226,7.194448,6.5452614,7.308878,7.462859,7.370035,7.3018994,7.8222203,7.546375,6.9499097,7.1478767,7.296649,7.3042727],\"z\":[3.3024182,3.3097272,2.714586,2.618261,2.4192011,3.7931035,2.912394,2.3333857,3.1426811,3.8954346,3.8029177,2.3736084,2.8215418,3.319537,3.200541,3.3084357,2.5266807,2.6950266,2.564523],\"type\":\"scatter3d\"},{\"customdata\":[[\"apple\"],[\"banana\"],[\"pizza\"],[\"sushi\"],[\"pasta\"],[\"steak\"],[\"salad\"],[\"ice cream\"],[\"chocolate\"],[\"burger\"],[\"taco\"],[\"soup\"],[\"cake\"],[\"fruit platter\"],[\"sandwich\"],[\"roast chicken\"],[\"seafood platter\"]],\"hovertemplate\":\"category=food\\u003cbr\\u003eDim1=%{x}\\u003cbr\\u003eDim2=%{y}\\u003cbr\\u003eDim3=%{z}\\u003cbr\\u003eprompt=%{customdata[0]}\\u003cextra\\u003e\\u003c\\u002fextra\\u003e\",\"legendgroup\":\"food\",\"marker\":{\"color\":\"#ab63fa\",\"symbol\":\"circle\"},\"mode\":\"markers\",\"name\":\"food\",\"scene\":\"scene\",\"showlegend\":true,\"x\":[16.216934,14.283877,14.20801,14.254395,14.312101,14.409295,14.834148,15.37621,15.198155,14.92983,14.760393,16.076778,15.334723,14.541319,14.807912,15.044439,14.1290245],\"y\":[6.8552556,7.172523,7.6327033,7.3935637,7.6503773,7.8650208,7.6564393,8.018637,7.690812,8.086095,7.724041,6.8405194,7.744482,7.1609693,7.6575394,7.338541,7.45984],\"z\":[2.4229882,3.4766364,3.3587823,3.278934,3.5311234,3.228323,3.6394615,2.8765743,3.010993,3.0260038,2.8446546,3.5207913,2.297907,3.6789382,3.2791424,3.4537616,3.5688677],\"type\":\"scatter3d\"},{\"customdata\":[[\"guitar\"],[\"piano\"],[\"violin\"],[\"drums\"],[\"saxophone\"],[\"trumpet\"],[\"flute\"],[\"cello\"],[\"harp\"],[\"clarinet\"],[\"accordion\"],[\"electric guitar\"],[\"synthesizer\"],[\"DJ turntables\"],[\"orchestra\"],[\"rock band\"],[\"jazz ensemble\"]],\"hovertemplate\":\"category=music\\u003cbr\\u003eDim1=%{x}\\u003cbr\\u003eDim2=%{y}\\u003cbr\\u003eDim3=%{z}\\u003cbr\\u003eprompt=%{customdata[0]}\\u003cextra\\u003e\\u003c\\u002fextra\\u003e\",\"legendgroup\":\"music\",\"marker\":{\"color\":\"#FFA15A\",\"symbol\":\"circle\"},\"mode\":\"markers\",\"name\":\"music\",\"scene\":\"scene\",\"showlegend\":true,\"x\":[16.846834,15.190428,15.268937,15.169859,15.155302,15.266634,15.524067,15.916195,15.081781,16.109127,14.858914,16.874046,15.503201,15.216278,14.894833,16.56198,16.516838],\"y\":[6.8719707,7.608754,7.906798,5.596398,5.8453975,4.976823,7.2349105,7.121965,6.781983,6.8121023,7.0105968,7.11044,5.2906013,5.446177,7.765102,7.044377,6.6944866],\"z\":[2.9833426,2.0529914,2.4117947,2.891479,3.1063406,3.633287,3.348541,2.1902146,3.8445897,2.6970003,3.8673809,3.3277364,3.4743576,3.6638577,2.1093614,4.0722775,3.5013642],\"type\":\"scatter3d\"},{\"customdata\":[[\"skyscraper\"],[\"castle\"],[\"bridge\"],[\"ancient ruins\"],[\"modern house\"],[\"cathedral\"],[\"pagoda\"],[\"lighthouse\"],[\"pyramid\"],[\"log cabin\"],[\"treehouse\"],[\"futuristic city\"]],\"hovertemplate\":\"category=architecture\\u003cbr\\u003eDim1=%{x}\\u003cbr\\u003eDim2=%{y}\\u003cbr\\u003eDim3=%{z}\\u003cbr\\u003eprompt=%{customdata[0]}\\u003cextra\\u003e\\u003c\\u002fextra\\u003e\",\"legendgroup\":\"architecture\",\"marker\":{\"color\":\"#19d3f3\",\"symbol\":\"circle\"},\"mode\":\"markers\",\"name\":\"architecture\",\"scene\":\"scene\",\"showlegend\":true,\"x\":[16.46288,15.807123,16.878294,15.271978,15.899903,15.999388,16.530775,16.034143,16.089157,17.288382,15.607393,15.386904],\"y\":[5.550597,5.409919,5.52525,4.562224,5.058858,5.1613965,5.8788805,5.5902877,5.1376853,6.566198,4.4492345,4.6992183],\"z\":[2.4220872,2.2288845,2.8036633,2.8351362,3.710082,2.300389,2.3270128,2.1598306,2.512611,3.6634846,3.3203237,3.603081],\"type\":\"scatter3d\"},{\"customdata\":[[\"car\"],[\"airplane\"],[\"bicycle\"],[\"motorcycle\"],[\"boat\"],[\"train\"],[\"helicopter\"],[\"rocket\"],[\"submarine\"],[\"hot air balloon\"],[\"sailboat\"],[\"vintage car\"]],\"hovertemplate\":\"category=vehicles\\u003cbr\\u003eDim1=%{x}\\u003cbr\\u003eDim2=%{y}\\u003cbr\\u003eDim3=%{z}\\u003cbr\\u003eprompt=%{customdata[0]}\\u003cextra\\u003e\\u003c\\u002fextra\\u003e\",\"legendgroup\":\"vehicles\",\"marker\":{\"color\":\"#FF6692\",\"symbol\":\"circle\"},\"mode\":\"markers\",\"name\":\"vehicles\",\"scene\":\"scene\",\"showlegend\":true,\"x\":[17.133217,16.78945,16.717216,16.786095,16.911545,16.873154,16.481102,15.752215,16.496311,16.639837,16.004305,17.214064],\"y\":[7.2990212,5.314842,6.491143,6.898105,5.7234445,7.2936864,5.592153,6.6387963,5.922148,6.4688478,5.584922,7.320325],\"z\":[3.4273536,2.6689353,4.0229726,3.836607,3.2080843,3.408284,3.0854087,2.4566538,2.3948162,2.4789598,3.2975235,3.682052],\"type\":\"scatter3d\"},{\"customdata\":[[\"love\"],[\"time\"],[\"freedom\"],[\"peace\"],[\"chaos\"],[\"infinity\"],[\"balance\"],[\"evolution\"],[\"imagination\"],[\"dreams\"],[\"consciousness\"],[\"harmony\"]],\"hovertemplate\":\"category=abstract_concepts\\u003cbr\\u003eDim1=%{x}\\u003cbr\\u003eDim2=%{y}\\u003cbr\\u003eDim3=%{z}\\u003cbr\\u003eprompt=%{customdata[0]}\\u003cextra\\u003e\\u003c\\u002fextra\\u003e\",\"legendgroup\":\"abstract_concepts\",\"marker\":{\"color\":\"#B6E880\",\"symbol\":\"circle\"},\"mode\":\"markers\",\"name\":\"abstract_concepts\",\"scene\":\"scene\",\"showlegend\":true,\"x\":[15.893089,16.851854,17.270905,16.766296,15.273088,15.834875,15.985474,15.078434,15.564305,16.312641,16.077517,17.201746],\"y\":[6.637764,7.198267,7.0281215,6.9753213,4.895316,5.183784,6.3567777,6.5109663,5.7888684,5.857487,6.2581596,7.066783],\"z\":[4.0365405,3.7671049,3.5298,3.1040595,3.3627934,3.76915,2.6491494,3.868306,3.8659537,4.023434,3.7326932,3.9619472],\"type\":\"scatter3d\"}],                        {\"template\":{\"data\":{\"histogram2dcontour\":[{\"type\":\"histogram2dcontour\",\"colorbar\":{\"outlinewidth\":0,\"ticks\":\"\"},\"colorscale\":[[0.0,\"#0d0887\"],[0.1111111111111111,\"#46039f\"],[0.2222222222222222,\"#7201a8\"],[0.3333333333333333,\"#9c179e\"],[0.4444444444444444,\"#bd3786\"],[0.5555555555555556,\"#d8576b\"],[0.6666666666666666,\"#ed7953\"],[0.7777777777777778,\"#fb9f3a\"],[0.8888888888888888,\"#fdca26\"],[1.0,\"#f0f921\"]]}],\"choropleth\":[{\"type\":\"choropleth\",\"colorbar\":{\"outlinewidth\":0,\"ticks\":\"\"}}],\"histogram2d\":[{\"type\":\"histogram2d\",\"colorbar\":{\"outlinewidth\":0,\"ticks\":\"\"},\"colorscale\":[[0.0,\"#0d0887\"],[0.1111111111111111,\"#46039f\"],[0.2222222222222222,\"#7201a8\"],[0.3333333333333333,\"#9c179e\"],[0.4444444444444444,\"#bd3786\"],[0.5555555555555556,\"#d8576b\"],[0.6666666666666666,\"#ed7953\"],[0.7777777777777778,\"#fb9f3a\"],[0.8888888888888888,\"#fdca26\"],[1.0,\"#f0f921\"]]}],\"heatmap\":[{\"type\":\"heatmap\",\"colorbar\":{\"outlinewidth\":0,\"ticks\":\"\"},\"colorscale\":[[0.0,\"#0d0887\"],[0.1111111111111111,\"#46039f\"],[0.2222222222222222,\"#7201a8\"],[0.3333333333333333,\"#9c179e\"],[0.4444444444444444,\"#bd3786\"],[0.5555555555555556,\"#d8576b\"],[0.6666666666666666,\"#ed7953\"],[0.7777777777777778,\"#fb9f3a\"],[0.8888888888888888,\"#fdca26\"],[1.0,\"#f0f921\"]]}],\"heatmapgl\":[{\"type\":\"heatmapgl\",\"colorbar\":{\"outlinewidth\":0,\"ticks\":\"\"},\"colorscale\":[[0.0,\"#0d0887\"],[0.1111111111111111,\"#46039f\"],[0.2222222222222222,\"#7201a8\"],[0.3333333333333333,\"#9c179e\"],[0.4444444444444444,\"#bd3786\"],[0.5555555555555556,\"#d8576b\"],[0.6666666666666666,\"#ed7953\"],[0.7777777777777778,\"#fb9f3a\"],[0.8888888888888888,\"#fdca26\"],[1.0,\"#f0f921\"]]}],\"contourcarpet\":[{\"type\":\"contourcarpet\",\"colorbar\":{\"outlinewidth\":0,\"ticks\":\"\"}}],\"contour\":[{\"type\":\"contour\",\"colorbar\":{\"outlinewidth\":0,\"ticks\":\"\"},\"colorscale\":[[0.0,\"#0d0887\"],[0.1111111111111111,\"#46039f\"],[0.2222222222222222,\"#7201a8\"],[0.3333333333333333,\"#9c179e\"],[0.4444444444444444,\"#bd3786\"],[0.5555555555555556,\"#d8576b\"],[0.6666666666666666,\"#ed7953\"],[0.7777777777777778,\"#fb9f3a\"],[0.8888888888888888,\"#fdca26\"],[1.0,\"#f0f921\"]]}],\"surface\":[{\"type\":\"surface\",\"colorbar\":{\"outlinewidth\":0,\"ticks\":\"\"},\"colorscale\":[[0.0,\"#0d0887\"],[0.1111111111111111,\"#46039f\"],[0.2222222222222222,\"#7201a8\"],[0.3333333333333333,\"#9c179e\"],[0.4444444444444444,\"#bd3786\"],[0.5555555555555556,\"#d8576b\"],[0.6666666666666666,\"#ed7953\"],[0.7777777777777778,\"#fb9f3a\"],[0.8888888888888888,\"#fdca26\"],[1.0,\"#f0f921\"]]}],\"mesh3d\":[{\"type\":\"mesh3d\",\"colorbar\":{\"outlinewidth\":0,\"ticks\":\"\"}}],\"scatter\":[{\"fillpattern\":{\"fillmode\":\"overlay\",\"size\":10,\"solidity\":0.2},\"type\":\"scatter\"}],\"parcoords\":[{\"type\":\"parcoords\",\"line\":{\"colorbar\":{\"outlinewidth\":0,\"ticks\":\"\"}}}],\"scatterpolargl\":[{\"type\":\"scatterpolargl\",\"marker\":{\"colorbar\":{\"outlinewidth\":0,\"ticks\":\"\"}}}],\"bar\":[{\"error_x\":{\"color\":\"#2a3f5f\"},\"error_y\":{\"color\":\"#2a3f5f\"},\"marker\":{\"line\":{\"color\":\"#E5ECF6\",\"width\":0.5},\"pattern\":{\"fillmode\":\"overlay\",\"size\":10,\"solidity\":0.2}},\"type\":\"bar\"}],\"scattergeo\":[{\"type\":\"scattergeo\",\"marker\":{\"colorbar\":{\"outlinewidth\":0,\"ticks\":\"\"}}}],\"scatterpolar\":[{\"type\":\"scatterpolar\",\"marker\":{\"colorbar\":{\"outlinewidth\":0,\"ticks\":\"\"}}}],\"histogram\":[{\"marker\":{\"pattern\":{\"fillmode\":\"overlay\",\"size\":10,\"solidity\":0.2}},\"type\":\"histogram\"}],\"scattergl\":[{\"type\":\"scattergl\",\"marker\":{\"colorbar\":{\"outlinewidth\":0,\"ticks\":\"\"}}}],\"scatter3d\":[{\"type\":\"scatter3d\",\"line\":{\"colorbar\":{\"outlinewidth\":0,\"ticks\":\"\"}},\"marker\":{\"colorbar\":{\"outlinewidth\":0,\"ticks\":\"\"}}}],\"scattermapbox\":[{\"type\":\"scattermapbox\",\"marker\":{\"colorbar\":{\"outlinewidth\":0,\"ticks\":\"\"}}}],\"scatterternary\":[{\"type\":\"scatterternary\",\"marker\":{\"colorbar\":{\"outlinewidth\":0,\"ticks\":\"\"}}}],\"scattercarpet\":[{\"type\":\"scattercarpet\",\"marker\":{\"colorbar\":{\"outlinewidth\":0,\"ticks\":\"\"}}}],\"carpet\":[{\"aaxis\":{\"endlinecolor\":\"#2a3f5f\",\"gridcolor\":\"white\",\"linecolor\":\"white\",\"minorgridcolor\":\"white\",\"startlinecolor\":\"#2a3f5f\"},\"baxis\":{\"endlinecolor\":\"#2a3f5f\",\"gridcolor\":\"white\",\"linecolor\":\"white\",\"minorgridcolor\":\"white\",\"startlinecolor\":\"#2a3f5f\"},\"type\":\"carpet\"}],\"table\":[{\"cells\":{\"fill\":{\"color\":\"#EBF0F8\"},\"line\":{\"color\":\"white\"}},\"header\":{\"fill\":{\"color\":\"#C8D4E3\"},\"line\":{\"color\":\"white\"}},\"type\":\"table\"}],\"barpolar\":[{\"marker\":{\"line\":{\"color\":\"#E5ECF6\",\"width\":0.5},\"pattern\":{\"fillmode\":\"overlay\",\"size\":10,\"solidity\":0.2}},\"type\":\"barpolar\"}],\"pie\":[{\"automargin\":true,\"type\":\"pie\"}]},\"layout\":{\"autotypenumbers\":\"strict\",\"colorway\":[\"#636efa\",\"#EF553B\",\"#00cc96\",\"#ab63fa\",\"#FFA15A\",\"#19d3f3\",\"#FF6692\",\"#B6E880\",\"#FF97FF\",\"#FECB52\"],\"font\":{\"color\":\"#2a3f5f\"},\"hovermode\":\"closest\",\"hoverlabel\":{\"align\":\"left\"},\"paper_bgcolor\":\"white\",\"plot_bgcolor\":\"#E5ECF6\",\"polar\":{\"bgcolor\":\"#E5ECF6\",\"angularaxis\":{\"gridcolor\":\"white\",\"linecolor\":\"white\",\"ticks\":\"\"},\"radialaxis\":{\"gridcolor\":\"white\",\"linecolor\":\"white\",\"ticks\":\"\"}},\"ternary\":{\"bgcolor\":\"#E5ECF6\",\"aaxis\":{\"gridcolor\":\"white\",\"linecolor\":\"white\",\"ticks\":\"\"},\"baxis\":{\"gridcolor\":\"white\",\"linecolor\":\"white\",\"ticks\":\"\"},\"caxis\":{\"gridcolor\":\"white\",\"linecolor\":\"white\",\"ticks\":\"\"}},\"coloraxis\":{\"colorbar\":{\"outlinewidth\":0,\"ticks\":\"\"}},\"colorscale\":{\"sequential\":[[0.0,\"#0d0887\"],[0.1111111111111111,\"#46039f\"],[0.2222222222222222,\"#7201a8\"],[0.3333333333333333,\"#9c179e\"],[0.4444444444444444,\"#bd3786\"],[0.5555555555555556,\"#d8576b\"],[0.6666666666666666,\"#ed7953\"],[0.7777777777777778,\"#fb9f3a\"],[0.8888888888888888,\"#fdca26\"],[1.0,\"#f0f921\"]],\"sequentialminus\":[[0.0,\"#0d0887\"],[0.1111111111111111,\"#46039f\"],[0.2222222222222222,\"#7201a8\"],[0.3333333333333333,\"#9c179e\"],[0.4444444444444444,\"#bd3786\"],[0.5555555555555556,\"#d8576b\"],[0.6666666666666666,\"#ed7953\"],[0.7777777777777778,\"#fb9f3a\"],[0.8888888888888888,\"#fdca26\"],[1.0,\"#f0f921\"]],\"diverging\":[[0,\"#8e0152\"],[0.1,\"#c51b7d\"],[0.2,\"#de77ae\"],[0.3,\"#f1b6da\"],[0.4,\"#fde0ef\"],[0.5,\"#f7f7f7\"],[0.6,\"#e6f5d0\"],[0.7,\"#b8e186\"],[0.8,\"#7fbc41\"],[0.9,\"#4d9221\"],[1,\"#276419\"]]},\"xaxis\":{\"gridcolor\":\"white\",\"linecolor\":\"white\",\"ticks\":\"\",\"title\":{\"standoff\":15},\"zerolinecolor\":\"white\",\"automargin\":true,\"zerolinewidth\":2},\"yaxis\":{\"gridcolor\":\"white\",\"linecolor\":\"white\",\"ticks\":\"\",\"title\":{\"standoff\":15},\"zerolinecolor\":\"white\",\"automargin\":true,\"zerolinewidth\":2},\"scene\":{\"xaxis\":{\"backgroundcolor\":\"#E5ECF6\",\"gridcolor\":\"white\",\"linecolor\":\"white\",\"showbackground\":true,\"ticks\":\"\",\"zerolinecolor\":\"white\",\"gridwidth\":2},\"yaxis\":{\"backgroundcolor\":\"#E5ECF6\",\"gridcolor\":\"white\",\"linecolor\":\"white\",\"showbackground\":true,\"ticks\":\"\",\"zerolinecolor\":\"white\",\"gridwidth\":2},\"zaxis\":{\"backgroundcolor\":\"#E5ECF6\",\"gridcolor\":\"white\",\"linecolor\":\"white\",\"showbackground\":true,\"ticks\":\"\",\"zerolinecolor\":\"white\",\"gridwidth\":2}},\"shapedefaults\":{\"line\":{\"color\":\"#2a3f5f\"}},\"annotationdefaults\":{\"arrowcolor\":\"#2a3f5f\",\"arrowhead\":0,\"arrowwidth\":1},\"geo\":{\"bgcolor\":\"white\",\"landcolor\":\"#E5ECF6\",\"subunitcolor\":\"white\",\"showland\":true,\"showlakes\":true,\"lakecolor\":\"white\"},\"title\":{\"x\":0.05},\"mapbox\":{\"style\":\"light\"}}},\"scene\":{\"domain\":{\"x\":[0.0,1.0],\"y\":[0.0,1.0]},\"xaxis\":{\"title\":{\"text\":\"Dim1\"}},\"yaxis\":{\"title\":{\"text\":\"Dim2\"}},\"zaxis\":{\"title\":{\"text\":\"Dim3\"}}},\"legend\":{\"title\":{\"text\":\"category\"},\"tracegroupgap\":0},\"title\":{\"text\":\"3D UMAP Embedding Using Only Top Recommended Layers (Mean Layer Activity)\"}},                        {\"responsive\": true}                    ).then(function(){\n",
       "                            \n",
       "var gd = document.getElementById('6d803905-c755-42d0-b381-c468fd5b0a3d');\n",
       "var x = new MutationObserver(function (mutations, observer) {{\n",
       "        var display = window.getComputedStyle(gd).display;\n",
       "        if (!display || display === 'none') {{\n",
       "            console.log([gd, 'removed!']);\n",
       "            Plotly.purge(gd);\n",
       "            observer.disconnect();\n",
       "        }}\n",
       "}});\n",
       "\n",
       "// Listen for the removal of the full notebook cells\n",
       "var notebookContainer = gd.closest('#notebook-container');\n",
       "if (notebookContainer) {{\n",
       "    x.observe(notebookContainer, {childList: true});\n",
       "}}\n",
       "\n",
       "// Listen for the clearing of the current output cell\n",
       "var outputEl = gd.closest('.output');\n",
       "if (outputEl) {{\n",
       "    x.observe(outputEl, {childList: true});\n",
       "}}\n",
       "\n",
       "                        })                };                });            </script>        </div>"
      ]
     },
     "metadata": {},
     "output_type": "display_data"
    }
   ],
   "source": [
    "# %% [markdown]\n",
    "# ___\n",
    "\n",
    "# %%\n",
    "available_layers_to_optimize = [\n",
    "    \"transformer.transformer_blocks.0.norm1.linear\",\n",
    "    \"transformer.transformer_blocks.0.norm1_context.linear\",\n",
    "    \"transformer.transformer_blocks.0.attn.to_q\",\n",
    "    \"transformer.transformer_blocks.0.attn.to_k\",\n",
    "    \"transformer.transformer_blocks.0.attn.to_v\",\n",
    "    \"transformer.transformer_blocks.0.attn.add_k_proj\",\n",
    "    \"transformer.transformer_blocks.0.attn.add_v_proj\",\n",
    "    \"transformer.transformer_blocks.0.attn.add_q_proj\",\n",
    "    \"transformer.transformer_blocks.0.attn.to_out.0\",\n",
    "    \"transformer.transformer_blocks.0.attn.to_add_out\",\n",
    "    \"transformer.transformer_blocks.0.ff.net.0.proj\",\n",
    "    \"transformer.transformer_blocks.0.ff.net.2\",\n",
    "    \"transformer.transformer_blocks.0.ff_context.net.0.proj\",\n",
    "    \"transformer.transformer_blocks.0.ff_context.net.2\",\n",
    "    \"transformer.transformer_blocks.1.norm1.linear\",\n",
    "    \"transformer.transformer_blocks.1.norm1_context.linear\",\n",
    "    \"transformer.transformer_blocks.1.attn.to_q\",\n",
    "    \"transformer.transformer_blocks.1.attn.to_k\",\n",
    "    \"transformer.transformer_blocks.1.attn.to_v\",\n",
    "    \"transformer.transformer_blocks.1.attn.add_k_proj\",\n",
    "    \"transformer.transformer_blocks.1.attn.add_v_proj\",\n",
    "    \"transformer.transformer_blocks.1.attn.add_q_proj\",\n",
    "    \"transformer.transformer_blocks.1.attn.to_out.0\",\n",
    "    \"transformer.transformer_blocks.1.attn.to_add_out\",\n",
    "    \"transformer.transformer_blocks.1.ff.net.0.proj\",\n",
    "    \"transformer.transformer_blocks.1.ff.net.2\",\n",
    "    \"transformer.transformer_blocks.1.ff_context.net.0.proj\",\n",
    "    \"transformer.transformer_blocks.1.ff_context.net.2\",\n",
    "    \"transformer.transformer_blocks.2.norm1.linear\",\n",
    "    \"transformer.transformer_blocks.2.norm1_context.linear\",\n",
    "    \"transformer.transformer_blocks.2.attn.to_q\",\n",
    "    \"transformer.transformer_blocks.2.attn.to_k\",\n",
    "    \"transformer.transformer_blocks.2.attn.to_v\",\n",
    "    \"transformer.transformer_blocks.2.attn.add_k_proj\",\n",
    "    \"transformer.transformer_blocks.2.attn.add_v_proj\",\n",
    "    \"transformer.transformer_blocks.2.attn.add_q_proj\",\n",
    "    \"transformer.transformer_blocks.2.attn.to_out.0\",\n",
    "    \"transformer.transformer_blocks.2.attn.to_add_out\",\n",
    "    \"transformer.transformer_blocks.2.ff.net.0.proj\",\n",
    "    \"transformer.transformer_blocks.2.ff.net.2\",\n",
    "    \"transformer.transformer_blocks.2.ff_context.net.0.proj\",\n",
    "    \"transformer.transformer_blocks.2.ff_context.net.2\",\n",
    "    \"transformer.transformer_blocks.3.norm1.linear\",\n",
    "    \"transformer.transformer_blocks.3.norm1_context.linear\",\n",
    "    \"transformer.transformer_blocks.3.attn.to_q\",\n",
    "    \"transformer.transformer_blocks.3.attn.to_k\",\n",
    "    \"transformer.transformer_blocks.3.attn.to_v\",\n",
    "    \"transformer.transformer_blocks.3.attn.add_k_proj\",\n",
    "    \"transformer.transformer_blocks.3.attn.add_v_proj\",\n",
    "    \"transformer.transformer_blocks.3.attn.add_q_proj\",\n",
    "    \"transformer.transformer_blocks.3.attn.to_out.0\",\n",
    "    \"transformer.transformer_blocks.3.attn.to_add_out\",\n",
    "    \"transformer.transformer_blocks.3.ff.net.0.proj\",\n",
    "    \"transformer.transformer_blocks.3.ff.net.2\",\n",
    "    \"transformer.transformer_blocks.3.ff_context.net.0.proj\",\n",
    "    \"transformer.transformer_blocks.3.ff_context.net.2\",\n",
    "    \"transformer.transformer_blocks.4.norm1.linear\",\n",
    "    \"transformer.transformer_blocks.4.norm1_context.linear\",\n",
    "    \"transformer.transformer_blocks.4.attn.to_q\",\n",
    "    \"transformer.transformer_blocks.4.attn.to_k\",\n",
    "    \"transformer.transformer_blocks.4.attn.to_v\",\n",
    "    \"transformer.transformer_blocks.4.attn.add_k_proj\",\n",
    "    \"transformer.transformer_blocks.4.attn.add_v_proj\",\n",
    "    \"transformer.transformer_blocks.4.attn.add_q_proj\",\n",
    "    \"transformer.transformer_blocks.4.attn.to_out.0\",\n",
    "    \"transformer.transformer_blocks.4.attn.to_add_out\",\n",
    "    \"transformer.transformer_blocks.4.ff.net.0.proj\",\n",
    "    \"transformer.transformer_blocks.4.ff.net.2\",\n",
    "    \"transformer.transformer_blocks.4.ff_context.net.0.proj\",\n",
    "    \"transformer.transformer_blocks.4.ff_context.net.2\",\n",
    "    \"transformer.transformer_blocks.5.norm1.linear\",\n",
    "    \"transformer.transformer_blocks.5.norm1_context.linear\",\n",
    "    \"transformer.transformer_blocks.5.attn.to_q\",\n",
    "    \"transformer.transformer_blocks.5.attn.to_k\",\n",
    "    \"transformer.transformer_blocks.5.attn.to_v\",\n",
    "    \"transformer.transformer_blocks.5.attn.add_k_proj\",\n",
    "    \"transformer.transformer_blocks.5.attn.add_v_proj\",\n",
    "    \"transformer.transformer_blocks.5.attn.add_q_proj\",\n",
    "    \"transformer.transformer_blocks.5.attn.to_out.0\",\n",
    "    \"transformer.transformer_blocks.5.attn.to_add_out\",\n",
    "    \"transformer.transformer_blocks.5.ff.net.0.proj\",\n",
    "    \"transformer.transformer_blocks.5.ff.net.2\",\n",
    "    \"transformer.transformer_blocks.5.ff_context.net.0.proj\",\n",
    "    \"transformer.transformer_blocks.5.ff_context.net.2\",\n",
    "    \"transformer.transformer_blocks.6.norm1.linear\",\n",
    "    \"transformer.transformer_blocks.6.norm1_context.linear\",\n",
    "    \"transformer.transformer_blocks.6.attn.to_q\",\n",
    "    \"transformer.transformer_blocks.6.attn.to_k\",\n",
    "    \"transformer.transformer_blocks.6.attn.to_v\",\n",
    "    \"transformer.transformer_blocks.6.attn.add_k_proj\",\n",
    "    \"transformer.transformer_blocks.6.attn.add_v_proj\",\n",
    "    \"transformer.transformer_blocks.6.attn.add_q_proj\",\n",
    "    \"transformer.transformer_blocks.6.attn.to_out.0\",\n",
    "    \"transformer.transformer_blocks.6.attn.to_add_out\",\n",
    "    \"transformer.transformer_blocks.6.ff.net.0.proj\",\n",
    "    \"transformer.transformer_blocks.6.ff.net.2\",\n",
    "    \"transformer.transformer_blocks.6.ff_context.net.0.proj\",\n",
    "    \"transformer.transformer_blocks.6.ff_context.net.2\",\n",
    "    \"transformer.transformer_blocks.7.norm1.linear\",\n",
    "    \"transformer.transformer_blocks.7.norm1_context.linear\",\n",
    "    \"transformer.transformer_blocks.7.attn.to_q\",\n",
    "    \"transformer.transformer_blocks.7.attn.to_k\",\n",
    "    \"transformer.transformer_blocks.7.attn.to_v\",\n",
    "    \"transformer.transformer_blocks.7.attn.add_k_proj\",\n",
    "    \"transformer.transformer_blocks.7.attn.add_v_proj\",\n",
    "    \"transformer.transformer_blocks.7.attn.add_q_proj\",\n",
    "    \"transformer.transformer_blocks.7.attn.to_out.0\",\n",
    "    \"transformer.transformer_blocks.7.attn.to_add_out\",\n",
    "    \"transformer.transformer_blocks.7.ff.net.0.proj\",\n",
    "    \"transformer.transformer_blocks.7.ff.net.2\",\n",
    "    \"transformer.transformer_blocks.7.ff_context.net.0.proj\",\n",
    "    \"transformer.transformer_blocks.7.ff_context.net.2\",\n",
    "    \"transformer.transformer_blocks.8.norm1.linear\",\n",
    "    \"transformer.transformer_blocks.8.norm1_context.linear\",\n",
    "    \"transformer.transformer_blocks.8.attn.to_q\",\n",
    "    \"transformer.transformer_blocks.8.attn.to_k\",\n",
    "    \"transformer.transformer_blocks.8.attn.to_v\",\n",
    "    \"transformer.transformer_blocks.8.attn.add_k_proj\",\n",
    "    \"transformer.transformer_blocks.8.attn.add_v_proj\",\n",
    "    \"transformer.transformer_blocks.8.attn.add_q_proj\",\n",
    "    \"transformer.transformer_blocks.8.attn.to_out.0\",\n",
    "    \"transformer.transformer_blocks.8.attn.to_add_out\",\n",
    "    \"transformer.transformer_blocks.8.ff.net.0.proj\",\n",
    "    \"transformer.transformer_blocks.8.ff.net.2\",\n",
    "    \"transformer.transformer_blocks.8.ff_context.net.0.proj\",\n",
    "    \"transformer.transformer_blocks.8.ff_context.net.2\",\n",
    "    \"transformer.transformer_blocks.9.norm1.linear\",\n",
    "    \"transformer.transformer_blocks.9.norm1_context.linear\",\n",
    "    \"transformer.transformer_blocks.9.attn.to_q\",\n",
    "    \"transformer.transformer_blocks.9.attn.to_k\",\n",
    "    \"transformer.transformer_blocks.9.attn.to_v\",\n",
    "    \"transformer.transformer_blocks.9.attn.add_k_proj\",\n",
    "    \"transformer.transformer_blocks.9.attn.add_v_proj\",\n",
    "    \"transformer.transformer_blocks.9.attn.add_q_proj\",\n",
    "    \"transformer.transformer_blocks.9.attn.to_out.0\",\n",
    "    \"transformer.transformer_blocks.9.attn.to_add_out\",\n",
    "    \"transformer.transformer_blocks.9.ff.net.0.proj\",\n",
    "    \"transformer.transformer_blocks.9.ff.net.2\",\n",
    "    \"transformer.transformer_blocks.9.ff_context.net.0.proj\",\n",
    "    \"transformer.transformer_blocks.9.ff_context.net.2\",\n",
    "    \"transformer.transformer_blocks.10.norm1.linear\",\n",
    "    \"transformer.transformer_blocks.10.norm1_context.linear\",\n",
    "    \"transformer.transformer_blocks.10.attn.to_q\",\n",
    "    \"transformer.transformer_blocks.10.attn.to_k\",\n",
    "    \"transformer.transformer_blocks.10.attn.to_v\",\n",
    "    \"transformer.transformer_blocks.10.attn.add_k_proj\",\n",
    "    \"transformer.transformer_blocks.10.attn.add_v_proj\",\n",
    "    \"transformer.transformer_blocks.10.attn.add_q_proj\",\n",
    "    \"transformer.transformer_blocks.10.attn.to_out.0\",\n",
    "    \"transformer.transformer_blocks.10.attn.to_add_out\",\n",
    "    \"transformer.transformer_blocks.10.ff.net.0.proj\",\n",
    "    \"transformer.transformer_blocks.10.ff.net.2\",\n",
    "    \"transformer.transformer_blocks.10.ff_context.net.0.proj\",\n",
    "    \"transformer.transformer_blocks.10.ff_context.net.2\",\n",
    "    \"transformer.transformer_blocks.11.norm1.linear\",\n",
    "    \"transformer.transformer_blocks.11.norm1_context.linear\",\n",
    "    \"transformer.transformer_blocks.11.attn.to_q\",\n",
    "    \"transformer.transformer_blocks.11.attn.to_k\",\n",
    "    \"transformer.transformer_blocks.11.attn.to_v\",\n",
    "    \"transformer.transformer_blocks.11.attn.add_k_proj\",\n",
    "    \"transformer.transformer_blocks.11.attn.add_v_proj\",\n",
    "    \"transformer.transformer_blocks.11.attn.add_q_proj\",\n",
    "    \"transformer.transformer_blocks.11.attn.to_out.0\",\n",
    "    \"transformer.transformer_blocks.11.attn.to_add_out\",\n",
    "    \"transformer.transformer_blocks.11.ff.net.0.proj\",\n",
    "    \"transformer.transformer_blocks.11.ff.net.2\",\n",
    "    \"transformer.transformer_blocks.11.ff_context.net.0.proj\",\n",
    "    \"transformer.transformer_blocks.11.ff_context.net.2\",\n",
    "    \"transformer.transformer_blocks.12.norm1.linear\",\n",
    "    \"transformer.transformer_blocks.12.norm1_context.linear\",\n",
    "    \"transformer.transformer_blocks.12.attn.to_q\",\n",
    "    \"transformer.transformer_blocks.12.attn.to_k\",\n",
    "    \"transformer.transformer_blocks.12.attn.to_v\",\n",
    "    \"transformer.transformer_blocks.12.attn.add_k_proj\",\n",
    "    \"transformer.transformer_blocks.12.attn.add_v_proj\",\n",
    "    \"transformer.transformer_blocks.12.attn.add_q_proj\",\n",
    "    \"transformer.transformer_blocks.12.attn.to_out.0\",\n",
    "    \"transformer.transformer_blocks.12.attn.to_add_out\",\n",
    "    \"transformer.transformer_blocks.12.ff.net.0.proj\",\n",
    "    \"transformer.transformer_blocks.12.ff.net.2\",\n",
    "    \"transformer.transformer_blocks.12.ff_context.net.0.proj\",\n",
    "    \"transformer.transformer_blocks.12.ff_context.net.2\",\n",
    "    \"transformer.transformer_blocks.13.norm1.linear\",\n",
    "    \"transformer.transformer_blocks.13.norm1_context.linear\",\n",
    "    \"transformer.transformer_blocks.13.attn.to_q\",\n",
    "    \"transformer.transformer_blocks.13.attn.to_k\",\n",
    "    \"transformer.transformer_blocks.13.attn.to_v\",\n",
    "    \"transformer.transformer_blocks.13.attn.add_k_proj\",\n",
    "    \"transformer.transformer_blocks.13.attn.add_v_proj\",\n",
    "    \"transformer.transformer_blocks.13.attn.add_q_proj\",\n",
    "    \"transformer.transformer_blocks.13.attn.to_out.0\",\n",
    "    \"transformer.transformer_blocks.13.attn.to_add_out\",\n",
    "    \"transformer.transformer_blocks.13.ff.net.0.proj\",\n",
    "    \"transformer.transformer_blocks.13.ff.net.2\",\n",
    "    \"transformer.transformer_blocks.13.ff_context.net.0.proj\",\n",
    "    \"transformer.transformer_blocks.13.ff_context.net.2\",\n",
    "    \"transformer.transformer_blocks.14.norm1.linear\",\n",
    "    \"transformer.transformer_blocks.14.norm1_context.linear\",\n",
    "    \"transformer.transformer_blocks.14.attn.to_q\",\n",
    "    \"transformer.transformer_blocks.14.attn.to_k\",\n",
    "    \"transformer.transformer_blocks.14.attn.to_v\",\n",
    "    \"transformer.transformer_blocks.14.attn.add_k_proj\",\n",
    "    \"transformer.transformer_blocks.14.attn.add_v_proj\",\n",
    "    \"transformer.transformer_blocks.14.attn.add_q_proj\",\n",
    "    \"transformer.transformer_blocks.14.attn.to_out.0\",\n",
    "    \"transformer.transformer_blocks.14.attn.to_add_out\",\n",
    "    \"transformer.transformer_blocks.14.ff.net.0.proj\",\n",
    "    \"transformer.transformer_blocks.14.ff.net.2\",\n",
    "    \"transformer.transformer_blocks.14.ff_context.net.0.proj\",\n",
    "    \"transformer.transformer_blocks.14.ff_context.net.2\",\n",
    "    \"transformer.transformer_blocks.15.norm1.linear\",\n",
    "    \"transformer.transformer_blocks.15.norm1_context.linear\",\n",
    "    \"transformer.transformer_blocks.15.attn.to_q\",\n",
    "    \"transformer.transformer_blocks.15.attn.to_k\",\n",
    "    \"transformer.transformer_blocks.15.attn.to_v\",\n",
    "    \"transformer.transformer_blocks.15.attn.add_k_proj\",\n",
    "    \"transformer.transformer_blocks.15.attn.add_v_proj\",\n",
    "    \"transformer.transformer_blocks.15.attn.add_q_proj\",\n",
    "    \"transformer.transformer_blocks.15.attn.to_out.0\",\n",
    "    \"transformer.transformer_blocks.15.attn.to_add_out\",\n",
    "    \"transformer.transformer_blocks.15.ff.net.0.proj\",\n",
    "    \"transformer.transformer_blocks.15.ff.net.2\",\n",
    "    \"transformer.transformer_blocks.15.ff_context.net.0.proj\",\n",
    "    \"transformer.transformer_blocks.15.ff_context.net.2\",\n",
    "    \"transformer.transformer_blocks.16.norm1.linear\",\n",
    "    \"transformer.transformer_blocks.16.norm1_context.linear\",\n",
    "    \"transformer.transformer_blocks.16.attn.to_q\",\n",
    "    \"transformer.transformer_blocks.16.attn.to_k\",\n",
    "    \"transformer.transformer_blocks.16.attn.to_v\",\n",
    "    \"transformer.transformer_blocks.16.attn.add_k_proj\",\n",
    "    \"transformer.transformer_blocks.16.attn.add_v_proj\",\n",
    "    \"transformer.transformer_blocks.16.attn.add_q_proj\",\n",
    "    \"transformer.transformer_blocks.16.attn.to_out.0\",\n",
    "    \"transformer.transformer_blocks.16.attn.to_add_out\",\n",
    "    \"transformer.transformer_blocks.16.ff.net.0.proj\",\n",
    "    \"transformer.transformer_blocks.16.ff.net.2\",\n",
    "    \"transformer.transformer_blocks.16.ff_context.net.0.proj\",\n",
    "    \"transformer.transformer_blocks.16.ff_context.net.2\",\n",
    "    \"transformer.transformer_blocks.17.norm1.linear\",\n",
    "    \"transformer.transformer_blocks.17.norm1_context.linear\",\n",
    "    \"transformer.transformer_blocks.17.attn.to_q\",\n",
    "    \"transformer.transformer_blocks.17.attn.to_k\",\n",
    "    \"transformer.transformer_blocks.17.attn.to_v\",\n",
    "    \"transformer.transformer_blocks.17.attn.add_k_proj\",\n",
    "    \"transformer.transformer_blocks.17.attn.add_v_proj\",\n",
    "    \"transformer.transformer_blocks.17.attn.add_q_proj\",\n",
    "    \"transformer.transformer_blocks.17.attn.to_out.0\",\n",
    "    \"transformer.transformer_blocks.17.attn.to_add_out\",\n",
    "    \"transformer.transformer_blocks.17.ff.net.0.proj\",\n",
    "    \"transformer.transformer_blocks.17.ff.net.2\",\n",
    "    \"transformer.transformer_blocks.17.ff_context.net.0.proj\",\n",
    "    \"transformer.transformer_blocks.17.ff_context.net.2\",\n",
    "    \"transformer.transformer_blocks.18.norm1.linear\",\n",
    "    \"transformer.transformer_blocks.18.norm1_context.linear\",\n",
    "    \"transformer.transformer_blocks.18.attn.to_q\",\n",
    "    \"transformer.transformer_blocks.18.attn.to_k\",\n",
    "    \"transformer.transformer_blocks.18.attn.to_v\",\n",
    "    \"transformer.transformer_blocks.18.attn.add_k_proj\",\n",
    "    \"transformer.transformer_blocks.18.attn.add_v_proj\",\n",
    "    \"transformer.transformer_blocks.18.attn.add_q_proj\",\n",
    "    \"transformer.transformer_blocks.18.attn.to_out.0\",\n",
    "    \"transformer.transformer_blocks.18.attn.to_add_out\",\n",
    "    \"transformer.transformer_blocks.18.ff.net.0.proj\",\n",
    "    \"transformer.transformer_blocks.18.ff.net.2\",\n",
    "    \"transformer.transformer_blocks.18.ff_context.net.0.proj\",\n",
    "    \"transformer.transformer_blocks.18.ff_context.net.2\",\n",
    "    \"transformer.single_transformer_blocks.0.norm.linear\",\n",
    "    \"transformer.single_transformer_blocks.0.proj_mlp\",\n",
    "    \"transformer.single_transformer_blocks.0.proj_out\",\n",
    "    \"transformer.single_transformer_blocks.0.attn.to_q\",\n",
    "    \"transformer.single_transformer_blocks.0.attn.to_k\",\n",
    "    \"transformer.single_transformer_blocks.0.attn.to_v\",\n",
    "    \"transformer.single_transformer_blocks.1.norm.linear\",\n",
    "    \"transformer.single_transformer_blocks.1.proj_mlp\",\n",
    "    \"transformer.single_transformer_blocks.1.proj_out\",\n",
    "    \"transformer.single_transformer_blocks.1.attn.to_q\",\n",
    "    \"transformer.single_transformer_blocks.1.attn.to_k\",\n",
    "    \"transformer.single_transformer_blocks.1.attn.to_v\",\n",
    "    \"transformer.single_transformer_blocks.2.norm.linear\",\n",
    "    \"transformer.single_transformer_blocks.2.proj_mlp\",\n",
    "    \"transformer.single_transformer_blocks.2.proj_out\",\n",
    "    \"transformer.single_transformer_blocks.2.attn.to_q\",\n",
    "    \"transformer.single_transformer_blocks.2.attn.to_k\",\n",
    "    \"transformer.single_transformer_blocks.2.attn.to_v\",\n",
    "    \"transformer.single_transformer_blocks.3.norm.linear\",\n",
    "    \"transformer.single_transformer_blocks.3.proj_mlp\",\n",
    "    \"transformer.single_transformer_blocks.3.proj_out\",\n",
    "    \"transformer.single_transformer_blocks.3.attn.to_q\",\n",
    "    \"transformer.single_transformer_blocks.3.attn.to_k\",\n",
    "    \"transformer.single_transformer_blocks.3.attn.to_v\",\n",
    "    \"transformer.single_transformer_blocks.4.norm.linear\",\n",
    "    \"transformer.single_transformer_blocks.4.proj_mlp\",\n",
    "    \"transformer.single_transformer_blocks.4.proj_out\",\n",
    "    \"transformer.single_transformer_blocks.4.attn.to_q\",\n",
    "    \"transformer.single_transformer_blocks.4.attn.to_k\",\n",
    "    \"transformer.single_transformer_blocks.4.attn.to_v\",\n",
    "    \"transformer.single_transformer_blocks.5.norm.linear\",\n",
    "    \"transformer.single_transformer_blocks.5.proj_mlp\",\n",
    "    \"transformer.single_transformer_blocks.5.proj_out\",\n",
    "    \"transformer.single_transformer_blocks.5.attn.to_q\",\n",
    "    \"transformer.single_transformer_blocks.5.attn.to_k\",\n",
    "    \"transformer.single_transformer_blocks.5.attn.to_v\",\n",
    "    \"transformer.single_transformer_blocks.6.norm.linear\",\n",
    "    \"transformer.single_transformer_blocks.6.proj_mlp\",\n",
    "    \"transformer.single_transformer_blocks.6.proj_out\",\n",
    "    \"transformer.single_transformer_blocks.6.attn.to_q\",\n",
    "    \"transformer.single_transformer_blocks.6.attn.to_k\",\n",
    "    \"transformer.single_transformer_blocks.6.attn.to_v\",\n",
    "    \"transformer.single_transformer_blocks.7.norm.linear\",\n",
    "    \"transformer.single_transformer_blocks.7.proj_mlp\",\n",
    "    \"transformer.single_transformer_blocks.7.proj_out\",\n",
    "    \"transformer.single_transformer_blocks.7.attn.to_q\",\n",
    "    \"transformer.single_transformer_blocks.7.attn.to_k\",\n",
    "    \"transformer.single_transformer_blocks.7.attn.to_v\",\n",
    "    \"transformer.single_transformer_blocks.8.norm.linear\",\n",
    "    \"transformer.single_transformer_blocks.8.proj_mlp\",\n",
    "    \"transformer.single_transformer_blocks.8.proj_out\",\n",
    "    \"transformer.single_transformer_blocks.8.attn.to_q\",\n",
    "    \"transformer.single_transformer_blocks.8.attn.to_k\",\n",
    "    \"transformer.single_transformer_blocks.8.attn.to_v\",\n",
    "    \"transformer.single_transformer_blocks.9.norm.linear\",\n",
    "    \"transformer.single_transformer_blocks.9.proj_mlp\",\n",
    "    \"transformer.single_transformer_blocks.9.proj_out\",\n",
    "    \"transformer.single_transformer_blocks.9.attn.to_q\",\n",
    "    \"transformer.single_transformer_blocks.9.attn.to_k\",\n",
    "    \"transformer.single_transformer_blocks.9.attn.to_v\",\n",
    "    \"transformer.single_transformer_blocks.10.norm.linear\",\n",
    "    \"transformer.single_transformer_blocks.10.proj_mlp\",\n",
    "    \"transformer.single_transformer_blocks.10.proj_out\",\n",
    "    \"transformer.single_transformer_blocks.10.attn.to_q\",\n",
    "    \"transformer.single_transformer_blocks.10.attn.to_k\",\n",
    "    \"transformer.single_transformer_blocks.10.attn.to_v\",\n",
    "    \"transformer.single_transformer_blocks.11.norm.linear\",\n",
    "    \"transformer.single_transformer_blocks.11.proj_mlp\",\n",
    "    \"transformer.single_transformer_blocks.11.proj_out\",\n",
    "    \"transformer.single_transformer_blocks.11.attn.to_q\",\n",
    "    \"transformer.single_transformer_blocks.11.attn.to_k\",\n",
    "    \"transformer.single_transformer_blocks.11.attn.to_v\",\n",
    "    \"transformer.single_transformer_blocks.12.norm.linear\",\n",
    "    \"transformer.single_transformer_blocks.12.proj_mlp\",\n",
    "    \"transformer.single_transformer_blocks.12.proj_out\",\n",
    "    \"transformer.single_transformer_blocks.12.attn.to_q\",\n",
    "    \"transformer.single_transformer_blocks.12.attn.to_k\",\n",
    "    \"transformer.single_transformer_blocks.12.attn.to_v\",\n",
    "    \"transformer.single_transformer_blocks.13.norm.linear\",\n",
    "    \"transformer.single_transformer_blocks.13.proj_mlp\",\n",
    "    \"transformer.single_transformer_blocks.13.proj_out\",\n",
    "    \"transformer.single_transformer_blocks.13.attn.to_q\",\n",
    "    \"transformer.single_transformer_blocks.13.attn.to_k\",\n",
    "    \"transformer.single_transformer_blocks.13.attn.to_v\",\n",
    "    \"transformer.single_transformer_blocks.14.norm.linear\",\n",
    "    \"transformer.single_transformer_blocks.14.proj_mlp\",\n",
    "    \"transformer.single_transformer_blocks.14.proj_out\",\n",
    "    \"transformer.single_transformer_blocks.14.attn.to_q\",\n",
    "    \"transformer.single_transformer_blocks.14.attn.to_k\",\n",
    "    \"transformer.single_transformer_blocks.14.attn.to_v\",\n",
    "    \"transformer.single_transformer_blocks.15.norm.linear\",\n",
    "    \"transformer.single_transformer_blocks.15.proj_mlp\",\n",
    "    \"transformer.single_transformer_blocks.15.proj_out\",\n",
    "    \"transformer.single_transformer_blocks.15.attn.to_q\",\n",
    "    \"transformer.single_transformer_blocks.15.attn.to_k\",\n",
    "    \"transformer.single_transformer_blocks.15.attn.to_v\",\n",
    "    \"transformer.single_transformer_blocks.16.norm.linear\",\n",
    "    \"transformer.single_transformer_blocks.16.proj_mlp\",\n",
    "    \"transformer.single_transformer_blocks.16.proj_out\",\n",
    "    \"transformer.single_transformer_blocks.16.attn.to_q\",\n",
    "    \"transformer.single_transformer_blocks.16.attn.to_k\",\n",
    "    \"transformer.single_transformer_blocks.16.attn.to_v\",\n",
    "    \"transformer.single_transformer_blocks.17.norm.linear\",\n",
    "    \"transformer.single_transformer_blocks.17.proj_mlp\",\n",
    "    \"transformer.single_transformer_blocks.17.proj_out\",\n",
    "    \"transformer.single_transformer_blocks.17.attn.to_q\",\n",
    "    \"transformer.single_transformer_blocks.17.attn.to_k\",\n",
    "    \"transformer.single_transformer_blocks.17.attn.to_v\",\n",
    "    \"transformer.single_transformer_blocks.18.norm.linear\",\n",
    "    \"transformer.single_transformer_blocks.18.proj_mlp\",\n",
    "    \"transformer.single_transformer_blocks.18.proj_out\",\n",
    "    \"transformer.single_transformer_blocks.18.attn.to_q\",\n",
    "    \"transformer.single_transformer_blocks.18.attn.to_k\",\n",
    "    \"transformer.single_transformer_blocks.18.attn.to_v\",\n",
    "    \"transformer.single_transformer_blocks.19.norm.linear\",\n",
    "    \"transformer.single_transformer_blocks.19.proj_mlp\",\n",
    "    \"transformer.single_transformer_blocks.19.proj_out\",\n",
    "    \"transformer.single_transformer_blocks.19.attn.to_q\",\n",
    "    \"transformer.single_transformer_blocks.19.attn.to_k\",\n",
    "    \"transformer.single_transformer_blocks.19.attn.to_v\",\n",
    "    \"transformer.single_transformer_blocks.20.norm.linear\",\n",
    "    \"transformer.single_transformer_blocks.20.proj_mlp\",\n",
    "    \"transformer.single_transformer_blocks.20.proj_out\",\n",
    "    \"transformer.single_transformer_blocks.20.attn.to_q\",\n",
    "    \"transformer.single_transformer_blocks.20.attn.to_k\",\n",
    "    \"transformer.single_transformer_blocks.20.attn.to_v\",\n",
    "    \"transformer.single_transformer_blocks.21.norm.linear\",\n",
    "    \"transformer.single_transformer_blocks.21.proj_mlp\",\n",
    "    \"transformer.single_transformer_blocks.21.proj_out\",\n",
    "    \"transformer.single_transformer_blocks.21.attn.to_q\",\n",
    "    \"transformer.single_transformer_blocks.21.attn.to_k\",\n",
    "    \"transformer.single_transformer_blocks.21.attn.to_v\",\n",
    "    \"transformer.single_transformer_blocks.22.norm.linear\",\n",
    "    \"transformer.single_transformer_blocks.22.proj_mlp\",\n",
    "    \"transformer.single_transformer_blocks.22.proj_out\",\n",
    "    \"transformer.single_transformer_blocks.22.attn.to_q\",\n",
    "    \"transformer.single_transformer_blocks.22.attn.to_k\",\n",
    "    \"transformer.single_transformer_blocks.22.attn.to_v\",\n",
    "    \"transformer.single_transformer_blocks.23.norm.linear\",\n",
    "    \"transformer.single_transformer_blocks.23.proj_mlp\",\n",
    "    \"transformer.single_transformer_blocks.23.proj_out\",\n",
    "    \"transformer.single_transformer_blocks.23.attn.to_q\",\n",
    "    \"transformer.single_transformer_blocks.23.attn.to_k\",\n",
    "    \"transformer.single_transformer_blocks.23.attn.to_v\",\n",
    "    \"transformer.single_transformer_blocks.24.norm.linear\",\n",
    "    \"transformer.single_transformer_blocks.24.proj_mlp\",\n",
    "    \"transformer.single_transformer_blocks.24.proj_out\",\n",
    "    \"transformer.single_transformer_blocks.24.attn.to_q\",\n",
    "    \"transformer.single_transformer_blocks.24.attn.to_k\",\n",
    "    \"transformer.single_transformer_blocks.24.attn.to_v\",\n",
    "    \"transformer.single_transformer_blocks.25.norm.linear\",\n",
    "    \"transformer.single_transformer_blocks.25.proj_mlp\",\n",
    "    \"transformer.single_transformer_blocks.25.proj_out\",\n",
    "    \"transformer.single_transformer_blocks.25.attn.to_q\",\n",
    "    \"transformer.single_transformer_blocks.25.attn.to_k\",\n",
    "    \"transformer.single_transformer_blocks.25.attn.to_v\",\n",
    "    \"transformer.single_transformer_blocks.26.norm.linear\",\n",
    "    \"transformer.single_transformer_blocks.26.proj_mlp\",\n",
    "    \"transformer.single_transformer_blocks.26.proj_out\",\n",
    "    \"transformer.single_transformer_blocks.26.attn.to_q\",\n",
    "    \"transformer.single_transformer_blocks.26.attn.to_k\",\n",
    "    \"transformer.single_transformer_blocks.26.attn.to_v\",\n",
    "    \"transformer.single_transformer_blocks.27.norm.linear\",\n",
    "    \"transformer.single_transformer_blocks.27.proj_mlp\",\n",
    "    \"transformer.single_transformer_blocks.27.proj_out\",\n",
    "    \"transformer.single_transformer_blocks.27.attn.to_q\",\n",
    "    \"transformer.single_transformer_blocks.27.attn.to_k\",\n",
    "    \"transformer.single_transformer_blocks.27.attn.to_v\",\n",
    "    \"transformer.single_transformer_blocks.28.norm.linear\",\n",
    "    \"transformer.single_transformer_blocks.28.proj_mlp\",\n",
    "    \"transformer.single_transformer_blocks.28.proj_out\",\n",
    "    \"transformer.single_transformer_blocks.28.attn.to_q\",\n",
    "    \"transformer.single_transformer_blocks.28.attn.to_k\",\n",
    "    \"transformer.single_transformer_blocks.28.attn.to_v\",\n",
    "    \"transformer.single_transformer_blocks.29.norm.linear\",\n",
    "    \"transformer.single_transformer_blocks.29.proj_mlp\",\n",
    "    \"transformer.single_transformer_blocks.29.proj_out\",\n",
    "    \"transformer.single_transformer_blocks.29.attn.to_q\",\n",
    "    \"transformer.single_transformer_blocks.29.attn.to_k\",\n",
    "    \"transformer.single_transformer_blocks.29.attn.to_v\",\n",
    "    \"transformer.single_transformer_blocks.30.norm.linear\",\n",
    "    \"transformer.single_transformer_blocks.30.proj_mlp\",\n",
    "    \"transformer.single_transformer_blocks.30.proj_out\",\n",
    "    \"transformer.single_transformer_blocks.30.attn.to_q\",\n",
    "    \"transformer.single_transformer_blocks.30.attn.to_k\",\n",
    "    \"transformer.single_transformer_blocks.30.attn.to_v\",\n",
    "    \"transformer.single_transformer_blocks.31.norm.linear\",\n",
    "    \"transformer.single_transformer_blocks.31.proj_mlp\",\n",
    "    \"transformer.single_transformer_blocks.31.proj_out\",\n",
    "    \"transformer.single_transformer_blocks.31.attn.to_q\",\n",
    "    \"transformer.single_transformer_blocks.31.attn.to_k\",\n",
    "    \"transformer.single_transformer_blocks.31.attn.to_v\",\n",
    "    \"transformer.single_transformer_blocks.32.norm.linear\",\n",
    "    \"transformer.single_transformer_blocks.32.proj_mlp\",\n",
    "    \"transformer.single_transformer_blocks.32.proj_out\",\n",
    "    \"transformer.single_transformer_blocks.32.attn.to_q\",\n",
    "    \"transformer.single_transformer_blocks.32.attn.to_k\",\n",
    "    \"transformer.single_transformer_blocks.32.attn.to_v\",\n",
    "    \"transformer.single_transformer_blocks.33.norm.linear\",\n",
    "    \"transformer.single_transformer_blocks.33.proj_mlp\",\n",
    "    \"transformer.single_transformer_blocks.33.proj_out\",\n",
    "    \"transformer.single_transformer_blocks.33.attn.to_q\",\n",
    "    \"transformer.single_transformer_blocks.33.attn.to_k\",\n",
    "    \"transformer.single_transformer_blocks.33.attn.to_v\",\n",
    "    \"transformer.single_transformer_blocks.34.norm.linear\",\n",
    "    \"transformer.single_transformer_blocks.34.proj_mlp\",\n",
    "    \"transformer.single_transformer_blocks.34.proj_out\",\n",
    "    \"transformer.single_transformer_blocks.34.attn.to_q\",\n",
    "    \"transformer.single_transformer_blocks.34.attn.to_k\",\n",
    "    \"transformer.single_transformer_blocks.34.attn.to_v\",\n",
    "    \"transformer.single_transformer_blocks.35.norm.linear\",\n",
    "    \"transformer.single_transformer_blocks.35.proj_mlp\",\n",
    "    \"transformer.single_transformer_blocks.35.proj_out\",\n",
    "    \"transformer.single_transformer_blocks.35.attn.to_q\",\n",
    "    \"transformer.single_transformer_blocks.35.attn.to_k\",\n",
    "    \"transformer.single_transformer_blocks.35.attn.to_v\",\n",
    "    \"transformer.single_transformer_blocks.36.norm.linear\",\n",
    "    \"transformer.single_transformer_blocks.36.proj_mlp\",\n",
    "    \"transformer.single_transformer_blocks.36.proj_out\",\n",
    "    \"transformer.single_transformer_blocks.36.attn.to_q\",\n",
    "    \"transformer.single_transformer_blocks.36.attn.to_k\",\n",
    "    \"transformer.single_transformer_blocks.36.attn.to_v\",\n",
    "    \"transformer.single_transformer_blocks.37.norm.linear\",\n",
    "    \"transformer.single_transformer_blocks.37.proj_mlp\",\n",
    "    \"transformer.single_transformer_blocks.37.proj_out\",\n",
    "    \"transformer.single_transformer_blocks.37.attn.to_q\",\n",
    "    \"transformer.single_transformer_blocks.37.attn.to_k\",\n",
    "    \"transformer.single_transformer_blocks.37.attn.to_v\",\n",
    "]\n",
    "\n",
    "\n",
    "# %%\n",
    "\n",
    "\n",
    "prompt_categories = {\n",
    "    'facial_features': [\n",
    "        \"smiling portrait\", \"frowning expression\", \"surprised look\", \"angry glare\", \"neutral expression\",\n",
    "        \"bearded individual\", \"freckled complexion\", \"face\", \"laughing face\", \"crying expression\",\n",
    "        \"confused look\", \"excited smile\", \"thoughtful gaze\", \"wrinkled face\", \"dimpled cheeks\",\n",
    "        \"strong jawline\", \"high cheekbones\", \"bushy eyebrows\",\n",
    "    ],\n",
    "    'nature': [\n",
    "        \"landscape\", \"seascape\", \"mountain range\", \"forest\", \"sunset\", \"sunrise\", \"beach\", \"desert\",\n",
    "        \"waterfall\", \"canyon\", \"meadow\", \"tropical island\", \"arctic tundra\", \"savanna\", \"volcano\",\n",
    "        \"coral reef\", \"rainforest\", \"autumn leaves\", \"spring blossoms\", \"misty morning\",\n",
    "    ],\n",
    "    'animals': [\n",
    "        \"dog\", \"cat\", \"bird\", \"fish\", \"elephant\", \"lion\", \"giraffe\", \"penguin\", \"dolphin\", \"butterfly\",\n",
    "        \"owl\", \"tiger\", \"panda\", \"koala\", \"kangaroo\", \"zebra\", \"rhinoceros\", \"cheetah\", \"polar bear\",\n",
    "    ],\n",
    "    'food': [\n",
    "        \"apple\", \"banana\", \"pizza\", \"sushi\", \"pasta\", \"steak\", \"salad\", \"ice cream\", \"chocolate\",\n",
    "        \"burger\", \"taco\", \"soup\", \"cake\", \"fruit platter\", \"sandwich\", \"roast chicken\", \"seafood platter\",\n",
    "    ],\n",
    "    'music': [\n",
    "        \"guitar\", \"piano\", \"violin\", \"drums\", \"saxophone\", \"trumpet\", \"flute\", \"cello\", \"harp\",\n",
    "        \"clarinet\", \"accordion\", \"electric guitar\", \"synthesizer\", \"DJ turntables\", \"orchestra\",\n",
    "        \"rock band\", \"jazz ensemble\",\n",
    "    ],\n",
    "    'architecture': [\n",
    "        \"skyscraper\", \"castle\", \"bridge\", \"ancient ruins\", \"modern house\", \"cathedral\",\n",
    "        \"pagoda\", \"lighthouse\", \"pyramid\", \"log cabin\", \"treehouse\", \"futuristic city\",\n",
    "    ],\n",
    "    'vehicles': [\n",
    "        \"car\", \"airplane\", \"bicycle\", \"motorcycle\", \"boat\", \"train\", \"helicopter\",\n",
    "        \"rocket\", \"submarine\", \"hot air balloon\", \"sailboat\", \"vintage car\",\n",
    "    ],\n",
    "    'abstract_concepts': [\n",
    "        \"love\", \"time\", \"freedom\", \"peace\", \"chaos\", \"infinity\", \"balance\",\n",
    "        \"evolution\", \"imagination\", \"dreams\", \"consciousness\", \"harmony\",\n",
    "    ],\n",
    "}\n",
    "\n",
    "# %%\n",
    "import torch\n",
    "import numpy as np\n",
    "import pandas as pd\n",
    "from diffusers import FluxPipeline\n",
    "import umap.umap_ as umap\n",
    "from sklearn.preprocessing import StandardScaler\n",
    "import plotly.express as px\n",
    "import gc\n",
    "import random\n",
    "from tqdm import tqdm\n",
    "import numpy as np\n",
    "import pandas as pd\n",
    "import umap.umap_ as umap\n",
    "from sklearn.decomposition import PCA\n",
    "from sklearn.preprocessing import StandardScaler\n",
    "from sklearn.linear_model import LogisticRegression\n",
    "import shap\n",
    "import plotly.express as px\n",
    "import os\n",
    "import seaborn as sns\n",
    "import matplotlib.pyplot as plt\n",
    "from sklearn.manifold import TSNE\n",
    "\n",
    "# Set a fixed seed for reproducibility\n",
    "SEED = 42\n",
    "torch.manual_seed(SEED)\n",
    "np.random.seed(SEED)\n",
    "random.seed(SEED)\n",
    "\n",
    "# %%\n",
    "# Directory to save plots\n",
    "plot_dir = 'plots'\n",
    "\n",
    "# Create directory if it doesn't exist\n",
    "if not os.path.exists(plot_dir):\n",
    "    os.makedirs(plot_dir)\n",
    "\n",
    "# %%\n",
    "\n",
    "# Define the MultiPromptActivityTracker class to capture layer activations\n",
    "class MultiPromptActivityTracker:\n",
    "    def __init__(self, layers_to_track):\n",
    "        self.layers_to_track = layers_to_track\n",
    "        self.outputs = {}\n",
    "        self.handles = []\n",
    "\n",
    "    def hook_fn(self, name):\n",
    "        def hook(module, input, output):\n",
    "            # Move output to CPU and avoid retaining GPU tensors\n",
    "            if isinstance(output, torch.Tensor):\n",
    "                self.outputs[name] = output.detach().cpu()\n",
    "            elif isinstance(output, tuple):\n",
    "                tensors = [t.detach().cpu() for t in output if isinstance(t, torch.Tensor)]\n",
    "                self.outputs[name] = torch.cat(tensors)\n",
    "        return hook\n",
    "\n",
    "    def register_hooks(self, pipe):\n",
    "        self.handles = []\n",
    "        for layer_name in self.layers_to_track:\n",
    "            parts = layer_name.split('.')\n",
    "            module = pipe\n",
    "            for part in parts:\n",
    "                if hasattr(module, part):\n",
    "                    module = getattr(module, part)\n",
    "                else:\n",
    "                    print(f\"Module '{module}' has no attribute '{part}'\")\n",
    "                    break\n",
    "            else:\n",
    "                handle = module.register_forward_hook(self.hook_fn(layer_name))\n",
    "                self.handles.append(handle)\n",
    "\n",
    "    def unregister_hooks(self):\n",
    "        for handle in self.handles:\n",
    "            handle.remove()\n",
    "        self.handles = []\n",
    "\n",
    "    def run_prompt(self, pipe, prompt, height=512, width=512, generator=None):\n",
    "        self.outputs.clear()\n",
    "        self.register_hooks(pipe)\n",
    "        with torch.no_grad():\n",
    "            _ = pipe(\n",
    "                prompt,\n",
    "                height=height,\n",
    "                width=width,\n",
    "                num_inference_steps=1,\n",
    "                generator=generator\n",
    "            )\n",
    "        self.unregister_hooks()\n",
    "        torch.cuda.empty_cache()\n",
    "        return self.outputs.copy()\n",
    "\n",
    "\n",
    "# %%\n",
    "\n",
    "pipe = FluxPipeline.from_pretrained(\"black-forest-labs/FLUX.1-dev\", torch_dtype=torch.bfloat16)\n",
    "pipe = pipe.to(\"cuda\")\n",
    "\n",
    "\n",
    "# %%\n",
    "# Initialize the tracker\n",
    "tracker = MultiPromptActivityTracker(available_layers_to_optimize)\n",
    "\n",
    "# Create the generator with the fixed seed\n",
    "generator = torch.Generator(\"cuda\").manual_seed(SEED)\n",
    "\n",
    "# Create a flat list of all prompts\n",
    "prompts = [prompt for prompts_list in prompt_categories.values() for prompt in prompts_list]\n",
    "\n",
    "# Assign a category label to each prompt for visualization\n",
    "prompt_labels = {prompt: category for category, prompts_list in prompt_categories.items() for prompt in prompts_list}\n",
    "\n",
    "# Collect feature vectors for all prompts\n",
    "# feature_vectors = {}\n",
    "# with tqdm(total=len(prompts), desc=\"Processing prompts\", unit=\"prompt\") as pbar:\n",
    "#     for prompt in prompts:\n",
    "#         outputs = tracker.run_prompt(pipe, prompt, generator=generator, height=512, width=512)\n",
    "\n",
    "#         # Compute feature vector for the prompt\n",
    "#         features = []\n",
    "#         for layer_name in available_layers_to_optimize:\n",
    "#             output = outputs.get(layer_name)\n",
    "#             if output is not None:\n",
    "#                 activity = output.mean().item()\n",
    "#                 features.append(activity)\n",
    "#             else:\n",
    "#                 features.append(0.0)\n",
    "#         feature_vectors[prompt] = features\n",
    "\n",
    "#         # Clear variables and GPU memory\n",
    "#         del outputs\n",
    "#         torch.cuda.empty_cache()\n",
    "#         gc.collect()\n",
    "\n",
    "#         # Update progress bar\n",
    "#         pbar.update(1)\n",
    "#         pbar.set_postfix({\"Current prompt\": prompt[:30] + \"...\" if len(prompt) > 30 else prompt})\n",
    "\n",
    "\n",
    "# %%\n",
    "# Convert feature vectors to a DataFrame\n",
    "# df_features = pd.DataFrame.from_dict(feature_vectors, orient='index', columns=available_layers_to_optimize)\n",
    "# Save the DataFrame to disk, preserving dtypes\n",
    "# df_features.to_pickle('feature_vectors.pkl')\n",
    "\n",
    "# Load the DataFrame from disk\n",
    "df_features = pd.read_pickle('feature_vectors.pkl')\n",
    "\n",
    "# Standardize the features\n",
    "scaler = StandardScaler()\n",
    "X_scaled = scaler.fit_transform(df_features)\n",
    "\n",
    "# Prepare labels for binary classification\n",
    "selected_category = 'facial_features'  # The category we're focusing on\n",
    "y_binary = np.array([1 if prompt_labels[prompt] == selected_category else 0 for prompt in df_features.index])\n",
    "\n",
    "# Add category labels to the features DataFrame\n",
    "df_features['category'] = df_features.index.map(prompt_labels)\n",
    "\n",
    "# %% [markdown]\n",
    "# ### Additional Plots and Analysis\n",
    "\n",
    "# %%\n",
    "# Standardize the features (excluding the 'category' column)\n",
    "X_scaled = scaler.fit_transform(df_features.drop('category', axis=1))\n",
    "\n",
    "# %% [markdown]\n",
    "# ### Dimensionality Reduction and Visualization\n",
    "\n",
    "# %%\n",
    "# Apply UMAP with 3 components\n",
    "reducer_umap = umap.UMAP(\n",
    "    n_components=3,\n",
    "    n_neighbors=5,\n",
    "    random_state=SEED,\n",
    "    metric='cosine'\n",
    ")\n",
    "embeddings_umap = reducer_umap.fit_transform(X_scaled)\n",
    "\n",
    "# Create DataFrame for UMAP embeddings\n",
    "embedding_df_umap = pd.DataFrame(embeddings_umap, columns=['Dim1', 'Dim2', 'Dim3'])\n",
    "embedding_df_umap['prompt'] = df_features.index\n",
    "embedding_df_umap['category'] = embedding_df_umap['prompt'].map(prompt_labels)\n",
    "\n",
    "# Visualize UMAP embeddings\n",
    "fig_umap = px.scatter_3d(\n",
    "    embedding_df_umap, x='Dim1', y='Dim2', z='Dim3',\n",
    "    color='category', hover_data=['prompt'],\n",
    "    title='Best Layers for Finetuning: 3D UMAP Embedding of Prompt Mean Layer Activities'\n",
    ")\n",
    "fig_umap.show()\n",
    "fig_umap.write_image(f'{plot_dir}/umap_embedding_3d.png')\n",
    "\n",
    "# %%\n",
    "# Apply PCA with 3 components\n",
    "pca = PCA(n_components=3)\n",
    "embeddings_pca = pca.fit_transform(X_scaled)\n",
    "explained_variance_ratio = pca.explained_variance_ratio_\n",
    "\n",
    "# Create DataFrame for PCA embeddings\n",
    "embedding_df_pca = pd.DataFrame(embeddings_pca, columns=['PC1', 'PC2', 'PC3'])\n",
    "embedding_df_pca['prompt'] = df_features.index\n",
    "embedding_df_pca['category'] = embedding_df_pca['prompt'].map(prompt_labels)\n",
    "\n",
    "# Visualize PCA embeddings\n",
    "fig_pca = px.scatter_3d(\n",
    "    embedding_df_pca, x='PC1', y='PC2', z='PC3',\n",
    "    color='category', hover_data=['prompt'],\n",
    "    title='Best Layers for Finetuning: 3D PCA Embedding of Prompt Mean Layer Activities'\n",
    ")\n",
    "fig_pca.show()\n",
    "fig_pca.write_image(f'{plot_dir}/pca_embedding_3d.png')\n",
    "\n",
    "# %% [markdown]\n",
    "# ### Model Training and Interpretation\n",
    "\n",
    "# %%\n",
    "# Logistic Regression with L1 Regularization\n",
    "clf = LogisticRegression(penalty='l1', solver='liblinear', random_state=SEED, C=0.9)  # Decreased C to 0.01 for stronger L1 regularization\n",
    "clf.fit(X_scaled, y_binary)\n",
    "\n",
    "# %%\n",
    "# Extract model coefficients\n",
    "coef = clf.coef_[0]\n",
    "coef_abs = np.abs(coef)\n",
    "\n",
    "# Identify top layers based on coefficients\n",
    "coef_df = pd.DataFrame({\n",
    "    'layer': df_features.columns[:-1],  # Exclude 'category' column\n",
    "    'importance': coef_abs\n",
    "})\n",
    "coef_df.sort_values(by='importance', ascending=False, inplace=True)\n",
    "top_layers_logreg = coef_df.head(10)\n",
    "\n",
    "# Visualize top layers from Logistic Regression\n",
    "fig_logreg = px.bar(\n",
    "    top_layers_logreg,\n",
    "    x='importance',\n",
    "    y='layer',\n",
    "    orientation='h',\n",
    "    title=f'Best Layers for Finetuning on {selected_category}: Top 10 Identified by Logistic Regression',\n",
    "    labels={'importance': 'Absolute Coefficient', 'layer': 'Layer'}\n",
    ")\n",
    "fig_logreg.update_layout(yaxis={'categoryorder': 'total ascending'})\n",
    "fig_logreg.show()\n",
    "fig_logreg.write_image(f'{plot_dir}/top_layers_logistic_regression.png')\n",
    "\n",
    "# %%\n",
    "# SHAP Analysis\n",
    "explainer = shap.LinearExplainer(clf, X_scaled, feature_perturbation=\"interventional\")\n",
    "shap_values = explainer.shap_values(X_scaled)\n",
    "mean_shap_values = np.mean(np.abs(shap_values), axis=0)\n",
    "\n",
    "# Identify top layers based on SHAP values\n",
    "shap_df = pd.DataFrame({\n",
    "    'layer': df_features.columns[:-1],  # Exclude 'category' column\n",
    "    'mean_abs_shap_value': mean_shap_values\n",
    "})\n",
    "shap_df.sort_values(by='mean_abs_shap_value', ascending=False, inplace=True)\n",
    "top_layers_shap = shap_df.head(10)\n",
    "\n",
    "# Visualize top layers from SHAP analysis\n",
    "fig_shap = px.bar(\n",
    "    top_layers_shap,\n",
    "    x='mean_abs_shap_value',\n",
    "    y='layer',\n",
    "    orientation='h',\n",
    "    title=f'Best Layers for Finetuning on {selected_category}: Top 10 Identified by SHAP Analysis',\n",
    "    labels={'mean_abs_shap_value': 'Mean Absolute SHAP Value', 'layer': 'Layer'}\n",
    ")\n",
    "fig_shap.update_layout(yaxis={'categoryorder': 'total ascending'})\n",
    "fig_shap.show()\n",
    "fig_shap.write_image(f'{plot_dir}/top_layers_shap.png')\n",
    "\n",
    "# SHAP Summary Plot\n",
    "shap.summary_plot(shap_values, features=X_scaled, feature_names=df_features.columns[:-1], show=False)\n",
    "plt.title(f'SHAP Summary: Impact of Layers on {selected_category} Classification')\n",
    "plt.gcf().set_size_inches(10, 6)\n",
    "plt.tight_layout()\n",
    "plt.savefig(f'{plot_dir}/shap_summary_plot.png', bbox_inches='tight')\n",
    "plt.show()\n",
    "\n",
    "# %% [markdown]\n",
    "# ### Layer Importance Comparison\n",
    "\n",
    "# %%\n",
    "# Compute contributions of each layer to each UMAP dimension\n",
    "# Calculate the Pearson correlation between each feature and each UMAP dimension\n",
    "layer_contributions = pd.DataFrame(index=df_features.columns[:-1])  # Exclude 'category' column\n",
    "\n",
    "for i in range(embeddings_umap.shape[1]):\n",
    "    dim = embeddings_umap[:, i]\n",
    "    correlations = []\n",
    "    for idx in range(X_scaled.shape[1]):\n",
    "        feature = X_scaled[:, idx]\n",
    "        correlation = np.corrcoef(feature, dim)[0, 1]\n",
    "        correlations.append(abs(correlation))\n",
    "    layer_contributions[f'UMAP_Dim{i+1}'] = correlations\n",
    "\n",
    "# Sum the absolute correlations across all UMAP dimensions\n",
    "layer_contributions['umap_total_correlation'] = layer_contributions.sum(axis=1)\n",
    "\n",
    "# Identify top layers based on UMAP contributions\n",
    "layer_contributions_sorted = layer_contributions.sort_values(by='umap_total_correlation', ascending=False)\n",
    "top_layers_umap = layer_contributions_sorted.head(10)\n",
    "\n",
    "# Visualize top layers from UMAP contributions\n",
    "fig_umap_contrib = px.bar(\n",
    "    top_layers_umap.reset_index(),\n",
    "    x='umap_total_correlation',\n",
    "    y='index',\n",
    "    orientation='h',\n",
    "    title=f'Best Layers for Finetuning on {selected_category}: Top 10 with Highest Correlation to UMAP Dimensions',\n",
    "    labels={'umap_total_correlation': 'Total Absolute Correlation', 'index': 'Layer'}\n",
    ")\n",
    "fig_umap_contrib.update_layout(yaxis={'categoryorder': 'total ascending'})\n",
    "fig_umap_contrib.show()\n",
    "fig_umap_contrib.write_image(f'{plot_dir}/top_layers_umap_correlation.png')\n",
    "\n",
    "# %%\n",
    "# Layer Importance Comparison Plot\n",
    "\n",
    "# Normalize importance scores\n",
    "coef_norm = coef_abs / np.max(coef_abs) if np.max(coef_abs) != 0 else coef_abs\n",
    "shap_norm = mean_shap_values / np.max(mean_shap_values) if np.max(mean_shap_values) != 0 else mean_shap_values\n",
    "umap_norm = layer_contributions['umap_total_correlation'] / layer_contributions['umap_total_correlation'].max() if layer_contributions['umap_total_correlation'].max() != 0 else layer_contributions['umap_total_correlation']\n",
    "\n",
    "# %%\n",
    "# Combine results for final recommendation\n",
    "combined_importance = coef_norm + shap_norm + umap_norm.values\n",
    "\n",
    "combined_df = pd.DataFrame({\n",
    "    'layer': df_features.columns[:-1],  # Exclude 'category' column\n",
    "    'combined_importance': combined_importance\n",
    "})\n",
    "combined_df.sort_values(by='combined_importance', ascending=False, inplace=True)\n",
    "top_layers_combined = combined_df.head(10)\n",
    "\n",
    "# Visualize top layers from combined analysis\n",
    "fig_combined = px.bar(\n",
    "    top_layers_combined,\n",
    "    x='combined_importance',\n",
    "    y='layer',\n",
    "    orientation='h',\n",
    "    title=f'Best Layers for Finetuning on {selected_category}: Top 10 Based on Combined Importance',\n",
    "    labels={'combined_importance': 'Combined Importance Score', 'layer': 'Layer'}\n",
    ")\n",
    "fig_combined.update_layout(yaxis={'categoryorder': 'total ascending'})\n",
    "fig_combined.show()\n",
    "fig_combined.write_image(f'{plot_dir}/top_layers_combined_importance.png')\n",
    "\n",
    "# %%\n",
    "# Final recommendation\n",
    "print(f\"Final recommendation for layers to fine-tune for {selected_category}:\")\n",
    "for idx, row in top_layers_combined.iterrows():\n",
    "    print(f\"{row['layer']} (Combined Importance: {row['combined_importance']:.4f})\")\n",
    "\n",
    "# %%\n",
    "# Validate top layers with PCA and UMAP\n",
    "top_layers = top_layers_combined['layer'].tolist()\n",
    "X_top = df_features[top_layers]\n",
    "\n",
    "# Standardize the features of top layers\n",
    "scaler_top = StandardScaler()\n",
    "X_top_scaled = scaler_top.fit_transform(X_top)\n",
    "\n",
    "# Apply PCA on top layers\n",
    "pca = PCA(n_components=3, random_state=SEED)\n",
    "embeddings_pca_top = pca.fit_transform(X_top_scaled)\n",
    "\n",
    "# Apply UMAP on top layers\n",
    "reducer_umap_top = umap.UMAP(n_components=3, random_state=SEED)\n",
    "embeddings_umap_top = reducer_umap_top.fit_transform(X_top_scaled)\n",
    "\n",
    "# Create DataFrames for PCA and UMAP embeddings of top layers\n",
    "embedding_df_pca_top = pd.DataFrame(embeddings_pca_top, columns=['Dim1', 'Dim2', 'Dim3'])\n",
    "embedding_df_pca_top['prompt'] = df_features.index\n",
    "embedding_df_pca_top['category'] = embedding_df_pca_top['prompt'].map(prompt_labels)\n",
    "\n",
    "embedding_df_umap_top = pd.DataFrame(embeddings_umap_top, columns=['Dim1', 'Dim2', 'Dim3'])\n",
    "embedding_df_umap_top['prompt'] = df_features.index\n",
    "embedding_df_umap_top['category'] = embedding_df_umap_top['prompt'].map(prompt_labels)\n",
    "\n",
    "# Visualize PCA embeddings for top layers\n",
    "fig_pca_top = px.scatter_3d(\n",
    "    embedding_df_pca_top, x='Dim1', y='Dim2', z='Dim3',\n",
    "    color='category', hover_data=['prompt'],\n",
    "    title='3D PCA Embedding Using Only Top Recommended Layers (Mean Layer Activity)'\n",
    ")\n",
    "fig_pca_top.show()\n",
    "fig_pca_top.write_image(f'{plot_dir}/pca_embedding_top_layers.png')\n",
    "\n",
    "# Visualize UMAP embeddings for top layers\n",
    "fig_umap_top = px.scatter_3d(\n",
    "    embedding_df_umap_top, x='Dim1', y='Dim2', z='Dim3',\n",
    "    color='category', hover_data=['prompt'],\n",
    "    title='3D UMAP Embedding Using Only Top Recommended Layers (Mean Layer Activity)'\n",
    ")\n",
    "fig_umap_top.show()\n",
    "fig_umap_top.write_image(f'{plot_dir}/umap_embedding_top_layers.png')\n",
    "\n",
    "# %%\n"
   ]
  },
  {
   "cell_type": "code",
   "execution_count": 12,
   "metadata": {},
   "outputs": [
    {
     "name": "stdout",
     "output_type": "stream",
     "text": [
      "Processing category: facial_features\n",
      "Processing category: nature\n",
      "Processing category: animals\n",
      "Processing category: food\n",
      "Processing category: music\n",
      "Processing category: architecture\n",
      "Processing category: vehicles\n",
      "Processing category: abstract_concepts\n"
     ]
    },
    {
     "data": {
      "application/vnd.plotly.v1+json": {
       "config": {
        "plotlyServerURL": "https://plot.ly"
       },
       "data": [
        {
         "alignmentgroup": "True",
         "hovertemplate": "category=facial_features<br>Importance Score=%{x}<br>Layer=%{y}<extra></extra>",
         "legendgroup": "facial_features",
         "marker": {
          "color": "#636efa",
          "pattern": {
           "shape": ""
          }
         },
         "name": "facial_features",
         "offsetgroup": "facial_features",
         "orientation": "h",
         "showlegend": true,
         "textposition": "auto",
         "type": "bar",
         "x": [
          0.6624131157406609,
          0.43542145841188556,
          0.4313269107536032,
          0.39405263797962714
         ],
         "xaxis": "x",
         "y": [
          "transformer.single_transformer_blocks.7.attn.to_q",
          "transformer.single_transformer_blocks.3.attn.to_q",
          "transformer.transformer_blocks.16.ff.net.2",
          "transformer.transformer_blocks.14.attn.to_q"
         ],
         "yaxis": "y"
        },
        {
         "alignmentgroup": "True",
         "hovertemplate": "category=nature<br>Importance Score=%{x}<br>Layer=%{y}<extra></extra>",
         "legendgroup": "nature",
         "marker": {
          "color": "#EF553B",
          "pattern": {
           "shape": ""
          }
         },
         "name": "nature",
         "offsetgroup": "nature",
         "orientation": "h",
         "showlegend": true,
         "textposition": "auto",
         "type": "bar",
         "x": [
          0.7197594070203525,
          0.6216489322096082,
          0.43065708562760646,
          0.42416254778157597
         ],
         "xaxis": "x",
         "y": [
          "transformer.single_transformer_blocks.15.proj_mlp",
          "transformer.single_transformer_blocks.0.attn.to_q",
          "transformer.transformer_blocks.3.norm1_context.linear",
          "transformer.transformer_blocks.7.ff.net.0.proj"
         ],
         "yaxis": "y"
        },
        {
         "alignmentgroup": "True",
         "hovertemplate": "category=animals<br>Importance Score=%{x}<br>Layer=%{y}<extra></extra>",
         "legendgroup": "animals",
         "marker": {
          "color": "#00cc96",
          "pattern": {
           "shape": ""
          }
         },
         "name": "animals",
         "offsetgroup": "animals",
         "orientation": "h",
         "showlegend": true,
         "textposition": "auto",
         "type": "bar",
         "x": [
          1.2031521655782547,
          0.529908952349767,
          0.4209115712091476,
          0.41032829925559783
         ],
         "xaxis": "x",
         "y": [
          "transformer.single_transformer_blocks.10.attn.to_k",
          "transformer.single_transformer_blocks.9.attn.to_v",
          "transformer.transformer_blocks.10.attn.to_q",
          "transformer.transformer_blocks.18.attn.to_out.0"
         ],
         "yaxis": "y"
        },
        {
         "alignmentgroup": "True",
         "hovertemplate": "category=food<br>Importance Score=%{x}<br>Layer=%{y}<extra></extra>",
         "legendgroup": "food",
         "marker": {
          "color": "#ab63fa",
          "pattern": {
           "shape": ""
          }
         },
         "name": "food",
         "offsetgroup": "food",
         "orientation": "h",
         "showlegend": true,
         "textposition": "auto",
         "type": "bar",
         "x": [
          0.7081617734057534,
          0.48914022192749246,
          0.47287718555828556,
          0.3772778198918149
         ],
         "xaxis": "x",
         "y": [
          "transformer.single_transformer_blocks.10.proj_out",
          "transformer.single_transformer_blocks.16.attn.to_k",
          "transformer.transformer_blocks.17.ff.net.2",
          "transformer.transformer_blocks.10.attn.to_out.0"
         ],
         "yaxis": "y"
        },
        {
         "alignmentgroup": "True",
         "hovertemplate": "category=music<br>Importance Score=%{x}<br>Layer=%{y}<extra></extra>",
         "legendgroup": "music",
         "marker": {
          "color": "#FFA15A",
          "pattern": {
           "shape": ""
          }
         },
         "name": "music",
         "offsetgroup": "music",
         "orientation": "h",
         "showlegend": true,
         "textposition": "auto",
         "type": "bar",
         "x": [
          0.6679400595158066,
          0.656801645737086,
          0.5108311798760885,
          0.5010314053261644
         ],
         "xaxis": "x",
         "y": [
          "transformer.single_transformer_blocks.15.attn.to_k",
          "transformer.single_transformer_blocks.20.proj_out",
          "transformer.single_transformer_blocks.13.attn.to_k",
          "transformer.single_transformer_blocks.1.attn.to_v"
         ],
         "yaxis": "y"
        },
        {
         "alignmentgroup": "True",
         "hovertemplate": "category=architecture<br>Importance Score=%{x}<br>Layer=%{y}<extra></extra>",
         "legendgroup": "architecture",
         "marker": {
          "color": "#19d3f3",
          "pattern": {
           "shape": ""
          }
         },
         "name": "architecture",
         "offsetgroup": "architecture",
         "orientation": "h",
         "showlegend": true,
         "textposition": "auto",
         "type": "bar",
         "x": [
          0.6537173369123124,
          0.5700007915242877,
          0.4952886861064814,
          0.46793478758445983
         ],
         "xaxis": "x",
         "y": [
          "transformer.single_transformer_blocks.8.proj_out",
          "transformer.single_transformer_blocks.4.proj_out",
          "transformer.single_transformer_blocks.7.attn.to_v",
          "transformer.single_transformer_blocks.21.attn.to_k"
         ],
         "yaxis": "y"
        },
        {
         "alignmentgroup": "True",
         "hovertemplate": "category=vehicles<br>Importance Score=%{x}<br>Layer=%{y}<extra></extra>",
         "legendgroup": "vehicles",
         "marker": {
          "color": "#FF6692",
          "pattern": {
           "shape": ""
          }
         },
         "name": "vehicles",
         "offsetgroup": "vehicles",
         "orientation": "h",
         "showlegend": true,
         "textposition": "auto",
         "type": "bar",
         "x": [
          1.1274790607467682,
          0.5669400270889591,
          0.49609967651697356,
          0.44656173470372157
         ],
         "xaxis": "x",
         "y": [
          "transformer.single_transformer_blocks.5.attn.to_k",
          "transformer.single_transformer_blocks.16.attn.to_v",
          "transformer.single_transformer_blocks.19.attn.to_v",
          "transformer.single_transformer_blocks.32.proj_out"
         ],
         "yaxis": "y"
        },
        {
         "alignmentgroup": "True",
         "hovertemplate": "category=abstract_concepts<br>Importance Score=%{x}<br>Layer=%{y}<extra></extra>",
         "legendgroup": "abstract_concepts",
         "marker": {
          "color": "#B6E880",
          "pattern": {
           "shape": ""
          }
         },
         "name": "abstract_concepts",
         "offsetgroup": "abstract_concepts",
         "orientation": "h",
         "showlegend": true,
         "textposition": "auto",
         "type": "bar",
         "x": [
          0.4495749596405748,
          0.42255336748171723,
          0.42134587432425,
          0.40434520966487647
         ],
         "xaxis": "x",
         "y": [
          "transformer.single_transformer_blocks.29.proj_mlp",
          "transformer.single_transformer_blocks.22.proj_out",
          "transformer.single_transformer_blocks.3.proj_out",
          "transformer.single_transformer_blocks.17.attn.to_v"
         ],
         "yaxis": "y"
        }
       ],
       "layout": {
        "barmode": "relative",
        "height": 800,
        "legend": {
         "title": {
          "text": "category"
         },
         "tracegroupgap": 0
        },
        "template": {
         "data": {
          "bar": [
           {
            "error_x": {
             "color": "#2a3f5f"
            },
            "error_y": {
             "color": "#2a3f5f"
            },
            "marker": {
             "line": {
              "color": "#E5ECF6",
              "width": 0.5
             },
             "pattern": {
              "fillmode": "overlay",
              "size": 10,
              "solidity": 0.2
             }
            },
            "type": "bar"
           }
          ],
          "barpolar": [
           {
            "marker": {
             "line": {
              "color": "#E5ECF6",
              "width": 0.5
             },
             "pattern": {
              "fillmode": "overlay",
              "size": 10,
              "solidity": 0.2
             }
            },
            "type": "barpolar"
           }
          ],
          "carpet": [
           {
            "aaxis": {
             "endlinecolor": "#2a3f5f",
             "gridcolor": "white",
             "linecolor": "white",
             "minorgridcolor": "white",
             "startlinecolor": "#2a3f5f"
            },
            "baxis": {
             "endlinecolor": "#2a3f5f",
             "gridcolor": "white",
             "linecolor": "white",
             "minorgridcolor": "white",
             "startlinecolor": "#2a3f5f"
            },
            "type": "carpet"
           }
          ],
          "choropleth": [
           {
            "colorbar": {
             "outlinewidth": 0,
             "ticks": ""
            },
            "type": "choropleth"
           }
          ],
          "contour": [
           {
            "colorbar": {
             "outlinewidth": 0,
             "ticks": ""
            },
            "colorscale": [
             [
              0,
              "#0d0887"
             ],
             [
              0.1111111111111111,
              "#46039f"
             ],
             [
              0.2222222222222222,
              "#7201a8"
             ],
             [
              0.3333333333333333,
              "#9c179e"
             ],
             [
              0.4444444444444444,
              "#bd3786"
             ],
             [
              0.5555555555555556,
              "#d8576b"
             ],
             [
              0.6666666666666666,
              "#ed7953"
             ],
             [
              0.7777777777777778,
              "#fb9f3a"
             ],
             [
              0.8888888888888888,
              "#fdca26"
             ],
             [
              1,
              "#f0f921"
             ]
            ],
            "type": "contour"
           }
          ],
          "contourcarpet": [
           {
            "colorbar": {
             "outlinewidth": 0,
             "ticks": ""
            },
            "type": "contourcarpet"
           }
          ],
          "heatmap": [
           {
            "colorbar": {
             "outlinewidth": 0,
             "ticks": ""
            },
            "colorscale": [
             [
              0,
              "#0d0887"
             ],
             [
              0.1111111111111111,
              "#46039f"
             ],
             [
              0.2222222222222222,
              "#7201a8"
             ],
             [
              0.3333333333333333,
              "#9c179e"
             ],
             [
              0.4444444444444444,
              "#bd3786"
             ],
             [
              0.5555555555555556,
              "#d8576b"
             ],
             [
              0.6666666666666666,
              "#ed7953"
             ],
             [
              0.7777777777777778,
              "#fb9f3a"
             ],
             [
              0.8888888888888888,
              "#fdca26"
             ],
             [
              1,
              "#f0f921"
             ]
            ],
            "type": "heatmap"
           }
          ],
          "heatmapgl": [
           {
            "colorbar": {
             "outlinewidth": 0,
             "ticks": ""
            },
            "colorscale": [
             [
              0,
              "#0d0887"
             ],
             [
              0.1111111111111111,
              "#46039f"
             ],
             [
              0.2222222222222222,
              "#7201a8"
             ],
             [
              0.3333333333333333,
              "#9c179e"
             ],
             [
              0.4444444444444444,
              "#bd3786"
             ],
             [
              0.5555555555555556,
              "#d8576b"
             ],
             [
              0.6666666666666666,
              "#ed7953"
             ],
             [
              0.7777777777777778,
              "#fb9f3a"
             ],
             [
              0.8888888888888888,
              "#fdca26"
             ],
             [
              1,
              "#f0f921"
             ]
            ],
            "type": "heatmapgl"
           }
          ],
          "histogram": [
           {
            "marker": {
             "pattern": {
              "fillmode": "overlay",
              "size": 10,
              "solidity": 0.2
             }
            },
            "type": "histogram"
           }
          ],
          "histogram2d": [
           {
            "colorbar": {
             "outlinewidth": 0,
             "ticks": ""
            },
            "colorscale": [
             [
              0,
              "#0d0887"
             ],
             [
              0.1111111111111111,
              "#46039f"
             ],
             [
              0.2222222222222222,
              "#7201a8"
             ],
             [
              0.3333333333333333,
              "#9c179e"
             ],
             [
              0.4444444444444444,
              "#bd3786"
             ],
             [
              0.5555555555555556,
              "#d8576b"
             ],
             [
              0.6666666666666666,
              "#ed7953"
             ],
             [
              0.7777777777777778,
              "#fb9f3a"
             ],
             [
              0.8888888888888888,
              "#fdca26"
             ],
             [
              1,
              "#f0f921"
             ]
            ],
            "type": "histogram2d"
           }
          ],
          "histogram2dcontour": [
           {
            "colorbar": {
             "outlinewidth": 0,
             "ticks": ""
            },
            "colorscale": [
             [
              0,
              "#0d0887"
             ],
             [
              0.1111111111111111,
              "#46039f"
             ],
             [
              0.2222222222222222,
              "#7201a8"
             ],
             [
              0.3333333333333333,
              "#9c179e"
             ],
             [
              0.4444444444444444,
              "#bd3786"
             ],
             [
              0.5555555555555556,
              "#d8576b"
             ],
             [
              0.6666666666666666,
              "#ed7953"
             ],
             [
              0.7777777777777778,
              "#fb9f3a"
             ],
             [
              0.8888888888888888,
              "#fdca26"
             ],
             [
              1,
              "#f0f921"
             ]
            ],
            "type": "histogram2dcontour"
           }
          ],
          "mesh3d": [
           {
            "colorbar": {
             "outlinewidth": 0,
             "ticks": ""
            },
            "type": "mesh3d"
           }
          ],
          "parcoords": [
           {
            "line": {
             "colorbar": {
              "outlinewidth": 0,
              "ticks": ""
             }
            },
            "type": "parcoords"
           }
          ],
          "pie": [
           {
            "automargin": true,
            "type": "pie"
           }
          ],
          "scatter": [
           {
            "fillpattern": {
             "fillmode": "overlay",
             "size": 10,
             "solidity": 0.2
            },
            "type": "scatter"
           }
          ],
          "scatter3d": [
           {
            "line": {
             "colorbar": {
              "outlinewidth": 0,
              "ticks": ""
             }
            },
            "marker": {
             "colorbar": {
              "outlinewidth": 0,
              "ticks": ""
             }
            },
            "type": "scatter3d"
           }
          ],
          "scattercarpet": [
           {
            "marker": {
             "colorbar": {
              "outlinewidth": 0,
              "ticks": ""
             }
            },
            "type": "scattercarpet"
           }
          ],
          "scattergeo": [
           {
            "marker": {
             "colorbar": {
              "outlinewidth": 0,
              "ticks": ""
             }
            },
            "type": "scattergeo"
           }
          ],
          "scattergl": [
           {
            "marker": {
             "colorbar": {
              "outlinewidth": 0,
              "ticks": ""
             }
            },
            "type": "scattergl"
           }
          ],
          "scattermapbox": [
           {
            "marker": {
             "colorbar": {
              "outlinewidth": 0,
              "ticks": ""
             }
            },
            "type": "scattermapbox"
           }
          ],
          "scatterpolar": [
           {
            "marker": {
             "colorbar": {
              "outlinewidth": 0,
              "ticks": ""
             }
            },
            "type": "scatterpolar"
           }
          ],
          "scatterpolargl": [
           {
            "marker": {
             "colorbar": {
              "outlinewidth": 0,
              "ticks": ""
             }
            },
            "type": "scatterpolargl"
           }
          ],
          "scatterternary": [
           {
            "marker": {
             "colorbar": {
              "outlinewidth": 0,
              "ticks": ""
             }
            },
            "type": "scatterternary"
           }
          ],
          "surface": [
           {
            "colorbar": {
             "outlinewidth": 0,
             "ticks": ""
            },
            "colorscale": [
             [
              0,
              "#0d0887"
             ],
             [
              0.1111111111111111,
              "#46039f"
             ],
             [
              0.2222222222222222,
              "#7201a8"
             ],
             [
              0.3333333333333333,
              "#9c179e"
             ],
             [
              0.4444444444444444,
              "#bd3786"
             ],
             [
              0.5555555555555556,
              "#d8576b"
             ],
             [
              0.6666666666666666,
              "#ed7953"
             ],
             [
              0.7777777777777778,
              "#fb9f3a"
             ],
             [
              0.8888888888888888,
              "#fdca26"
             ],
             [
              1,
              "#f0f921"
             ]
            ],
            "type": "surface"
           }
          ],
          "table": [
           {
            "cells": {
             "fill": {
              "color": "#EBF0F8"
             },
             "line": {
              "color": "white"
             }
            },
            "header": {
             "fill": {
              "color": "#C8D4E3"
             },
             "line": {
              "color": "white"
             }
            },
            "type": "table"
           }
          ]
         },
         "layout": {
          "annotationdefaults": {
           "arrowcolor": "#2a3f5f",
           "arrowhead": 0,
           "arrowwidth": 1
          },
          "autotypenumbers": "strict",
          "coloraxis": {
           "colorbar": {
            "outlinewidth": 0,
            "ticks": ""
           }
          },
          "colorscale": {
           "diverging": [
            [
             0,
             "#8e0152"
            ],
            [
             0.1,
             "#c51b7d"
            ],
            [
             0.2,
             "#de77ae"
            ],
            [
             0.3,
             "#f1b6da"
            ],
            [
             0.4,
             "#fde0ef"
            ],
            [
             0.5,
             "#f7f7f7"
            ],
            [
             0.6,
             "#e6f5d0"
            ],
            [
             0.7,
             "#b8e186"
            ],
            [
             0.8,
             "#7fbc41"
            ],
            [
             0.9,
             "#4d9221"
            ],
            [
             1,
             "#276419"
            ]
           ],
           "sequential": [
            [
             0,
             "#0d0887"
            ],
            [
             0.1111111111111111,
             "#46039f"
            ],
            [
             0.2222222222222222,
             "#7201a8"
            ],
            [
             0.3333333333333333,
             "#9c179e"
            ],
            [
             0.4444444444444444,
             "#bd3786"
            ],
            [
             0.5555555555555556,
             "#d8576b"
            ],
            [
             0.6666666666666666,
             "#ed7953"
            ],
            [
             0.7777777777777778,
             "#fb9f3a"
            ],
            [
             0.8888888888888888,
             "#fdca26"
            ],
            [
             1,
             "#f0f921"
            ]
           ],
           "sequentialminus": [
            [
             0,
             "#0d0887"
            ],
            [
             0.1111111111111111,
             "#46039f"
            ],
            [
             0.2222222222222222,
             "#7201a8"
            ],
            [
             0.3333333333333333,
             "#9c179e"
            ],
            [
             0.4444444444444444,
             "#bd3786"
            ],
            [
             0.5555555555555556,
             "#d8576b"
            ],
            [
             0.6666666666666666,
             "#ed7953"
            ],
            [
             0.7777777777777778,
             "#fb9f3a"
            ],
            [
             0.8888888888888888,
             "#fdca26"
            ],
            [
             1,
             "#f0f921"
            ]
           ]
          },
          "colorway": [
           "#636efa",
           "#EF553B",
           "#00cc96",
           "#ab63fa",
           "#FFA15A",
           "#19d3f3",
           "#FF6692",
           "#B6E880",
           "#FF97FF",
           "#FECB52"
          ],
          "font": {
           "color": "#2a3f5f"
          },
          "geo": {
           "bgcolor": "white",
           "lakecolor": "white",
           "landcolor": "#E5ECF6",
           "showlakes": true,
           "showland": true,
           "subunitcolor": "white"
          },
          "hoverlabel": {
           "align": "left"
          },
          "hovermode": "closest",
          "mapbox": {
           "style": "light"
          },
          "paper_bgcolor": "white",
          "plot_bgcolor": "#E5ECF6",
          "polar": {
           "angularaxis": {
            "gridcolor": "white",
            "linecolor": "white",
            "ticks": ""
           },
           "bgcolor": "#E5ECF6",
           "radialaxis": {
            "gridcolor": "white",
            "linecolor": "white",
            "ticks": ""
           }
          },
          "scene": {
           "xaxis": {
            "backgroundcolor": "#E5ECF6",
            "gridcolor": "white",
            "gridwidth": 2,
            "linecolor": "white",
            "showbackground": true,
            "ticks": "",
            "zerolinecolor": "white"
           },
           "yaxis": {
            "backgroundcolor": "#E5ECF6",
            "gridcolor": "white",
            "gridwidth": 2,
            "linecolor": "white",
            "showbackground": true,
            "ticks": "",
            "zerolinecolor": "white"
           },
           "zaxis": {
            "backgroundcolor": "#E5ECF6",
            "gridcolor": "white",
            "gridwidth": 2,
            "linecolor": "white",
            "showbackground": true,
            "ticks": "",
            "zerolinecolor": "white"
           }
          },
          "shapedefaults": {
           "line": {
            "color": "#2a3f5f"
           }
          },
          "ternary": {
           "aaxis": {
            "gridcolor": "white",
            "linecolor": "white",
            "ticks": ""
           },
           "baxis": {
            "gridcolor": "white",
            "linecolor": "white",
            "ticks": ""
           },
           "bgcolor": "#E5ECF6",
           "caxis": {
            "gridcolor": "white",
            "linecolor": "white",
            "ticks": ""
           }
          },
          "title": {
           "x": 0.05
          },
          "xaxis": {
           "automargin": true,
           "gridcolor": "white",
           "linecolor": "white",
           "ticks": "",
           "title": {
            "standoff": 15
           },
           "zerolinecolor": "white",
           "zerolinewidth": 2
          },
          "yaxis": {
           "automargin": true,
           "gridcolor": "white",
           "linecolor": "white",
           "ticks": "",
           "title": {
            "standoff": 15
           },
           "zerolinecolor": "white",
           "zerolinewidth": 2
          }
         }
        },
        "title": {
         "text": "Top 4 Layers to Fine-Tune per Prompt Category"
        },
        "xaxis": {
         "anchor": "y",
         "domain": [
          0,
          1
         ],
         "title": {
          "text": "Importance Score"
         }
        },
        "yaxis": {
         "anchor": "x",
         "categoryorder": "total ascending",
         "domain": [
          0,
          1
         ],
         "title": {
          "text": "Layer"
         }
        }
       }
      },
      "text/html": [
       "<div>                            <div id=\"dfbe7cfb-a5e5-43f5-85e5-c47560bcf3e5\" class=\"plotly-graph-div\" style=\"height:800px; width:100%;\"></div>            <script type=\"text/javascript\">                require([\"plotly\"], function(Plotly) {                    window.PLOTLYENV=window.PLOTLYENV || {};                                    if (document.getElementById(\"dfbe7cfb-a5e5-43f5-85e5-c47560bcf3e5\")) {                    Plotly.newPlot(                        \"dfbe7cfb-a5e5-43f5-85e5-c47560bcf3e5\",                        [{\"alignmentgroup\":\"True\",\"hovertemplate\":\"category=facial_features\\u003cbr\\u003eImportance Score=%{x}\\u003cbr\\u003eLayer=%{y}\\u003cextra\\u003e\\u003c\\u002fextra\\u003e\",\"legendgroup\":\"facial_features\",\"marker\":{\"color\":\"#636efa\",\"pattern\":{\"shape\":\"\"}},\"name\":\"facial_features\",\"offsetgroup\":\"facial_features\",\"orientation\":\"h\",\"showlegend\":true,\"textposition\":\"auto\",\"x\":[0.6624131157406609,0.43542145841188556,0.4313269107536032,0.39405263797962714],\"xaxis\":\"x\",\"y\":[\"transformer.single_transformer_blocks.7.attn.to_q\",\"transformer.single_transformer_blocks.3.attn.to_q\",\"transformer.transformer_blocks.16.ff.net.2\",\"transformer.transformer_blocks.14.attn.to_q\"],\"yaxis\":\"y\",\"type\":\"bar\"},{\"alignmentgroup\":\"True\",\"hovertemplate\":\"category=nature\\u003cbr\\u003eImportance Score=%{x}\\u003cbr\\u003eLayer=%{y}\\u003cextra\\u003e\\u003c\\u002fextra\\u003e\",\"legendgroup\":\"nature\",\"marker\":{\"color\":\"#EF553B\",\"pattern\":{\"shape\":\"\"}},\"name\":\"nature\",\"offsetgroup\":\"nature\",\"orientation\":\"h\",\"showlegend\":true,\"textposition\":\"auto\",\"x\":[0.7197594070203525,0.6216489322096082,0.43065708562760646,0.42416254778157597],\"xaxis\":\"x\",\"y\":[\"transformer.single_transformer_blocks.15.proj_mlp\",\"transformer.single_transformer_blocks.0.attn.to_q\",\"transformer.transformer_blocks.3.norm1_context.linear\",\"transformer.transformer_blocks.7.ff.net.0.proj\"],\"yaxis\":\"y\",\"type\":\"bar\"},{\"alignmentgroup\":\"True\",\"hovertemplate\":\"category=animals\\u003cbr\\u003eImportance Score=%{x}\\u003cbr\\u003eLayer=%{y}\\u003cextra\\u003e\\u003c\\u002fextra\\u003e\",\"legendgroup\":\"animals\",\"marker\":{\"color\":\"#00cc96\",\"pattern\":{\"shape\":\"\"}},\"name\":\"animals\",\"offsetgroup\":\"animals\",\"orientation\":\"h\",\"showlegend\":true,\"textposition\":\"auto\",\"x\":[1.2031521655782547,0.529908952349767,0.4209115712091476,0.41032829925559783],\"xaxis\":\"x\",\"y\":[\"transformer.single_transformer_blocks.10.attn.to_k\",\"transformer.single_transformer_blocks.9.attn.to_v\",\"transformer.transformer_blocks.10.attn.to_q\",\"transformer.transformer_blocks.18.attn.to_out.0\"],\"yaxis\":\"y\",\"type\":\"bar\"},{\"alignmentgroup\":\"True\",\"hovertemplate\":\"category=food\\u003cbr\\u003eImportance Score=%{x}\\u003cbr\\u003eLayer=%{y}\\u003cextra\\u003e\\u003c\\u002fextra\\u003e\",\"legendgroup\":\"food\",\"marker\":{\"color\":\"#ab63fa\",\"pattern\":{\"shape\":\"\"}},\"name\":\"food\",\"offsetgroup\":\"food\",\"orientation\":\"h\",\"showlegend\":true,\"textposition\":\"auto\",\"x\":[0.7081617734057534,0.48914022192749246,0.47287718555828556,0.3772778198918149],\"xaxis\":\"x\",\"y\":[\"transformer.single_transformer_blocks.10.proj_out\",\"transformer.single_transformer_blocks.16.attn.to_k\",\"transformer.transformer_blocks.17.ff.net.2\",\"transformer.transformer_blocks.10.attn.to_out.0\"],\"yaxis\":\"y\",\"type\":\"bar\"},{\"alignmentgroup\":\"True\",\"hovertemplate\":\"category=music\\u003cbr\\u003eImportance Score=%{x}\\u003cbr\\u003eLayer=%{y}\\u003cextra\\u003e\\u003c\\u002fextra\\u003e\",\"legendgroup\":\"music\",\"marker\":{\"color\":\"#FFA15A\",\"pattern\":{\"shape\":\"\"}},\"name\":\"music\",\"offsetgroup\":\"music\",\"orientation\":\"h\",\"showlegend\":true,\"textposition\":\"auto\",\"x\":[0.6679400595158066,0.656801645737086,0.5108311798760885,0.5010314053261644],\"xaxis\":\"x\",\"y\":[\"transformer.single_transformer_blocks.15.attn.to_k\",\"transformer.single_transformer_blocks.20.proj_out\",\"transformer.single_transformer_blocks.13.attn.to_k\",\"transformer.single_transformer_blocks.1.attn.to_v\"],\"yaxis\":\"y\",\"type\":\"bar\"},{\"alignmentgroup\":\"True\",\"hovertemplate\":\"category=architecture\\u003cbr\\u003eImportance Score=%{x}\\u003cbr\\u003eLayer=%{y}\\u003cextra\\u003e\\u003c\\u002fextra\\u003e\",\"legendgroup\":\"architecture\",\"marker\":{\"color\":\"#19d3f3\",\"pattern\":{\"shape\":\"\"}},\"name\":\"architecture\",\"offsetgroup\":\"architecture\",\"orientation\":\"h\",\"showlegend\":true,\"textposition\":\"auto\",\"x\":[0.6537173369123124,0.5700007915242877,0.4952886861064814,0.46793478758445983],\"xaxis\":\"x\",\"y\":[\"transformer.single_transformer_blocks.8.proj_out\",\"transformer.single_transformer_blocks.4.proj_out\",\"transformer.single_transformer_blocks.7.attn.to_v\",\"transformer.single_transformer_blocks.21.attn.to_k\"],\"yaxis\":\"y\",\"type\":\"bar\"},{\"alignmentgroup\":\"True\",\"hovertemplate\":\"category=vehicles\\u003cbr\\u003eImportance Score=%{x}\\u003cbr\\u003eLayer=%{y}\\u003cextra\\u003e\\u003c\\u002fextra\\u003e\",\"legendgroup\":\"vehicles\",\"marker\":{\"color\":\"#FF6692\",\"pattern\":{\"shape\":\"\"}},\"name\":\"vehicles\",\"offsetgroup\":\"vehicles\",\"orientation\":\"h\",\"showlegend\":true,\"textposition\":\"auto\",\"x\":[1.1274790607467682,0.5669400270889591,0.49609967651697356,0.44656173470372157],\"xaxis\":\"x\",\"y\":[\"transformer.single_transformer_blocks.5.attn.to_k\",\"transformer.single_transformer_blocks.16.attn.to_v\",\"transformer.single_transformer_blocks.19.attn.to_v\",\"transformer.single_transformer_blocks.32.proj_out\"],\"yaxis\":\"y\",\"type\":\"bar\"},{\"alignmentgroup\":\"True\",\"hovertemplate\":\"category=abstract_concepts\\u003cbr\\u003eImportance Score=%{x}\\u003cbr\\u003eLayer=%{y}\\u003cextra\\u003e\\u003c\\u002fextra\\u003e\",\"legendgroup\":\"abstract_concepts\",\"marker\":{\"color\":\"#B6E880\",\"pattern\":{\"shape\":\"\"}},\"name\":\"abstract_concepts\",\"offsetgroup\":\"abstract_concepts\",\"orientation\":\"h\",\"showlegend\":true,\"textposition\":\"auto\",\"x\":[0.4495749596405748,0.42255336748171723,0.42134587432425,0.40434520966487647],\"xaxis\":\"x\",\"y\":[\"transformer.single_transformer_blocks.29.proj_mlp\",\"transformer.single_transformer_blocks.22.proj_out\",\"transformer.single_transformer_blocks.3.proj_out\",\"transformer.single_transformer_blocks.17.attn.to_v\"],\"yaxis\":\"y\",\"type\":\"bar\"}],                        {\"template\":{\"data\":{\"histogram2dcontour\":[{\"type\":\"histogram2dcontour\",\"colorbar\":{\"outlinewidth\":0,\"ticks\":\"\"},\"colorscale\":[[0.0,\"#0d0887\"],[0.1111111111111111,\"#46039f\"],[0.2222222222222222,\"#7201a8\"],[0.3333333333333333,\"#9c179e\"],[0.4444444444444444,\"#bd3786\"],[0.5555555555555556,\"#d8576b\"],[0.6666666666666666,\"#ed7953\"],[0.7777777777777778,\"#fb9f3a\"],[0.8888888888888888,\"#fdca26\"],[1.0,\"#f0f921\"]]}],\"choropleth\":[{\"type\":\"choropleth\",\"colorbar\":{\"outlinewidth\":0,\"ticks\":\"\"}}],\"histogram2d\":[{\"type\":\"histogram2d\",\"colorbar\":{\"outlinewidth\":0,\"ticks\":\"\"},\"colorscale\":[[0.0,\"#0d0887\"],[0.1111111111111111,\"#46039f\"],[0.2222222222222222,\"#7201a8\"],[0.3333333333333333,\"#9c179e\"],[0.4444444444444444,\"#bd3786\"],[0.5555555555555556,\"#d8576b\"],[0.6666666666666666,\"#ed7953\"],[0.7777777777777778,\"#fb9f3a\"],[0.8888888888888888,\"#fdca26\"],[1.0,\"#f0f921\"]]}],\"heatmap\":[{\"type\":\"heatmap\",\"colorbar\":{\"outlinewidth\":0,\"ticks\":\"\"},\"colorscale\":[[0.0,\"#0d0887\"],[0.1111111111111111,\"#46039f\"],[0.2222222222222222,\"#7201a8\"],[0.3333333333333333,\"#9c179e\"],[0.4444444444444444,\"#bd3786\"],[0.5555555555555556,\"#d8576b\"],[0.6666666666666666,\"#ed7953\"],[0.7777777777777778,\"#fb9f3a\"],[0.8888888888888888,\"#fdca26\"],[1.0,\"#f0f921\"]]}],\"heatmapgl\":[{\"type\":\"heatmapgl\",\"colorbar\":{\"outlinewidth\":0,\"ticks\":\"\"},\"colorscale\":[[0.0,\"#0d0887\"],[0.1111111111111111,\"#46039f\"],[0.2222222222222222,\"#7201a8\"],[0.3333333333333333,\"#9c179e\"],[0.4444444444444444,\"#bd3786\"],[0.5555555555555556,\"#d8576b\"],[0.6666666666666666,\"#ed7953\"],[0.7777777777777778,\"#fb9f3a\"],[0.8888888888888888,\"#fdca26\"],[1.0,\"#f0f921\"]]}],\"contourcarpet\":[{\"type\":\"contourcarpet\",\"colorbar\":{\"outlinewidth\":0,\"ticks\":\"\"}}],\"contour\":[{\"type\":\"contour\",\"colorbar\":{\"outlinewidth\":0,\"ticks\":\"\"},\"colorscale\":[[0.0,\"#0d0887\"],[0.1111111111111111,\"#46039f\"],[0.2222222222222222,\"#7201a8\"],[0.3333333333333333,\"#9c179e\"],[0.4444444444444444,\"#bd3786\"],[0.5555555555555556,\"#d8576b\"],[0.6666666666666666,\"#ed7953\"],[0.7777777777777778,\"#fb9f3a\"],[0.8888888888888888,\"#fdca26\"],[1.0,\"#f0f921\"]]}],\"surface\":[{\"type\":\"surface\",\"colorbar\":{\"outlinewidth\":0,\"ticks\":\"\"},\"colorscale\":[[0.0,\"#0d0887\"],[0.1111111111111111,\"#46039f\"],[0.2222222222222222,\"#7201a8\"],[0.3333333333333333,\"#9c179e\"],[0.4444444444444444,\"#bd3786\"],[0.5555555555555556,\"#d8576b\"],[0.6666666666666666,\"#ed7953\"],[0.7777777777777778,\"#fb9f3a\"],[0.8888888888888888,\"#fdca26\"],[1.0,\"#f0f921\"]]}],\"mesh3d\":[{\"type\":\"mesh3d\",\"colorbar\":{\"outlinewidth\":0,\"ticks\":\"\"}}],\"scatter\":[{\"fillpattern\":{\"fillmode\":\"overlay\",\"size\":10,\"solidity\":0.2},\"type\":\"scatter\"}],\"parcoords\":[{\"type\":\"parcoords\",\"line\":{\"colorbar\":{\"outlinewidth\":0,\"ticks\":\"\"}}}],\"scatterpolargl\":[{\"type\":\"scatterpolargl\",\"marker\":{\"colorbar\":{\"outlinewidth\":0,\"ticks\":\"\"}}}],\"bar\":[{\"error_x\":{\"color\":\"#2a3f5f\"},\"error_y\":{\"color\":\"#2a3f5f\"},\"marker\":{\"line\":{\"color\":\"#E5ECF6\",\"width\":0.5},\"pattern\":{\"fillmode\":\"overlay\",\"size\":10,\"solidity\":0.2}},\"type\":\"bar\"}],\"scattergeo\":[{\"type\":\"scattergeo\",\"marker\":{\"colorbar\":{\"outlinewidth\":0,\"ticks\":\"\"}}}],\"scatterpolar\":[{\"type\":\"scatterpolar\",\"marker\":{\"colorbar\":{\"outlinewidth\":0,\"ticks\":\"\"}}}],\"histogram\":[{\"marker\":{\"pattern\":{\"fillmode\":\"overlay\",\"size\":10,\"solidity\":0.2}},\"type\":\"histogram\"}],\"scattergl\":[{\"type\":\"scattergl\",\"marker\":{\"colorbar\":{\"outlinewidth\":0,\"ticks\":\"\"}}}],\"scatter3d\":[{\"type\":\"scatter3d\",\"line\":{\"colorbar\":{\"outlinewidth\":0,\"ticks\":\"\"}},\"marker\":{\"colorbar\":{\"outlinewidth\":0,\"ticks\":\"\"}}}],\"scattermapbox\":[{\"type\":\"scattermapbox\",\"marker\":{\"colorbar\":{\"outlinewidth\":0,\"ticks\":\"\"}}}],\"scatterternary\":[{\"type\":\"scatterternary\",\"marker\":{\"colorbar\":{\"outlinewidth\":0,\"ticks\":\"\"}}}],\"scattercarpet\":[{\"type\":\"scattercarpet\",\"marker\":{\"colorbar\":{\"outlinewidth\":0,\"ticks\":\"\"}}}],\"carpet\":[{\"aaxis\":{\"endlinecolor\":\"#2a3f5f\",\"gridcolor\":\"white\",\"linecolor\":\"white\",\"minorgridcolor\":\"white\",\"startlinecolor\":\"#2a3f5f\"},\"baxis\":{\"endlinecolor\":\"#2a3f5f\",\"gridcolor\":\"white\",\"linecolor\":\"white\",\"minorgridcolor\":\"white\",\"startlinecolor\":\"#2a3f5f\"},\"type\":\"carpet\"}],\"table\":[{\"cells\":{\"fill\":{\"color\":\"#EBF0F8\"},\"line\":{\"color\":\"white\"}},\"header\":{\"fill\":{\"color\":\"#C8D4E3\"},\"line\":{\"color\":\"white\"}},\"type\":\"table\"}],\"barpolar\":[{\"marker\":{\"line\":{\"color\":\"#E5ECF6\",\"width\":0.5},\"pattern\":{\"fillmode\":\"overlay\",\"size\":10,\"solidity\":0.2}},\"type\":\"barpolar\"}],\"pie\":[{\"automargin\":true,\"type\":\"pie\"}]},\"layout\":{\"autotypenumbers\":\"strict\",\"colorway\":[\"#636efa\",\"#EF553B\",\"#00cc96\",\"#ab63fa\",\"#FFA15A\",\"#19d3f3\",\"#FF6692\",\"#B6E880\",\"#FF97FF\",\"#FECB52\"],\"font\":{\"color\":\"#2a3f5f\"},\"hovermode\":\"closest\",\"hoverlabel\":{\"align\":\"left\"},\"paper_bgcolor\":\"white\",\"plot_bgcolor\":\"#E5ECF6\",\"polar\":{\"bgcolor\":\"#E5ECF6\",\"angularaxis\":{\"gridcolor\":\"white\",\"linecolor\":\"white\",\"ticks\":\"\"},\"radialaxis\":{\"gridcolor\":\"white\",\"linecolor\":\"white\",\"ticks\":\"\"}},\"ternary\":{\"bgcolor\":\"#E5ECF6\",\"aaxis\":{\"gridcolor\":\"white\",\"linecolor\":\"white\",\"ticks\":\"\"},\"baxis\":{\"gridcolor\":\"white\",\"linecolor\":\"white\",\"ticks\":\"\"},\"caxis\":{\"gridcolor\":\"white\",\"linecolor\":\"white\",\"ticks\":\"\"}},\"coloraxis\":{\"colorbar\":{\"outlinewidth\":0,\"ticks\":\"\"}},\"colorscale\":{\"sequential\":[[0.0,\"#0d0887\"],[0.1111111111111111,\"#46039f\"],[0.2222222222222222,\"#7201a8\"],[0.3333333333333333,\"#9c179e\"],[0.4444444444444444,\"#bd3786\"],[0.5555555555555556,\"#d8576b\"],[0.6666666666666666,\"#ed7953\"],[0.7777777777777778,\"#fb9f3a\"],[0.8888888888888888,\"#fdca26\"],[1.0,\"#f0f921\"]],\"sequentialminus\":[[0.0,\"#0d0887\"],[0.1111111111111111,\"#46039f\"],[0.2222222222222222,\"#7201a8\"],[0.3333333333333333,\"#9c179e\"],[0.4444444444444444,\"#bd3786\"],[0.5555555555555556,\"#d8576b\"],[0.6666666666666666,\"#ed7953\"],[0.7777777777777778,\"#fb9f3a\"],[0.8888888888888888,\"#fdca26\"],[1.0,\"#f0f921\"]],\"diverging\":[[0,\"#8e0152\"],[0.1,\"#c51b7d\"],[0.2,\"#de77ae\"],[0.3,\"#f1b6da\"],[0.4,\"#fde0ef\"],[0.5,\"#f7f7f7\"],[0.6,\"#e6f5d0\"],[0.7,\"#b8e186\"],[0.8,\"#7fbc41\"],[0.9,\"#4d9221\"],[1,\"#276419\"]]},\"xaxis\":{\"gridcolor\":\"white\",\"linecolor\":\"white\",\"ticks\":\"\",\"title\":{\"standoff\":15},\"zerolinecolor\":\"white\",\"automargin\":true,\"zerolinewidth\":2},\"yaxis\":{\"gridcolor\":\"white\",\"linecolor\":\"white\",\"ticks\":\"\",\"title\":{\"standoff\":15},\"zerolinecolor\":\"white\",\"automargin\":true,\"zerolinewidth\":2},\"scene\":{\"xaxis\":{\"backgroundcolor\":\"#E5ECF6\",\"gridcolor\":\"white\",\"linecolor\":\"white\",\"showbackground\":true,\"ticks\":\"\",\"zerolinecolor\":\"white\",\"gridwidth\":2},\"yaxis\":{\"backgroundcolor\":\"#E5ECF6\",\"gridcolor\":\"white\",\"linecolor\":\"white\",\"showbackground\":true,\"ticks\":\"\",\"zerolinecolor\":\"white\",\"gridwidth\":2},\"zaxis\":{\"backgroundcolor\":\"#E5ECF6\",\"gridcolor\":\"white\",\"linecolor\":\"white\",\"showbackground\":true,\"ticks\":\"\",\"zerolinecolor\":\"white\",\"gridwidth\":2}},\"shapedefaults\":{\"line\":{\"color\":\"#2a3f5f\"}},\"annotationdefaults\":{\"arrowcolor\":\"#2a3f5f\",\"arrowhead\":0,\"arrowwidth\":1},\"geo\":{\"bgcolor\":\"white\",\"landcolor\":\"#E5ECF6\",\"subunitcolor\":\"white\",\"showland\":true,\"showlakes\":true,\"lakecolor\":\"white\"},\"title\":{\"x\":0.05},\"mapbox\":{\"style\":\"light\"}}},\"xaxis\":{\"anchor\":\"y\",\"domain\":[0.0,1.0],\"title\":{\"text\":\"Importance Score\"}},\"yaxis\":{\"anchor\":\"x\",\"domain\":[0.0,1.0],\"title\":{\"text\":\"Layer\"},\"categoryorder\":\"total ascending\"},\"legend\":{\"title\":{\"text\":\"category\"},\"tracegroupgap\":0},\"title\":{\"text\":\"Top 4 Layers to Fine-Tune per Prompt Category\"},\"barmode\":\"relative\",\"height\":800},                        {\"responsive\": true}                    ).then(function(){\n",
       "                            \n",
       "var gd = document.getElementById('dfbe7cfb-a5e5-43f5-85e5-c47560bcf3e5');\n",
       "var x = new MutationObserver(function (mutations, observer) {{\n",
       "        var display = window.getComputedStyle(gd).display;\n",
       "        if (!display || display === 'none') {{\n",
       "            console.log([gd, 'removed!']);\n",
       "            Plotly.purge(gd);\n",
       "            observer.disconnect();\n",
       "        }}\n",
       "}});\n",
       "\n",
       "// Listen for the removal of the full notebook cells\n",
       "var notebookContainer = gd.closest('#notebook-container');\n",
       "if (notebookContainer) {{\n",
       "    x.observe(notebookContainer, {childList: true});\n",
       "}}\n",
       "\n",
       "// Listen for the clearing of the current output cell\n",
       "var outputEl = gd.closest('.output');\n",
       "if (outputEl) {{\n",
       "    x.observe(outputEl, {childList: true});\n",
       "}}\n",
       "\n",
       "                        })                };                });            </script>        </div>"
      ]
     },
     "metadata": {},
     "output_type": "display_data"
    },
    {
     "name": "stdout",
     "output_type": "stream",
     "text": [
      "\n",
      "Top layers for category 'facial_features':\n",
      "transformer.single_transformer_blocks.7.attn.to_q\n",
      "transformer.single_transformer_blocks.3.attn.to_q\n",
      "transformer.transformer_blocks.16.ff.net.2\n",
      "transformer.transformer_blocks.14.attn.to_q\n",
      "\n",
      "Top layers for category 'nature':\n",
      "transformer.single_transformer_blocks.15.proj_mlp\n",
      "transformer.single_transformer_blocks.0.attn.to_q\n",
      "transformer.transformer_blocks.3.norm1_context.linear\n",
      "transformer.transformer_blocks.7.ff.net.0.proj\n",
      "\n",
      "Top layers for category 'animals':\n",
      "transformer.single_transformer_blocks.10.attn.to_k\n",
      "transformer.single_transformer_blocks.9.attn.to_v\n",
      "transformer.transformer_blocks.10.attn.to_q\n",
      "transformer.transformer_blocks.18.attn.to_out.0\n",
      "\n",
      "Top layers for category 'food':\n",
      "transformer.single_transformer_blocks.10.proj_out\n",
      "transformer.single_transformer_blocks.16.attn.to_k\n",
      "transformer.transformer_blocks.17.ff.net.2\n",
      "transformer.transformer_blocks.10.attn.to_out.0\n",
      "\n",
      "Top layers for category 'music':\n",
      "transformer.single_transformer_blocks.15.attn.to_k\n",
      "transformer.single_transformer_blocks.20.proj_out\n",
      "transformer.single_transformer_blocks.13.attn.to_k\n",
      "transformer.single_transformer_blocks.1.attn.to_v\n",
      "\n",
      "Top layers for category 'architecture':\n",
      "transformer.single_transformer_blocks.8.proj_out\n",
      "transformer.single_transformer_blocks.4.proj_out\n",
      "transformer.single_transformer_blocks.7.attn.to_v\n",
      "transformer.single_transformer_blocks.21.attn.to_k\n",
      "\n",
      "Top layers for category 'vehicles':\n",
      "transformer.single_transformer_blocks.5.attn.to_k\n",
      "transformer.single_transformer_blocks.16.attn.to_v\n",
      "transformer.single_transformer_blocks.19.attn.to_v\n",
      "transformer.single_transformer_blocks.32.proj_out\n",
      "\n",
      "Top layers for category 'abstract_concepts':\n",
      "transformer.single_transformer_blocks.29.proj_mlp\n",
      "transformer.single_transformer_blocks.22.proj_out\n",
      "transformer.single_transformer_blocks.3.proj_out\n",
      "transformer.single_transformer_blocks.17.attn.to_v\n"
     ]
    }
   ],
   "source": [
    "# Add category labels to the features DataFrame\n",
    "df_features['category'] = df_features.index.map(prompt_labels)\n",
    "\n",
    "# Standardize the features (excluding the 'category' column)\n",
    "scaler = StandardScaler()\n",
    "X_scaled = scaler.fit_transform(df_features.drop('category', axis=1))\n",
    "feature_columns = df_features.columns[:-1]  # Exclude 'category' column\n",
    "\n",
    "# Prepare to store top layers per category\n",
    "top_layers_dict = {}\n",
    "\n",
    "# List to store data for plotting\n",
    "plot_data = []\n",
    "\n",
    "# Loop over each category\n",
    "for category in prompt_categories.keys():\n",
    "    print(f\"Processing category: {category}\")\n",
    "    \n",
    "    # Prepare labels for binary classification: 1 if prompt is in the category, else 0\n",
    "    y_binary = np.array([\n",
    "        1 if prompt_labels[prompt] == category else 0\n",
    "        for prompt in df_features.index\n",
    "    ])\n",
    "    \n",
    "    # Train Logistic Regression with L1 regularization\n",
    "    clf = LogisticRegression(\n",
    "        penalty='l1',\n",
    "        solver='liblinear',\n",
    "        random_state=SEED,\n",
    "        C=0.9\n",
    "    )\n",
    "    clf.fit(X_scaled, y_binary)\n",
    "    \n",
    "    # Extract model coefficients\n",
    "    coef = clf.coef_[0]\n",
    "    coef_abs = np.abs(coef)\n",
    "    \n",
    "    # Identify top layers based on coefficients\n",
    "    coef_df = pd.DataFrame({\n",
    "        'layer': feature_columns,\n",
    "        'importance': coef_abs\n",
    "    })\n",
    "    coef_df.sort_values(by='importance', ascending=False, inplace=True)\n",
    "    top_layers = coef_df.head(4)  # Get top 4 layers for the category\n",
    "    top_layers_dict[category] = top_layers\n",
    "    \n",
    "    # Collect data for plotting\n",
    "    for idx, row in top_layers.iterrows():\n",
    "        plot_data.append({\n",
    "            'category': category,\n",
    "            'layer': row['layer'],\n",
    "            'importance': row['importance']\n",
    "        })\n",
    "\n",
    "# Create a DataFrame for plotting\n",
    "plot_df = pd.DataFrame(plot_data)\n",
    "\n",
    "# Create a bar plot\n",
    "fig = px.bar(\n",
    "    plot_df,\n",
    "    x='importance',\n",
    "    y='layer',\n",
    "    color='category',\n",
    "    orientation='h',\n",
    "    title='Top 4 Layers to Fine-Tune per Prompt Category',\n",
    "    labels={'importance': 'Importance Score', 'layer': 'Layer'},\n",
    "    height=800\n",
    ")\n",
    "fig.update_layout(yaxis={'categoryorder': 'total ascending'})\n",
    "fig.show()\n",
    "fig.write_image(f'{plot_dir}/top_layers_per_category.png')\n",
    "\n",
    "# Print out the top layers per category\n",
    "for category, layers_df in top_layers_dict.items():\n",
    "    print(f\"\\nTop layers for category '{category}':\")\n",
    "    for idx, row in layers_df.iterrows():\n",
    "        print(f\"{row['layer']}\")\n",
    "            #   (Importance: {row['importance']:.4f})\")"
   ]
  }
 ],
 "metadata": {
  "kernelspec": {
   "display_name": "flux-pulid",
   "language": "python",
   "name": "python3"
  },
  "language_info": {
   "codemirror_mode": {
    "name": "ipython",
    "version": 3
   },
   "file_extension": ".py",
   "mimetype": "text/x-python",
   "name": "python",
   "nbconvert_exporter": "python",
   "pygments_lexer": "ipython3",
   "version": "3.10.14"
  }
 },
 "nbformat": 4,
 "nbformat_minor": 2
}
